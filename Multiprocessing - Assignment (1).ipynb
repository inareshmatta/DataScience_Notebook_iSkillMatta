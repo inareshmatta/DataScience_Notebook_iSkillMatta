{
 "cells": [
  {
   "cell_type": "markdown",
   "id": "053074f3",
   "metadata": {},
   "source": [
    "# Multiprocessing Assignment\n"
   ]
  },
  {
   "cell_type": "markdown",
   "id": "d1017333",
   "metadata": {},
   "source": [
    "### Q1. What is multiprocessing in python? Why is it useful?"
   ]
  },
  {
   "cell_type": "markdown",
   "id": "c8211592",
   "metadata": {},
   "source": [
    "Multiprocessing is a way of achieving parallelism and concurrency in Python by using multiple CPU cores. It allows you to execute multiple processes simultaneously, thereby making your code faster and more efficient.   \n",
    "\n",
    "It is useful when you need to perform computationally intensive tasks such as data analysis, machine learning, or scientific computing, which can benefit greatly from parallel processing. \n",
    "\n",
    "Multiprocessing is also useful when you need to perform I/O-bound tasks such as downloading or uploading large files or web scraping, which can be parallelized to improve performance.\n",
    "\n",
    "Overall, multiprocessing provides a way to take advantage of modern hardware and increase the efficiency of your Python code.\n",
    "  \n",
    "\n",
    "\n"
   ]
  },
  {
   "cell_type": "markdown",
   "id": "03c934e2",
   "metadata": {},
   "source": [
    "### Q2. What are the differences between multiprocessing and multithreading?\n"
   ]
  },
  {
   "cell_type": "markdown",
   "id": "0c185e99",
   "metadata": {},
   "source": [
    "The main differences between multiprocessing and multithreading are as follows:\n",
    "\n",
    "Execution Model: Multiprocessing creates separate processes that run in parallel, while multithreading creates separate threads within the same process that run concurrently.\n",
    "\n",
    "Memory: Each process has its own memory space, while all threads within a process share the same memory space.\n",
    "\n",
    "Communication: Inter-process communication (IPC) is used for communication between processes, while inter-thread communication (ITC) is used for communication between threads.\n",
    "\n",
    "Performance: Multiprocessing is generally faster than multithreading, especially on machines with multiple CPUs or cores. However, it also requires more resources.\n",
    "\n",
    "Scalability: Multiprocessing is more scalable than multithreading, as the number of processes can be increased up to the number of available CPUs or cores.\n",
    "\n",
    "Complexity: Multiprocessing is more complex than multithreading, as it involves creating and managing separate processes.\n",
    "\n",
    "In general, multiprocessing is better suited for CPU-bound tasks that require heavy computation, while multithreading is better suited for I/O-bound tasks that require waiting for external resources such as network or disk I/O"
   ]
  },
  {
   "cell_type": "markdown",
   "id": "8ffae36e",
   "metadata": {},
   "source": [
    "### Q3. Write a python code to create a process using the multiprocessing module."
   ]
  },
  {
   "cell_type": "code",
   "execution_count": 2,
   "id": "b0e4bdc4",
   "metadata": {},
   "outputs": [
    {
     "name": "stdout",
     "output_type": "stream",
     "text": [
      "Main process is done.\n"
     ]
    }
   ],
   "source": [
    "import multiprocessing\n",
    "\n",
    "def worker():\n",
    "    \"\"\"Function to be run in a separate process\"\"\"\n",
    "    print(\"Worker process is running.\")\n",
    "\n",
    "if __name__ == \"__main__\":\n",
    "    # Create a new process using the Process class\n",
    "    p = multiprocessing.Process(target=worker)\n",
    "\n",
    "    # Start the process\n",
    "    p.start()\n",
    "\n",
    "    # Wait for the process to finish\n",
    "    p.join()\n",
    "\n",
    "    print(\"Main process is done.\")\n"
   ]
  },
  {
   "cell_type": "markdown",
   "id": "8bda794b",
   "metadata": {},
   "source": [
    "In this code, the worker function is defined to be run in a separate process. The multiprocessing.Process class is used to create a new process, and the target argument is set to the worker function.\n",
    "\n",
    "The new process is started using the start method, and the main process waits for it to finish using the join method.\n",
    "\n",
    "When the new process finishes, the main process continues executing and prints \"Main process is done.\""
   ]
  },
  {
   "cell_type": "markdown",
   "id": "d0353577",
   "metadata": {},
   "source": [
    "### Q4. What is a multiprocessing pool in python? Why is it used?"
   ]
  },
  {
   "cell_type": "markdown",
   "id": "cc28bf10",
   "metadata": {},
   "source": [
    "In Python's multiprocessing module, a pool is a way to distribute tasks among multiple worker processes. A pool is created with a specified number of worker processes, and tasks can be submitted to the pool for execution. The pool assigns tasks to the worker processes and returns the results when they are completed.\n",
    "\n",
    "The primary advantage of using a pool is that it allows multiple tasks to be executed in parallel, which can significantly improve the performance of CPU-bound tasks. By spreading the workload among multiple processes, it's possible to take advantage of multi-core CPUs and get work done faster.\n",
    "\n",
    "In addition, using a pool can simplify the process of managing worker processes, as the pool takes care of creating and managing the worker processes, as well as distributing tasks and collecting results. This can help make multiprocessing easier to work with for many common use cases."
   ]
  },
  {
   "cell_type": "markdown",
   "id": "4e3e32f7",
   "metadata": {},
   "source": [
    "### Q5. How can we create a pool of worker processes in python using the multiprocessing module?"
   ]
  },
  {
   "cell_type": "code",
   "execution_count": null,
   "id": "7a1e6385",
   "metadata": {},
   "outputs": [],
   "source": [
    "import multiprocessing\n",
    "\n",
    "def square(x):\n",
    "    return x ** 2\n",
    "\n",
    "if __name__ == \"__main__\":\n",
    "    with multiprocessing.Pool(processes=4) as pool:\n",
    "        result = pool.map(square, [1, 2, 3, 4, 5])\n",
    "        print(result)\n"
   ]
  },
  {
   "cell_type": "markdown",
   "id": "91f4e674",
   "metadata": {},
   "source": [
    "In this example, we first define a function square that takes a number x and returns its square. Then, we use the Pool class to create a pool of 4 worker processes using the processes argument. We pass a list of numbers to the map method of the pool along with the function to apply on each element of the list. The map method applies the function to each element of the list in parallel using the worker processes and returns a list of results. Finally, we print the result."
   ]
  },
  {
   "cell_type": "markdown",
   "id": "547fa064",
   "metadata": {},
   "source": [
    "### Q6. Write a python program to create 4 processes, each process should print a different number using the multiprocessing module in python."
   ]
  },
  {
   "cell_type": "code",
   "execution_count": null,
   "id": "5bb89f39",
   "metadata": {},
   "outputs": [],
   "source": [
    "import multiprocessing\n",
    "\n",
    "def print_number(num):\n",
    "    print(num)\n",
    "\n",
    "if __name__ == '__main__':\n",
    "    # Create a list of numbers to be printed\n",
    "    numbers = [1, 2, 3, 4]\n",
    "\n",
    "    # Create a pool of 4 worker processes\n",
    "    with multiprocessing.Pool(processes=4) as pool:\n",
    "        # Map the print_number function to each number in the list using the pool\n",
    "        pool.map(print_number, numbers)\n"
   ]
  },
  {
   "cell_type": "code",
   "execution_count": null,
   "id": "644de40d",
   "metadata": {},
   "outputs": [],
   "source": []
  }
 ],
 "metadata": {
  "kernelspec": {
   "display_name": "Python 3 (ipykernel)",
   "language": "python",
   "name": "python3"
  },
  "language_info": {
   "codemirror_mode": {
    "name": "ipython",
    "version": 3
   },
   "file_extension": ".py",
   "mimetype": "text/x-python",
   "name": "python",
   "nbconvert_exporter": "python",
   "pygments_lexer": "ipython3",
   "version": "3.9.7"
  }
 },
 "nbformat": 4,
 "nbformat_minor": 5
}
