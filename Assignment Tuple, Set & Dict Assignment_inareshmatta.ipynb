{
 "cells": [
  {
   "cell_type": "markdown",
   "id": "5f5bd02f",
   "metadata": {},
   "source": [
    "*** Q1. The characteristics of tuples in Python are:*** \n",
    "\n",
    "They are immutable, meaning the elements within a tuple cannot be changed.\n",
    "They use parentheses instead of square brackets like lists.\n",
    "They are ordered, meaning the elements within a tuple have a defined order.\n",
    "They can contain elements of different data types, including other tuples."
   ]
  },
  {
   "cell_type": "markdown",
   "id": "805af0f6",
   "metadata": {},
   "source": [
    "*** Q2. The two tuple methods in Python are:***\n",
    "\n",
    "count(): This method returns the number of occurrences of a specified element in a tuple.\n",
    "Example: t = (1, 2, 3, 1, 2, 3)\n",
    "t.count(1) # Output: 2\n",
    "\n",
    "index(): This method returns the index of the first occurrence of a specified element in a tuple.\n",
    "Example: t = (1, 2, 3, 1, 2, 3)\n",
    "t.index(1) # Output: 0\n",
    "\n",
    "Tuples have only two in-built methods as compared to Lists because tuples are immutable, meaning their elements cannot be modified, so they do not require as many methods as Lists."
   ]
  },
  {
   "cell_type": "markdown",
   "id": "54e45931",
   "metadata": {},
   "source": [
    "*** Q3. Sets are the collection datatype in Python that do not allow duplicate items.***\n",
    "Example code to remove duplicates from a list using a set:"
   ]
  },
  {
   "cell_type": "code",
   "execution_count": 1,
   "id": "e4d28bdd",
   "metadata": {},
   "outputs": [
    {
     "name": "stdout",
     "output_type": "stream",
     "text": [
      "[1, 2, 3, 4]\n"
     ]
    }
   ],
   "source": [
    "List = [1, 1, 1, 2, 1, 3, 1, 4, 2, 1, 2, 2, 2, 3, 2, 4, 3, 1, 3, 2, 3, 3, 3, 4, 4, 1, 4, 2, 4, 3, 4, 4]\n",
    "set_list = set(List)\n",
    "print(list(set_list)) \n",
    "# Output: [1, 2, 3, 4]\n"
   ]
  },
  {
   "cell_type": "markdown",
   "id": "06ae5f84",
   "metadata": {},
   "source": [
    "*** Q4. The union() method returns a set that contains all the elements from two sets, but it does not modify the original sets.***\n",
    "The update() method adds all the elements from one set to another, and it modifies the original set.\n",
    "\n",
    "Example:"
   ]
  },
  {
   "cell_type": "code",
   "execution_count": 2,
   "id": "ad2967b0",
   "metadata": {},
   "outputs": [
    {
     "name": "stdout",
     "output_type": "stream",
     "text": [
      "{1, 2, 3, 4, 5}\n",
      "{1, 2, 3, 4, 5}\n"
     ]
    }
   ],
   "source": [
    "set1 = {1, 2, 3}\n",
    "set2 = {3, 4, 5}\n",
    "\n",
    "# Union example\n",
    "print(set1.union(set2))   # Output: {1, 2, 3, 4, 5}\n",
    "\n",
    "# Update example\n",
    "set1.update(set2)\n",
    "print(set1)   # Output: {1, 2, 3, 4, 5}\n"
   ]
  },
  {
   "cell_type": "markdown",
   "id": "83d1feec",
   "metadata": {},
   "source": [
    "*** Q5. A dictionary in Python is an unordered collection of key-value pairs, where each key is unique.***\n",
    "Example:\n",
    "Dictionaries are unordered, meaning the elements within a dictionary do not have a defined order."
   ]
  },
  {
   "cell_type": "code",
   "execution_count": 3,
   "id": "3cd29f5c",
   "metadata": {},
   "outputs": [],
   "source": [
    "dict1 = {'language': 'Python', 'version': '3.9.2'}\n"
   ]
  },
  {
   "cell_type": "markdown",
   "id": "c238b567",
   "metadata": {},
   "source": [
    "*** Q6. Yes, we can create a nested dictionary in Python.***\n",
    "Example:"
   ]
  },
  {
   "cell_type": "code",
   "execution_count": 4,
   "id": "9dfb02f1",
   "metadata": {},
   "outputs": [],
   "source": [
    "nested_dict = {'A': {'a1': 10, 'a2': 20}, 'B': {'b1': 30, 'b2': 40}}\n"
   ]
  },
  {
   "cell_type": "markdown",
   "id": "7989837e",
   "metadata": {},
   "source": [
    "*** Q7. Using the setdefault() method to create a key named topics in the given dictionary and add the value of the key as a list:***"
   ]
  },
  {
   "cell_type": "code",
   "execution_count": 5,
   "id": "c96c046e",
   "metadata": {},
   "outputs": [
    {
     "name": "stdout",
     "output_type": "stream",
     "text": [
      "{'language': 'Python', 'course': 'Data Science Masters', 'topics': ['Python', 'Machine Learning', 'Deep Learning']}\n"
     ]
    }
   ],
   "source": [
    "dict1 = {'language' : 'Python', 'course': 'Data Science Masters'}\n",
    "dict1.setdefault('topics', ['Python', 'Machine Learning', 'Deep Learning'])\n",
    "print(dict1) \n",
    "# Output: {'language': 'Python', 'course': 'Data Science Masters\n"
   ]
  },
  {
   "cell_type": "markdown",
   "id": "92a9e398",
   "metadata": {},
   "source": [
    "*** A8. The three view objects in dictionaries are: keys(), values() and items().***\n",
    "\n",
    "To display these three view objects, we can use the following code:"
   ]
  },
  {
   "cell_type": "code",
   "execution_count": 6,
   "id": "f88ec59a",
   "metadata": {},
   "outputs": [
    {
     "name": "stdout",
     "output_type": "stream",
     "text": [
      "keys():  dict_keys(['Sport', 'Teams'])\n",
      "values():  dict_values(['Cricket', ['India', 'Australia', 'England', 'South Africa', 'Sri Lanka', 'New Zealand']])\n",
      "items():  dict_items([('Sport', 'Cricket'), ('Teams', ['India', 'Australia', 'England', 'South Africa', 'Sri Lanka', 'New Zealand'])])\n"
     ]
    }
   ],
   "source": [
    "dict1 = {'Sport': 'Cricket' , 'Teams': ['India', 'Australia', 'England', 'South Africa', 'Sri Lanka', 'New Zealand']}\n",
    "\n",
    "# keys() method\n",
    "print(\"keys(): \", dict1.keys())\n",
    "\n",
    "# values() method\n",
    "print(\"values(): \", dict1.values())\n",
    "\n",
    "# items() method\n",
    "print(\"items(): \", dict1.items())\n"
   ]
  },
  {
   "cell_type": "code",
   "execution_count": null,
   "id": "b99b7382",
   "metadata": {},
   "outputs": [],
   "source": []
  }
 ],
 "metadata": {
  "kernelspec": {
   "display_name": "Python 3 (ipykernel)",
   "language": "python",
   "name": "python3"
  },
  "language_info": {
   "codemirror_mode": {
    "name": "ipython",
    "version": 3
   },
   "file_extension": ".py",
   "mimetype": "text/x-python",
   "name": "python",
   "nbconvert_exporter": "python",
   "pygments_lexer": "ipython3",
   "version": "3.9.7"
  }
 },
 "nbformat": 4,
 "nbformat_minor": 5
}
