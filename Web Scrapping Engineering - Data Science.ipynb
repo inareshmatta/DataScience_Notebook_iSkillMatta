{
 "cells": [
  {
   "cell_type": "code",
   "execution_count": 1,
   "id": "da3e670f",
   "metadata": {},
   "outputs": [],
   "source": [
    "import requests \n",
    "from bs4 import BeautifulSoup as bs\n",
    "from urllib.request import urlopen\n",
    "import logging"
   ]
  },
  {
   "cell_type": "markdown",
   "id": "89778dab",
   "metadata": {},
   "source": [
    "This is a Python script that imports four modules: requests, BeautifulSoup from the bs4 package, urlopen from the urllib.request module, and logging.\n",
    "\n",
    "The requests module is used to send HTTP requests and receive responses from web servers. It provides a more user-friendly interface than Python's built-in urllib module.\n",
    "\n",
    "The BeautifulSoup module is used for web scraping and parsing HTML or XML documents. It allows you to extract data from web pages by parsing the HTML tags and attributes.\n",
    "\n",
    "The urlopen function from urllib.request module is used to open URLs. This function returns an object which represents the data at the specified URL.\n",
    "\n",
    "The logging module provides a flexible framework for emitting log messages from applications. It allows you to record events that occur during the execution of a program, which can be used to debug and diagnose problems."
   ]
  },
  {
   "cell_type": "code",
   "execution_count": 2,
   "id": "3796a926",
   "metadata": {},
   "outputs": [],
   "source": [
    "ul = \"https://www.flipkart.com/search?q=\" + \"iPhone%2013%20mini\""
   ]
  },
  {
   "cell_type": "code",
   "execution_count": 3,
   "id": "3ead99d2",
   "metadata": {},
   "outputs": [
    {
     "data": {
      "text/plain": [
       "'https://www.flipkart.com/search?q=iPhone%2013%20mini'"
      ]
     },
     "execution_count": 3,
     "metadata": {},
     "output_type": "execute_result"
    }
   ],
   "source": [
    "ul"
   ]
  },
  {
   "cell_type": "code",
   "execution_count": 4,
   "id": "8cb0e358",
   "metadata": {},
   "outputs": [],
   "source": [
    "urlclient = urlopen(ul)"
   ]
  },
  {
   "cell_type": "code",
   "execution_count": 5,
   "id": "bb80f3d9",
   "metadata": {},
   "outputs": [],
   "source": [
    "flippage = urlclient.read()"
   ]
  },
  {
   "cell_type": "code",
   "execution_count": 6,
   "id": "57ee1c73",
   "metadata": {},
   "outputs": [],
   "source": [
    "flippage_html = bs(flippage, 'html.parser')"
   ]
  },
  {
   "cell_type": "code",
   "execution_count": 7,
   "id": "1918e691",
   "metadata": {},
   "outputs": [],
   "source": [
    "bigbox = flippage_html.find_all(\"div\", {\"class\":\"_1AtVbE col-12-12\"})"
   ]
  },
  {
   "cell_type": "code",
   "execution_count": 8,
   "id": "aa2bcac7",
   "metadata": {},
   "outputs": [
    {
     "data": {
      "text/plain": [
       "29"
      ]
     },
     "execution_count": 8,
     "metadata": {},
     "output_type": "execute_result"
    }
   ],
   "source": [
    "len(bigbox)"
   ]
  },
  {
   "cell_type": "code",
   "execution_count": 9,
   "id": "82e046ef",
   "metadata": {},
   "outputs": [],
   "source": [
    "del bigbox[0:3]"
   ]
  },
  {
   "cell_type": "code",
   "execution_count": 13,
   "id": "9c897019",
   "metadata": {},
   "outputs": [],
   "source": [
    "productlink = \"https://www.flipkart.com\" + bigbox[12].div.div.div.a['href']"
   ]
  },
  {
   "cell_type": "code",
   "execution_count": 14,
   "id": "a397fa51",
   "metadata": {},
   "outputs": [
    {
     "name": "stdout",
     "output_type": "stream",
     "text": [
      "https://www.flipkart.com/apple-iphone-13-mini-green-128-gb/p/itm0888bb6d1e563?pid=MOBGC9VGEFHPSSNA&lid=LSTMOBGC9VGEFHPSSNAYTBHJL&marketplace=FLIPKART&q=iPhone+13+mini&store=tyy%2F4io&srno=s_1_2&otracker=search&fm=organic&iid=11a3351a-583b-4a5e-8030-f3c93c24de8f.MOBGC9VGEFHPSSNA.SEARCH&ppt=None&ppn=None&ssid=w9ui41emu80000001683457849342&qH=b85437dfdcf86599\n",
      "https://www.flipkart.com/apple-iphone-13-mini-green-512-gb/p/itm41135d7d42fd7?pid=MOBGC9VGDNZAWJY4&lid=LSTMOBGC9VGDNZAWJY4P6XUAD&marketplace=FLIPKART&q=iPhone+13+mini&store=tyy%2F4io&srno=s_1_3&otracker=search&fm=organic&iid=11a3351a-583b-4a5e-8030-f3c93c24de8f.MOBGC9VGDNZAWJY4.SEARCH&ppt=None&ppn=None&ssid=w9ui41emu80000001683457849342&qH=b85437dfdcf86599\n",
      "https://www.flipkart.com/apple-iphone-13-mini-midnight-512-gb/p/itme54fcd72f420a?pid=MOBG6VF5EAVVTUZZ&lid=LSTMOBG6VF5EAVVTUZZZCY1DS&marketplace=FLIPKART&q=iPhone+13+mini&store=tyy%2F4io&srno=s_1_4&otracker=search&fm=organic&iid=11a3351a-583b-4a5e-8030-f3c93c24de8f.MOBG6VF5EAVVTUZZ.SEARCH&ppt=None&ppn=None&ssid=w9ui41emu80000001683457849342&qH=b85437dfdcf86599\n",
      "https://www.flipkart.com/apple-iphone-13-mini-product-red-512-gb/p/itm585815ebac94c?pid=MOBG6VF556QXTVKD&lid=LSTMOBG6VF556QXTVKDTZIF55&marketplace=FLIPKART&q=iPhone+13+mini&store=tyy%2F4io&srno=s_1_5&otracker=search&fm=organic&iid=11a3351a-583b-4a5e-8030-f3c93c24de8f.MOBG6VF556QXTVKD.SEARCH&ppt=None&ppn=None&ssid=w9ui41emu80000001683457849342&qH=b85437dfdcf86599\n",
      "https://www.flipkart.com/apple-iphone-13-mini-pink-128-gb/p/itm32f5a6b2a4ea3?pid=MOBG6VF5GK7Y9AJ8&lid=LSTMOBG6VF5GK7Y9AJ8PLTZ9D&marketplace=FLIPKART&q=iPhone+13+mini&store=tyy%2F4io&srno=s_1_6&otracker=search&fm=organic&iid=11a3351a-583b-4a5e-8030-f3c93c24de8f.MOBG6VF5GK7Y9AJ8.SEARCH&ppt=None&ppn=None&ssid=w9ui41emu80000001683457849342&qH=b85437dfdcf86599\n",
      "https://www.flipkart.com/apple-iphone-13-mini-pink-512-gb/p/itm56980f8bb46c6?pid=MOBG6VF5GF68DUG4&lid=LSTMOBG6VF5GF68DUG4VS6PG2&marketplace=FLIPKART&q=iPhone+13+mini&store=tyy%2F4io&srno=s_1_7&otracker=search&fm=organic&iid=11a3351a-583b-4a5e-8030-f3c93c24de8f.MOBG6VF5GF68DUG4.SEARCH&ppt=None&ppn=None&ssid=w9ui41emu80000001683457849342&qH=b85437dfdcf86599\n",
      "https://www.flipkart.com/apple-iphone-13-mini-midnight-128-gb/p/itm6fb7dc262ba8c?pid=MOBG6VF5CPAWTCBH&lid=LSTMOBG6VF5CPAWTCBHSPDPW0&marketplace=FLIPKART&q=iPhone+13+mini&store=tyy%2F4io&srno=s_1_8&otracker=search&fm=organic&iid=11a3351a-583b-4a5e-8030-f3c93c24de8f.MOBG6VF5CPAWTCBH.SEARCH&ppt=None&ppn=None&ssid=w9ui41emu80000001683457849342&qH=b85437dfdcf86599\n",
      "https://www.flipkart.com/apple-iphone-13-mini-green-256-gb/p/itm3e9566d87023e?pid=MOBGC9VGY3UYTKYB&lid=LSTMOBGC9VGY3UYTKYBMZJC9D&marketplace=FLIPKART&q=iPhone+13+mini&store=tyy%2F4io&srno=s_1_9&otracker=search&fm=organic&iid=11a3351a-583b-4a5e-8030-f3c93c24de8f.MOBGC9VGY3UYTKYB.SEARCH&ppt=None&ppn=None&ssid=w9ui41emu80000001683457849342&qH=b85437dfdcf86599\n",
      "https://www.flipkart.com/apple-iphone-13-mini-product-red-256-gb/p/itmb12f1bb4a3755?pid=MOBG6VF5AEZNGBHS&lid=LSTMOBG6VF5AEZNGBHSXXXL1F&marketplace=FLIPKART&q=iPhone+13+mini&store=tyy%2F4io&srno=s_1_10&otracker=search&fm=organic&iid=11a3351a-583b-4a5e-8030-f3c93c24de8f.MOBG6VF5AEZNGBHS.SEARCH&ppt=None&ppn=None&ssid=w9ui41emu80000001683457849342&qH=b85437dfdcf86599\n",
      "https://www.flipkart.com/apple-iphone-13-mini-pink-256-gb/p/itme74fe970bccbe?pid=MOBG6VF526YUQCPN&lid=LSTMOBG6VF526YUQCPNNDXQWV&marketplace=FLIPKART&q=iPhone+13+mini&store=tyy%2F4io&srno=s_1_11&otracker=search&fm=organic&iid=11a3351a-583b-4a5e-8030-f3c93c24de8f.MOBG6VF526YUQCPN.SEARCH&ppt=None&ppn=None&ssid=w9ui41emu80000001683457849342&qH=b85437dfdcf86599\n",
      "https://www.flipkart.com/apple-iphone-13-mini-blue-256-gb/p/itm08b08b1944f85?pid=MOBG6VF5AHRMKUPP&lid=LSTMOBG6VF5AHRMKUPPMRFCMM&marketplace=FLIPKART&q=iPhone+13+mini&store=tyy%2F4io&srno=s_1_12&otracker=search&fm=organic&iid=11a3351a-583b-4a5e-8030-f3c93c24de8f.MOBG6VF5AHRMKUPP.SEARCH&ppt=None&ppn=None&ssid=w9ui41emu80000001683457849342&qH=b85437dfdcf86599\n",
      "https://www.flipkart.com/apple-iphone-12-mini-black-128-gb/p/itm0eb512c195bdf?pid=MOBFWBYZH2AMPNPD&lid=LSTMOBFWBYZH2AMPNPDMB1TEO&marketplace=FLIPKART&q=iPhone+13+mini&store=tyy%2F4io&srno=s_1_13&otracker=search&fm=organic&iid=11a3351a-583b-4a5e-8030-f3c93c24de8f.MOBFWBYZH2AMPNPD.SEARCH&ppt=None&ppn=None&ssid=w9ui41emu80000001683457849342&qH=b85437dfdcf86599\n",
      "https://www.flipkart.com/apple-iphone-13-mini-starlight-256-gb/p/itm4da13ee1ce622?pid=MOBG6VF5HZFFJC8U&lid=LSTMOBG6VF5HZFFJC8UPLLARV&marketplace=FLIPKART&q=iPhone+13+mini&store=tyy%2F4io&srno=s_1_14&otracker=search&fm=organic&iid=11a3351a-583b-4a5e-8030-f3c93c24de8f.MOBG6VF5HZFFJC8U.SEARCH&ppt=None&ppn=None&ssid=w9ui41emu80000001683457849342&qH=b85437dfdcf86599\n",
      "https://www.flipkart.com/apple-iphone-13-mini-starlight-128-gb/p/itmcb65606f21fd3?pid=MOBG6VF5BXXWYEYM&lid=LSTMOBG6VF5BXXWYEYMUIISKG&marketplace=FLIPKART&q=iPhone+13+mini&store=tyy%2F4io&srno=s_1_15&otracker=search&fm=organic&iid=11a3351a-583b-4a5e-8030-f3c93c24de8f.MOBG6VF5BXXWYEYM.SEARCH&ppt=None&ppn=None&ssid=w9ui41emu80000001683457849342&qH=b85437dfdcf86599\n",
      "https://www.flipkart.com/apple-iphone-13-mini-blue-512-gb/p/itm5db9409858571?pid=MOBG6VF5APJEYWTY&lid=LSTMOBG6VF5APJEYWTYFADEEI&marketplace=FLIPKART&q=iPhone+13+mini&store=tyy%2F4io&srno=s_1_16&otracker=search&fm=organic&iid=11a3351a-583b-4a5e-8030-f3c93c24de8f.MOBG6VF5APJEYWTY.SEARCH&ppt=None&ppn=None&ssid=w9ui41emu80000001683457849342&qH=b85437dfdcf86599\n",
      "https://www.flipkart.com/apple-iphone-13-mini-starlight-512-gb/p/itmee079194cf27b?pid=MOBG6VF5FF29YZ74&lid=LSTMOBG6VF5FF29YZ74UDHJ34&marketplace=FLIPKART&q=iPhone+13+mini&store=tyy%2F4io&srno=s_1_17&otracker=search&fm=organic&iid=11a3351a-583b-4a5e-8030-f3c93c24de8f.MOBG6VF5FF29YZ74.SEARCH&ppt=None&ppn=None&ssid=w9ui41emu80000001683457849342&qH=b85437dfdcf86599\n",
      "https://www.flipkart.com/apple-iphone-13-mini-midnight-256-gb/p/itmf75f164e38939?pid=MOBG6VF5SHP6JAGR&lid=LSTMOBG6VF5SHP6JAGRND17LS&marketplace=FLIPKART&q=iPhone+13+mini&store=tyy%2F4io&srno=s_1_18&otracker=search&fm=organic&iid=11a3351a-583b-4a5e-8030-f3c93c24de8f.MOBG6VF5SHP6JAGR.SEARCH&ppt=None&ppn=None&ssid=w9ui41emu80000001683457849342&qH=b85437dfdcf86599\n",
      "https://www.flipkart.com/apple-iphone-13-mini-product-red-128-gb/p/itm2c7e4135cf793?pid=MOBG6VF564UJVCBY&lid=LSTMOBG6VF564UJVCBYS2MHHT&marketplace=FLIPKART&q=iPhone+13+mini&store=tyy%2F4io&srno=s_1_19&otracker=search&fm=organic&iid=11a3351a-583b-4a5e-8030-f3c93c24de8f.MOBG6VF564UJVCBY.SEARCH&ppt=None&ppn=None&ssid=w9ui41emu80000001683457849342&qH=b85437dfdcf86599\n",
      "https://www.flipkart.com/apple-iphone-12-mini-blue-256-gb/p/itmc642fc932a70c?pid=MOBFWBYZEWKFTSHF&lid=LSTMOBFWBYZEWKFTSHFC3ASGB&marketplace=FLIPKART&q=iPhone+13+mini&store=tyy%2F4io&srno=s_1_20&otracker=search&fm=organic&iid=11a3351a-583b-4a5e-8030-f3c93c24de8f.MOBFWBYZEWKFTSHF.SEARCH&ppt=None&ppn=None&ssid=w9ui41emu80000001683457849342&qH=b85437dfdcf86599\n",
      "https://www.flipkart.com/apple-iphone-12-mini-white-64-gb/p/itmf3b16d1640898?pid=MOBFWBYZBH4CEC4C&lid=LSTMOBFWBYZBH4CEC4CP4SG6T&marketplace=FLIPKART&q=iPhone+13+mini&store=tyy%2F4io&srno=s_1_21&otracker=search&fm=organic&iid=11a3351a-583b-4a5e-8030-f3c93c24de8f.MOBFWBYZBH4CEC4C.SEARCH&ppt=None&ppn=None&ssid=w9ui41emu80000001683457849342&qH=b85437dfdcf86599\n",
      "https://www.flipkart.com/apple-iphone-12-mini-black-256-gb/p/itmdd8bad2be7933?pid=MOBFWBYZXYYGEUXK&lid=LSTMOBFWBYZXYYGEUXKJLLNWR&marketplace=FLIPKART&q=iPhone+13+mini&store=tyy%2F4io&srno=s_1_22&otracker=search&fm=organic&iid=11a3351a-583b-4a5e-8030-f3c93c24de8f.MOBFWBYZXYYGEUXK.SEARCH&ppt=None&ppn=None&ssid=w9ui41emu80000001683457849342&qH=b85437dfdcf86599\n",
      "https://www.flipkart.com/apple-iphone-12-mini-green-128-gb/p/itmba857c2dd4069?pid=MOBFWBYZZHZKAFD6&lid=LSTMOBFWBYZZHZKAFD6Z3QWQR&marketplace=FLIPKART&q=iPhone+13+mini&store=tyy%2F4io&srno=s_1_23&otracker=search&fm=organic&iid=11a3351a-583b-4a5e-8030-f3c93c24de8f.MOBFWBYZZHZKAFD6.SEARCH&ppt=None&ppn=None&ssid=w9ui41emu80000001683457849342&qH=b85437dfdcf86599\n",
      "https://www.flipkart.com/apple-iphone-12-mini-black-64-gb/p/itm38b727191eb08?pid=MOBFWBYZXSEGBS6F&lid=LSTMOBFWBYZXSEGBS6FTONJ6W&marketplace=FLIPKART&q=iPhone+13+mini&store=tyy%2F4io&srno=s_1_24&otracker=search&fm=organic&iid=11a3351a-583b-4a5e-8030-f3c93c24de8f.MOBFWBYZXSEGBS6F.SEARCH&ppt=None&ppn=None&ssid=w9ui41emu80000001683457849342&qH=b85437dfdcf86599\n"
     ]
    },
    {
     "ename": "AttributeError",
     "evalue": "'NoneType' object has no attribute 'a'",
     "output_type": "error",
     "traceback": [
      "\u001b[1;31m---------------------------------------------------------------------------\u001b[0m",
      "\u001b[1;31mAttributeError\u001b[0m                            Traceback (most recent call last)",
      "\u001b[1;32m~\\AppData\\Local\\Temp/ipykernel_4648/77107240.py\u001b[0m in \u001b[0;36m<module>\u001b[1;34m\u001b[0m\n\u001b[0;32m      1\u001b[0m \u001b[1;32mfor\u001b[0m \u001b[0mi\u001b[0m \u001b[1;32min\u001b[0m \u001b[0mbigbox\u001b[0m\u001b[1;33m:\u001b[0m\u001b[1;33m\u001b[0m\u001b[1;33m\u001b[0m\u001b[0m\n\u001b[1;32m----> 2\u001b[1;33m     \u001b[0mprint\u001b[0m\u001b[1;33m(\u001b[0m\u001b[1;34m\"https://www.flipkart.com\"\u001b[0m \u001b[1;33m+\u001b[0m \u001b[0mi\u001b[0m\u001b[1;33m.\u001b[0m\u001b[0mdiv\u001b[0m\u001b[1;33m.\u001b[0m\u001b[0mdiv\u001b[0m\u001b[1;33m.\u001b[0m\u001b[0mdiv\u001b[0m\u001b[1;33m.\u001b[0m\u001b[0ma\u001b[0m\u001b[1;33m[\u001b[0m\u001b[1;34m'href'\u001b[0m\u001b[1;33m]\u001b[0m\u001b[1;33m)\u001b[0m\u001b[1;33m\u001b[0m\u001b[1;33m\u001b[0m\u001b[0m\n\u001b[0m",
      "\u001b[1;31mAttributeError\u001b[0m: 'NoneType' object has no attribute 'a'"
     ]
    }
   ],
   "source": [
    "for i in bigbox:\n",
    "    print(\"https://www.flipkart.com\" + i.div.div.div.a['href'])"
   ]
  },
  {
   "cell_type": "code",
   "execution_count": 15,
   "id": "459758ff",
   "metadata": {},
   "outputs": [
    {
     "data": {
      "text/plain": [
       "'https://www.flipkart.com/apple-iphone-13-mini-starlight-256-gb/p/itm4da13ee1ce622?pid=MOBG6VF5HZFFJC8U&lid=LSTMOBG6VF5HZFFJC8UPLLARV&marketplace=FLIPKART&q=iPhone+13+mini&store=tyy%2F4io&srno=s_1_14&otracker=search&fm=organic&iid=11a3351a-583b-4a5e-8030-f3c93c24de8f.MOBG6VF5HZFFJC8U.SEARCH&ppt=None&ppn=None&ssid=w9ui41emu80000001683457849342&qH=b85437dfdcf86599'"
      ]
     },
     "execution_count": 15,
     "metadata": {},
     "output_type": "execute_result"
    }
   ],
   "source": [
    "productlink"
   ]
  },
  {
   "cell_type": "code",
   "execution_count": 16,
   "id": "cefbdb4c",
   "metadata": {},
   "outputs": [],
   "source": [
    "product_request = requests.get(productlink)"
   ]
  },
  {
   "cell_type": "code",
   "execution_count": 17,
   "id": "58f8748b",
   "metadata": {},
   "outputs": [],
   "source": [
    "product_html = bs(product_request.text, 'html.parser')"
   ]
  },
  {
   "cell_type": "code",
   "execution_count": 25,
   "id": "a62a2900",
   "metadata": {},
   "outputs": [],
   "source": [
    "comments_box = product_html.find_all('div',{'class': \"col _2wzgFH\"})"
   ]
  },
  {
   "cell_type": "code",
   "execution_count": 26,
   "id": "99d9417a",
   "metadata": {},
   "outputs": [
    {
     "data": {
      "text/plain": [
       "10"
      ]
     },
     "execution_count": 26,
     "metadata": {},
     "output_type": "execute_result"
    }
   ],
   "source": [
    "len(comments_box)"
   ]
  },
  {
   "cell_type": "code",
   "execution_count": 43,
   "id": "9b022f72",
   "metadata": {},
   "outputs": [
    {
     "name": "stdout",
     "output_type": "stream",
     "text": [
      "Aman Srivastava\n"
     ]
    }
   ],
   "source": [
    "# Assuming you have the necessary imports and setup code before this point\n",
    "\n",
    "# Check if the list has at least one element before accessing it\n",
    "if len(comments_box) > 0:\n",
    "    # Access the desired element\n",
    "    try:\n",
    "        comment_text = comments_box[0].find(\"p\", class_=\"_2sc7ZR _2V5EHH\").text\n",
    "        # Do something with the comment_text\n",
    "        print(comment_text)\n",
    "    except AttributeError:\n",
    "        # Handle the case when the desired element is not found within the list\n",
    "        print(\"Error: Unable to find the desired element within comments_box\")\n",
    "else:\n",
    "    # Handle the case when the list is empty\n",
    "    print(\"Error: comments_box is empty\")\n"
   ]
  },
  {
   "cell_type": "code",
   "execution_count": 52,
   "id": "63ac621d",
   "metadata": {},
   "outputs": [
    {
     "name": "stdout",
     "output_type": "stream",
     "text": [
      "No matching elements found for this iteration.\n",
      "No matching elements found for this iteration.\n",
      "No matching elements found for this iteration.\n",
      "No matching elements found for this iteration.\n",
      "No matching elements found for this iteration.\n",
      "No matching elements found for this iteration.\n",
      "No matching elements found for this iteration.\n",
      "No matching elements found for this iteration.\n",
      "No matching elements found for this iteration.\n",
      "No matching elements found for this iteration.\n"
     ]
    }
   ],
   "source": [
    "for i in comments_box:\n",
    "    elements = i.div.div.find_all(\"p\", {\"class\": \"_2sc7ZR _2V5EHH\"})\n",
    "    if elements:\n",
    "        print(elements[0].text)\n",
    "    else:\n",
    "        print(\"No matching elements found for this iteration.\")\n"
   ]
  },
  {
   "cell_type": "code",
   "execution_count": 22,
   "id": "c2edd2cb",
   "metadata": {},
   "outputs": [
    {
     "name": "stdout",
     "output_type": "stream",
     "text": [
      "<p class=\"_2-N8zT\">Mind-blowing purchase</p>\n",
      "<p class=\"_2-N8zT\">Excellent</p>\n",
      "<p class=\"_2-N8zT\">Great product</p>\n",
      "<p class=\"_2-N8zT\">Highly recommended</p>\n",
      "<p class=\"_2-N8zT\">No complaints</p>\n",
      "<p class=\"_2-N8zT\">Brilliant</p>\n",
      "<p class=\"_2-N8zT\">Great product</p>\n",
      "<p class=\"_2-N8zT\">Classy product</p>\n",
      "<p class=\"_2-N8zT\">Mind-blowing purchase</p>\n",
      "<p class=\"_2-N8zT\">Value-for-money</p>\n"
     ]
    }
   ],
   "source": [
    "for i in comments_box:\n",
    "    print(i.div.p)"
   ]
  },
  {
   "cell_type": "code",
   "execution_count": 23,
   "id": "688bc068",
   "metadata": {},
   "outputs": [
    {
     "data": {
      "text/plain": [
       "[]"
      ]
     },
     "execution_count": 23,
     "metadata": {},
     "output_type": "execute_result"
    }
   ],
   "source": [
    "comments_box[0].div.find_all(\"div\",{\"class\":\"col _2wzgFH\"})"
   ]
  },
  {
   "cell_type": "code",
   "execution_count": null,
   "id": "e88165ad",
   "metadata": {},
   "outputs": [],
   "source": []
  }
 ],
 "metadata": {
  "kernelspec": {
   "display_name": "Python 3 (ipykernel)",
   "language": "python",
   "name": "python3"
  },
  "language_info": {
   "codemirror_mode": {
    "name": "ipython",
    "version": 3
   },
   "file_extension": ".py",
   "mimetype": "text/x-python",
   "name": "python",
   "nbconvert_exporter": "python",
   "pygments_lexer": "ipython3",
   "version": "3.9.7"
  }
 },
 "nbformat": 4,
 "nbformat_minor": 5
}
