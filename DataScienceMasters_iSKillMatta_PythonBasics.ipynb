{
 "cells": [
  {
   "cell_type": "markdown",
   "id": "fe88a4ad",
   "metadata": {},
   "source": [
    "# Data Science Master's Class - iSkillMatta Notes"
   ]
  },
  {
   "cell_type": "markdown",
   "id": "9224c48a",
   "metadata": {},
   "source": [
    "### Python Objects, Number & Booleans, Strings."
   ]
  },
  {
   "cell_type": "markdown",
   "id": "a43b7a05",
   "metadata": {},
   "source": [
    "##### Mathematical Operations + - / *"
   ]
  },
  {
   "cell_type": "code",
   "execution_count": null,
   "id": "c3b92422",
   "metadata": {},
   "outputs": [],
   "source": [
    "1+2"
   ]
  },
  {
   "cell_type": "code",
   "execution_count": null,
   "id": "c7e2d46b",
   "metadata": {},
   "outputs": [],
   "source": [
    "1*2"
   ]
  },
  {
   "cell_type": "code",
   "execution_count": null,
   "id": "64738c24",
   "metadata": {},
   "outputs": [],
   "source": [
    "1/2"
   ]
  },
  {
   "cell_type": "code",
   "execution_count": null,
   "id": "c8fca481",
   "metadata": {},
   "outputs": [],
   "source": [
    "1-2"
   ]
  },
  {
   "cell_type": "markdown",
   "id": "6ef40be5",
   "metadata": {},
   "source": [
    "FYI : writing 1+2 and writing print(1+2) is different as the cell is not created, rather the output console takes over the place of a new cell value, for example on top you can see the first in(2) it means it is count of the cell value and in this case the out is assigned the value of input cell. This is only for Collab, Notebooks etc \n"
   ]
  },
  {
   "cell_type": "code",
   "execution_count": null,
   "id": "6f056bb5",
   "metadata": {},
   "outputs": [],
   "source": [
    "print(1+2)"
   ]
  },
  {
   "cell_type": "markdown",
   "id": "bad1419c",
   "metadata": {},
   "source": [
    "# Strings : \n",
    "\n",
    "### How to read inbuilt functions in Python : \n",
    "Write function for example print ( press shift tab)\n",
    "\n",
    "This is result : \n",
    "\n",
    "\n",
    "Docstring:\n",
    "print(value, ..., sep=' ', end='\\n', file=sys.stdout, flush=False)\n",
    "\n",
    "Prints the values to a stream, or to sys.stdout by default.\n",
    "Optional keyword arguments:\n",
    "file:  a file-like object (stream); defaults to the current sys.stdout.\n",
    "sep:   string inserted between values, default a space.\n",
    "end:   string appended after the last value, default a newline.\n",
    "flush: whether to forcibly flush the stream.\n",
    "Type:      builtin_function_or_method\n",
    "\n",
    "#### We can also write our own Function which we will understand later"
   ]
  },
  {
   "cell_type": "markdown",
   "id": "99e9ecf3",
   "metadata": {},
   "source": [
    "#### Things to know about strings in Python\n",
    "\n",
    "Escaping characters: If you need to include a quote character within a string, you can escape it by preceding it with a backslash (\\). For example:\n",
    "\n",
    "##### message = \"He said, \\\"Hello, how are you?\\\"\"\n",
    "\n",
    "\n",
    "Raw strings: If you need to include a backslash in a string and don't want it to be interpreted as an escape character, you can create a raw string by preceding the string with the letter r. Raw strings are useful when working with regular expressions and file paths:\n",
    "\n",
    "##### path = r\"C:\\Users\\John\\Documents\"\n",
    "\n",
    "\n",
    "Multiline strings: If you need to create a string that spans multiple lines, you can use triple quotes (either single quotes or double quotes) to create a multiline string. For example:\n",
    "\n",
    "##### message = \"\"\"This is a\n",
    "multiline\n",
    "string\"\"\" \n",
    "\n",
    "\n",
    "Unicode strings: In Python 3, strings are Unicode by default, meaning that they can represent any character in the Unicode character set. This makes it easy to work with text in multiple languages. If you need to create a string that contains characters that are not part of the ASCII character set, you can use Unicode escape sequences to specify those characters. For example:\n",
    "\n",
    "###### message = \"こんにちは\"\n",
    "\n",
    "\n",
    "Formatting strings: You can use the format method to insert values into a string. The format method allows you to specify placeholders within the string, which are then replaced with values from the argument list. For example:\n",
    "\n",
    "#####\n",
    "name = \"John\"\n",
    "age = 30\n",
    "message = \"My name is {} and I am {} years old\".format(name, age)\n",
    "\n",
    "\n",
    "String indexing and slicing: Strings can be indexed and sliced just like lists. The index of the first character in a string is 0, and you can use negative index values to access characters from the end of the string. For example:\n",
    "\n",
    "name = \"John Doe\"\n",
    "print(name[0]) # Output: J\n",
    "print(name[-1]) # Output: e\n",
    "print(name[1:4]) # Output: ohn\n"
   ]
  },
  {
   "cell_type": "code",
   "execution_count": null,
   "id": "12cc0b55",
   "metadata": {},
   "outputs": [],
   "source": [
    "\"This is a string\""
   ]
  },
  {
   "cell_type": "code",
   "execution_count": null,
   "id": "14088aef",
   "metadata": {},
   "outputs": [],
   "source": [
    "print(\"This is a new line \\n string\")"
   ]
  },
  {
   "cell_type": "code",
   "execution_count": null,
   "id": "87a1d0ea",
   "metadata": {},
   "outputs": [],
   "source": [
    "# Using %-formatting\n",
    "name = \"John\"\n",
    "age = 30\n",
    "message = \"My name is %s and I am %d years old\" % (name, age)\n",
    "print(message)\n",
    "\n",
    "# Output: My name is John and I am 30 years old\n",
    "\n",
    "# Using the format() method\n",
    "name = \"John\"\n",
    "age = 30\n",
    "message = \"My name is {} and I am {} years old\".format(name, age)\n",
    "print(message)\n",
    "\n",
    "# Output: My name is John and I am 30 years old\n",
    "\n",
    "# Using f-strings\n",
    "name = \"John\"\n",
    "age = 30\n",
    "message = f\"My name is {name} and I am {age} years old\"\n",
    "print(message)\n",
    "\n",
    "# Output: My name is John and I am 30 years old\n"
   ]
  },
  {
   "cell_type": "markdown",
   "id": "cb15bf52",
   "metadata": {},
   "source": [
    "### Variables \n",
    "\n",
    "In Python, a variable is a name that refers to a value stored in memory. Variables are used to store values that can change during the execution of a program. A variable can be assigned a value using the assignment operator =. \n",
    "\n",
    "In Python, variables are dynamically typed, meaning that the type of a variable can change during the execution of the program. \n",
    "\n",
    "Variable naming conventions: In Python, variables can only contain letters, numbers, and underscores. They cannot start with a number and should not be one of the Python keywords. It's a common practice to use all lowercase letters with words separated by underscores for variable names.\n",
    "\n",
    "Scope of variables: Variables can have different scopes depending on where they are defined. For example, variables defined inside a function are local to that function and are not accessible outside of it. On the other hand, variables defined outside of any function are global and can be accessed from anywhere in the program.\n",
    "\n",
    "Mutability: In Python, some data types are mutable, meaning that their values can be changed, while others are immutable, meaning that their values cannot be changed once they are created. For example, lists and dictionaries are mutable, while strings and tuples are immutable.\n",
    "\n",
    "Global and nonlocal keywords: The global keyword can be used to specify that a variable is a global variable, even if it's being assigned inside a function. The nonlocal keyword can be used to specify that a variable is non-local to the current function, meaning that it's defined in the nearest enclosing function that's not a global function.\n",
    "\n",
    "Garbage collection: In Python, memory management is handled automatically, and objects that are no longer referenced by any variable are automatically cleaned up by the garbage collector. This means that you don't have to worry about freeing up memory yourself."
   ]
  },
  {
   "cell_type": "code",
   "execution_count": null,
   "id": "8900d055",
   "metadata": {},
   "outputs": [],
   "source": [
    "a=10\n",
    "a"
   ]
  },
  {
   "cell_type": "markdown",
   "id": "86decd2e",
   "metadata": {},
   "source": [
    "Here we are storing value 10 to a letter 'a' and when we store the value and call the variable name the result will be off the stored value"
   ]
  },
  {
   "cell_type": "code",
   "execution_count": null,
   "id": "a0d59317",
   "metadata": {},
   "outputs": [],
   "source": [
    "name = \"Matta\"\n",
    "name"
   ]
  },
  {
   "cell_type": "code",
   "execution_count": null,
   "id": "9b470d99",
   "metadata": {},
   "outputs": [],
   "source": [
    "a=\"Matta\"\n",
    "b=\"MATTA\""
   ]
  },
  {
   "cell_type": "markdown",
   "id": "a114e8aa",
   "metadata": {},
   "source": [
    "### String is case senstive"
   ]
  },
  {
   "cell_type": "code",
   "execution_count": null,
   "id": "ae992b85",
   "metadata": {},
   "outputs": [],
   "source": [
    "a"
   ]
  },
  {
   "cell_type": "code",
   "execution_count": null,
   "id": "055e37c6",
   "metadata": {},
   "outputs": [],
   "source": [
    "b"
   ]
  },
  {
   "cell_type": "markdown",
   "id": "1e61bbb3",
   "metadata": {},
   "source": [
    "### Dynamic Typing\n",
    "\n",
    "Dynamic typing is a type system used in some programming languages where the data type of a value is determined at runtime. In contrast, in statically-typed languages, the data type of a variable is determined at compile-time and must remain the same throughout the execution of the program.\n",
    "\n",
    "In dynamic typing, variables don't have to be explicitly declared with a specific data type, and the type of the value stored in a variable can change dynamically during runtime. This can allow for more flexible and versatile code, as well as faster development time. However, it can also make it harder to catch type errors and can result in unexpected behavior if the type of a variable changes in unexpected ways.\n",
    "\n",
    "Examples of programming languages that support dynamic typing include Python, Ruby, JavaScript, and PHP.\n",
    "\n",
    "##### Python : \n",
    "\n",
    "x = 10\n",
    "print(type(x)) # Output: <class 'int'>\n",
    "\n",
    "x = \"hello\"\n",
    "print(type(x)) # Output: <class 'str'>\n",
    "\n",
    "\n",
    "##### Java : \n",
    "int x = 10;\n",
    "System.out.println(x.getClass().getName()); // Output: int\n",
    "\n",
    "// The following line would cause a compile error because the type of x cannot be changed\n",
    "x = \"hello\"; \n",
    "\n",
    "In the Python example, the type of the variable x can change dynamically, first being an int, and then being a str. In Java, once a variable has been declared with a specific data type, it cannot be changed.\n",
    "\n",
    "This difference in type handling illustrates the contrast between dynamic and static typing in programming languages. While dynamic typing can provide more flexibility, static typing can provide more stability and catch type-related errors early on in the development process.\n",
    "\n",
    "\n",
    "\n",
    "\n",
    "\n"
   ]
  },
  {
   "cell_type": "code",
   "execution_count": null,
   "id": "9eed24b0",
   "metadata": {},
   "outputs": [],
   "source": [
    "x = 10 \n",
    "print(type(x)) # Output: <class 'int'>\n",
    "\n",
    "x = \"hello\" \n",
    "print(type(x)) # Output: <class 'str'>"
   ]
  },
  {
   "cell_type": "markdown",
   "id": "06e9a4ec",
   "metadata": {},
   "source": [
    "### Reserved Keywords\n",
    "\n",
    "Reserved keywords are special words in a programming language that have a specific meaning and cannot be used as identifiers (variable names, function names, etc.) in the code. They are reserved by the language and are used to perform specific tasks or operations. Some common reserved keywords in Python are:\n",
    "\n",
    "1. and\n",
    "2. as\n",
    "3. assert\n",
    "4. break\n",
    "5. class\n",
    "6. continue\n",
    "7. def\n",
    "8. del\n",
    "9. elif\n",
    "10. else\n",
    "11. except\n",
    "12. False\n",
    "13. finally\n",
    "14. for\n",
    "15. from\n",
    "16. global\n",
    "17. if\n",
    "18. import\n",
    "19. in\n",
    "20. is\n",
    "21. lambda\n",
    "22. None\n",
    "23. nonlocal\n",
    "24. not\n",
    "25. or\n",
    "26. pass\n",
    "27. raise\n",
    "28. return\n",
    "29. True\n",
    "30. try\n",
    "31. while\n",
    "32. with\n",
    "33. yield\n"
   ]
  },
  {
   "cell_type": "markdown",
   "id": "7e7c690f",
   "metadata": {},
   "source": [
    "## Concatination \n",
    "\n",
    "Concatenation is the process of combining two or more values into a single value in programming. In Python, you can concatenate strings and numbers using the + operator.\n",
    "\n",
    "Here are some examples of concatenation in Python:\n",
    "\n",
    "\n",
    "In Python, you can only concatenate values of the same type. If you try to concatenate a string and a number, you'll need to first convert the number to a string using the str function:\n",
    "\n",
    "###### example : \n",
    "\n",
    "a = \"The answer is \"\n",
    "b = 42\n",
    "c = a + str(b)\n",
    "print(c) # Output: The answer is 42\n",
    "\n",
    "\n",
    "Concatenation is a common operation in programming, and can be used to build complex values from smaller parts."
   ]
  },
  {
   "cell_type": "code",
   "execution_count": null,
   "id": "e9c1d0fd",
   "metadata": {},
   "outputs": [],
   "source": [
    "name = \"John\"\n",
    "last_name = \"Doe\"\n",
    "full_name = name + \" \" + last_name\n",
    "print(full_name) # Output: John Doe"
   ]
  },
  {
   "cell_type": "code",
   "execution_count": null,
   "id": "acfce1a0",
   "metadata": {},
   "outputs": [],
   "source": [
    "a = 5\n",
    "b = 10\n",
    "c = a + b\n",
    "print(c) # Output: 15"
   ]
  },
  {
   "cell_type": "code",
   "execution_count": null,
   "id": "4ac0852b",
   "metadata": {},
   "outputs": [],
   "source": [
    "a = \"The answer is \"\n",
    "b = 42\n",
    "c = a + str(b)\n",
    "print(c) # Output: The answer is 42"
   ]
  },
  {
   "cell_type": "markdown",
   "id": "404e6d0c",
   "metadata": {},
   "source": [
    "### Type Casting\n",
    "\n",
    "Type casting, also known as type conversion, is the process of converting a value from one data type to another data type in programming. This can be useful in cases where you need to make sure that a value is of a certain data type in order to use it in a specific context.\n",
    "\n",
    "For example, in real life you might use type casting when you want to calculate the average temperature for a certain period of time. Let's say that you have the daily temperatures stored as strings in a list:\n",
    "\n"
   ]
  },
  {
   "cell_type": "code",
   "execution_count": null,
   "id": "e2472e09",
   "metadata": {},
   "outputs": [],
   "source": [
    "temperatures = [\"32\", \"30\", \"28\", \"31\", \"29\"]\n"
   ]
  },
  {
   "cell_type": "markdown",
   "id": "40e1ba27",
   "metadata": {},
   "source": [
    "In order to calculate the average temperature, you would need to convert these strings to numbers. In Python, you can use the int function to convert a string to an integer:"
   ]
  },
  {
   "cell_type": "code",
   "execution_count": null,
   "id": "281a804e",
   "metadata": {},
   "outputs": [],
   "source": [
    "sum = 0\n",
    "for temperature in temperatures:\n",
    "    sum += int(temperature)\n",
    "average = sum / len(temperatures)\n",
    "print(average) # Output: 30.0\n"
   ]
  },
  {
   "cell_type": "markdown",
   "id": "92684e0f",
   "metadata": {},
   "source": [
    "In this example, we used type casting to convert the strings in the temperatures list to integers using the int function. This allowed us to sum up the temperatures and calculate the average temperature.\n",
    "\n",
    "Type casting is a common operation in programming and can be used in a variety of situations to ensure that values are of the correct data type for a given context."
   ]
  },
  {
   "cell_type": "markdown",
   "id": "a8c33dd6",
   "metadata": {},
   "source": [
    "You can permanently change the data type of elements in a list by iterating over the elements of the list and converting each element to the desired data type.\n",
    "\n",
    "For example, consider the following list of temperatures stored as strings:"
   ]
  },
  {
   "cell_type": "code",
   "execution_count": null,
   "id": "dbb92b89",
   "metadata": {},
   "outputs": [],
   "source": [
    "temperatures = [\"32\", \"30\", \"28\", \"31\", \"29\"]\n",
    "# This line initializes a list called temperatures with 5 strings representing daily temperatures.\n",
    "\n"
   ]
  },
  {
   "cell_type": "markdown",
   "id": "9a26f6c3",
   "metadata": {},
   "source": [
    "To permanently change the data type of the elements in the list, you could use a for loop to convert each element from a string to an integer:\n",
    "\n"
   ]
  },
  {
   "cell_type": "code",
   "execution_count": null,
   "id": "952982de",
   "metadata": {},
   "outputs": [],
   "source": [
    "for i in range(len(temperatures)): \n",
    "    temperatures[i] = int(temperatures[i])\n",
    "print(temperatures) # Output: [32, 30, 28, 31, 29]\n",
    "\n",
    "# #This line starts a for loop that will run len(temperatures) times, \n",
    "# # where len(temperatures) is the length of the temperatures list. \n",
    "# # The variable i is used as the index of the temperatures list, \n",
    "# # and it will take on the values 0, 1, 2, 3, and 4 in each iteration of the loop.\n",
    "# Next converts the element at the index i of the temperatures list from a string to an integer using the int function.\n",
    "# The result is then stored back in the same location in the list, effectively replacing the original string with an integer."
   ]
  },
  {
   "cell_type": "markdown",
   "id": "db9f0ee9",
   "metadata": {},
   "source": [
    "In this example, the for loop iterates over the indices of the temperatures list, and for each index, it converts the corresponding element from a string to an integer using the int function. The result is a list of integers, where the data type of the elements has been permanently changed.\n",
    "\n",
    "This approach can be used to change the data type of elements in a list to any desired data type, as long as there is a corresponding conversion function available in Python.\n",
    "\n"
   ]
  },
  {
   "cell_type": "markdown",
   "id": "98af0a53",
   "metadata": {},
   "source": [
    "### Conditions, if, else, ifelif, While, For Loops, AND , Llop Controls\n",
    "\n",
    "Conditions, if, else, elif, while, for loops, and and loop controls are fundamental concepts in programming that allow you to control the flow of execution in your code.\n",
    "\n",
    "Conditions:\n",
    "Conditions are used to evaluate whether a statement is true or false. If a condition is true, a certain block of code is executed; if it's false, the code is skipped. Conditions are often used in if statements to make decisions based on the state of your program.\n",
    "\n",
    "if:\n",
    "The if statement allows you to execute a block of code only if a certain condition is met. If the condition is true, the code within the if block is executed. If the condition is false, the code is skipped.\n",
    "\n",
    "else:\n",
    "The else statement is used in conjunction with an if statement. If the condition in the if statement is false, the code within the else block is executed.\n",
    "\n",
    "elif:\n",
    "The elif statement, short for \"else if\", is used to specify additional conditions to test after an if statement. If the condition in the if statement is false, the conditions in the elif statements are evaluated in order until one of them is true.\n",
    "\n",
    "while:\n",
    "The while loop is used to repeat a block of code as long as a certain condition is true. The code within the while loop will be executed repeatedly until the condition is no longer true.\n",
    "\n",
    "for:\n",
    "The for loop is used to repeat a block of code for a specific number of times or for each element in a collection such as a list or a tuple. The for loop allows you to iterate over a collection and perform a certain action for each element.\n",
    "\n",
    "and:\n",
    "The and operator is used to combine two or more conditions in a single statement. The conditions are evaluated from left to right and the result of the and operation is only true if all of the conditions are true.\n",
    "\n",
    "Loop Controls:\n",
    "Loop controls, such as break and continue, allow you to control the flow of execution within loops. The break statement is used to exit a loop early, while the continue statement is used to skip the rest of the code in the current iteration of a loop and move on to the next iteration.\n",
    "\n",
    "\n",
    "\n",
    "\n"
   ]
  },
  {
   "cell_type": "code",
   "execution_count": null,
   "id": "7895eff3",
   "metadata": {},
   "outputs": [],
   "source": [
    "x = 5\n",
    "if x > 0:\n",
    "    print(\"x is positive\")\n",
    "else:\n",
    "    print(\"x is not positive\")\n"
   ]
  },
  {
   "cell_type": "code",
   "execution_count": null,
   "id": "de37c84c",
   "metadata": {},
   "outputs": [],
   "source": [
    "x = 5\n",
    "if x > 0:\n",
    "    print(\"x is positive\")"
   ]
  },
  {
   "cell_type": "code",
   "execution_count": null,
   "id": "c32c0449",
   "metadata": {},
   "outputs": [],
   "source": [
    "x = -5\n",
    "if x > 0:\n",
    "    print(\"x is positive\")\n",
    "else:\n",
    "    print(\"x is not positive\")\n"
   ]
  },
  {
   "cell_type": "code",
   "execution_count": null,
   "id": "bd78a22c",
   "metadata": {},
   "outputs": [],
   "source": [
    "x = 5\n",
    "if x > 10:\n",
    "    print(\"x is greater than 10\")\n",
    "elif x > 0:\n",
    "    print(\"x is positive and less than or equal to 10\")\n",
    "else:\n",
    "    print(\"x is negative or 0\")\n"
   ]
  },
  {
   "cell_type": "code",
   "execution_count": null,
   "id": "545797e0",
   "metadata": {},
   "outputs": [],
   "source": [
    "count = 0\n",
    "while count < 5:\n",
    "    print(count)\n",
    "    count += 1\n"
   ]
  },
  {
   "cell_type": "code",
   "execution_count": null,
   "id": "dec4972c",
   "metadata": {},
   "outputs": [],
   "source": [
    "fruits = [\"apple\", \"banana\", \"cherry\"]\n",
    "for fruit in fruits:\n",
    "    print(fruit)\n"
   ]
  },
  {
   "cell_type": "code",
   "execution_count": null,
   "id": "ea473a34",
   "metadata": {},
   "outputs": [],
   "source": [
    "x = 5\n",
    "y = 10\n",
    "if x > 0 and y > 0:\n",
    "    print(\"x and y are positive\")\n",
    "else:\n",
    "    print(\"x or y is not positive\")\n"
   ]
  },
  {
   "cell_type": "code",
   "execution_count": null,
   "id": "3539dfc3",
   "metadata": {},
   "outputs": [],
   "source": [
    "fruits = [\"apple\", \"banana\", \"cherry\"]\n",
    "for fruit in fruits:\n",
    "    if fruit == \"banana\":\n",
    "        break\n",
    "    print(fruit)\n"
   ]
  },
  {
   "cell_type": "markdown",
   "id": "577eea7e",
   "metadata": {},
   "source": [
    "Line 1: The variable fruits is assigned a list of strings, [\"apple\", \"banana\", \"cherry\"].\n",
    "\n",
    "Line 2: A for loop is started to iterate through the items in the fruits list. For each iteration, the variable fruit will take on the value of the current item.\n",
    "\n",
    "Line 3: A conditional if statement checks if the current value of fruit is equal to the string \"banana\".\n",
    "\n",
    "Line 4: If the condition in line 3 is true (i.e. fruit is equal to \"banana\"), the break statement is executed and the loop is immediately terminated.\n",
    "\n",
    "Line 5: The value of the current fruit is printed.\n",
    "\n",
    "The output of this code will be: apple"
   ]
  },
  {
   "cell_type": "code",
   "execution_count": null,
   "id": "d8622b56",
   "metadata": {},
   "outputs": [],
   "source": [
    "fruits = [\"apple\", \"banana\", \"cherry\"]\n",
    "for fruit in fruits:\n",
    "    if fruit == \"banana\":\n",
    "        continue\n",
    "    print(fruit)\n"
   ]
  },
  {
   "cell_type": "markdown",
   "id": "29db1f00",
   "metadata": {},
   "source": [
    "Line 1: The variable fruits is assigned a list of strings, [\"apple\", \"banana\", \"cherry\"].\n",
    "\n",
    "Line 2: A for loop is started to iterate through the items in the fruits list. For each iteration, the variable fruit will take on the value of the current item.\n",
    "\n",
    "Line 3: A conditional if statement checks if the current value of fruit is equal to the string \"banana\".\n",
    "\n",
    "Line 4: If the condition in line 3 is true (i.e. fruit is equal to \"banana\"), the continue statement is executed and the current iteration is skipped.\n",
    "\n",
    "Line 5: The value of the current fruit is printed.\n",
    "\n",
    "The output of this code will be: apple cherry"
   ]
  },
  {
   "cell_type": "markdown",
   "id": "ac3c9a5a",
   "metadata": {},
   "source": [
    "### 'break' stops the execution of the loop and moves the control outside the loop. On the other hand, \n",
    "### 'continue' skips the current iteration and moves on to the next one, without stopping the loop."
   ]
  },
  {
   "cell_type": "markdown",
   "id": "15e5a9c9",
   "metadata": {},
   "source": [
    "### This below section is from a QNA Session"
   ]
  },
  {
   "cell_type": "markdown",
   "id": "0ed4415b",
   "metadata": {},
   "source": [
    "The below code was question from one of the participant and tried to help him with solution\n",
    "\n",
    "His code was \n",
    "\n",
    "from functools import reduce\n",
    "i = [1,2,3,4,5,4]\n",
    "reduce(lambda x: x+1,1)\n",
    "\n",
    "\n",
    "The reduce function takes two arguments, the first being the function to apply to the elements of the list, and the second being the list. In the code you've provided, the second argument is 1, which is not a list, and will raise a TypeError.\n",
    "\n",
    "The function passed as the first argument to reduce, lambda x: x+1, only takes one argument x. The reduce function requires a function that takes two arguments, as it applies the function to the elements of the list in pairs.\n"
   ]
  },
  {
   "cell_type": "code",
   "execution_count": null,
   "id": "160cdd02",
   "metadata": {},
   "outputs": [],
   "source": [
    "from functools import reduce\n",
    "\n",
    "i = [1, 2, 3, 4, 5, 4]\n",
    "reduce(lambda x, y: x + [y + 1], i, [])"
   ]
  },
  {
   "cell_type": "markdown",
   "id": "be9b4bf6",
   "metadata": {},
   "source": [
    "Ignore above code\n",
    "\n",
    "In this code, the lambda function takes two arguments x and y and returns x + [y + 1], where y + 1 adds 1 to each element of the list i. The reduce function accumulates the results of the lambda function and returns a new list with each element increased by 1. The final value is stored in the result variable."
   ]
  },
  {
   "cell_type": "markdown",
   "id": "eb7f9d99",
   "metadata": {},
   "source": [
    "### Section ends here "
   ]
  },
  {
   "cell_type": "markdown",
   "id": "006a9a37",
   "metadata": {},
   "source": [
    "### Placeholder \n",
    "\n",
    "Placeholders are used in string formatting to represent values that will be filled in later. In Python, there are several ways to format strings and placeholders are used in some of these methods.\n",
    "\n",
    "One way to use placeholders in Python is by using the % operator with the % operator. \n",
    "\n",
    "In this example, the placeholders %s and %d represent the data types that will be filled in. The %s placeholder represents a string and the %d placeholder represents an integer. The values of name and age are then passed in after the string as a tuple.\n",
    "\n",
    "Another way to use placeholders in Python is by using the format() method. \n",
    "\n",
    "In this example, the curly braces {} serve as placeholders for the values that will be filled in. The values of name and age are then passed in as arguments to the format() method.\n",
    "\n",
    "f-strings, introduced in Python 3.6, provide yet another way to format strings and use placeholders. "
   ]
  },
  {
   "cell_type": "code",
   "execution_count": null,
   "id": "285b30b5",
   "metadata": {},
   "outputs": [],
   "source": [
    "name = \"Matta\"\n",
    "age = 35\n",
    "\n",
    "print(\"My Name is {actualname} and age is {actualage}\".format(actualage=age,actualname=name))\n"
   ]
  },
  {
   "cell_type": "code",
   "execution_count": null,
   "id": "b948183c",
   "metadata": {},
   "outputs": [],
   "source": [
    "name = \"John\"\n",
    "age = 30\n",
    "message = \"My name is %s and I am %d years old\" % (name, age)\n",
    "print(message)\n",
    "\n",
    "# Output: My name is John and I am 30 years old\n"
   ]
  },
  {
   "cell_type": "code",
   "execution_count": null,
   "id": "4d98fcec",
   "metadata": {},
   "outputs": [],
   "source": [
    "name = \"John\"\n",
    "age = 30\n",
    "message = \"My name is {} and I am {} years old\".format(name, age)\n",
    "print(message)\n",
    "\n",
    "# Output: My name is John and I am 30 years old\n"
   ]
  },
  {
   "cell_type": "code",
   "execution_count": null,
   "id": "cf4999ba",
   "metadata": {},
   "outputs": [],
   "source": [
    "name = \"John\"\n",
    "age = 30\n",
    "message = f\"My name is {name} and I am {age} years old\"\n",
    "print(message)\n",
    "\n",
    "# Output: My name is John and I am 30 years old\n"
   ]
  },
  {
   "cell_type": "code",
   "execution_count": null,
   "id": "ac2dca32",
   "metadata": {},
   "outputs": [],
   "source": [
    "name = \"Matta\"\n",
    "age = 35\n",
    "degree = \"BCA\"\n",
    "\n",
    "print(f\"My name is {name}, I am a {degree} graduate and my age is {age} .\") # with f string format\n",
    "print(\"My name is {name}, I am a {degree} graduate and my age is {age} .\") # without f string formating \n",
    "print(f\"My name is {name}, I am a {degree} graduate and my age is {age}\".format(name,age,degree)) # with .format string formating\n",
    "print(f\"My name is {name}, I am a {degree} graduate and my age is {age}\".format(name,age,degree))"
   ]
  },
  {
   "cell_type": "markdown",
   "id": "c8ab76e7",
   "metadata": {},
   "source": [
    "### Control Flow\n",
    "   **Here, we are going to review and learn the most fundamentals of Python control flow: Decision making statement and loops.**"
   ]
  },
  {
   "cell_type": "code",
   "execution_count": null,
   "id": "cca287f9",
   "metadata": {},
   "outputs": [],
   "source": [
    "## IF Statements \n",
    "## ==.>=,<=\n",
    "age=18\n",
    "if age>=18: ## Indentation -  after a if statement the ':' will automatically add indentation and start from a new line so that it understands that it inside the if block\n",
    "\n",
    "    print(\"You are eligible to vote\")\n",
    "    \n",
    "    "
   ]
  },
  {
   "cell_type": "code",
   "execution_count": null,
   "id": "52323840",
   "metadata": {},
   "outputs": [],
   "source": [
    "if age<=18:\n",
    "    print(\"you are not eligible\")"
   ]
  },
  {
   "cell_type": "code",
   "execution_count": null,
   "id": "7c681219",
   "metadata": {},
   "outputs": [],
   "source": [
    "age = 17 \n",
    "if age<18:\n",
    "    print(\"you are not eligible\")"
   ]
  },
  {
   "cell_type": "code",
   "execution_count": null,
   "id": "cae53d97",
   "metadata": {},
   "outputs": [],
   "source": [
    "# Input function allows to get imput from user and the default data type for Input function is String \n",
    "\n",
    "name=input(\"Enter your name \") # Here we are only deifining the variable but the data is entered by the user with input function"
   ]
  },
  {
   "cell_type": "code",
   "execution_count": null,
   "id": "48810aa2",
   "metadata": {},
   "outputs": [],
   "source": [
    "name"
   ]
  },
  {
   "cell_type": "code",
   "execution_count": null,
   "id": "7fbc41d7",
   "metadata": {},
   "outputs": [],
   "source": [
    "age=int(input(\"Enter tyour age \")) #This is the use of Type casting, Since the default datatype for Input is string \n",
    "# and if we want user to enter the age then we can typecast the Int function for the Input function"
   ]
  },
  {
   "cell_type": "code",
   "execution_count": null,
   "id": "41accb2b",
   "metadata": {},
   "outputs": [],
   "source": [
    "# Task\n",
    "# take a input oif age\n",
    "# check whether age >=18 and age <45\n",
    "# display a message you are young blood\n",
    "\n",
    "age=int(input(\"enter your age \"))\n",
    "if age>=18 and age<=40:\n",
    "    print(\"You are young blood\")\n",
    "else:\n",
    "    print(\"You are legend\")"
   ]
  },
  {
   "cell_type": "code",
   "execution_count": null,
   "id": "219828e7",
   "metadata": {},
   "outputs": [],
   "source": [
    "#Assignment \n",
    "# bill amount for shopping is take input from user\n",
    "# if money is greater than 1000rs - 20% off\n",
    "# print the product price after discount \n",
    "# if amount is less than = 1000 then 10% off \n",
    "# print the product price \n",
    "\n",
    "\n",
    "TotalBillAmount=int(input(\"Enter the Amount\"))\n",
    "if TotalBillAmount>1000:\n",
    "    print(TotalBillAmount-TotalBillAmount*20/100)\n",
    "if TotalBillAmount<=1000:\n",
    "    print(TotalBillAmount-TotalBillAmount*10/100)\n",
    "    \n",
    "    "
   ]
  },
  {
   "cell_type": "code",
   "execution_count": null,
   "id": "2619158a",
   "metadata": {},
   "outputs": [],
   "source": [
    "product_price = int(input(\"Enter the Price \"))\n",
    "if product_price > 1000:\n",
    "    print(\"The Price after discount is {}\".format(product_price * 0.8))\n",
    "else:\n",
    "    print(\"The Price after discount is {}\".format(product_price * 0.9))"
   ]
  },
  {
   "cell_type": "code",
   "execution_count": null,
   "id": "0d9261ac",
   "metadata": {},
   "outputs": [],
   "source": [
    "#Assignment \n",
    "# bill amount for shopping is take input from user\n",
    "# if money is greater than 3000 - 20% off\n",
    "# print the product price after discount \n",
    "# if money is greater than equal to 2000 and less than equal to 3000 - 15% off\n",
    "# print the product price after discount \n",
    "# if money is greater than equal to 1000 and less than equal to 2000 - 10% off\n",
    "# print the product price after discount \n",
    "# if money is less than equal to 1000  - 5% off\n",
    "# print the product price after discount \n",
    "\n",
    "product_price = int(input(\"Enter the Price ₹\"))\n",
    "if product_price > 3000:\n",
    "    print(\"The Price after discount is ₹{}\".format(product_price * 0.8))\n",
    "elif product_price>=2000 and product_price<=3000:\n",
    "    print(\"The Price after discount is ₹{}\".format(product_price * 0.85))\n",
    "elif product_price>=1000 and product_price<=2000:\n",
    "    print(\"The Price after discount is ₹{}\".format(product_price * 0.90))\n",
    "elif product_price<1000 and product_price>=500:\n",
    "    print(\"The Price after discount is ₹{}\".format(product_price * 0.95))\n",
    "else:\n",
    "    print(\"Thank you for Shopping with us, Enjoy discounts from 5% to 20% for amount more than ₹500\")\n",
    "\n",
    "    "
   ]
  },
  {
   "cell_type": "markdown",
   "id": "a3e70e0e",
   "metadata": {},
   "source": [
    "Retrospectrive : I have a habbit of not entering variable while using the comparison operators >= and <= \n",
    "\n",
    "My code was like this : \n",
    "\n",
    "if product_price > 3000:\n",
    "    print(\"The Price after discount is ₹{}\".format(product_price * 0.8))\n",
    "elif product_price>=2000 and <=3000:\n",
    "    print(\"The Price after discount is ₹{}\".format(product_price * 0.85))\n",
    "elif product_price>=1000 and <=2000:\n",
    "    print(\"The Price after discount is ₹{}\".format(product_price * 0.90))\n",
    "elif product_price<1000 and >=500:\n",
    "    print(\"The Price after discount is ₹{}\".format(product_price * 0.95))\n",
    "else:\n",
    "    print(\"Thank you for Shopping with us, Enjoy discounts from 5% to 20% for amount more than ₹500\")"
   ]
  },
  {
   "cell_type": "code",
   "execution_count": null,
   "id": "72004c16",
   "metadata": {},
   "outputs": [],
   "source": [
    "if product_price > 3000:\n",
    "    print(\"The Price after discount is ₹{}\".format(product_price * 0.8))\n",
    "elif product_price>=2000 and <=3000:\n",
    "    print(\"The Price after discount is ₹{}\".format(product_price * 0.85))\n",
    "elif product_price>=1000 and <=2000:\n",
    "    print(\"The Price after discount is ₹{}\".format(product_price * 0.90))\n",
    "elif product_price<1000 and >=500:\n",
    "    print(\"The Price after discount is ₹{}\".format(product_price * 0.95))\n",
    "else:\n",
    "    print(\"Thank you for Shopping with us, Enjoy discounts from 5% to 20% for amount more than ₹500\")"
   ]
  },
  {
   "cell_type": "markdown",
   "id": "da506a87",
   "metadata": {},
   "source": [
    "#### Nested IF statements"
   ]
  },
  {
   "cell_type": "code",
   "execution_count": null,
   "id": "b0e3fea5",
   "metadata": {},
   "outputs": [],
   "source": [
    "product_price = int(input(\"Enter the Price ₹\"))\n",
    "if product_price > 3000:\n",
    "    print(\"The Price after discount is ₹{}\".format(product_price * 0.8))\n",
    "    if product_price==3999: #nested if statement\n",
    "        print(\"congratulations, you are eligible for a free gift\")\n",
    "elif product_price>=2000 and product_price<=3000:\n",
    "    print(\"The Price after discount is ₹{}\".format(product_price * 0.85))\n",
    "elif product_price>=1000 and product_price<=2000:\n",
    "    print(\"The Price after discount is ₹{}\".format(product_price * 0.90))\n",
    "elif product_price<1000 and product_price>=500:\n",
    "    print(\"The Price after discount is ₹{}\".format(product_price * 0.95))\n",
    "else:\n",
    "    print(\"Thank you for Shopping with us, Enjoy discounts from 5% to 20% for amount more than ₹500\")\n",
    "\n",
    "    "
   ]
  },
  {
   "cell_type": "markdown",
   "id": "77e5238d",
   "metadata": {},
   "source": [
    "##### Round Off"
   ]
  },
  {
   "cell_type": "code",
   "execution_count": null,
   "id": "26da2d04",
   "metadata": {},
   "outputs": [],
   "source": [
    "product_price = int(input(\"Enter the Price ₹\"))\n",
    "if product_price > 3000:\n",
    "    discounted_price = round(product_price * 0.8, 3)\n",
    "    print(\"The Price after discount is ₹{}\".format(discounted_price))\n",
    "    if product_price == 3999: # nested if statement\n",
    "        print(\"Congratulations, you are eligible for a free gift\")\n",
    "elif product_price >= 2000 and product_price <= 3000:\n",
    "    discounted_price = round(product_price * 0.85, 3)\n",
    "    print(\"The Price after discount is ₹{}\".format(discounted_price))\n",
    "elif product_price >= 1000 and product_price <= 2000:\n",
    "    discounted_price = round(product_price * 0.90, 3)\n",
    "    print(\"The Price after discount is ₹{}\".format(discounted_price))\n",
    "elif product_price < 1000 and product_price >= 500:\n",
    "    discounted_price = round(product_price * 0.95, 3)\n",
    "    print(\"The Price after discount is ₹{}\".format(discounted_price))\n",
    "else:\n",
    "    print(\"Thank you for Shopping with us, Enjoy discounts from 5% to 20% for amount more than ₹500\")\n"
   ]
  },
  {
   "cell_type": "markdown",
   "id": "43f0ef6a",
   "metadata": {},
   "source": [
    "### Loops Statements \n",
    "1)While Loop  \n",
    "2)For Loop  \n",
    "3)Nested Loops   \n",
    "4)Loop Control ( Break, Continue, Pass) "
   ]
  },
  {
   "cell_type": "code",
   "execution_count": null,
   "id": "f33d5a8b",
   "metadata": {},
   "outputs": [],
   "source": [
    "# While Loop , While Else\n",
    "\n",
    "joining_age=25\n",
    "while joining_age<=60:\n",
    "    print(joining_age)\n",
    "    joining_age=joining_age+1\n",
    "else: \n",
    "    print(\"It is time to retire\")\n",
    "    "
   ]
  },
  {
   "cell_type": "code",
   "execution_count": null,
   "id": "966972e0",
   "metadata": {},
   "outputs": [],
   "source": [
    "### ATM Machine example for While \n",
    "\n",
    "total_amount=1000\n",
    "while total_amount!=0: # NOT EQUAL TO IS WRITTEN AS !=\n",
    "    total_amount=total_amount-500\n",
    "    print(total_amount)\n",
    "else:\n",
    "    print(\"ATM out of Money\")"
   ]
  },
  {
   "cell_type": "code",
   "execution_count": null,
   "id": "296a0363",
   "metadata": {},
   "outputs": [],
   "source": [
    "## for loop\n",
    "\n",
    "sample = [\"Kratos\",\"Dante\",\"Zeus\",\"Vergil\"]\n",
    "\n",
    "for x in sample:\n",
    "    print(x)"
   ]
  },
  {
   "cell_type": "code",
   "execution_count": null,
   "id": "50ff6fdd",
   "metadata": {},
   "outputs": [],
   "source": [
    "fruits_list =[\"Mango\",\"Banana\",\"Apple\",\"Cherry\"]\n",
    "\n",
    "for a in fruits_list:\n",
    "    print(a)\n",
    "    if a==\"Banana\":\n",
    "        print(\"bannnanaaa\")"
   ]
  },
  {
   "cell_type": "code",
   "execution_count": null,
   "id": "37e5fff2",
   "metadata": {},
   "outputs": [],
   "source": [
    "# Break\n",
    "\n",
    "fruits_list =[\"Mango\",\"Banana\",\"Apple\",\"Cherry\"]\n",
    "\n",
    "for a in fruits_list:\n",
    "    print(a)\n",
    "    if a==\"Banana\": #every if statement has to end with a '':'', : indicates that we are done with applying condition \n",
    "        break #this has to be indentated inside the if statement"
   ]
  },
  {
   "cell_type": "code",
   "execution_count": null,
   "id": "e8f308f6",
   "metadata": {},
   "outputs": [],
   "source": [
    "fruit = \"Mango\"\n",
    "for i in fruit:\n",
    "    print(i)"
   ]
  },
  {
   "cell_type": "code",
   "execution_count": null,
   "id": "422be382",
   "metadata": {},
   "outputs": [],
   "source": [
    "fruit[0]"
   ]
  },
  {
   "cell_type": "code",
   "execution_count": null,
   "id": "035a765b",
   "metadata": {},
   "outputs": [],
   "source": [
    "fruit = \"Mango\"\n",
    "for i in fruit:\n",
    "    print(i,end=' ') #end='' helps to print result in one line"
   ]
  },
  {
   "cell_type": "code",
   "execution_count": null,
   "id": "956fe324",
   "metadata": {},
   "outputs": [],
   "source": [
    "### Nested for loop and range \n",
    "\n",
    "range(1,6)"
   ]
  },
  {
   "cell_type": "code",
   "execution_count": null,
   "id": "70a0cefc",
   "metadata": {},
   "outputs": [],
   "source": [
    "for i in range(1,10): #range has a start and end parameter and a step as a third parameter, start means from where the number starts, step means skip\n",
    "    print(i)"
   ]
  },
  {
   "cell_type": "code",
   "execution_count": null,
   "id": "2eabecd4",
   "metadata": {},
   "outputs": [],
   "source": [
    "for i in range(1,10,2):\n",
    "    print(i)"
   ]
  },
  {
   "cell_type": "code",
   "execution_count": null,
   "id": "eb52635b",
   "metadata": {},
   "outputs": [],
   "source": [
    "# Nested loops\n",
    "\n",
    "n=7\n",
    "\n",
    "for i in range(0,n):\n",
    "    print(i)"
   ]
  },
  {
   "cell_type": "code",
   "execution_count": null,
   "id": "347c42b0",
   "metadata": {},
   "outputs": [],
   "source": [
    "n=9\n",
    "for i in range(0,n):\n",
    "    for j in range(0,i+1):\n",
    "        print(\"*\",end=\"\")\n",
    "    print(\"\\r\")"
   ]
  },
  {
   "cell_type": "code",
   "execution_count": null,
   "id": "3b9d7a82",
   "metadata": {},
   "outputs": [],
   "source": [
    "n = 5\n",
    "for i in range(0, n):  # loop through rows\n",
    "    for j in range(n-i-1): # loop through spaces\n",
    "        print(\" \", end=\"\") # print space and end with empty string\n",
    "    for k in range(2 * i + 1): # loop through asterisks\n",
    "        print(\"*\", end=\"\") # print asterisk and end with empty string\n",
    "    print(\"\\r\") # move to next line\n"
   ]
  },
  {
   "cell_type": "code",
   "execution_count": null,
   "id": "3d44cb80",
   "metadata": {
    "scrolled": true
   },
   "outputs": [],
   "source": [
    "n = 5\n",
    "for i in range(0, n):\n",
    "    print(\" \", end=\"\") # print space and end with empty string"
   ]
  },
  {
   "cell_type": "code",
   "execution_count": null,
   "id": "d1363d79",
   "metadata": {},
   "outputs": [],
   "source": [
    "n = 5\n",
    "for i in range(0, n):  # loop through rows\n",
    "    for j in range(n-i-1): # loop through spaces\n",
    "        print(\" \", end=\"\") # print space and end with empty string"
   ]
  },
  {
   "cell_type": "code",
   "execution_count": null,
   "id": "7c5bac75",
   "metadata": {},
   "outputs": [],
   "source": [
    " for k in range(2 * i + 1): # loop through asterisks\n",
    "        print(\"*\", end=\"\") # print asterisk and end with empty string"
   ]
  },
  {
   "cell_type": "code",
   "execution_count": null,
   "id": "566fbd7a",
   "metadata": {},
   "outputs": [],
   "source": [
    "n = 5\n",
    "for i in range(0, n):  # loop through rows\n",
    "    for j in range(n-i-1): # loop through spaces\n",
    "        print(\" \", end=\"\") # print space and end with empty string\n",
    "    for k in range(2 * i + 1): # loop through asterisks\n",
    "        print(\"*\", end=\"\") # print asterisk and end with empty string"
   ]
  },
  {
   "cell_type": "code",
   "execution_count": null,
   "id": "7b541de5",
   "metadata": {},
   "outputs": [],
   "source": [
    "n = int(input(\"Inuput value \"))\n",
    "for i in range(n):  # loop through rows\n",
    "    for j in range(n-i-1): # loop through spaces\n",
    "        print(\" \", end=\"\") # print space and end with empty string\n",
    "    for k in range(2 * i + 1): # loop through asterisks\n",
    "        print(\"*\", end=\"\") # print asterisk and end with empty string\n",
    "    print() # move to next line\n"
   ]
  },
  {
   "cell_type": "code",
   "execution_count": null,
   "id": "2561a8e7",
   "metadata": {},
   "outputs": [],
   "source": [
    "fruits_list =[\"Mango\",\"Banana\",\"Apple\",\"Cherry\"]\n",
    "\n",
    "for i in fruits_list:\n",
    "    if i==\"Apple\":\n",
    "        print(\"The fruit is apple\")\n",
    "        break\n",
    "    print(i)"
   ]
  },
  {
   "cell_type": "code",
   "execution_count": null,
   "id": "a1000a45",
   "metadata": {},
   "outputs": [],
   "source": [
    "fruits_list =[\"Mango\",\"Banana\",\"Apple\",\"Cherry\"]\n",
    "\n",
    "for i in fruits_list:\n",
    "    if i==\"Apple\":\n",
    "        print(\"The fruit is apple\")\n",
    "        pass\n",
    "    print(i)"
   ]
  },
  {
   "cell_type": "code",
   "execution_count": null,
   "id": "5287926c",
   "metadata": {},
   "outputs": [],
   "source": [
    "fruits_list =[\"Mango\",\"Banana\",\"Apple\",\"Cherry\"]\n",
    "\n",
    "for i in fruits_list:\n",
    "    if i==\"Apple\":\n",
    "        continue\n",
    "    print(i)"
   ]
  },
  {
   "cell_type": "code",
   "execution_count": null,
   "id": "3c29e7e5",
   "metadata": {},
   "outputs": [],
   "source": [
    "n=6\n",
    "for i in range(n): #removed 0,n\n",
    "    for j in range(i+1): #what happens if we remove +1 from the i\n",
    "        print(\"*\",end=\"\")\n",
    "    print(\"\\r\")"
   ]
  },
  {
   "cell_type": "code",
   "execution_count": null,
   "id": "60b9f576",
   "metadata": {},
   "outputs": [],
   "source": [
    "n=25\n",
    "range(n) \n",
    "\n",
    "\n",
    "''''this was to understand that one digit integer is enough for range to understand the start point \n",
    "and no need to enter 0 explicitly to start\n",
    "we can define start if we need the range to start in between something \n",
    "\n",
    "example \n",
    "\n",
    "n=25\n",
    "range(12,n)\n",
    "\n",
    "The start point will be 12 and end point will be from where we have defined the variable\n",
    "\n",
    "'''' \n"
   ]
  },
  {
   "cell_type": "markdown",
   "id": "f76ac049",
   "metadata": {},
   "source": [
    "## Day 3 : \n",
    "\n",
    "Operators - Arithmetic, Bitwise, Comparison And Assignment Operators, Operator's Precedence And Associativity\n",
    "Conditions (If Else, If-Elif-Else), Loops (While, For)\n",
    "Break And Continue Statement And Range Function\n",
    "\n",
    "1) Basic Data Structure In Python  \n",
    "2) String Object Basics  \n",
    "3) String Inbuilt Methods  \n",
    "4) Splitting And Joining Strings  \n",
    "5) String Format Functions  "
   ]
  },
  {
   "cell_type": "markdown",
   "id": "4e532ae5",
   "metadata": {},
   "source": [
    "## Logical Operators\n",
    "\n",
    "1. And\n",
    "2. or \n",
    "3. not\n",
    "\n",
    "This can be used mostly in comparison operator or in some loops\n",
    "\n",
    "and, or, and not are logical operators in programming that are used to perform boolean operations, i.e., operations that result in a value of either True or False.\n",
    "\n",
    "and: returns True if both operands (the expressions on either side of the and operator) are True.    \n",
    "or: returns True if at least one of the operands is True.    \n",
    "not: returns True if the operand is False, and False if the operand is True.   \n",
    "These logical operators are commonly used in conditions to control the flow of execution in a program.   \n",
    "\n",
    "\n",
    "Operands are the values or variables that the operator operates on. They are the inputs to an operation, and the result is known as the output. In an expression like 2 + 3, 2 and 3 are operands, and + is the operator."
   ]
  },
  {
   "cell_type": "code",
   "execution_count": null,
   "id": "6b6bfbd1",
   "metadata": {},
   "outputs": [],
   "source": [
    "START = 1\n",
    "STOP = 0\n",
    "\n",
    "# print the values as it is \n",
    "print(f\"Defined value of START={START}\")\n",
    "print(f\"Defined value of STOP = {STOP}\\n\")\n",
    "\n",
    "\n",
    "#if can also be written as - \n",
    "print(f\"Defined value of START={START}\")\n",
    "print(f\"Value of STOP by negating START= {int(not START)}\\n\")\n",
    "\n",
    "# alternatively \n",
    "\n",
    "print(f\"Value of START by negating STOP = {int(not STOP)}\\n\")\n",
    "print(f\"Defined value of STOP = {STOP} \\n\")"
   ]
  },
  {
   "cell_type": "code",
   "execution_count": null,
   "id": "67e07b84",
   "metadata": {},
   "outputs": [],
   "source": [
    "zero = 0\n",
    "one = 1\n",
    "\n",
    "print(f\"boolean value of no.{zero} is {bool(zero)}\")\n",
    "print(f\"bolean value of no. {one} is {bool(one)}\")\n",
    "print(f\"negation of {zero} is {not zero} and negation {one} is {not one}\")"
   ]
  },
  {
   "cell_type": "code",
   "execution_count": null,
   "id": "12f6535a",
   "metadata": {},
   "outputs": [],
   "source": [
    "bool(0)"
   ]
  },
  {
   "cell_type": "code",
   "execution_count": null,
   "id": "f6c79c61",
   "metadata": {},
   "outputs": [],
   "source": [
    "bool(1)"
   ]
  },
  {
   "cell_type": "code",
   "execution_count": null,
   "id": "a6243b05",
   "metadata": {},
   "outputs": [],
   "source": [
    "not bool (1)"
   ]
  },
  {
   "cell_type": "code",
   "execution_count": null,
   "id": "31af3174",
   "metadata": {},
   "outputs": [],
   "source": [
    "not bool (0)"
   ]
  },
  {
   "cell_type": "code",
   "execution_count": null,
   "id": "412036b7",
   "metadata": {},
   "outputs": [],
   "source": [
    "n= int(input(\"Enter number \"))\n",
    "for i in range(n):\n",
    "    for j in range (i+1):\n",
    "         print(\"*\",end=\"\")\n",
    "    print(\"\")"
   ]
  },
  {
   "cell_type": "code",
   "execution_count": null,
   "id": "8dddf852",
   "metadata": {},
   "outputs": [],
   "source": [
    "n = int(input(\"Inuput value \"))\n",
    "for i in range(n):  # loop through rows\n",
    "    print(i) # move to next line\n",
    "\n",
    "    n = int(input(\"Inuput value \"))\n",
    "for i in range(n):  # loop through rows\n",
    "    for j in range(n-i-1): # loop through spaces\n",
    "        print(\" \", end=\"\") # print space and end with empty string\n",
    "    for k in range(2 * i + 1): # loop through asterisks\n",
    "        print(\"*\", end=\"\") # print asterisk and end with empty string\n",
    "    print() # move to next line\n"
   ]
  },
  {
   "cell_type": "markdown",
   "id": "c39b0e39",
   "metadata": {},
   "source": [
    "## BODMAS\n",
    "\n",
    "BODMAS is a mnemonic acronym used to remember the order of operations in arithmetic. It stands for:\n",
    "\n",
    "Brackets: Parentheses, square brackets, and curly braces are evaluated first. If there are multiple sets of brackets, work from the innermost set to the outermost set.\n",
    "Example: (2 + 3) * 4\n",
    "\n",
    "Orders (Exponentiation): Raise the numbers to the power specified by the exponent. If there are multiple exponents, work from right to left.\n",
    "Example: 2 ** 3 ** 2\n",
    "\n",
    "Division and Multiplication: Divide and multiply from left to right. If there are both division and multiplication operations, do the multiplication first.\n",
    "Example: 8 / 2 * 3\n",
    "\n",
    "Addition and Subtraction: Add and subtract from left to right. If there are both addition and subtraction operations, do the addition first.\n",
    "Example: 2 + 3 - 4\n",
    "\n",
    "In general, the order of operations in arithmetic is applied to simplify expressions and find the correct numerical answer. It's always a good idea to use parentheses to explicitly define the order of operations in any complex expression.\n"
   ]
  },
  {
   "cell_type": "markdown",
   "id": "b432cdf3",
   "metadata": {},
   "source": [
    "Example 1: 2 + 3 * 4\n",
    "\n",
    "Step 1: Multiply 3 and 4 (3 * 4 = 12)\n",
    "Step 2: Add 2 and 12 (2 + 12 = 14)\n",
    "Result: 14\n",
    "\n",
    "\n",
    "Example 2: 10 - 3 * 2 / 4 + 5\n",
    "\n",
    "Step 1: Multiply 3 and 2 (3 * 2 = 6)\n",
    "Step 2: Divide 6 by 4 (6 / 4 = 1.5)\n",
    "Step 3: Subtract 1.5 from 10 (10 - 1.5 = 8.5)\n",
    "Step 4: Add 5 to 8.5 (8.5 + 5 = 13.5)\n",
    "Result: 13.5\n",
    "\n",
    "\n",
    "\n",
    "Example 3: (5 + 2) * 3 ** 2\n",
    "Step 1: Add 5 and 2 (5 + 2 = 7)\n",
    "Step 2: Raise 3 to the power of 2 (3 ** 2 = 9)\n",
    "Step 3: Multiply 7 and 9 (7 * 9 = 63)\n",
    "Result: 63\n",
    "\n",
    "\n"
   ]
  },
  {
   "cell_type": "code",
   "execution_count": null,
   "id": "f26213b2",
   "metadata": {},
   "outputs": [],
   "source": [
    "10 - 3 * 2 / 4 + 5"
   ]
  },
  {
   "cell_type": "markdown",
   "id": "e3d1d48a",
   "metadata": {},
   "source": [
    "### Equality Operators\n",
    "\n",
    "|Operation|Meaning|\n",
    "|-|-|\n",
    "| **is** |***a is b*** returns true if variable/identifiers a and b *points* to the *same object*|    \n",
    "| **is not**|***a is not b*** returns true if variable / identifyers a and b *points* to the *different object* |\n",
    "| **==** |***a == b*** returns true if variable/ identifyers a and b points to the different object|\n",
    "| **!=**|   a!=b returns true if variable/ identifyer a and b has different value|"
   ]
  },
  {
   "cell_type": "code",
   "execution_count": null,
   "id": "d01b00ec",
   "metadata": {},
   "outputs": [],
   "source": [
    "lst_a=[1,2,3,4]\n",
    "\n",
    "print(id(lst_a)) #this is the memory location, ID shows the memory location"
   ]
  },
  {
   "cell_type": "code",
   "execution_count": null,
   "id": "3f5fa406",
   "metadata": {},
   "outputs": [],
   "source": [
    "lst_b=lst_a"
   ]
  },
  {
   "cell_type": "code",
   "execution_count": null,
   "id": "9710b4f5",
   "metadata": {},
   "outputs": [],
   "source": [
    "id(lst_b)"
   ]
  },
  {
   "cell_type": "markdown",
   "id": "c19e8b11",
   "metadata": {},
   "source": [
    "Once the variable is stored and we assign the same variable in other variable only one memory allocation is used\n"
   ]
  },
  {
   "cell_type": "code",
   "execution_count": null,
   "id": "a600ee84",
   "metadata": {},
   "outputs": [],
   "source": [
    "str1=\"Matta\"\n",
    "str2=\"Matta\"\n",
    "\n",
    "id(str1)\n"
   ]
  },
  {
   "cell_type": "code",
   "execution_count": null,
   "id": "928cb978",
   "metadata": {},
   "outputs": [],
   "source": [
    "id(str2)"
   ]
  },
  {
   "cell_type": "markdown",
   "id": "42e6b8e6",
   "metadata": {},
   "source": [
    "If value is same in 2 different variables it is stored in the same location"
   ]
  },
  {
   "cell_type": "markdown",
   "id": "dfb2fa33",
   "metadata": {},
   "source": [
    "|Operation|Meaning|\n",
    "|:-:|:-:|\n",
    "| **<** | Less Than|\n",
    "| **<=** | Less than or equal to |\n",
    "| **>** | Greater than|\n",
    "| **>=** |greater than or equal to|"
   ]
  },
  {
   "cell_type": "code",
   "execution_count": null,
   "id": "218c6d59",
   "metadata": {},
   "outputs": [],
   "source": [
    "bike_speed_max = 150\n",
    "car_speed_max = 200\n",
    "\n",
    "print(f\"bike is faster than car: {bike_speed_max>car_speed_max}\")\n",
    "print(f\"Car is faster than biker: {bike_speed_max<car_speed_max}\")\n"
   ]
  },
  {
   "cell_type": "markdown",
   "id": "6862d59f",
   "metadata": {},
   "source": [
    "## Arithematic Operations\n",
    "|Operation|Meaning|\n",
    "|:-:|:-:|\n",
    "|**+**|Addition|\n",
    "|**-**|Subtraction|\n",
    "|**\\***|Multiplication|\n",
    "|**/**|True Division|\n",
    "|**//**|Integer Division|\n",
    "|**%**|Modulo Operator|"
   ]
  },
  {
   "cell_type": "code",
   "execution_count": null,
   "id": "8975e492",
   "metadata": {},
   "outputs": [],
   "source": [
    "a=25\n",
    "b=101"
   ]
  },
  {
   "cell_type": "code",
   "execution_count": null,
   "id": "77322b9c",
   "metadata": {},
   "outputs": [],
   "source": [
    " b+a"
   ]
  },
  {
   "cell_type": "code",
   "execution_count": null,
   "id": "cbe4ba63",
   "metadata": {},
   "outputs": [],
   "source": [
    "b*a"
   ]
  },
  {
   "cell_type": "code",
   "execution_count": null,
   "id": "dbd7c2d6",
   "metadata": {},
   "outputs": [],
   "source": [
    "b//a"
   ]
  },
  {
   "cell_type": "code",
   "execution_count": null,
   "id": "6c69b6b9",
   "metadata": {},
   "outputs": [],
   "source": [
    "b/a"
   ]
  },
  {
   "cell_type": "code",
   "execution_count": null,
   "id": "2ddc8fc1",
   "metadata": {},
   "outputs": [],
   "source": [
    "a/b"
   ]
  },
  {
   "cell_type": "code",
   "execution_count": null,
   "id": "a7fd0a14",
   "metadata": {},
   "outputs": [],
   "source": [
    "a//b"
   ]
  },
  {
   "cell_type": "code",
   "execution_count": null,
   "id": "3479b29f",
   "metadata": {},
   "outputs": [],
   "source": [
    "b//a # // Integer division, will not give decimal."
   ]
  },
  {
   "cell_type": "code",
   "execution_count": null,
   "id": "01fb53da",
   "metadata": {},
   "outputs": [],
   "source": [
    "b%a"
   ]
  },
  {
   "cell_type": "code",
   "execution_count": null,
   "id": "9cc89fce",
   "metadata": {},
   "outputs": [],
   "source": [
    "a%b"
   ]
  },
  {
   "cell_type": "markdown",
   "id": "615184bd",
   "metadata": {},
   "source": [
    "|Operation|Meaning|\n",
    "|:-:|:-:|\n",
    "|**~**|bitwise complement (prefix unary operator)|\n",
    "|**&**| bitwise and|\n",
    "|**\\|**|bitwise or|\n",
    "|**^**|bitwise exclusive-or|\n",
    "|**<<**|shift bits left,filling with zeros|\n",
    "|**>>**| shift bits right, filling in with sign bit|"
   ]
  },
  {
   "cell_type": "code",
   "execution_count": null,
   "id": "6ada0c4a",
   "metadata": {},
   "outputs": [],
   "source": [
    "var=10\n",
    "bin(var)"
   ]
  },
  {
   "cell_type": "code",
   "execution_count": null,
   "id": "9af29208",
   "metadata": {},
   "outputs": [],
   "source": [
    "b=100\n",
    "for i in range(1,b):\n",
    "    print(bin(i),end=(','))\n",
    "   "
   ]
  },
  {
   "cell_type": "code",
   "execution_count": null,
   "id": "8f52ee82",
   "metadata": {},
   "outputs": [],
   "source": [
    "DSM=\"Data Science Masters\""
   ]
  },
  {
   "cell_type": "code",
   "execution_count": null,
   "id": "be96728f",
   "metadata": {},
   "outputs": [],
   "source": [
    "DSM[0]"
   ]
  },
  {
   "cell_type": "code",
   "execution_count": null,
   "id": "6c1c64c8",
   "metadata": {},
   "outputs": [],
   "source": [
    "DSM{0}=12 # Data in String cannot be changed hence Strings are Immutable"
   ]
  },
  {
   "cell_type": "code",
   "execution_count": null,
   "id": "db9a5366",
   "metadata": {},
   "outputs": [],
   "source": [
    "DSM.title # to check inbuilt function, we need to add dot(.) in front of a string variable"
   ]
  },
  {
   "cell_type": "code",
   "execution_count": null,
   "id": "98a021ab",
   "metadata": {},
   "outputs": [],
   "source": [
    "DSM"
   ]
  },
  {
   "cell_type": "code",
   "execution_count": null,
   "id": "4b466451",
   "metadata": {},
   "outputs": [],
   "source": [
    "DSM[1:] # : is slice operation"
   ]
  },
  {
   "cell_type": "code",
   "execution_count": null,
   "id": "b64213cc",
   "metadata": {},
   "outputs": [],
   "source": [
    "DSM[::-1]"
   ]
  },
  {
   "cell_type": "code",
   "execution_count": null,
   "id": "988bd946",
   "metadata": {},
   "outputs": [],
   "source": [
    "DSM*5"
   ]
  },
  {
   "cell_type": "code",
   "execution_count": null,
   "id": "6f204646",
   "metadata": {},
   "outputs": [],
   "source": [
    "len(DSM)"
   ]
  },
  {
   "cell_type": "code",
   "execution_count": null,
   "id": "23c6b972",
   "metadata": {},
   "outputs": [],
   "source": [
    "DSM.find(\"D\")"
   ]
  },
  {
   "cell_type": "code",
   "execution_count": null,
   "id": "c0b10d97",
   "metadata": {},
   "outputs": [],
   "source": [
    "DSM.count(\"a\")"
   ]
  },
  {
   "cell_type": "code",
   "execution_count": null,
   "id": "727450ce",
   "metadata": {},
   "outputs": [],
   "source": [
    "DSM.count(\"\")"
   ]
  },
  {
   "cell_type": "code",
   "execution_count": null,
   "id": "d2be1901",
   "metadata": {},
   "outputs": [],
   "source": [
    "DSM.split(\" \")"
   ]
  },
  {
   "cell_type": "code",
   "execution_count": null,
   "id": "7b4afe2e",
   "metadata": {},
   "outputs": [],
   "source": [
    "DSM.partition(\" \" )"
   ]
  },
  {
   "cell_type": "code",
   "execution_count": null,
   "id": "53955895",
   "metadata": {},
   "outputs": [],
   "source": [
    "DSM.upper()"
   ]
  },
  {
   "cell_type": "code",
   "execution_count": null,
   "id": "8431bf4d",
   "metadata": {},
   "outputs": [],
   "source": [
    "DSM.lower()"
   ]
  },
  {
   "cell_type": "code",
   "execution_count": null,
   "id": "9c3976c5",
   "metadata": {},
   "outputs": [],
   "source": [
    "DSM.swapcase()"
   ]
  },
  {
   "cell_type": "code",
   "execution_count": null,
   "id": "0020b996",
   "metadata": {},
   "outputs": [],
   "source": [
    "r=5\n",
    "for i in range(r):\n",
    "    for j in range(i+1):\n",
    "        print(\"*\",end=\"\")\n",
    "    print('')\n",
    "        \n",
    "'''\n",
    "n= int(input(\"Enter number \"))\n",
    "for i in range(n):\n",
    "    for j in range (i+1):\n",
    "         print(\"*\",end=\"\")\n",
    "    print(\"\")\n",
    "'''"
   ]
  },
  {
   "cell_type": "code",
   "execution_count": null,
   "id": "35d6bc38",
   "metadata": {},
   "outputs": [],
   "source": [
    "1/ False"
   ]
  },
  {
   "cell_type": "code",
   "execution_count": null,
   "id": "7593c930",
   "metadata": {},
   "outputs": [],
   "source": [
    "num1= 23\n",
    "\n",
    "num2= 44\n",
    "\n",
    "num2= 2+3j\n",
    "\n",
    "num1= num2.imag\n",
    "\n",
    "num2-num1\n"
   ]
  },
  {
   "cell_type": "code",
   "execution_count": null,
   "id": "b961dbae",
   "metadata": {},
   "outputs": [],
   "source": [
    "num_100 = 100\n"
   ]
  },
  {
   "cell_type": "code",
   "execution_count": null,
   "id": "30566151",
   "metadata": {},
   "outputs": [],
   "source": [
    "Name = ‘pwskills’\n",
    "\n",
    "Name[0] = ‘P’"
   ]
  },
  {
   "cell_type": "code",
   "execution_count": null,
   "id": "fc15d883",
   "metadata": {},
   "outputs": [],
   "source": [
    "‘pwskills’.upper().lower().isalnum()"
   ]
  },
  {
   "cell_type": "code",
   "execution_count": null,
   "id": "c89cb306",
   "metadata": {},
   "outputs": [],
   "source": [
    "True/ False"
   ]
  },
  {
   "cell_type": "code",
   "execution_count": null,
   "id": "127daa6c",
   "metadata": {},
   "outputs": [],
   "source": [
    "for course in ['Data Science Masters', 'ML', 'data science masters', 'DL']:\n",
    "\n",
    "    if len(course)!= 2:\n",
    "\n",
    "        print('PwSkills' , end=' ')"
   ]
  },
  {
   "cell_type": "code",
   "execution_count": null,
   "id": "8e70b98f",
   "metadata": {},
   "outputs": [],
   "source": [
    "course=['Data Science Masters', 'ML', 'data science masters', 'DL']"
   ]
  },
  {
   "cell_type": "code",
   "execution_count": null,
   "id": "cb765192",
   "metadata": {},
   "outputs": [],
   "source": [
    "len(course)"
   ]
  },
  {
   "cell_type": "code",
   "execution_count": null,
   "id": "7a6b9410",
   "metadata": {},
   "outputs": [],
   "source": [
    "sum = 0\n",
    "for i in range(100):\n",
    "    sum += i\n",
    "    if sum > 100:\n",
    "        break\n",
    "print(sum)"
   ]
  },
  {
   "cell_type": "code",
   "execution_count": null,
   "id": "311aa1bb",
   "metadata": {},
   "outputs": [],
   "source": [
    "num = 2\n",
    "sum = 0\n",
    "while num <=20:\n",
    "    sum += num\n",
    "    num += 2\n",
    "    count+=1\n",
    "print(sum)"
   ]
  },
  {
   "cell_type": "code",
   "execution_count": null,
   "id": "85c031fd",
   "metadata": {},
   "outputs": [],
   "source": [
    "for i in 'Pwskills':\n",
    "\n",
    "    if i.lower() in ['a', 'e', 'i', 'o', 'u']:\n",
    "\n",
    "        print(True)"
   ]
  },
  {
   "cell_type": "code",
   "execution_count": null,
   "id": "4529610c",
   "metadata": {},
   "outputs": [],
   "source": [
    "list_out=[]\n",
    "\n",
    "for i in range(0,51,10):\n",
    "\n",
    "    list_out.append(str(i))\n",
    "\n",
    "print(list_out)\n"
   ]
  },
  {
   "cell_type": "code",
   "execution_count": null,
   "id": "192be0c4",
   "metadata": {},
   "outputs": [],
   "source": [
    "numbers = (1,2,3,4,5, 5,4,3,2,1)\n",
    "\n",
    "list=[]\n",
    "\n",
    "for number in numbers:\n",
    "\n",
    "   list.append(number**2)\n",
    "\n",
    "print(set(list))"
   ]
  },
  {
   "cell_type": "code",
   "execution_count": null,
   "id": "21071695",
   "metadata": {},
   "outputs": [],
   "source": [
    "course_name = \"data science masters\""
   ]
  },
  {
   "cell_type": "code",
   "execution_count": null,
   "id": "d08fdf3f",
   "metadata": {},
   "outputs": [],
   "source": [
    "course_name.title()"
   ]
  },
  {
   "cell_type": "code",
   "execution_count": null,
   "id": "3e7e63d0",
   "metadata": {},
   "outputs": [],
   "source": [
    "course_name.swapcase()"
   ]
  },
  {
   "cell_type": "code",
   "execution_count": null,
   "id": "05f1a8fd",
   "metadata": {},
   "outputs": [],
   "source": [
    "course_name.capitalize()"
   ]
  },
  {
   "cell_type": "code",
   "execution_count": null,
   "id": "aa0a7fef",
   "metadata": {},
   "outputs": [],
   "source": [
    "\" \".join(\"abcd\") # This function adds string to the argument, in this a sacce is added after every character"
   ]
  },
  {
   "cell_type": "code",
   "execution_count": null,
   "id": "2de62d30",
   "metadata": {},
   "outputs": [],
   "source": [
    "\" \".join(reversed(\"abcd\")) # Reverse function can reverse the values"
   ]
  },
  {
   "cell_type": "code",
   "execution_count": null,
   "id": "baa1f141",
   "metadata": {},
   "outputs": [],
   "source": [
    "r=reversed(\"abc\")\n",
    "list(r) # This will be helpfull in EDA, we ccan reverse strings , join string and create lists etc "
   ]
  },
  {
   "cell_type": "code",
   "execution_count": null,
   "id": "4e49a76a",
   "metadata": {},
   "outputs": [],
   "source": [
    "string_a= \" pw sklills \""
   ]
  },
  {
   "cell_type": "code",
   "execution_count": null,
   "id": "af94515a",
   "metadata": {},
   "outputs": [],
   "source": [
    "string_a.strip()"
   ]
  },
  {
   "cell_type": "code",
   "execution_count": null,
   "id": "3586b408",
   "metadata": {},
   "outputs": [],
   "source": [
    "string_a.rstrip()"
   ]
  },
  {
   "cell_type": "code",
   "execution_count": null,
   "id": "364da122",
   "metadata": {},
   "outputs": [],
   "source": [
    "string_a.lstrip()"
   ]
  },
  {
   "cell_type": "code",
   "execution_count": null,
   "id": "be834151",
   "metadata": {},
   "outputs": [],
   "source": [
    "string_a.join(' ')"
   ]
  },
  {
   "cell_type": "code",
   "execution_count": null,
   "id": "cd2879bd",
   "metadata": {},
   "outputs": [],
   "source": [
    "string= string_a.replace(\" \",\"\")\n",
    "#string=\"\".join(string_a.split())"
   ]
  },
  {
   "cell_type": "code",
   "execution_count": null,
   "id": "457423f0",
   "metadata": {},
   "outputs": [],
   "source": [
    "string"
   ]
  },
  {
   "cell_type": "code",
   "execution_count": null,
   "id": "c55ebc24",
   "metadata": {},
   "outputs": [],
   "source": [
    "print(id(string_a))\n",
    "print(id(string))\n",
    "\n",
    "# This is to show that the memory allocation or id is different here because the repllace function will create a copy of strng and then replace"
   ]
  },
  {
   "cell_type": "code",
   "execution_count": null,
   "id": "1955d3cf",
   "metadata": {},
   "outputs": [],
   "source": [
    "a= \"matta@skill.com\"\n",
    "# b= a.replace(\"skill\",\"skilltune\")\n",
    "\n",
    "b= a.replace(\"@\",\"\")\n",
    "# Classic use case to replace a email id"
   ]
  },
  {
   "cell_type": "code",
   "execution_count": null,
   "id": "f9c853a1",
   "metadata": {},
   "outputs": [],
   "source": [
    "b"
   ]
  },
  {
   "cell_type": "code",
   "execution_count": null,
   "id": "ac7c8928",
   "metadata": {},
   "outputs": [],
   "source": [
    "str= \"Welcome to Dat Scien Master Class^(^(*^&(*)))\""
   ]
  },
  {
   "cell_type": "code",
   "execution_count": null,
   "id": "4074d72d",
   "metadata": {},
   "outputs": [],
   "source": [
    "str.replace(\"Dat\",\"Data\").replace(\"Scien\",\"Science\").replace(\"^(^(*^&(*)))\",\"\") # You  can use functions twice"
   ]
  },
  {
   "cell_type": "markdown",
   "id": "f55f5218",
   "metadata": {},
   "source": [
    "##### My own test\n",
    "Write a code to take input from user, if he enters any numbers then ignore them and only save characters"
   ]
  },
  {
   "cell_type": "code",
   "execution_count": null,
   "id": "6e7482cc",
   "metadata": {},
   "outputs": [],
   "source": [
    "def char_filter():\n",
    "    input_string = input(\"Enter a string: \")\n",
    "    characters_only = ''.join([i for i in input_string if not i.isdigit()])\n",
    "    print(\"Characters only:\", characters_only)\n"
   ]
  },
  {
   "cell_type": "code",
   "execution_count": null,
   "id": "59d57aec",
   "metadata": {},
   "outputs": [],
   "source": [
    "#Here's a Python code that takes input from the user, removes any digits from the input, only keeps the characters, and imposes a character limit of 32:\n",
    "\n",
    "#python\n",
    "#Copy code\n",
    "#input_string = input(\"Enter a string (limit 32 characters): \")\n",
    "#if len(input_string) > 32:\n",
    "#    input_string = input_string[:32]\n",
    "#characters_only = ''.join([i for i in input_string if not i.isdigit()])\n",
    "#print(\"Characters only:\", characters_only)\n",
    "\n"
   ]
  },
  {
   "cell_type": "markdown",
   "id": "fe013f89",
   "metadata": {},
   "source": [
    "EDA for Python, Functions to use \n",
    "\n",
    "https://www.digitalocean.com/community/tutorials/exploratory-data-analysis-python\n",
    "https://www.analyticsvidhya.com/blog/2021/04/20-must-known-pandas-function-for-exploratory-data-analysis-eda/"
   ]
  },
  {
   "cell_type": "markdown",
   "id": "b01ada5c",
   "metadata": {},
   "source": [
    ". df.head( ): By default, it returns the first 5 rows of the Dataframe. To change the default, you may insert a value between the parenthesis to change the number of rows returned.\n",
    "\n",
    "df.tail( ): By default, it returns the last 5 rows of the Dataframe. This function is used to get the last n rows. This function returns the last n rows from the object based on position.\n",
    "\n",
    "df.info( ): It helps in getting a quick overview of the dataset. This function is used to get a brief summary of the dataframe. This method prints information about a DataFrame including the index dtype and column dtypes, non-null values, and memory usage.\n",
    "\n",
    "df.shape: It shows the number of dimensions as well as the size in each dimension. Since data frames are two-dimensional, what shape returns is the number of rows and columns.\n",
    "\n",
    "df.sample( ): Used to generate a sample randomly either row or column. It allows you to select values randomly from a Series or DataFrame. It is useful when we want to select a random sample from a distribution.\n",
    "\n",
    "df.isnull( ).sum( ): Return the number of missing values in each column\n",
    "\n",
    "df.nunique( ): Return number of unique elements in the object. It counts the number of unique entries over columns or rows. It is very useful in categorical features especially in cases where we do not know the number of categories beforehand.\n",
    "\n",
    "df.index: This function searches for a given element from the start of the list and returns the lowest index where the element appears.\n",
    "\n",
    "df.columns: Return the column labels of the dataframe.\n",
    "\n",
    "df.memory_usage( ): Returns how much memory each column uses in bytes. It is useful especially when we work with large data frames.\n",
    "\n",
    "df.dropna( ): This function is used to remove a row or a column from a dataframe that has a NaN or missing values in it.\n",
    "\n",
    "df.nlargest( ): Returns the first n rows ordered by columns in descending order\n",
    "\n",
    "df.isna( ): This function returns a dataframe filled with boolean values with true indicating missing values\n",
    "\n",
    "df.duplicated( ):  Returns a boolean Series denoting duplicate rows.\n",
    "\n",
    "value_counts( ): This function is used to get a Series containing counts of unique values. The resulting object will be in descending order so that the first element is the most frequently occurring element. It excludes missing values by default. This function comes in handy when we want to check the problem of class imbalance for a categorical variable.\n",
    "\n",
    " df.corr( ): This function is used to find the pairwise correlation of all columns in the dataframe. Any missing values are automatically excluded. For any non-numeric data type columns in the dataframe, it is ignored. This function comes in handy while we doing the Feature Selection by observing the correlation between features and target variable or between variables.\n",
    " \n",
    " df.dtypes: This function shows the data type of each column."
   ]
  },
  {
   "cell_type": "code",
   "execution_count": null,
   "id": "f8254c01",
   "metadata": {},
   "outputs": [],
   "source": [
    "course_name = \"Data Science Masters\""
   ]
  },
  {
   "cell_type": "code",
   "execution_count": null,
   "id": "36df7894",
   "metadata": {},
   "outputs": [],
   "source": [
    "len(course_name)"
   ]
  },
  {
   "cell_type": "markdown",
   "id": "f985af6f",
   "metadata": {},
   "source": [
    "Len is a inbuilt function, for loop which is written is a manual function \n"
   ]
  },
  {
   "cell_type": "code",
   "execution_count": null,
   "id": "f31c8de9",
   "metadata": {},
   "outputs": [],
   "source": [
    "def count_length(variable):\n",
    "    # Check if the variable is a string\n",
    "    if isinstance(variable, str):\n",
    "        # Initialize a counter for the length of the string\n",
    "        length = 0\n",
    "        # Iterate over each character in the string\n",
    "        for char in variable:\n",
    "            # Increment the counter for each character\n",
    "            length += 1\n",
    "        # Return the length of the string\n",
    "        return length\n",
    "\n",
    "    # Check if the variable is a list or a tuple\n",
    "    if isinstance(variable, (list, tuple)):\n",
    "        # Initialize a counter for the length of the list/tuple\n",
    "        length = 0\n",
    "        # Iterate over each item in the list/tuple\n",
    "        for item in variable:\n",
    "            # Increment the counter for each item\n",
    "            length += 1\n",
    "        # Return the length of the list/tuple\n",
    "        return length\n",
    "\n",
    "    # Check if the variable is a dictionary\n",
    "    if isinstance(variable, dict):\n",
    "        # Return the length of the dictionary\n",
    "        return len(variable)\n",
    "\n",
    "    # Return None if the variable is not a string, list/tuple, or dictionary\n",
    "    return None\n"
   ]
  },
  {
   "cell_type": "code",
   "execution_count": null,
   "id": "643ffb79",
   "metadata": {},
   "outputs": [],
   "source": [
    "matta(course_name)"
   ]
  },
  {
   "cell_type": "code",
   "execution_count": null,
   "id": "d9db846e",
   "metadata": {},
   "outputs": [],
   "source": [
    "ilu=\"I love Data Science so Much\""
   ]
  },
  {
   "cell_type": "code",
   "execution_count": null,
   "id": "83d9c41a",
   "metadata": {},
   "outputs": [],
   "source": [
    "matta(ilu)"
   ]
  },
  {
   "cell_type": "markdown",
   "id": "026fa307",
   "metadata": {},
   "source": [
    "#### List"
   ]
  },
  {
   "cell_type": "code",
   "execution_count": null,
   "id": "104c181e",
   "metadata": {},
   "outputs": [],
   "source": [
    "type([])"
   ]
  },
  {
   "cell_type": "code",
   "execution_count": null,
   "id": "c1eaccde",
   "metadata": {},
   "outputs": [],
   "source": [
    "[\"Krish\",\"Naik\",\"Pwsskills\",32]"
   ]
  },
  {
   "cell_type": "code",
   "execution_count": null,
   "id": "01f48dfd",
   "metadata": {},
   "outputs": [],
   "source": [
    "str1=\"PW Skills Data Science Masters\""
   ]
  },
  {
   "cell_type": "code",
   "execution_count": null,
   "id": "aec3f2dc",
   "metadata": {},
   "outputs": [],
   "source": [
    "h=list(str1.split(\" \"))"
   ]
  },
  {
   "cell_type": "code",
   "execution_count": null,
   "id": "6e7e4f7a",
   "metadata": {},
   "outputs": [],
   "source": [
    "str1.split(\" \")"
   ]
  },
  {
   "cell_type": "markdown",
   "id": "7e8722d7",
   "metadata": {},
   "source": [
    "##### EDA"
   ]
  },
  {
   "cell_type": "markdown",
   "id": "32e2eb65",
   "metadata": {},
   "source": [
    "Exploratory Data Analysis (EDA) is an approach to analyzing and understanding data by summarizing its main characteristics, usually with visual methods. In Python, there are several libraries that provide tools for EDA, such as pandas, matplotlib, and seaborn. Here are 20 commonly used functions for EDA in Python:\n",
    "\n",
    "read_csv: loads a CSV file into a pandas DataFrame.  \n",
    "head: returns the first n rows of a DataFrame.  \n",
    "describe: returns descriptive statistics of the DataFrame, including count, mean, standard deviation, minimum, maximum, and quartiles.  \n",
    "info: returns information about the DataFrame, including its size, data types, and memory usage.  \n",
    "value_counts: returns a histogram of the values in a column of the DataFrame.  \n",
    "plot: generates a basic plot of a DataFrame, including line plots, scatter plots, histograms, and bar plots.  \n",
    "hist: generates a histogram of the values in a column of the DataFrame.  \n",
    "boxplot: generates a box plot of the values in a column of the DataFrame.  \n",
    "scatter: generates a scatter plot of two columns of the DataFrame.   \n",
    "corr: returns the pairwise correlation matrix of the columns of the DataFrame.  \n",
    "heatmap: generates a heatmap of the correlation matrix.  \n",
    "pairplot: generates scatter plots of all columns of the DataFrame against each other.  \n",
    "jointplot: generates a scatter plot with a fitted regression line and histograms of the values in two columns of the DataFrame.  \n",
    "countplot: generates a bar plot of the count of the values in a column of the DataFrame.  \n",
    "violinplot: generates a violin plot of the values in a column of the DataFrame.  \n",
    "boxenplot: generates an extended box plot of the values in a column of the DataFrame.  \n",
    "swarmplot: generates a scatter plot with jittered points to avoid overplotting.  \n",
    "lineplot: generates a line plot of the values in a column of the DataFrame over time.  \n",
    "regplot: generates a scatter plot with a fitted regression line.  \n",
    "lmplot: generates a scatter plot with a fitted regression line and the option to group by a third variable.  \n",
    "\n",
    "These functions can be used in combination to create a variety of visualizations and understand the distribution, relationships, and patterns in the data. Additionally, there are many other functions and options available for further customization of the plots."
   ]
  },
  {
   "cell_type": "markdown",
   "id": "e83ff793",
   "metadata": {},
   "source": [
    "### Data manipulation"
   ]
  },
  {
   "cell_type": "markdown",
   "id": "f0c40e44",
   "metadata": {},
   "source": [
    "Data manipulation is the process of transforming data into a desired format for further analysis or visualization. In Python, the pandas library provides several functions for data manipulation, including:\n",
    "\n",
    "drop: removes one or more rows or columns from a DataFrame.  \n",
    "rename: renames one or more columns of a DataFrame.  \n",
    "sort_values: sorts a DataFrame by one or more columns.  \n",
    "groupby: groups the rows of a DataFrame by one or more columns and aggregates the values in each group.  \n",
    "pivot_table: creates a pivot table of a DataFrame, with one column as the index, another column as the columns, and a third column as the values.   \n",
    "melt: reshapes a DataFrame from wide to long format.  \n",
    "merge: joins two DataFrames on one or more columns.  \n",
    "concat: concatenates two or more DataFrames along a particular axis.  \n",
    "fillna: fills missing values in a DataFrame with a specified value or method.  \n",
    "dropna: removes rows or columns with missing values from a DataFrame.  \n",
    "replace: replaces values in a DataFrame with specified values.  \n",
    "cut: bins numerical data into intervals based on specified bin edges or bin widths.  \n",
    "qcut: bins numerical data into intervals based on quantiles.  \n",
    "get_dummies: creates one-hot encoding of categorical variables.  \n",
    "\n",
    "These functions can be used to clean and transform the data into a desired format for further analysis or visualization. The ability to manipulate data is an essential skill in data science and machine learning."
   ]
  },
  {
   "cell_type": "markdown",
   "id": "5eafced8",
   "metadata": {},
   "source": [
    "#### Concatenatiion\n",
    "\n",
    "Concatenation refers to combining two or more strings, lists, or arrays into a single entity. In Python, there are several ways to perform concatenation.\n",
    "\n",
    "String Concatenation:\n",
    "You can concatenate two strings using the + operator."
   ]
  },
  {
   "cell_type": "code",
   "execution_count": null,
   "id": "992242b3",
   "metadata": {},
   "outputs": [],
   "source": [
    "h"
   ]
  },
  {
   "cell_type": "code",
   "execution_count": null,
   "id": "a7fb4f8a",
   "metadata": {},
   "outputs": [],
   "source": [
    "o=h+['New']"
   ]
  },
  {
   "cell_type": "code",
   "execution_count": null,
   "id": "1847a7c7",
   "metadata": {},
   "outputs": [],
   "source": [
    "o"
   ]
  },
  {
   "cell_type": "code",
   "execution_count": null,
   "id": "b1721400",
   "metadata": {},
   "outputs": [],
   "source": [
    "o*2"
   ]
  },
  {
   "cell_type": "code",
   "execution_count": null,
   "id": "a1e9bc3b",
   "metadata": {},
   "outputs": [],
   "source": [
    "for word in h:\n",
    "    if word == 'Data':\n",
    "        print(\"Data found!\")\n",
    "        break\n",
    "else:\n",
    "    print(\"Text not found.\")\n"
   ]
  },
  {
   "cell_type": "code",
   "execution_count": null,
   "id": "b7b8ee14",
   "metadata": {},
   "outputs": [],
   "source": [
    "list_fruits=['Mango','Banana','Apple','Orange','Grapes','Dates']"
   ]
  },
  {
   "cell_type": "code",
   "execution_count": null,
   "id": "a7ee247c",
   "metadata": {},
   "outputs": [],
   "source": [
    "fruits_basket=list_fruits*6"
   ]
  },
  {
   "cell_type": "code",
   "execution_count": null,
   "id": "ff7b06c0",
   "metadata": {},
   "outputs": [],
   "source": [
    "def find_word():\n",
    "    # The `input` function takes a string as an argument, which is displayed as a prompt to the user, \n",
    "    # and returns the user's response as a string.\n",
    "    target = input(\"Enter the word you want to find: \")\n",
    "\n",
    "    # This line prompts the user for the name of the list to search in.\n",
    "    any_name = input(\"Enter the name of the list to search in: \")\n",
    "\n",
    "    # The `eval` function takes a string as an argument and evaluates it as a Python expression.\n",
    "    # In this case, it evaluates the string entered by the user as the name of a variable, and \n",
    "    # returns the value of the variable.\n",
    "    name = eval(any_name)\n",
    "\n",
    "    # Initialize a count of the target word to zero.\n",
    "    count = 0\n",
    "\n",
    "    # The `for` loop iterates over each element of the list `h`.\n",
    "    for word in name:\n",
    "        # If the current element of the list is equal to the target word,\n",
    "        if word == target:\n",
    "            # increment the count by 1.\n",
    "            count += 1\n",
    "\n",
    "    # The `if` statement checks if the count is greater than zero.\n",
    "    if count:\n",
    "        # If the count is greater than zero, print the target word and the count.\n",
    "        print(f\"{target} found {count} times! Total count: {count}\")\n",
    "    else:\n",
    "        # If the count is zero, print a message indicating that the target word was not found.\n",
    "        print(f\"{target} not found.\")\n",
    "\n",
    "# Call the `find_word` function.\n",
    "find_word()\n"
   ]
  },
  {
   "cell_type": "markdown",
   "id": "d92313b3",
   "metadata": {},
   "source": [
    "### Function find_word() Explained\n",
    "\n",
    "The program starts by defining a function called find_word, which is the main part of the program that performs the search. The function starts by asking the user to enter the word they want to search for, and then asks the user to enter the name of the list they want to search in.\n",
    "\n",
    "Once the user has entered the word and list name, the function evaluates the name of the list to get the actual list. The function then initializes a count of the target word to zero, and uses a for loop to go through each element in the list. If the current element is equal to the target word, the function increments the count by 1.\n",
    "\n",
    "After the for loop, the function checks if the count is greater than zero, which means the target word was found in the list. If the count is greater than zero, the function prints a message indicating how many times the target word was found in the list, and the total count. If the count is zero, the function prints a message indicating that the target word was not found in the list.\n",
    "\n",
    "The rest of the code defines some example lists to search in, and calls the find_word function. When you run the program, it will prompt you to enter the word you want to find and the list you want to search in, and then tell you if the word was found in the list and how many times it was found."
   ]
  },
  {
   "cell_type": "code",
   "execution_count": null,
   "id": "46017e3d",
   "metadata": {},
   "outputs": [],
   "source": [
    "find_word() # My own function"
   ]
  },
  {
   "cell_type": "code",
   "execution_count": null,
   "id": "7bf7b6ea",
   "metadata": {},
   "outputs": [],
   "source": [
    "eval('fruits_basket')"
   ]
  },
  {
   "cell_type": "markdown",
   "id": "9c9d9736",
   "metadata": {},
   "source": [
    "## Tuple, Set and Dictionary\n",
    "In Python, there are several built-in data structures that can be used to store and manipulate data: tuple, set, and dictionary. Each of these data structures has its own advantages and disadvantages, and they are used in different scenarios depending on the problem you are trying to solve.\n",
    "\n",
    "Here's a comparison of the three:\n",
    "\n",
    "Tuple: A tuple is an ordered, immutable collection of elements of any data type. Once you define a tuple, you cannot modify its contents. Tuples are typically used to store a small number of related values, where each value has a specific meaning. For example, you can use a tuple to represent a point in a two-dimensional space with (x, y).\n",
    "\n",
    "Set: A set is an unordered collection of unique elements. Unlike a list or a tuple, sets do not allow duplicates, and sets do not maintain the order of the elements. Sets are often used when you need to perform set operations, such as union, intersection, and difference. For example, you can use a set to represent a collection of unique numbers, such as prime numbers.\n",
    "\n",
    "Dictionary: A dictionary is an unordered collection of key-value pairs, where each key is unique. Dictionaries are often used to represent a collection of related values, where each key is a label for a specific value. For example, you can use a dictionary to represent a collection of countries and their capitals, where the country name is the key and the capital is the value.\n",
    "\n",
    "In summary, use a tuple if you need an ordered, immutable collection of elements, use a set if you need an unordered collection of unique elements, and use a dictionary if you need an unordered collection of key-value pairs."
   ]
  },
  {
   "cell_type": "markdown",
   "id": "379a2805",
   "metadata": {},
   "source": [
    "# in-place function or operation\n",
    "\n",
    "An in-place function or operation is a function or operation that modifies an existing data structure in-place, rather than creating a new data structure. In-place functions are efficient because they do not require additional memory to store the results, but they can also lead to unexpected changes in the data structure if not used carefully.\n",
    "\n",
    "Here are some commonly used in-place functions in Python:\n",
    "\n",
    "sort: Sorts a list in-place, so that the list elements are arranged in ascending order.\n",
    "\n",
    "reverse: Reverses a list in-place, so that the elements are arranged in the reverse order.\n",
    "\n",
    "pop: Removes an element from a list in-place, by specifying the index of the element to be removed.\n",
    "\n",
    "clear: Clears a list in-place, so that it becomes empty.\n",
    "\n",
    "del: Deletes an element from a list in-place, by specifying the index of the element to be deleted.\n",
    "\n",
    "remove: Removes an element from a list in-place, by specifying the value of the element to be removed.\n",
    "\n",
    "update: Updates the key-value pairs in a dictionary in-place, by specifying the key-value pairs to be added or updated.\n",
    "\n",
    "popitem: Removes a key-value pair from a dictionary in-place, by specifying the key of the pair to be removed.\n",
    "\n",
    "clear: Clears a dictionary in-place, so that it becomes empty.\n",
    "\n",
    "It's important to be aware of the side effects of in-place functions and operations, and to use them carefully in your code. In many cases, it may be more appropriate to create a new data structure, rather than modifying an existing one in-place."
   ]
  },
  {
   "cell_type": "code",
   "execution_count": null,
   "id": "e883e683",
   "metadata": {},
   "outputs": [],
   "source": [
    "# Define a list of numbers\n",
    "numbers = [3, 4, 1, 7, 2, 5]\n",
    "\n",
    "# Use the sort in-place function to sort the list of numbers in ascending order\n",
    "numbers.sort()\n",
    "print(\"After sorting the list in-place:\", numbers)\n",
    "\n",
    "# Use the reverse in-place function to reverse the order of the sorted list\n",
    "numbers.reverse()\n",
    "print(\"After reversing the sorted list in-place:\", numbers)\n",
    "\n",
    "# Use the pop in-place function to remove the last element from the reversed list\n",
    "last_element = numbers.pop()\n",
    "print(\"After removing the last element from the reversed list in-place:\", numbers)\n",
    "print(\"The removed last element:\", last_element)\n",
    "\n",
    "# Use the clear in-place function to clear the list of numbers\n",
    "numbers.clear()\n",
    "print(\"After clearing the list in-place:\", numbers)\n",
    "\n",
    "# Define a dictionary of items and their prices\n",
    "items = {'apple': 0.5, 'banana': 0.25, 'cherry': 0.75}\n",
    "\n",
    "# Use the update in-place function to add a new item and its price to the dictionary\n",
    "items.update({'peach': 0.6})\n",
    "print(\"After adding a new item to the dictionary in-place:\", items)\n",
    "\n",
    "# Use the popitem in-place function to remove a random item and its price from the dictionary\n",
    "random_item = items.popitem()\n",
    "print(\"After removing a random item from the dictionary in-place:\", items)\n",
    "print(\"The removed random item:\", random_item)\n",
    "\n",
    "# Use the clear in-place function to clear the dictionary of items and their prices\n",
    "items.clear()\n",
    "print(\"After clearing the dictionary in-place:\", items)\n"
   ]
  },
  {
   "cell_type": "code",
   "execution_count": null,
   "id": "03691678",
   "metadata": {},
   "outputs": [],
   "source": [
    "# Define a tuple of numbers\n",
    "numbers_tuple = (3, 4, 1, 7, 2, 5)\n",
    "\n",
    "# Print the tuple of numbers\n",
    "print(\"The tuple of numbers:\", numbers_tuple)\n",
    "\n",
    "# Try to change an element in the tuple of numbers (this will raise an error)\n",
    "# numbers_tuple[0] = 6\n",
    "\n",
    "# Define a set of numbers\n",
    "numbers_set = {3, 4, 1, 7, 2, 5}\n",
    "\n",
    "# Print the set of numbers\n",
    "print(\"The set of numbers:\", numbers_set)\n",
    "\n",
    "# Add a new number to the set of numbers (in-place operation)\n",
    "numbers_set.add(6)\n",
    "print(\"After adding a new number to the set:\", numbers_set)\n",
    "\n",
    "# Remove a number from the set of numbers (in-place operation)\n",
    "numbers_set.remove(3)\n",
    "print(\"After removing a number from the set:\", numbers_set)\n",
    "\n",
    "# Define a dictionary of items and their prices\n",
    "items = {'apple': 0.5, 'banana': 0.25, 'cherry': 0.75}\n",
    "\n",
    "# Print the dictionary of items and their prices\n",
    "print(\"The dictionary of items and their prices:\", items)\n",
    "\n",
    "# Access the price of an item from the dictionary of items\n",
    "apple_price = items['apple']\n",
    "print(\"The price of an apple:\", apple_price)\n",
    "\n",
    "# Update the price of an item in the dictionary of items (in-place operation)\n",
    "items['apple'] = 0.6\n",
    "print(\"After updating the price of an apple:\", items)\n",
    "\n",
    "# Add a new item and its price to the dictionary of items (in-place operation)\n",
    "items['peach'] = 0.7\n",
    "print(\"After adding a new item to the dictionary:\", items)\n",
    "\n",
    "# Remove an item and its price from the dictionary of items (in-place operation)\n",
    "del items['banana']\n",
    "print(\"After removing an item from the dictionary:\", items)\n"
   ]
  },
  {
   "cell_type": "markdown",
   "id": "7903bd45",
   "metadata": {},
   "source": [
    "##### Difference between Lists and Dictionary\n",
    "lists and dictionaries are not the same in Python.\n",
    "\n",
    "Lists are ordered collections of elements, where each element can be of any type and has a specific index in the list. Lists are defined using square brackets []. For example:\n",
    "\n",
    "css\n",
    "Copy code\n",
    "fruits = ['apple', 'banana', 'cherry']\n",
    "Dictionaries, on the other hand, are unordered collections of key-value pairs, where each key is associated with a value. Dictionaries are defined using curly braces {}. For example:\n",
    "\n",
    "python\n",
    "Copy code\n",
    "prices = {'apple': 0.5, 'banana': 0.25, 'cherry': 0.75}\n",
    "In the example, the keys 'apple', 'banana', and 'cherry' are associated with the values 0.5, 0.25, and 0.75 respectively.\n",
    "\n",
    "Both lists and dictionaries have their own use cases and advantages, and you can choose to use one or the other depending on your specific requirements."
   ]
  },
  {
   "cell_type": "markdown",
   "id": "5a365b2c",
   "metadata": {},
   "source": [
    "#### Nested List \n",
    "\n",
    "A matrix is a two-dimensional data structure used in mathematics and computer science to represent and manipulate arrays of numbers, symbols, or expressions. In a matrix, each element is identified by its row and column indices, and each row and column has a specific length.\n",
    "\n",
    "Matrices can be used to represent a wide range of mathematical objects and operations, such as linear transformations, systems of linear equations, and more. They are also used in various fields, such as image processing, machine learning, and data analysis, to store and manipulate data sets.\n",
    "\n",
    "In programming, matrices can be represented using lists of lists in Python. For example:\n",
    "\n",
    "lua\n",
    "Copy code\n",
    "matrix = [[1, 2, 3], [4, 5, 6], [7, 8, 9]]\n",
    "In this example, matrix is a 3x3 matrix with 3 rows and 3 columns. Each element in the matrix is identified by its row and column indices, for example, the element in the first row and first column is 1.\n"
   ]
  },
  {
   "cell_type": "markdown",
   "id": "7ff24e77",
   "metadata": {},
   "source": [
    "A nested list is a list that contains elements that are also lists. In other words, it is a list of lists.\n",
    "\n",
    "For example:\n",
    "\n",
    "lua\n",
    "Copy code\n",
    "nested_list = [[1, 2, 3], [4, 5, 6], [7, 8, 9]]\n",
    "In this example, nested_list is a list that contains 3 lists, each of which represents a row in a matrix. Each of the nested lists can be accessed by its index in the outer list, for example, nested_list[0] would return the first list [1, 2, 3].\n",
    "\n",
    "Nested lists can be used to represent more complex data structures and can be manipulated and processed using various programming techniques, such as loops, conditional statements, and functions."
   ]
  },
  {
   "cell_type": "markdown",
   "id": "e5e585bf",
   "metadata": {},
   "source": [
    "### List Comprehension\n",
    "\n",
    "\n",
    "List comprehension is a concise way to create a list in Python. It's a powerful tool that allows you to generate a list by processing each element of an existing list or any other iterable object, such as a string, dictionary, or set.\n",
    "\n",
    "In a list comprehension, you specify the processing logic for each element within square brackets []. The result of this processing is a new list.\n",
    "\n",
    "Here's an example:\n",
    "\n",
    "numbers = [1, 2, 3, 4, 5]\n",
    "squared_numbers = [num**2 for num in numbers]\n",
    "print(squared_numbers)\n",
    "In this example, the list numbers is a list of integers, and the list comprehension [num**2 for num in numbers] calculates the square of each number in the list. The result is stored in a new list squared_numbers. When this code is run, it will output [1, 4, 9, 16, 25].\n",
    "\n",
    "List comprehensions can also include conditions, so you can select only specific elements from the list based on certain criteria. Here's an example:\n",
    "\n",
    "\n",
    "numbers = [1, 2, 3, 4, 5]\n",
    "even_numbers = [num for num in numbers if num % 2 == 0]\n",
    "print(even_numbers)\n",
    "In this example, the list comprehension [num for num in numbers if num % 2 == 0] generates a new list even_numbers that contains only the even numbers from the list numbers. When this code is run, it will output [2, 4]."
   ]
  },
  {
   "cell_type": "markdown",
   "id": "a43a8d22",
   "metadata": {},
   "source": [
    "#### Examples and Explanations\n",
    "\n",
    "Imagine you have a list of numbers, like [1, 2, 3, 4, 5]. You want to create a new list that only contains the even numbers from this list. This line of code does exactly that.\n",
    "\n",
    "The part for num in numbers means that we are looping through each number in the list numbers.\n",
    "\n",
    "The part if num % 2 == 0 is a condition that checks if a number is even. The operator % returns the remainder of a division, and == 0 checks if the result is zero. So, num % 2 == 0 is true only if the number is even (divisible by 2 with no remainder).\n",
    "\n",
    "Finally, the part num inside the square brackets [] is the result of the processing. It adds each even number to the new list.\n",
    "\n",
    "So, the whole line [num for num in numbers if num % 2 == 0] generates a new list that contains only the even numbers from the original list numbers."
   ]
  },
  {
   "cell_type": "code",
   "execution_count": null,
   "id": "ac809fed",
   "metadata": {},
   "outputs": [],
   "source": [
    "def char_filter():\n",
    "    input_string = input(\"Enter a string: \")\n",
    "    characters_only = ''.join([i for i in input_string if not i.isdigit()]) #List Comprehension\n",
    "    print(\"Characters only:\", characters_only)\n"
   ]
  },
  {
   "cell_type": "code",
   "execution_count": null,
   "id": "6e486c77",
   "metadata": {},
   "outputs": [],
   "source": [
    "jack=[1,2,3,4,5,6,7,8,9]"
   ]
  },
  {
   "cell_type": "code",
   "execution_count": null,
   "id": "51e70d94",
   "metadata": {},
   "outputs": [],
   "source": [
    "jill=jack*3"
   ]
  },
  {
   "cell_type": "markdown",
   "id": "d29231e9",
   "metadata": {},
   "source": [
    "#### Next Line Of Code Explained: \n",
    "\n",
    "This line of code is a list comprehension in Python. It creates a new list from an existing list called jill.\n",
    "\n",
    "The part for num in jill means that we are looping through each element in the list jill.\n",
    "\n",
    "The part if num % 2 == 0 is a condition that checks if an element is even. The operator % returns the remainder of a division, and == 0 checks if the result is zero. So, num % 2 == 0 is true only if the element is even (divisible by 2 with no remainder).\n",
    "\n",
    "Finally, the part num inside the square brackets [] is the result of the processing. It adds each even element to the new list.\n",
    "\n",
    "So, the whole line [num for num in jill if num % 2 == 0] generates a new list that contains only the even elements from the original list jill."
   ]
  },
  {
   "cell_type": "code",
   "execution_count": null,
   "id": "2ae9fd68",
   "metadata": {},
   "outputs": [],
   "source": [
    "[num for num in jill if num%2==0]"
   ]
  },
  {
   "cell_type": "code",
   "execution_count": null,
   "id": "a5e6416e",
   "metadata": {},
   "outputs": [],
   "source": [
    "sum([num for num in jill if num%2==0])"
   ]
  },
  {
   "cell_type": "code",
   "execution_count": null,
   "id": "c020c9cb",
   "metadata": {},
   "outputs": [],
   "source": [
    "even_sum=sum"
   ]
  },
  {
   "cell_type": "code",
   "execution_count": null,
   "id": "90ec9543",
   "metadata": {},
   "outputs": [],
   "source": [
    "odd=[num for num in jill if num%2!=0]"
   ]
  },
  {
   "cell_type": "code",
   "execution_count": null,
   "id": "7963a946",
   "metadata": {},
   "outputs": [],
   "source": [
    "odd_sum=sum([num for num in jill if num%2!=0])"
   ]
  },
  {
   "cell_type": "code",
   "execution_count": null,
   "id": "0002f979",
   "metadata": {},
   "outputs": [],
   "source": [
    "odd_sum"
   ]
  },
  {
   "cell_type": "code",
   "execution_count": null,
   "id": "f29c9a35",
   "metadata": {},
   "outputs": [],
   "source": [
    "odd"
   ]
  },
  {
   "cell_type": "code",
   "execution_count": null,
   "id": "04ae9a04",
   "metadata": {},
   "outputs": [],
   "source": [
    "Square = [num**2 for num in jill]"
   ]
  },
  {
   "cell_type": "code",
   "execution_count": null,
   "id": "d7f25800",
   "metadata": {},
   "outputs": [],
   "source": [
    "Square"
   ]
  },
  {
   "cell_type": "code",
   "execution_count": null,
   "id": "4b07865b",
   "metadata": {},
   "outputs": [],
   "source": [
    "words = ['apple','banana','cherry','date']\n",
    "[word[0] for word in words]"
   ]
  },
  {
   "cell_type": "code",
   "execution_count": null,
   "id": "56c45129",
   "metadata": {},
   "outputs": [],
   "source": [
    "lists = [[1,2,3],[4,5,6],[7,8,9]]\n",
    "\n"
   ]
  },
  {
   "cell_type": "code",
   "execution_count": null,
   "id": "630416e3",
   "metadata": {},
   "outputs": [],
   "source": [
    "[num for sublist in lists for num in sublist]"
   ]
  },
  {
   "cell_type": "markdown",
   "id": "4fc102d5",
   "metadata": {},
   "source": [
    " Let's break down this line of code step by step:\n",
    "\n",
    "for sublist in lists: This is the first for loop and it loops through each sublist in the list lists.\n",
    "\n",
    "for num in sublist: This is the second for loop and it loops through each element in the current sublist.\n",
    "\n",
    "num: This is the result of the processing. It adds each element from the sublists to a new list.\n",
    "\n",
    "Let's assume lists is a list of lists and it looks like this: lists = [[1, 2, 3], [4, 5, 6], [7, 8, 9]].\n",
    "\n",
    "Here's how the iteration would occur:\n",
    "\n",
    "The first iteration of the first for loop: sublist is assigned the first sublist [1, 2, 3] in lists.\n",
    "\n",
    "The first iteration of the second for loop: num is assigned the first element 1 in sublist.\n",
    "\n",
    "The num is added to the new list.\n",
    "\n",
    "The second iteration of the second for loop: num is assigned the second element 2 in sublist.\n",
    "\n",
    "The num is added to the new list.\n",
    "\n",
    "The third iteration of the second for loop: num is assigned the third element 3 in sublist.\n",
    "\n",
    "The num is added to the new list.\n",
    "\n",
    "The second iteration of the first for loop: sublist is assigned the second sublist [4, 5, 6] in lists.\n",
    "\n",
    "The first iteration of the second for loop: num is assigned the first element 4 in sublist.\n",
    "\n",
    "The num is added to the new list.\n",
    "\n",
    "... and so on, until all elements in all sublists have been processed.\n",
    "\n",
    "So, the whole line [num for sublist in lists for num in sublist] generates a new list that contains all elements from all sublists in the original list lists."
   ]
  },
  {
   "cell_type": "markdown",
   "id": "12250b02",
   "metadata": {},
   "source": [
    "### Simple explanation\n",
    "\n",
    "The line of code provided is an example of a nested list comprehension. It is a compact way to process elements from a nested list, meaning a list that contains other lists as elements.\n",
    "\n",
    "In this example, lists is the outer list that contains other lists as its elements. The inner lists are referred to as sublists.\n",
    "\n",
    "The code uses a nested for loop inside the list comprehension to iterate over each sublist and the elements within it.\n",
    "\n",
    "The first for loop for sublist in lists iterates over the elements of the outer list lists.  \n",
    "For each iteration, the second for loop for num in sublist iterates over the elements of the sublist.  \n",
    "For each iteration of the second for loop, the element num is extracted and added to a new list, which is defined inside the square brackets [].  \n",
    "This process continues for all elements in all sublists until all elements are extracted and added to the new list.  \n",
    "So, the code creates a new list that contains all elements from all sublists, and this new list is assigned to a variable. \n",
    "\n",
    "\n",
    "\n",
    "The square brackets [] are used to define a list in Python. In this code, the list comprehension is used to generate a new list, rather than explicitly declaring a new list using list() or by simply assigning a list of values to a variable.\n",
    "\n",
    "The expression inside the square brackets [num for sublist in lists for num in sublist] defines the elements that will be in the list. Each iteration of the for loops generates one element in the list, and the list comprehension generates the final list by concatenating all the elements generated in each iteration.\n",
    "\n",
    "So, in this code, the list comprehension is used as a shorthand way to generate a new list from the elements of nested lists, and the result is stored in the new list defined inside the square brackets []."
   ]
  },
  {
   "cell_type": "code",
   "execution_count": null,
   "id": "abf31f9b",
   "metadata": {},
   "outputs": [],
   "source": [
    "# Assignment \n",
    "# Create a list of only prime numbers from a given list\n",
    "\n",
    "newlist=[1,2,3,4,5,6,7,8,9,10]\n",
    "[num % i == 0 for num in newlist for num in num]"
   ]
  },
  {
   "cell_type": "code",
   "execution_count": null,
   "id": "4c5549d3",
   "metadata": {},
   "outputs": [],
   "source": [
    "newlist = [1, 2, 3, 4, 5, 6, 7, 8, 9, 10]\n",
    "\n",
    "def is_prime(num):\n",
    "    if num < 2:\n",
    "        return False\n",
    "    for i in range(2, num):\n",
    "        if num % i == 0:\n",
    "            return False\n",
    "    return True\n",
    "\n",
    "prime_numbers = [num for num in newlist if is_prime(num)]\n",
    "print(\"Prime numbers in the given list:\", prime_numbers)\n"
   ]
  },
  {
   "cell_type": "code",
   "execution_count": null,
   "id": "933ef2cd",
   "metadata": {},
   "outputs": [],
   "source": [
    "newlist = [1,2,3,4,5,6,7,8,9,10]\n",
    "prime_numbers = [num for num in newlist if all(num % i != 0 for i in range(2, num))]\n",
    "print(prime_numbers)\n"
   ]
  },
  {
   "cell_type": "code",
   "execution_count": null,
   "id": "722f2cb6",
   "metadata": {},
   "outputs": [],
   "source": [
    "newlist = [1, 2, 3, 4, 5, 6, 7, 8, 9, 10]\n",
    "# This line creates a list called newlist which contains 10 numbers."
   ]
  },
  {
   "cell_type": "markdown",
   "id": "2bcd97f2",
   "metadata": {},
   "source": [
    "This is a function definition for is_prime that takes in a parameter num. The function checks if the number is less than 2, and if it is, returns False."
   ]
  },
  {
   "cell_type": "code",
   "execution_count": null,
   "id": "352287b7",
   "metadata": {},
   "outputs": [],
   "source": [
    "def is_prime(num):\n",
    "    if num < 2:\n",
    "        return False"
   ]
  },
  {
   "cell_type": "markdown",
   "id": "6f993c46",
   "metadata": {},
   "source": [
    "This is a for loop that starts from 2 and goes up to one less than num. For each iteration of the loop, it checks if num is divisible by i (i.e., if num % i == 0). If it is, it returns False, since num is not a prime number."
   ]
  },
  {
   "cell_type": "code",
   "execution_count": null,
   "id": "a4d0bd21",
   "metadata": {},
   "outputs": [],
   "source": [
    "    for i in range(2, num):\n",
    "        if num % i == 0:\n",
    "            return False\n"
   ]
  },
  {
   "cell_type": "code",
   "execution_count": null,
   "id": "d9249d0f",
   "metadata": {},
   "outputs": [],
   "source": [
    "    return True\n"
   ]
  },
  {
   "cell_type": "markdown",
   "id": "adada11d",
   "metadata": {},
   "source": [
    "If the loop finishes without returning False, then the function returns True, indicating that num is a prime number."
   ]
  },
  {
   "cell_type": "code",
   "execution_count": null,
   "id": "773c3a2d",
   "metadata": {},
   "outputs": [],
   "source": [
    "prime_numbers = [num for num in newlist if is_prime(num)]\n"
   ]
  },
  {
   "cell_type": "markdown",
   "id": "5238031b",
   "metadata": {},
   "source": [
    "This line uses list comprehension to create a list prime_numbers containing only the numbers from newlist that are prime. The is_prime function is called for each number in newlist, and if it returns True, the number is included in prime_numbers."
   ]
  },
  {
   "cell_type": "code",
   "execution_count": null,
   "id": "e3a43995",
   "metadata": {},
   "outputs": [],
   "source": [
    "num3 = [1,2,3,4,5]"
   ]
  },
  {
   "cell_type": "code",
   "execution_count": null,
   "id": "d85fcbd6",
   "metadata": {},
   "outputs": [],
   "source": [
    "def combo():\n",
    "    combinations = [(i,j) for i in num3 for j in num3]\n",
    "    print(combinations)\n",
    "\n",
    "combo()\n"
   ]
  },
  {
   "cell_type": "markdown",
   "id": "4d290445",
   "metadata": {},
   "source": [
    "Convert a given number of seconds into hours, minutes, and seconds:\n"
   ]
  },
  {
   "cell_type": "code",
   "execution_count": null,
   "id": "1a7a47a6",
   "metadata": {},
   "outputs": [],
   "source": [
    "seconds = int(input(\"Enter the number of seconds: \"))\n",
    "hours = seconds // 3600\n",
    "seconds = seconds % 3600\n",
    "minutes = seconds // 60\n",
    "seconds = seconds % 60\n",
    "print(\"Time in hh:mm:ss format:\", hours, \":\", minutes, \":\", seconds)\n"
   ]
  },
  {
   "cell_type": "markdown",
   "id": "859ea12a",
   "metadata": {},
   "source": [
    "Print the multiplication table of a given number:\n"
   ]
  },
  {
   "cell_type": "code",
   "execution_count": null,
   "id": "6d35dace",
   "metadata": {},
   "outputs": [],
   "source": [
    "num = int(input(\"Enter a number to generate its multiplication table: \"))\n",
    "for i in range(1, 11):\n",
    "    print(num, \"x\", i, \"=\", num * i)\n"
   ]
  },
  {
   "cell_type": "markdown",
   "id": "f2bbbbad",
   "metadata": {},
   "source": [
    "Print the factorial of a given number:\n"
   ]
  },
  {
   "cell_type": "code",
   "execution_count": null,
   "id": "37623e87",
   "metadata": {},
   "outputs": [],
   "source": [
    "num = int(input(\"Enter a number to find its factorial: \"))\n",
    "factorial = 1\n",
    "for i in range(1, num + 1):\n",
    "    factorial = factorial * i\n",
    "print(\"The factorial of\", num, \"is:\", factorial)\n"
   ]
  },
  {
   "cell_type": "markdown",
   "id": "43bb8564",
   "metadata": {},
   "source": [
    "Find the largest of three numbers:\n"
   ]
  },
  {
   "cell_type": "code",
   "execution_count": null,
   "id": "50be78b6",
   "metadata": {},
   "outputs": [],
   "source": [
    "num1 = int(input(\"Enter the first number: \"))\n",
    "num2 = int(input(\"Enter the second number: \"))\n",
    "num3 = int(input(\"Enter the third number: \"))\n",
    "largest = max(num1, num2, num3)\n",
    "print(\"The largest number is:\", largest)\n"
   ]
  },
  {
   "cell_type": "markdown",
   "id": "e465e538",
   "metadata": {},
   "source": [
    "Generate the first n prime numbers:\n"
   ]
  },
  {
   "cell_type": "code",
   "execution_count": null,
   "id": "71e3ea00",
   "metadata": {},
   "outputs": [],
   "source": [
    "n = int(input(\"Enter the number of prime numbers to generate: \"))\n",
    "count = 0\n",
    "num = 2\n",
    "while count < n:\n",
    "    for i in range(2, num):\n",
    "        if num % i == 0:\n",
    "            break\n",
    "    else:\n",
    "        print(num, end=\" \")\n",
    "        count += 1\n",
    "    num += 1\n"
   ]
  },
  {
   "cell_type": "markdown",
   "id": "9f520a2f",
   "metadata": {},
   "source": [
    "Flatten a nested list:\n",
    "Write a function that takes a nested list as input and returns a flattened list. For example, given the input [[1, 2, 3], [4, 5, 6], [7, 8, 9]], the function should return [1, 2, 3, 4, 5, 6, 7, 8, 9]."
   ]
  },
  {
   "cell_type": "code",
   "execution_count": null,
   "id": "2cf84317",
   "metadata": {},
   "outputs": [],
   "source": [
    "n = [[1, 2, 3], [4, 5, 6], [7, 8, 9]]"
   ]
  },
  {
   "cell_type": "code",
   "execution_count": null,
   "id": "6ab02225",
   "metadata": {},
   "outputs": [],
   "source": [
    "def flatlist(n):\n",
    "    num = [num for num in n for num in num]\n",
    "    print(num)"
   ]
  },
  {
   "cell_type": "code",
   "execution_count": null,
   "id": "60223532",
   "metadata": {},
   "outputs": [],
   "source": [
    "flatlist(n)"
   ]
  },
  {
   "cell_type": "markdown",
   "id": "8b541f59",
   "metadata": {},
   "source": [
    "Count the number of occurrences of an element in a nested list:\n",
    "Write a function that takes a nested list and an element as input, and returns the number of occurrences of the element in the nested list. For example, given the input [[1, 2, 3], [4, 5, 6], [7, 8, 9]], 5, the function should return 1."
   ]
  },
  {
   "cell_type": "markdown",
   "id": "1fcc9663",
   "metadata": {},
   "source": [
    "Transpose a matrix represented as a nested list:\n",
    "Write a function that takes a matrix represented as a nested list as input, and returns the transposed matrix. For example, given the input [[1, 2, 3], [4, 5, 6], [7, 8, 9]], the function should return [[1, 4, 7], [2, 5, 8], [3, 6, 9]]."
   ]
  },
  {
   "cell_type": "code",
   "execution_count": null,
   "id": "537d2b5e",
   "metadata": {},
   "outputs": [],
   "source": [
    "def transpose_matrix(matrix):\n",
    "    # Get the number of rows and columns in the matrix\n",
    "    rows = len(matrix)\n",
    "    cols = len(matrix[0])\n",
    "\n",
    "    # Initialize the transposed matrix with zeros\n",
    "    transposed_matrix = [[0 for row in range(rows)] for col in range(cols)]\n",
    "\n",
    "    # Transpose the matrix by swapping elements\n",
    "    for row in range(rows):\n",
    "        for col in range(cols):\n",
    "            transposed_matrix[col][row] = matrix[row][col]\n",
    "\n",
    "    return transposed_matrix\n",
    "\n",
    "matrix = [[1, 2, 3], [4, 5, 6], [7, 8, 9]]\n",
    "print(transpose_matrix(matrix))\n"
   ]
  },
  {
   "cell_type": "code",
   "execution_count": null,
   "id": "2fe246c4",
   "metadata": {},
   "outputs": [],
   "source": [
    "def transpose_matrix(matrix):\n",
    "    return [list(row) for row in zip(*matrix)]\n",
    "\n",
    "matrix = [[1, 2, 3], [4, 5, 6], [7, 8, 9]]\n",
    "print(transpose_matrix(matrix))\n"
   ]
  },
  {
   "cell_type": "code",
   "execution_count": null,
   "id": "4d3b505d",
   "metadata": {},
   "outputs": [],
   "source": [
    "s_list = [[1, 2, 3], [4, 5, 6], [7, 8, 9]]"
   ]
  },
  {
   "cell_type": "code",
   "execution_count": null,
   "id": "4cd60fae",
   "metadata": {},
   "outputs": [],
   "source": [
    "def transpose_matrix(matrix):\n",
    "    return [list(row) for row in zip(*matrix)]\n",
    "\n",
    "var_name = input(\"Enter the name of the variable that contains the matrix: \")\n",
    "matrix = eval(var_name)\n",
    "\n",
    "transposed_matrix = transpose_matrix(matrix)\n",
    "\n"
   ]
  },
  {
   "cell_type": "code",
   "execution_count": null,
   "id": "569149f6",
   "metadata": {},
   "outputs": [],
   "source": [
    "transpose_matrix(s_list)"
   ]
  },
  {
   "cell_type": "code",
   "execution_count": null,
   "id": "2d3235c1",
   "metadata": {},
   "outputs": [],
   "source": [
    "def multiTable():\n",
    "    num = int(input(\"Enter a number to generate its multiplication table: \"))\n",
    "    for i in range(1, 11):\n",
    "        print(num, \"x\", i, \"=\", num * i)\n"
   ]
  },
  {
   "cell_type": "code",
   "execution_count": null,
   "id": "656be92b",
   "metadata": {},
   "outputs": [],
   "source": [
    "multiTable()"
   ]
  },
  {
   "cell_type": "markdown",
   "id": "d296a8a0",
   "metadata": {},
   "source": [
    "***** Practice quiz *****"
   ]
  },
  {
   "cell_type": "code",
   "execution_count": null,
   "id": "37b16b22",
   "metadata": {},
   "outputs": [],
   "source": [
    "\"pwskills\"[::-1].upper().replace(\"SLLIKSWP\", \"pwskills\").islower()"
   ]
  },
  {
   "cell_type": "code",
   "execution_count": null,
   "id": "6ec3876e",
   "metadata": {},
   "outputs": [],
   "source": [
    "string = \"p w s k i l l s\"\n",
    "\n",
    "\" \".join(string.replace(\" \", \"\"))\n"
   ]
  },
  {
   "cell_type": "markdown",
   "id": "05d553b2",
   "metadata": {},
   "source": [
    "***** ends Practice quiz ***** "
   ]
  },
  {
   "cell_type": "markdown",
   "id": "e5139f75",
   "metadata": {},
   "source": [
    "### Tuples\n",
    "\n",
    "A tuple in Python is an immutable ordered collection of elements, often used to store related values together. You can think of tuples as similar to lists, but with some key differences:\n",
    "\n",
    "Immutable: Once a tuple is created, its elements cannot be changed.\n",
    "Ordered: The elements in a tuple have a defined order, and this order is maintained when accessing the elements.\n",
    "Lightweight: Tuples are more lightweight than lists, and are often faster to create and process.\n",
    "\n",
    "\n",
    "A tuple is an immutable, ordered collection of elements separated by commas and enclosed in parentheses. Each element in a tuple can be of any data type and can be referred to by its index position in the tuple. Tuples are commonly used to store multiple items of related data, such as the (x, y) coordinates of a point in a two-dimensional plane. Because tuples are immutable, their elements cannot be altered after they are created.\n",
    "\n",
    "Tuples are similar to lists in Python, but with some key differences. A tuple is an ordered, immutable, and heterogeneous collection of elements. Each element in a tuple can be of a different data type, and once a tuple is created, its elements cannot be changed or modified.\n",
    "\n",
    "In a tuple, elements are separated by commas. Each element in a tuple is assigned an index starting from 0, which can be used to access the elements in the tuple. For example, the first element in the tuple has an index of 0, the second element has an index of 1, and so on.\n",
    "\n",
    "Tuples are useful when you want to group related data together that you don't want to change. They can be used to store multiple pieces of information such as a person's name, age, and address, or a collection of items with specific quantities. Tuples can also be used to store sets of related variables, and they can be accessed, sorted, and sliced just like lists."
   ]
  },
  {
   "cell_type": "markdown",
   "id": "73b032e3",
   "metadata": {},
   "source": [
    "*** Example ***\n",
    "\n",
    "Example 1: Creating a simple tuple\n",
    "A tuple is created by enclosing elements within parentheses\n",
    "The elements in a tuple can be of different data types\n",
    "The elements in a tuple are separated by a comma\n",
    "t = (1, \"hello\", 3.14)\n",
    "print(t) # Output: (1, \"hello\", 3.14)\n",
    "\n",
    "Example 2: Accessing elements in a tuple\n",
    "The elements in a tuple can be accessed using their index\n",
    "The index starts from 0\n",
    "print(t[0]) # Output: 1\n",
    "print(t[1]) # Output: \"hello\"\n",
    "\n",
    "Example 3: Modifying elements in a tuple\n",
    "Tuples are immutable, which means that their elements cannot be modified\n",
    "Attempting to modify elements in a tuple will result in a TypeError\n",
    "t[0] = 2 # This will result in a TypeError: 'tuple' object does not support item assignment\n",
    "Example 4: Tuple concatenation\n",
    "Two tuples can be concatenated using the '+' operator\n",
    "t2 = (4, 5, 6)\n",
    "t3 = t + t2\n",
    "print(t3) # Output: (1, \"hello\", 3.14, 4, 5, 6)\n",
    "\n",
    "Example 5: Finding the length of a tuple\n",
    "The length of a tuple can be found using the len() function\n",
    "print(len(t3)) # Output: 6\n",
    "\n",
    "Example 6: Slicing a tuple\n",
    "Just like strings, tuples can also be sliced\n",
    "print(t3[1:4]) # Output: (\"hello\", 3.14, 4)"
   ]
  },
  {
   "cell_type": "code",
   "execution_count": null,
   "id": "01675876",
   "metadata": {},
   "outputs": [],
   "source": [
    "# A tuple is an immutable sequence of values, separated by commas and enclosed in parentheses\n",
    "my_tuple = (1, 2, 3, 4, 5)\n",
    "\n",
    "# You can access individual values in a tuple by indexing it, just like a list\n",
    "print(my_tuple[0]) # Output: 1\n",
    "\n",
    "# However, unlike lists, you cannot change the values in a tuple\n",
    "# Attempting to reassign a value in a tuple will raise a TypeError\n",
    "# my_tuple[0] = 6 # This will raise a TypeError\n",
    "\n",
    "# Tuples can be used for multiple values that are related to each other, for example, a point in a 2D space\n",
    "point = (2, 3)\n",
    "\n",
    "# Tuples can also be used to return multiple values from a function\n",
    "def divide(a, b):\n",
    "    return a / b, a % b\n",
    "\n",
    "quotient, remainder = divide(10, 3)\n",
    "print(quotient) # Output: 3.333333\n",
    "print(remainder) # Output: 1\n"
   ]
  },
  {
   "cell_type": "markdown",
   "id": "3fafac43",
   "metadata": {},
   "source": [
    "*** Sets *** \n",
    "\n",
    "\n",
    "Sets are unordered and mutable collections of unique elements of any type\n",
    "You cannot access elements of a set using indices\n",
    "You can define a set by enclosing elements in {} or using the set() constructor\n",
    "You can add, remove or modify elements of a set\n",
    "s = {1, 2, 3}\n",
    "print(1 in s) # prints True\n",
    "s.add(4)\n",
    "print(s) # prints {1, 2, 3, 4}\n",
    "\n",
    "*** A Set is a collection data type which is unordered and unchangeable, it does not allow duplicates. In Python, sets are declared using the set() function or using curly braces {}. The elements in a set are separated by a comma (,). ***\n",
    "\n",
    "\n",
    "*** Removing duplicates: Sets are commonly used to remove duplicates from a collection of items, as sets only allow unique elements.\n",
    "\n",
    "Membership testing: Set membership testing is an efficient operation, making sets an ideal choice for checking if an element is present in a collection.\n",
    "\n",
    "Set operations: Sets can be used to perform set operations such as union, intersection, difference, and symmetric difference.\n",
    "\n",
    "Mathematically-oriented operations: Since sets are mathematically well-defined structures, they can be used to perform operations like the power set, Cartesian product, and others.\n",
    "\n",
    "Dictionary keys: Sets can also be used as keys in dictionaries, allowing for an efficient implementation of key-value mappings.\n",
    "\n",
    "Determining commonality between two or more sets: Sets can be used to determine the commonality between two or more sets of data, such as common elements, shared items, and overlapping data.***\n",
    "\n",
    "\n",
    "\n",
    "*** You can use tuples inside set but not lits, because list is immutable and Tuples are mutable ***  \n",
    "*** Sets will remove all duplicates from the elements and only save unique values ***  \n",
    "*** You cannot index search in Sets  ***"
   ]
  },
  {
   "cell_type": "code",
   "execution_count": null,
   "id": "19be8afd",
   "metadata": {},
   "outputs": [],
   "source": [
    "# A set is an unordered collection of unique elements\n",
    "# They are defined by using the set() function, or by enclosing a comma-separated list of values in curly braces\n",
    "my_set = {1, 2, 3, 4, 5}\n",
    "\n",
    "# You can add elements to a set using the add() method, or by using union\n",
    "my_set.add(6)\n",
    "my_set |= {7, 8}\n",
    "\n",
    "# You can remove elements from a set using the remove() method, or by using difference\n",
    "my_set.remove(3)\n",
    "my_set -= {4, 5}\n",
    "\n",
    "# You can check for membership in a set using the in operator\n",
    "print(2 in my_set) # Output: True\n",
    "print(3 in my_set) # Output: False\n",
    "\n",
    "# Sets are commonly used to perform set operations, such as union, intersection, and difference\n",
    "even_numbers = {2, 4, 6, 8}\n",
    "odd_numbers = {1, 3, 5, 7}\n",
    "all_numbers = even_numbers | odd_numbers\n",
    "print(all_numbers) # Output: {1, 2, 3, 4, 5, 6, 7, 8}\n"
   ]
  },
  {
   "cell_type": "code",
   "execution_count": null,
   "id": "13a3b4ca",
   "metadata": {},
   "outputs": [],
   "source": [
    "# Removing Duplicates \n",
    "\n",
    "# Define a list with duplicates\n",
    "duplicate_list = [1, 2, 3, 4, 5, 1, 2, 3, 4]\n",
    "\n",
    "# Convert the list to a set to remove duplicates\n",
    "unique_set = set(duplicate_list)\n",
    "\n",
    "# The set only contains unique elements\n",
    "print(unique_set) # Output: {1, 2, 3, 4, 5}\n"
   ]
  },
  {
   "cell_type": "code",
   "execution_count": null,
   "id": "acefff47",
   "metadata": {},
   "outputs": [],
   "source": [
    "# Membership Testing : \n",
    "\n",
    "# Define a set\n",
    "alphabets = {'a', 'b', 'c', 'd', 'e'}\n",
    "\n",
    "# Test if an element exists in the set\n",
    "print('a' in alphabets) # Output: True\n",
    "print('f' in alphabets) # Output: False\n"
   ]
  },
  {
   "cell_type": "code",
   "execution_count": null,
   "id": "50904494",
   "metadata": {},
   "outputs": [],
   "source": [
    "# Set Operation : \n",
    "\n",
    "# Define two sets\n",
    "set1 = {1, 2, 3, 4, 5}\n",
    "set2 = {4, 5, 6, 7, 8}\n",
    "\n",
    "# Find the union of two sets\n",
    "print(set1 | set2) # Output: {1, 2, 3, 4, 5, 6, 7, 8}\n",
    "\n",
    "# Find the intersection of two sets\n",
    "print(set1 & set2) # Output: {4, 5}\n",
    "\n",
    "# Find the difference of two sets\n",
    "print(set1 - set2) # Output: {1, 2, 3}\n"
   ]
  },
  {
   "cell_type": "code",
   "execution_count": null,
   "id": "baec845d",
   "metadata": {},
   "outputs": [],
   "source": []
  },
  {
   "cell_type": "markdown",
   "id": "18467cf3",
   "metadata": {},
   "source": [
    "*** Dictionary ***\n",
    "\n",
    "Dictionaries are collections of key-value pairs, where keys must be unique and values can be of any type\n",
    "You cannot access elements of a dictionary using indices\n",
    "You can define a dictionary by enclosing key-value pairs in {} or using the dict() constructor\n",
    "You can add, remove, or modify key-value pairs in a dictionary\n",
    "d = {'key1': 1, 'key2': 2, 'key3': 3}\n",
    "print(d['key1']) # prints 1\n",
    "d['key1'] = 4\n",
    "print(d) # prints {'key1': 4, 'key2': 2, 'key3': 3}\n",
    "\n",
    "Use cases for dictionaries:\n",
    "\n",
    "Storing user information - dictionaries can be used to store information about a user such as name, age, address, and contact number in a structured way.\n",
    "\n",
    "Counting frequency of words - dictionaries can be used to store words as keys and the frequency of their occurrence as values.\n",
    "\n",
    "Representing a graph - dictionaries can be used to represent a graph as a collection of vertices (keys) and edges (values)\n",
    "\n",
    "Grouping data by categories - dictionaries can be used to group data by categories, with the categories serving as keys and the data points as values.\n",
    "\n",
    "Creating a telephone directory - dictionaries can be used to create a telephone directory, with names as keys and phone numbers as values.\n",
    "\n",
    "Implementing a cache - dictionaries can be used to implement a cache, with the keys representing the cache items and the values representing their data.\n",
    "\n",
    "Indexing data for fast retrieval - dictionaries can be used to index data for fast retrieval, with keys serving as indices and values representing the data items."
   ]
  },
  {
   "cell_type": "markdown",
   "id": "5f61d9c5",
   "metadata": {},
   "source": [
    "*** Explanation for Dictionary contd ***\n",
    "\n",
    "In a dictionary, keys and values are separated by a comma (,), and each key-value pair is separated by a colon (:). The key is used to identify the specific value in the dictionary, while the value is the information associated with that key. The key-value pairs are enclosed in curly braces {}.\n",
    "\n",
    "For example:\n",
    "\n",
    "python\n",
    "Copy code\n",
    "person = {'name': 'John Doe', 'age': 30, 'address': '123 Main St.'}\n",
    "In this example, 'name', 'age', and 'address' are the keys and 'John Doe', 30, and '123 Main St.' are the values. The comma separates each key-value pair in the dictionary. The colon separates the key and its corresponding value."
   ]
  },
  {
   "cell_type": "code",
   "execution_count": null,
   "id": "8ee04ccd",
   "metadata": {},
   "outputs": [],
   "source": [
    "# A dictionary is an unordered collection of key-value pairs\n",
    "# They are defined by using the dict() function, or by enclosing a comma-separated list of key-value pairs in curly braces\n",
    "my_dict = {'name': 'John Doe', 'age': 30, 'city': 'New York'}\n",
    "\n",
    "# You can access the value associated with a key by indexing the dictionary with the key\n",
    "print(my_dict['name']) # Output: 'John Doe'\n",
    "\n",
    "# You can also use the get() method to access a value, which will return None if the key is not in the dictionary\n",
    "print(my_dict.get('email')) # Output: None\n",
    "\n",
    "# You can add a key-value pair to a dictionary by simply assigning a value to a new key\n",
    "my_dict['email'] = 'john.doe@example.com'\n",
    "\n",
    "# You can delete a key-value pair from a dictionary using the del statement\n"
   ]
  },
  {
   "cell_type": "code",
   "execution_count": null,
   "id": "825732d9",
   "metadata": {},
   "outputs": [],
   "source": [
    "# Define a dictionary\n",
    "person = {'name': 'John Doe', 'age': 35, 'country': 'USA'}\n",
    "\n",
    "# Access the elements using key\n",
    "print(\"Name:\", person['name'])\n",
    "print(\"Age:\", person['age'])\n",
    "print(\"Country:\", person['country'])\n",
    "\n",
    "# Adding an element to the dictionary\n",
    "person['email'] = 'johndoe@email.com'\n",
    "print(\"\\nDictionary after adding an element:\", person)\n",
    "\n",
    "# Updating an element in the dictionary\n",
    "person['age'] = 36\n",
    "print(\"\\nDictionary after updating an element:\", person)\n",
    "\n",
    "# Removing an element from the dictionary\n",
    "del person['email']\n",
    "print(\"\\nDictionary after removing an element:\", person)\n",
    "\n",
    "# Loop through the dictionary\n",
    "print(\"\\nElements in the dictionary:\")\n",
    "for key in person:\n",
    "    print(key, \":\", person[key])\n"
   ]
  },
  {
   "cell_type": "markdown",
   "id": "3d5f6b57",
   "metadata": {},
   "source": [
    "*** Some Random Practice *** "
   ]
  },
  {
   "cell_type": "code",
   "execution_count": null,
   "id": "f080049e",
   "metadata": {},
   "outputs": [],
   "source": [
    "# Define the database\n",
    "x = [\n",
    "    {\"id\": 1, \"name\": \"John\", \"age\": 30, \"city\": \"New York\"},\n",
    "    {\"id\": 2, \"name\": \"Jane\", \"age\": 25, \"city\": \"London\"},\n",
    "    {\"id\": 3, \"name\": \"Jim\", \"age\": 35, \"city\": \"Paris\"},\n",
    "    {\"id\": 4, \"name\": \"Jake\", \"age\": 28, \"city\": \"Berlin\"},\n",
    "]\n",
    "\n",
    "# Sort the data by age in ascending order\n",
    "sorted_x = sorted(x, key=lambda row: row[\"age\"])\n",
    "\n",
    "# Print the sorted data\n",
    "for row in sorted_x:\n",
    "    print(row)\n",
    "\n",
    "# Output:\n",
    "# {'id': 2, 'name': 'Jane', 'age': 25, 'city': 'London'}\n",
    "# {'id': 4, 'name': 'Jake', 'age': 28, 'city': 'Berlin'}\n",
    "# {'id': 1, 'name': 'John', 'age': 30, 'city': 'New York'}\n",
    "# {'id': 3, 'name': 'Jim', 'age': 35, 'city': 'Paris'}\n"
   ]
  },
  {
   "cell_type": "markdown",
   "id": "5617e5a7",
   "metadata": {},
   "source": [
    "*** Practice Ends ***"
   ]
  },
  {
   "cell_type": "markdown",
   "id": "e5b8ef15",
   "metadata": {},
   "source": [
    "*** Lists *** \n",
    "\n",
    "Lists are ordered and mutable collections of elements of any type\n",
    "You can access elements of a list using indices\n",
    "You can define a list by enclosing elements in []\n",
    "You can modify elements of a list after they are defined\n",
    "l = [1, 2, 3]\n",
    "print(l[0]) # prints 1\n",
    "l[0] = 4\n",
    "print(l) # prints [4, 2, 3]\n",
    "\n",
    "\n",
    "\n",
    "Use Case 1: Storing collections of items\n",
    "\n",
    "Lists can be used to store collections of items such as strings, numbers, or even other lists.\n",
    "For example:   "
   ]
  },
  {
   "cell_type": "markdown",
   "id": "32c52291",
   "metadata": {},
   "source": [
    "*** Explanation for Lists ***\n",
    "\n",
    "A list is a collection data type which is ordered and changeable, it allows duplicates. In Python, lists are declared using square brackets []. The elements in a list are separated by a comma (,)."
   ]
  },
  {
   "cell_type": "code",
   "execution_count": null,
   "id": "502dae37",
   "metadata": {},
   "outputs": [],
   "source": [
    "\n",
    "fruits = ['apple', 'banana', 'cherry']\n",
    "print(fruits)\n",
    "# Output: ['apple', 'banana', 'cherry']\n"
   ]
  },
  {
   "cell_type": "markdown",
   "id": "a8e787c7",
   "metadata": {},
   "source": [
    "Use Case 2: Iterating over elements\n",
    "\n",
    "Lists are iterable, which means that we can easily iterate over the elements of a list using a for loop.\n",
    "For example:"
   ]
  },
  {
   "cell_type": "code",
   "execution_count": null,
   "id": "56d618cd",
   "metadata": {},
   "outputs": [],
   "source": [
    "numbers = [1, 2, 3, 4, 5]\n",
    "for num in numbers:\n",
    "    print(num)\n",
    "# Output:\n",
    "# 1\n",
    "# 2\n",
    "# 3\n",
    "# 4\n",
    "# 5\n"
   ]
  },
  {
   "cell_type": "markdown",
   "id": "c7cf7944",
   "metadata": {},
   "source": [
    "Use Case 3: Adding or removing elements\n",
    "\n",
    "Lists are dynamic in nature, which means that we can add or remove elements to/from the list easily.\n",
    "For example:"
   ]
  },
  {
   "cell_type": "code",
   "execution_count": null,
   "id": "15f29c04",
   "metadata": {},
   "outputs": [],
   "source": [
    "fruits = ['apple', 'banana', 'cherry']\n",
    "fruits.append('orange')\n",
    "print(fruits)\n",
    "# Output: ['apple', 'banana', 'cherry', 'orange']\n",
    "\n",
    "fruits.remove('banana')\n",
    "print(fruits)\n",
    "# Output: ['apple', 'cherry', 'orange']\n"
   ]
  },
  {
   "cell_type": "markdown",
   "id": "3c7ebeab",
   "metadata": {},
   "source": [
    "Use Case 4: Sorting elements\n",
    "\n",
    "Lists can be sorted easily using the sort() method.\n",
    "For example:"
   ]
  },
  {
   "cell_type": "code",
   "execution_count": null,
   "id": "96da9ff3",
   "metadata": {},
   "outputs": [],
   "source": [
    "numbers = [4, 1, 5, 3, 2]\n",
    "numbers.sort()\n",
    "print(numbers)\n",
    "# Output: [1, 2, 3, 4, 5]\n"
   ]
  },
  {
   "cell_type": "markdown",
   "id": "0d984861",
   "metadata": {},
   "source": [
    "*** Tuples, Lists , Dictionary and Sets Summary ***"
   ]
  },
  {
   "cell_type": "markdown",
   "id": "8050bc9a",
   "metadata": {},
   "source": [
    "|Data Structure|Definition|Syntax|Separator|Values Mutable?|\n",
    "| :---------|:---------|:---------|:---------|:---------|\n",
    "|Tuples|An ordered, immutable collection of elements|(element1, element2, ...)|Comma|No|\n",
    "|Lists|An ordered, mutable collection of elements|[element1, element2, ...]|Comma|Yes|\n",
    "|Sets|An unordered collection of unique elements|{element1, element2, ...}|None|No|\n",
    "|Dictionaries|A collection of key-value pairs|{key1: value1, key2: value2, ...}|Colon|Yes|\n"
   ]
  },
  {
   "cell_type": "markdown",
   "id": "89a23bd9",
   "metadata": {},
   "source": [
    "***Tuples:***\n",
    "\n",
    "Syntax: Elements are separated by commas and enclosed in parentheses.\n",
    "Example: (1, 2, 3, 4)\n",
    "Uses: Tuples are typically used for representing a collection of values with a specific meaning, such as a coordinate in a 3D space.  \n",
    "Properties: Tuples are immutable, ordered, and allow duplicates.  \n",
    "\n",
    "\n",
    "***Lists:***\n",
    "\n",
    "Syntax: Elements are separated by commas and enclosed in square brackets.  \n",
    "Example: [1, 2, 3, 4]  \n",
    "Uses: Lists are commonly used to store a collection of items where the order is important and duplicates are allowed.  \n",
    "Properties: Lists are mutable, ordered, and allow duplicates.  \n",
    "\n",
    "\n",
    "\n",
    "***Dictionaries:***\n",
    "Syntax: A dictionary is comprised of key-value pairs separated by a colon and enclosed in curly braces. Each key-value pair is separated by a comma.    \n",
    "Example: {'name': 'John', 'age': 32}  \n",
    "Uses: Dictionaries are used to store key-value pairs, where the keys are used to access the values.  \n",
    "Properties: Dictionaries are mutable, unordered, and do not allow duplicate keys.  \n",
    "\n",
    "*** Note : ***\n",
    "In Python, values in a dictionary can be of any data type including strings. When the value is a string, it must be enclosed within quotes (' ') to indicate that it is a string. This is similar to how strings are represented in Python, and it helps the interpreter differentiate between string values and other data types like integers or floating-point numbers. The quotes also help identify the start and end of the string value within the dictionary.\n",
    "\n",
    "***Sets:***\n",
    "Syntax: Elements are separated by commas and enclosed in curly braces.  \n",
    "Example: {1, 2, 3, 4}  \n",
    "Uses: Sets are used to store unique items and to perform set operations like union, intersection, etc.  \n",
    "Properties: Sets are mutable, unordered, and do not allow duplicates.  "
   ]
  },
  {
   "cell_type": "markdown",
   "id": "a5fc9208",
   "metadata": {},
   "source": [
    "*** Tuples:*** \n",
    "Tuples are ordered, immutable collections of elements. They are defined using parentheses () and the elements are separated by commas ,.\n",
    "\n",
    "Syntax:\n",
    "\n",
    "t = (element_1, element_2, ..., element_n)\n",
    "\n",
    "\n",
    "***Lists:***\n",
    "Lists are ordered, mutable collections of elements. They are defined using square brackets [] and the elements are separated by commas ,.\n",
    "\n",
    "Syntax:\n",
    "\n",
    "l = [element_1, element_2, ..., element_n]\n",
    "\n",
    "\n",
    "***Dictionaries:***\n",
    "Dictionaries are unordered collections of key-value pairs. They are defined using curly braces {} and each key-value pair is separated by a colon :, with each pair separated by commas ,.\n",
    "\n",
    "Syntax:\n",
    "d = {key_1: value_1, key_2: value_2, ..., key_n: value_n}\n",
    "\n",
    "***Sets:***\n",
    "Sets are unordered collections of unique elements. They are defined using curly braces {} or the set() function, and the elements are separated by commas ,.\n",
    "\n",
    "Syntax:\n",
    "s = {element_1, element_2, ..., element_n}\n",
    "Note that sets can only contain unique elements, so duplicates are automatically removed."
   ]
  },
  {
   "cell_type": "markdown",
   "id": "10c75a45",
   "metadata": {},
   "source": [
    "***More on Dictionary***"
   ]
  },
  {
   "cell_type": "markdown",
   "id": "43de5860",
   "metadata": {},
   "source": [
    "A dictionary can be created in different ways using different permutations and combinations of values and keys. Here are a few ways to create a dictionary:\n",
    "\n",
    "Using Curly Braces {}:\n",
    "python\n",
    "Copy code\n",
    "my_dict = {}\n",
    "my_dict = {'key1': 'value1', 'key2': 'value2'}\n",
    "\n",
    "\n",
    "Using the dict constructor:\n",
    "python\n",
    "Copy code\n",
    "my_dict = dict()\n",
    "my_dict = dict(key1='value1', key2='value2')\n",
    "\n",
    "\n",
    "Using a list of tuples:\n",
    "python\n",
    "Copy code\n",
    "my_dict = dict([('key1', 'value1'), ('key2', 'value2')])\n",
    "\n",
    "\n",
    "Using keyword arguments:\n",
    "python\n",
    "Copy code\n",
    "my_dict = dict(key1='value1', key2='value2')\n",
    "\n",
    "\n",
    "These are the basic ways of creating a dictionary in Python. You can use any of the above methods to create a dictionary based on your requirement and convenience."
   ]
  },
  {
   "cell_type": "code",
   "execution_count": null,
   "id": "87afce9b",
   "metadata": {},
   "outputs": [],
   "source": [
    "d1={'key':(1,2,3,4,5)} # Tuples inside the dictionary "
   ]
  },
  {
   "cell_type": "code",
   "execution_count": null,
   "id": "e5576b08",
   "metadata": {},
   "outputs": [],
   "source": [
    "d1"
   ]
  },
  {
   "cell_type": "code",
   "execution_count": null,
   "id": "a32e7810",
   "metadata": {},
   "outputs": [],
   "source": [
    "d2= {'key': {'name':'Matta','Class':'DSM'}} # Dictionary inside dictionary "
   ]
  },
  {
   "cell_type": "markdown",
   "id": "cddb205f",
   "metadata": {},
   "source": [
    "*** Nested Dictionary***\n",
    "\n",
    "A nested dictionary is a dictionary that contains one or more dictionaries as its values. The keys in a nested dictionary can also be dictionaries, creating a nested structure of multiple levels of dictionaries inside each other. For example, consider the following nested dictionary:\n",
    "\n",
    "python\n"
   ]
  },
  {
   "cell_type": "code",
   "execution_count": null,
   "id": "03f60cdd",
   "metadata": {},
   "outputs": [],
   "source": [
    "d2"
   ]
  },
  {
   "cell_type": "code",
   "execution_count": null,
   "id": "be587e7a",
   "metadata": {},
   "outputs": [],
   "source": [
    "dict = {\n",
    "    \"key1\": {\n",
    "        \"subkey1\": \"value1\",\n",
    "        \"subkey2\": \"value2\"\n",
    "    },\n",
    "    \"key2\": {\n",
    "        \"subkey3\": \"value3\",\n",
    "        \"subkey4\": \"value4\"\n",
    "    }\n",
    "}\n"
   ]
  },
  {
   "cell_type": "markdown",
   "id": "e416af31",
   "metadata": {},
   "source": [
    "***List cannot be used inside the dictionary *** \n",
    "\n",
    "The reason for this is that lists are mutable in Python, which means they can be changed after they have been created. However, dictionary keys must be immutable, so that the key-value pairs can be looked up efficiently. Commonly used immutable data types as keys in dictionaries include strings, numbers, and tuples."
   ]
  },
  {
   "cell_type": "code",
   "execution_count": null,
   "id": "7d04e604",
   "metadata": {},
   "outputs": [],
   "source": [
    "d3 = {'Key': ['Hi':1, 'Bye':2, 'Cya':3]} # List cannot be used inside the dictionary"
   ]
  },
  {
   "cell_type": "code",
   "execution_count": null,
   "id": "828658bb",
   "metadata": {},
   "outputs": [],
   "source": [
    "nested_dict = {\n",
    "    'person1': {'name': 'John', 'age': 32, 'city': 'New York'},\n",
    "    'person2': {'name': 'Jane', 'age': 27, 'city': 'London'},\n",
    "    'person3': {'name': 'Jim', 'age': 42, 'city': 'Paris'},\n",
    "}\n",
    "\n",
    "# retrieve the value for the key 'name' for person1\n",
    "name = nested_dict.get('person1', {}).get('name', 'Key not found')\n",
    "print(name) # Output: John\n",
    "\n",
    "# retrieve the value for the key 'hometown' for person1 (which is not present)\n",
    "hometown = nested_dict.get('person1', {}).get('hometown', 'Key not found')\n",
    "print(hometown) # Output: Key not found\n"
   ]
  },
  {
   "cell_type": "code",
   "execution_count": null,
   "id": "f4345f06",
   "metadata": {},
   "outputs": [],
   "source": [
    "nested_dict = {\n",
    "    \"First Level\": {\n",
    "        \"A\": 1,\n",
    "        \"B\": 2,\n",
    "        \"C\": 3\n",
    "    },\n",
    "    \"Second Level\": {\n",
    "        \"D\": 4,\n",
    "        \"E\": 5,\n",
    "        \"F\": 6\n",
    "    },\n",
    "    \"Third Level\": {\n",
    "        \"G\": 7,\n",
    "        \"H\": 8,\n",
    "        \"I\": 9,\n",
    "        \"J\": 10\n",
    "    }\n",
    "}\n"
   ]
  },
  {
   "cell_type": "code",
   "execution_count": null,
   "id": "8d92b7c7",
   "metadata": {},
   "outputs": [],
   "source": [
    "nested_dict['First Level']"
   ]
  },
  {
   "cell_type": "code",
   "execution_count": null,
   "id": "cb33f9df",
   "metadata": {},
   "outputs": [],
   "source": [
    "nested_dict['First Level']['A']"
   ]
  },
  {
   "cell_type": "code",
   "execution_count": null,
   "id": "4a184649",
   "metadata": {},
   "outputs": [],
   "source": [
    "del nested_dict['Third Level']['J'] # deleting a specific key inside the nested dictionary, once you delete and if rerun this code you will get an Key error"
   ]
  },
  {
   "cell_type": "code",
   "execution_count": null,
   "id": "3a6c6fef",
   "metadata": {},
   "outputs": [],
   "source": [
    "nested_dict"
   ]
  },
  {
   "cell_type": "markdown",
   "id": "13e19dcc",
   "metadata": {},
   "source": [
    "### Inbuilt functions for Dictionary, Tuples, Lists and Sets \n"
   ]
  },
  {
   "cell_type": "markdown",
   "id": "8694b163",
   "metadata": {},
   "source": [
    "Dictionaries:\n",
    "\n",
    "| Method | Description |\n",
    "| --- | --- |\n",
    "| `d.clear()` | Removes all items from the dictionary |\n",
    "| `d.copy()` | Returns a shallow copy of the dictionary |\n",
    "| `d.get(key[, default])` | Returns the value of the specified key. If the key is not found, it returns the default value |\n",
    "| `d.items()` | Returns a view object that displays a list of all the items in the dictionary |\n",
    "| `d.keys()` | Returns a view object that displays a list of all the keys in the dictionary |\n",
    "| `d.pop(key[, default])` | Removes and returns the value of the specified key. If the key is not found, it returns the default value |\n",
    "| `d.update(other)` | Adds the items from another dictionary to the current dictionary |\n",
    "| `d.values()` | Returns a view object that displays a list of all the values in the dictionary |\n",
    "\n",
    "\n",
    "\n",
    "\n",
    "|Inbuilt Function/Method|Description|\n",
    "|:-|:-|\n",
    "|dict()|Constructor method to create a dictionary|\n",
    "|clear()|Remove all elements from the dictionary|\n",
    "|copy()|Return a shallow copy of the dictionary|\n",
    "|fromkeys(seq[, v])|Create a new dictionary with keys from seq and value equal to v (defaults to None)|\n",
    "|get(key[, default])|Return the value for key if key is in the dictionary, else default|\n",
    "|items()|Return a new object of the dictionary's items in (key, value) format|\n",
    "|keys()|Return a new object of the dictionary's keys|\n",
    "|pop(key[, default])|Remove specified key and return the corresponding value. If key is not found, default is returned if specified, otherwise KeyError is raised|\n",
    "|popitem()|Remove and return an arbitrary (key, value) pair from the dictionary|\n",
    "|setdefault(key[, default])|If key is in the dictionary, return its value. If not, insert key with a value of default and return default (defaults to None)|\n",
    "|update([other])|Update the dictionary with the key/value pairs from other, overwriting existing keys|\n",
    "|values()|Return a new object of the dictionary's values|\n",
    "\n",
    "\n",
    "Lists:\n",
    "\n",
    "| Method | Description |\n",
    "| --- | --- |\n",
    "| `l.append(item)` | Adds an item to the end of the list |\n",
    "| `l.clear()` | Removes all items from the list |\n",
    "| `l.copy()` | Returns a shallow copy of the list |\n",
    "| `l.count(item)` | Returns the number of occurrences of the specified item in the list |\n",
    "| `l.extend(iterable)` | Adds all items from an iterable to the end of the list |\n",
    "| `l.index(item)` | Returns the index of the first occurrence of the specified item in the list |\n",
    "| `l.insert(index, item)` | Inserts an item at the specified index |\n",
    "| `l.pop([index])` | Removes and returns the item at the specified index. If the index is not specified, it removes and returns the last item |\n",
    "| `l.remove(item)` | Removes the first occurrence of the specified item in the list |\n",
    "| `l.reverse()` | Reverses the order of the items in the list |\n",
    "| `l.sort([key, reverse])` | Sorts the items in the list. The `key` parameter is a function that extracts a comparison key from each item. The `reverse` parameter is a boolean value that determines whether the sort order is ascending (default) or descending |\n",
    "\n",
    "Sets:\n",
    "\n",
    "| Method | Description |\n",
    "| --- | --- |\n",
    "| `s.add(item)` | Adds an item to the set |\n",
    "| `s.clear()` | Removes all items from the set |\n",
    "| `s.copy()` | Returns a shallow copy of the set |\n",
    "| `s.difference(other)` | Returns a set that contains items that are in the current set but not in the other set |\n",
    "| `s.difference_update(other)` | Removes items that are in the other set from the current set |\n",
    "| `s.discard(item)` | Removes the specified item from the set |\n",
    "| `s.intersection(other)` | Returns a set that contains items that are in both the current set and the other set |\n",
    "| `s.intersection_update(other)` |\n",
    "\n",
    "Tuples:\n",
    "\n",
    "| Method or Function | Description |\n",
    "| ------------------ | ----------- |\n",
    "| len(tuple)         | Returns the number of elements in the tuple |\n",
    "| max(tuple)         | Returns the maximum element in the tuple |\n",
    "| min(tuple)         | Returns the minimum element in the tuple |\n",
    "| tuple()            | Converts an iterable to a tuple |\n",
    "| tuple(iterable)    | Returns a tuple with elements from the specified iterable |\n"
   ]
  },
  {
   "cell_type": "markdown",
   "id": "05c041fb",
   "metadata": {},
   "source": [
    "***Some Dictionary functions in actions***"
   ]
  },
  {
   "cell_type": "code",
   "execution_count": null,
   "id": "4ca14c34",
   "metadata": {},
   "outputs": [],
   "source": [
    "d.fromkeys((1,2,3),('a','b','c'))"
   ]
  },
  {
   "cell_type": "code",
   "execution_count": null,
   "id": "32f6ba77",
   "metadata": {},
   "outputs": [],
   "source": [
    "d5 = {'Key1':'Value','Key2':'Value2','Key3':'Value3'}\n",
    "d6 = {'Key4':'Value4','Key5':'Value5','Key6':'Value6'}"
   ]
  },
  {
   "cell_type": "code",
   "execution_count": null,
   "id": "93922c62",
   "metadata": {},
   "outputs": [],
   "source": [
    "d5.update(d6)"
   ]
  },
  {
   "cell_type": "code",
   "execution_count": null,
   "id": "ccf63b26",
   "metadata": {},
   "outputs": [],
   "source": [
    "d5"
   ]
  },
  {
   "cell_type": "markdown",
   "id": "ce815f71",
   "metadata": {},
   "source": [
    "*** Similarities between Functions : ***"
   ]
  },
  {
   "cell_type": "code",
   "execution_count": null,
   "id": "15c665b1",
   "metadata": {},
   "outputs": [],
   "source": [
    "d5.get('Key1') # is similar as d5['Key1']"
   ]
  },
  {
   "cell_type": "code",
   "execution_count": null,
   "id": "56c5c8b8",
   "metadata": {},
   "outputs": [],
   "source": [
    "d5['Key1'] # difference between these are that in this method it will give error, if value does not exsist, but in get - it will not display anything"
   ]
  },
  {
   "cell_type": "markdown",
   "id": "7ffc45ba",
   "metadata": {},
   "source": [
    "*** Dictionary Comprehensions***\n",
    "\n",
    "Dictionary comprehension is a concise and readable way to create new dictionaries in Python. It allows you to generate a new dictionary based on an existing iterable object, such as a list or tuple. The basic syntax of a dictionary comprehension is as follows:\n",
    "\n",
    "In this expression, key_expression and value_expression are expressions that generate the keys and values for the new dictionary, and iterable is an existing iterable object that provides the values. The expression is evaluated for each item in the iterable, and a new dictionary is generated based on the keys and values generated by the expressions.\n",
    "\n",
    "Dictionary comprehensions are similar to list comprehensions, but instead of creating lists, they create dictionaries. They can be used to perform transformations on data and to generate new dictionaries based on existing data.\n",
    "\n",
    "{key_expression : value_expression for item in iterable}\n"
   ]
  },
  {
   "cell_type": "code",
   "execution_count": null,
   "id": "456a5fd1",
   "metadata": {},
   "outputs": [],
   "source": [
    "{i:i**2 for i in range(1,11)}\n",
    "\n",
    "# range will create this data : list(range(1,11)) - [1, 2, 3, 4, 5, 6, 7, 8, 9, 10]\n",
    "# it iterates through range in first iteration and then squares its values and stores inside as key value pair\n"
   ]
  },
  {
   "cell_type": "code",
   "execution_count": null,
   "id": "d1b82fe9",
   "metadata": {},
   "outputs": [],
   "source": [
    "list(range(1,11))"
   ]
  },
  {
   "cell_type": "code",
   "execution_count": null,
   "id": "22ba5ef8",
   "metadata": {},
   "outputs": [],
   "source": [
    "import math\n",
    "d7= {i :math.log10(i) for i in range(1,11)}"
   ]
  },
  {
   "cell_type": "code",
   "execution_count": null,
   "id": "7df2bb01",
   "metadata": {},
   "outputs": [],
   "source": [
    "d7"
   ]
  },
  {
   "cell_type": "code",
   "execution_count": null,
   "id": "fe202e29",
   "metadata": {},
   "outputs": [],
   "source": [
    "for i in d7.keys():\n",
    "    if i % 2 ==0:\n",
    "         print(i, \":\", d7[i])"
   ]
  },
  {
   "cell_type": "markdown",
   "id": "5c3d4b03",
   "metadata": {},
   "source": [
    "## Assignment "
   ]
  },
  {
   "cell_type": "code",
   "execution_count": null,
   "id": "b397d63a",
   "metadata": {},
   "outputs": [],
   "source": [
    "atuple = (100, 200, 300, 400, 500)\n",
    "\n",
    "print(atuple[-2])\n",
    "\n",
    "print(atuple[-4:-1])"
   ]
  },
  {
   "cell_type": "code",
   "execution_count": null,
   "id": "b4aa4061",
   "metadata": {},
   "outputs": [],
   "source": [
    "atuple = (\"Orange\")\n",
    "\n",
    "print(type(atuple))"
   ]
  },
  {
   "cell_type": "code",
   "execution_count": null,
   "id": "c6d06aca",
   "metadata": {},
   "outputs": [],
   "source": [
    "atuple = (100,)\n",
    "\n",
    "print(atuple * 2)\n"
   ]
  },
  {
   "cell_type": "code",
   "execution_count": null,
   "id": "a37e5443",
   "metadata": {},
   "outputs": [],
   "source": [
    "dict1 = {\"name\": \"Mike\", \"salary\": 8000}\n",
    "\n",
    "temp = dict1.get(\"age\")\n",
    "\n",
    "print(temp)"
   ]
  },
  {
   "cell_type": "code",
   "execution_count": null,
   "id": "7bb7afba",
   "metadata": {},
   "outputs": [],
   "source": [
    "dict1 = {\"key1\":1, \"key2\":2}\n",
    "\n",
    "dict2 = {\"key2\":2, \"key1\":1}\n",
    "\n",
    "print(dict1 == dict2)"
   ]
  },
  {
   "cell_type": "code",
   "execution_count": null,
   "id": "a03dfd14",
   "metadata": {},
   "outputs": [],
   "source": [
    "set1 = {\"Yellow\", \"Orange\", \"Black\"}\n",
    "\n",
    "set2 = {\"Orange\", \"Blue\", \"Pink\"}\n",
    "\n",
    "set3 = set2.difference(set1)\n",
    "\n",
    "print(set3)"
   ]
  },
  {
   "cell_type": "markdown",
   "id": "2b8d3a0a",
   "metadata": {},
   "source": [
    "*** Assignment ends ***"
   ]
  },
  {
   "cell_type": "markdown",
   "id": "933322cc",
   "metadata": {},
   "source": [
    "## Functions in Python"
   ]
  },
  {
   "cell_type": "markdown",
   "id": "15c439ff",
   "metadata": {},
   "source": [
    "| Function | Description |\n",
    "| --- | --- |\n",
    "| `print()` | Prints the output to the console. |\n",
    "| `len()` | Returns the length of an object (string, list, etc.). |\n",
    "| `type()` | Returns the type of an object. |\n",
    "| `str()` | Converts an object into a string. |\n",
    "| `int()` | Converts an object into an integer. |\n",
    "| `float()` | Converts an object into a float. |\n",
    "| `bool()` | Converts an object into a boolean. |\n",
    "| `sum()` | Returns the sum of all elements in a list or tuple. |\n",
    "| `min()` | Returns the minimum value from a list or tuple. |\n",
    "| `max()` | Returns the maximum value from a list or tuple. |\n",
    "| `sorted()` | Returns a sorted list from a given iterable. |\n",
    "| `abs()` | Returns the absolute value of a number. |\n",
    "| `round()` | Rounds a float to a specified number of decimal places. |\n",
    "| `divmod()` | Returns the quotient and remainder of a division. |\n"
   ]
  },
  {
   "cell_type": "markdown",
   "id": "f836ad20",
   "metadata": {},
   "source": [
    "*** Create your own functions : Conditions apply ***\n",
    "\n",
    "When creating custom functions in Python, it's important to keep a few things in mind:\n",
    "\n",
    "Naming conventions: Function names should be descriptive and follow the naming conventions in Python (lowercase with words separated by underscores).\n",
    "\n",
    "Return statement: Make sure to include a return statement in the function to return a value, otherwise the function will return None.\n",
    "\n",
    "Parameter validation: Make sure to validate the parameters passed to the function to ensure they are of the correct type and within the expected range.\n",
    "\n",
    "Documenting functions: It's important to include documentation for your functions to explain what the function does, its parameters, and the return value. This makes it easier for others (and yourself) to understand and use the function in the future.\n",
    "\n",
    "You can create your own functions in Python. Functions in Python are created using the def keyword followed by the function name, and a set of parentheses () which can optionally contain parameters.\n",
    "\n",
    "Here's an example of a simple custom function in Python:"
   ]
  },
  {
   "cell_type": "code",
   "execution_count": null,
   "id": "a95c77a2",
   "metadata": {},
   "outputs": [],
   "source": [
    "def greeting(name):\n",
    "    return \"Hello, \" + name + \"!\"\n",
    "\n",
    "print(greeting(\"John\")) # Output: Hello, John!\n"
   ]
  },
  {
   "cell_type": "markdown",
   "id": "e1c7a50a",
   "metadata": {},
   "source": [
    "*** Use Cases of creating your own Functions ***\n",
    "\n",
    "Naming Conventions: Make sure to choose meaningful and descriptive names for your functions to make your code more readable.\n",
    "\n",
    "Function Arguments: Be careful when defining function arguments, as it can impact the behavior of your function. Make sure to validate the arguments passed to your function, to avoid unexpected behavior.\n",
    "\n",
    "Global and Local Variables: Be aware of the scope of variables and how they can affect the behavior of your functions. Make sure to use local variables where necessary to prevent unintended modification of global variables.\n",
    "\n",
    "Recursion: Be careful when using recursion, as it can lead to infinite loops and cause your program to crash if not used properly. Make sure to include a base case in your recursive functions to prevent this from happening."
   ]
  },
  {
   "cell_type": "markdown",
   "id": "206529bf",
   "metadata": {},
   "source": [
    "When creating a function in Python, there are a few important things to consider to ensure that the function works as intended and is easy to understand and maintain.\n",
    "\n",
    "Function name: The name of the function should be descriptive and follow the naming conventions in Python. In Python, function names should be in snake_case and describe what the function does.\n",
    "\n",
    "Parameters: The parameters are the inputs to the function. You should be mindful of what parameters your function needs, and what their data types should be. You can also provide default values for parameters to make your function more flexible.\n",
    "\n",
    "Return values: Your function should have a return value that specifies what the function outputs. If the function doesn't need to return anything, you can use the keyword 'pass' in the function body.\n",
    "\n",
    "Docstring: A docstring is a short documentation of the function. It provides information about the inputs, outputs, and purpose of the function. It's a good practice to add a docstring to your function so that others can easily understand what it does.\n",
    "\n",
    "Indentation: Indentation is crucial in Python as it defines the scope of a function. Make sure that all the code within the function is indented and properly aligned.\n",
    "\n",
    "Avoid side effects: Functions should not modify the inputs or produce side effects. Side effects are any changes made outside the function that persist after the function has finished executing. For example, changing a global variable within the function is considered a side effect.\n",
    "\n",
    "Test your function: It's a good idea to test your function to make sure it's working correctly. Write test cases for the function, and make sure that the function passes all the tests.\n",
    "\n",
    "By being mindful of these things when creating functions in Python, you can write clean, readable, and maintainable code."
   ]
  },
  {
   "cell_type": "code",
   "execution_count": null,
   "id": "e0fceb51",
   "metadata": {},
   "outputs": [],
   "source": [
    "# Define the function\n",
    "def greet(name):\n",
    "    # Use the print statement to greet the person\n",
    "    print(\"Hello, \" + name + \". How are you doing today?\")\n",
    "\n",
    "# Call the function\n",
    "greet(\"Matta\")\n"
   ]
  },
  {
   "cell_type": "markdown",
   "id": "730d5c86",
   "metadata": {},
   "source": [
    "The code above defines a simple function called \"greet\". The function takes one argument \"name\" and greets the person with a message.\n",
    "\n",
    "The function definition starts with the keyword \"def\", followed by the function name \"greet\", and the argument \"name\" within parentheses. The argument is a placeholder that can be replaced with a specific value when the function is called.\n",
    "\n",
    "The body of the function is indented using four spaces, which is the standard indentation in Python. The indentation is used to separate the function definition from the rest of the code and to specify the scope of the function.\n",
    "\n",
    "The print statement within the function takes the string \"Hello, \" concatenated with the value of \"name\" and the string \". How are you doing today?\". When the function is called with a specific value for \"name\", the function prints the complete string.\n",
    "\n",
    "The function is called with the line \"greet(\"John\")\". The argument \"John\" is passed to the function and replaces the placeholder \"name\" within the function. The function then prints the message \"Hello, John. How are you doing today?\".\n",
    "\n",
    "The colon (:) is used to mark the start of a new block of code and indicates that the following indented lines are part of the function definition. The indentation helps make the code more readable and helps to prevent syntax errors.\n",
    "\n",
    "Overall, the syntax and indentation in the code is necessary to properly define the function, specify the scope of the function, and ensure that the code runs correctly."
   ]
  },
  {
   "cell_type": "markdown",
   "id": "56ba7ceb",
   "metadata": {},
   "source": [
    "*** More examples and excercises***"
   ]
  },
  {
   "cell_type": "markdown",
   "id": "2733fff2",
   "metadata": {},
   "source": [
    "Define a function called \"sum_numbers\" that takes in two parameters, \"a\" and \"b\", and returns the sum of those two numbers. Call the function with different numbers as arguments to test it.\n",
    "\n",
    "Define a function called \"largest\" that takes in a list of numbers and returns the largest number in that list. Use the function to find the largest number in a sample list of numbers.\n",
    "\n",
    "Define a function called \"is_even\" that takes in a number and returns True if the number is even and False if the number is odd. Use the function to check the evenness of a sample number.\n",
    "\n",
    "Define a function called \"greet_all\" that takes in a list of names and greets each person in the list with a personalized message. Use the function to greet a sample list of names.\n",
    "\n",
    "Define a function called \"factorial\" that takes in a number and returns the factorial of that number (i.e. the product of all numbers up to that number). Use the function to find the factorial of a sample number.\n",
    "\n",
    "Remember, when defining a function, it is important to follow the correct syntax and indentation. Additionally, be mindful of what arguments your function takes in and what it returns. These details will help ensure that your function works as expected when you call it."
   ]
  },
  {
   "cell_type": "code",
   "execution_count": null,
   "id": "c86abd42",
   "metadata": {},
   "outputs": [],
   "source": [
    "def sum_numbers(a, b):\n",
    "    return a + b\n",
    "\n",
    "# Call the function with different numbers as arguments\n",
    "result1 = sum_numbers(3, 5)\n",
    "result2 = sum_numbers(10, 20)\n",
    "result3 = sum_numbers(-2, 3)\n",
    "\n",
    "# Print the results\n",
    "print(result1)\n",
    "print(result2)\n",
    "print(result3)\n"
   ]
  },
  {
   "cell_type": "code",
   "execution_count": null,
   "id": "bbe0f291",
   "metadata": {},
   "outputs": [],
   "source": [
    "def largest(numbers):\n",
    "    max_num = numbers[0]\n",
    "    for num in numbers:\n",
    "        if num > max_num:\n",
    "            max_num = num\n",
    "    return max_num\n",
    "\n",
    "numbers = [1, 2, 3, 4, 5, 6, 7, 8, 9, 10]\n",
    "print(largest(numbers))\n"
   ]
  },
  {
   "cell_type": "code",
   "execution_count": null,
   "id": "7f779f5f",
   "metadata": {},
   "outputs": [],
   "source": [
    "def test():\n",
    "    pass"
   ]
  },
  {
   "cell_type": "code",
   "execution_count": null,
   "id": "6e92de84",
   "metadata": {},
   "outputs": [],
   "source": [
    "def test1():\n",
    "    print(\"This is my first function\")"
   ]
  },
  {
   "cell_type": "code",
   "execution_count": null,
   "id": "da9e8900",
   "metadata": {},
   "outputs": [],
   "source": [
    "test1()"
   ]
  },
  {
   "cell_type": "code",
   "execution_count": null,
   "id": "4fcfec50",
   "metadata": {},
   "outputs": [],
   "source": [
    "def multiTable():\n",
    "    num = int(input(\"Enter a number to generate its multiplication table: \"))\n",
    "    for i in range(1, 11):\n",
    "        print(num, \"x\", i, \"=\", num * i)\n"
   ]
  },
  {
   "cell_type": "code",
   "execution_count": null,
   "id": "8d813daf",
   "metadata": {},
   "outputs": [],
   "source": [
    "multiTable()\n"
   ]
  },
  {
   "cell_type": "code",
   "execution_count": null,
   "id": "4de643df",
   "metadata": {},
   "outputs": [],
   "source": [
    "multiTable()"
   ]
  },
  {
   "cell_type": "code",
   "execution_count": null,
   "id": "fef27b2a",
   "metadata": {},
   "outputs": [],
   "source": [
    "test1() + \"Matta\""
   ]
  },
  {
   "cell_type": "code",
   "execution_count": null,
   "id": "ac6d936b",
   "metadata": {},
   "outputs": [],
   "source": [
    "def test2():\n",
    "    return \"I love Functions \""
   ]
  },
  {
   "cell_type": "code",
   "execution_count": null,
   "id": "6d363987",
   "metadata": {},
   "outputs": [],
   "source": [
    "test2() + \"Matta\""
   ]
  },
  {
   "cell_type": "code",
   "execution_count": null,
   "id": "b3739244",
   "metadata": {},
   "outputs": [],
   "source": [
    "def test4():\n",
    "    a=3*4+5\n",
    "    return a"
   ]
  },
  {
   "cell_type": "code",
   "execution_count": null,
   "id": "071b9c0c",
   "metadata": {},
   "outputs": [],
   "source": [
    "test4()"
   ]
  },
  {
   "cell_type": "code",
   "execution_count": null,
   "id": "e991330b",
   "metadata": {},
   "outputs": [],
   "source": [
    "type(test4())"
   ]
  },
  {
   "cell_type": "code",
   "execution_count": null,
   "id": "093447e3",
   "metadata": {},
   "outputs": [],
   "source": [
    "def test5(a,b):\n",
    "    c=a+b\n",
    "    return c"
   ]
  },
  {
   "cell_type": "code",
   "execution_count": null,
   "id": "902eaa83",
   "metadata": {},
   "outputs": [],
   "source": [
    "test5(\"Naresh\",\" Matta\") #anything entered in argument 1 is a and argument 2 is b, The arguments are seperated by comma"
   ]
  },
  {
   "cell_type": "code",
   "execution_count": null,
   "id": "0a82e366",
   "metadata": {},
   "outputs": [],
   "source": [
    "test5(4,5)"
   ]
  },
  {
   "cell_type": "code",
   "execution_count": null,
   "id": "a9cf8768",
   "metadata": {},
   "outputs": [],
   "source": [
    "test5([1,2,3,4,5],[6,7,8,9,10])"
   ]
  },
  {
   "cell_type": "code",
   "execution_count": null,
   "id": "ee490341",
   "metadata": {},
   "outputs": [],
   "source": [
    "list3 = [1,2,3,4,5,\"Matta\",\"iSkillMatta\",[6,7,8,9]]"
   ]
  },
  {
   "cell_type": "code",
   "execution_count": null,
   "id": "7368c316",
   "metadata": {},
   "outputs": [],
   "source": [
    "#create a function which will take list as inpout and give only integer\n",
    "\n",
    "def test6(a):\n",
    "    n = []\n",
    "    for i in a :\n",
    "        if type(i) == int or type(i) == float :\n",
    "            n.append(i)\n",
    "    return n "
   ]
  },
  {
   "cell_type": "code",
   "execution_count": null,
   "id": "488adb88",
   "metadata": {},
   "outputs": [],
   "source": [
    "test6(list3)"
   ]
  },
  {
   "cell_type": "code",
   "execution_count": null,
   "id": "2de2f08f",
   "metadata": {},
   "outputs": [],
   "source": [
    "list3"
   ]
  },
  {
   "cell_type": "code",
   "execution_count": null,
   "id": "0617f928",
   "metadata": {},
   "outputs": [],
   "source": [
    "def test7 (a):\n",
    "    n = []\n",
    "    for i in a :\n",
    "        if type(i) == list:\n",
    "            for j in i:\n",
    "                if type(j) == int or type(j) == float:\n",
    "                    n.append(j)\n",
    "        else :\n",
    "              if type(i) == int or type(i) == float :\n",
    "                     n.append(i)\n",
    "    return n"
   ]
  },
  {
   "cell_type": "code",
   "execution_count": null,
   "id": "8886bf8e",
   "metadata": {},
   "outputs": [],
   "source": [
    "test7(list3)"
   ]
  },
  {
   "cell_type": "code",
   "execution_count": null,
   "id": "e0c811fc",
   "metadata": {},
   "outputs": [],
   "source": [
    "def test (*args):\n",
    "    return args # * args means it can take any number of arguments, Also args is not a keyword , you can use any word you want"
   ]
  },
  {
   "cell_type": "code",
   "execution_count": null,
   "id": "11c639a2",
   "metadata": {},
   "outputs": [],
   "source": [
    "test(1,2,3,4,5)"
   ]
  },
  {
   "cell_type": "markdown",
   "id": "bc65b464",
   "metadata": {},
   "source": [
    "## ***Functions Assignments Section*** "
   ]
  },
  {
   "cell_type": "markdown",
   "id": "2be93bde",
   "metadata": {},
   "source": [
    "*** Which keyword is used to create a function? Create a function to return a list of odd numbers in the\n",
    "range of 1 to 25.***"
   ]
  },
  {
   "cell_type": "code",
   "execution_count": null,
   "id": "b35ab1b9",
   "metadata": {},
   "outputs": [],
   "source": [
    "def odd_numbers():\n",
    "    start = int(input(\"Enter the start of range:\"))\n",
    "    end = int(input(\"Enter the end of range:\"))\n",
    " \n",
    "# iterating each number in list\n",
    "       \n",
    "    for num in range(start, end):\n",
    " \n",
    "    # checking condition\n",
    "            if num % 2 != 0:\n",
    "                print(num)"
   ]
  },
  {
   "cell_type": "code",
   "execution_count": null,
   "id": "43efbce7",
   "metadata": {},
   "outputs": [],
   "source": [
    "odd_numbers()"
   ]
  },
  {
   "cell_type": "markdown",
   "id": "48b50d4e",
   "metadata": {},
   "source": [
    "*** Why *args and **kwargs is used in some functions? Create a function each for *args and **kwargs to\n",
    "demonstrate their use.*** \n",
    "\n",
    "Creating functions that accept *args and **kwargs are best used in situations where you expect that the number of inputs within the argument list will remain relatively small. The use of *args and **kwargs is primarily to provide readability and convenience"
   ]
  },
  {
   "cell_type": "code",
   "execution_count": null,
   "id": "eaedf37b",
   "metadata": {},
   "outputs": [],
   "source": [
    "def adder(*num):\n",
    "    sum = 0\n",
    "    \n",
    "    for n in num:\n",
    "        sum = sum + n\n",
    "\n",
    "    print(\"Sum:\",sum)\n",
    "\n",
    "adder(3,5)\n",
    "adder(4,5,6,7)\n",
    "adder(1,2,3,5,6)"
   ]
  },
  {
   "cell_type": "code",
   "execution_count": null,
   "id": "7d132480",
   "metadata": {},
   "outputs": [],
   "source": [
    "def intro(**data):\n",
    "    print(\"\\nData type of argument:\",type(data))\n",
    "\n",
    "    for key, value in data.items():\n",
    "        print(\"{} is {}\".format(key,value))\n",
    "\n",
    "intro(Firstname=\"Sita\", Lastname=\"Sharma\", Age=22, Phone=1234567890)\n",
    "\n",
    "intro(Firstname=\"John\", Lastname=\"Wood\", Email=\"johnwood@nomail.com\", Country=\"Wakanda\", Age=25, Phone=9876543210)"
   ]
  },
  {
   "cell_type": "markdown",
   "id": "db998350",
   "metadata": {},
   "source": [
    "*** Q3. What is an iterator in python? Name the method used to initialise the iterator object and the method\n",
    "used for iteration. Use these methods to print the first five elements of the given list [2, 4, 6, 8, 10, 12, 14, 16,\n",
    "18, 20].***\n",
    "\n",
    "An iterator in Python is an object that can be iterated (looped) upon. They represent a stream of data, and you can traverse through elements one by one. In Python, an iterator object implements two methods, __iter__() and __next__().\n",
    "\n",
    "The __iter__() method is used to initialize the iterator object and it returns the iterator object itself. The __next__() method is used for iteration. It returns the next value from the iterator. If there are no more items to return, it should raise StopIteration.\n",
    "\n",
    "\n",
    "\n"
   ]
  },
  {
   "cell_type": "code",
   "execution_count": null,
   "id": "64d880aa",
   "metadata": {},
   "outputs": [],
   "source": [
    "class MyList:\n",
    "    def __init__(self, lst):\n",
    "        self.lst = lst\n",
    "        self.index = 0\n",
    "\n",
    "    def __iter__(self):\n",
    "        return self\n",
    "\n",
    "    def __next__(self):\n",
    "        if self.index >= len(self.lst):\n",
    "            raise StopIteration\n",
    "        value = self.lst[self.index]\n",
    "        self.index += 1\n",
    "        return value\n",
    "\n",
    "my_list = MyList([2, 4, 6, 8, 10, 12, 14, 16, 18, 20])\n",
    "iterator = iter(my_list)\n",
    "\n",
    "for i in range(5):\n",
    "    print(next(iterator))\n"
   ]
  },
  {
   "cell_type": "markdown",
   "id": "d14e4e15",
   "metadata": {},
   "source": [
    "*** Q4 What is a generator function in python? Why yield keyword is used? Give an example of a generator\n",
    "function.***\n",
    "\n",
    "A generator function is a special type of function in Python that can be used to create an iterator. It uses the yield keyword instead of return. When a generator function is called, it returns a generator object that can be iterated over, but unlike a normal function, it does not return a value, instead it generates a series of values, one at a time, on-the-fly.\n",
    "\n",
    "The yield keyword is used to produce a value and then pause the function's execution, retaining its state. When the function is next called, the execution resumes from where it left off, and continues until the next yield statement. The function can be called multiple times, and each time it will start producing the values from where it left off. This makes generator functions very efficient for producing a large number of values, as they only generate the values as they are requested, rather than generating all of the values upfront and returning them as a list."
   ]
  },
  {
   "cell_type": "code",
   "execution_count": null,
   "id": "35acf622",
   "metadata": {},
   "outputs": [],
   "source": [
    "def fibonacci_sequence(n):\n",
    "    a, b = 0, 1\n",
    "    for i in range(n):\n",
    "        yield a\n",
    "        a, b = b, a + b\n",
    "\n",
    "for number in fibonacci_sequence(10):\n",
    "    print(number)\n"
   ]
  },
  {
   "cell_type": "markdown",
   "id": "90f47410",
   "metadata": {},
   "source": [
    "***Q5. Create a generator function for prime numbers less than 1000. Use the next() method to print the\n",
    "first 20 prime numbers.***"
   ]
  },
  {
   "cell_type": "code",
   "execution_count": null,
   "id": "5045b02f",
   "metadata": {},
   "outputs": [],
   "source": [
    "def prime_numbers():\n",
    "    yield 2\n",
    "    primes = [2]\n",
    "    number = 3\n",
    "    while number < 1000:\n",
    "        is_prime = True\n",
    "        for prime in primes:\n",
    "            if prime > number ** 0.5:\n",
    "                break\n",
    "            if number % prime == 0:\n",
    "                is_prime = False\n",
    "                break\n",
    "        if is_prime:\n",
    "            primes.append(number)\n",
    "            yield number\n",
    "        number += 2\n",
    "\n",
    "generator = prime_numbers()\n",
    "\n",
    "for i in range(20):\n",
    "    print(next(generator))\n"
   ]
  },
  {
   "cell_type": "markdown",
   "id": "286fdb0d",
   "metadata": {},
   "source": [
    "### ***End of Functions Assignments***"
   ]
  },
  {
   "cell_type": "markdown",
   "id": "fcd986a2",
   "metadata": {},
   "source": [
    "# ***Functions Continued.....***"
   ]
  },
  {
   "cell_type": "code",
   "execution_count": null,
   "id": "6e93983a",
   "metadata": {},
   "outputs": [],
   "source": [
    "r= range(1,10)"
   ]
  },
  {
   "cell_type": "code",
   "execution_count": null,
   "id": "fe66fdbf",
   "metadata": {},
   "outputs": [],
   "source": [
    "for i in r:\n",
    "    print(i)"
   ]
  },
  {
   "cell_type": "code",
   "execution_count": null,
   "id": "2d8260dc",
   "metadata": {},
   "outputs": [],
   "source": [
    "l = [1,2,3,4,5,6,7,8,\"Matta\",\"SkllTune\"]"
   ]
  },
  {
   "cell_type": "code",
   "execution_count": null,
   "id": "8a2256a6",
   "metadata": {},
   "outputs": [],
   "source": [
    "def test1(a):\n",
    "    n=[]\n",
    "    for i in a:\n",
    "        if type(i) == str:\n",
    "            n.append(i)\n",
    "    return n"
   ]
  },
  {
   "cell_type": "code",
   "execution_count": null,
   "id": "8f89fba9",
   "metadata": {},
   "outputs": [],
   "source": [
    "test1(l)"
   ]
  },
  {
   "cell_type": "code",
   "execution_count": null,
   "id": "c4f051b3",
   "metadata": {},
   "outputs": [],
   "source": [
    "def test2(a):\n",
    "    n=[]\n",
    "    for i in a:\n",
    "        if type(i) == int:\n",
    "            n.append(i)\n",
    "    return n"
   ]
  },
  {
   "cell_type": "code",
   "execution_count": null,
   "id": "e76fb12f",
   "metadata": {},
   "outputs": [],
   "source": [
    "test2(l)"
   ]
  },
  {
   "cell_type": "code",
   "execution_count": null,
   "id": "0bde2e42",
   "metadata": {},
   "outputs": [],
   "source": [
    "def test2(a):\n",
    "    n=[]\n",
    "    for i in a:\n",
    "        if type(i) == int and i %2 ==0:\n",
    "            n.append(i)\n",
    "    return n"
   ]
  },
  {
   "cell_type": "code",
   "execution_count": null,
   "id": "81fac870",
   "metadata": {},
   "outputs": [],
   "source": [
    "test2(l)"
   ]
  },
  {
   "cell_type": "markdown",
   "id": "05b5e8a9",
   "metadata": {},
   "source": [
    "### Generator Functions "
   ]
  },
  {
   "cell_type": "markdown",
   "id": "7f5e5eeb",
   "metadata": {},
   "source": [
    "Intro to Fibonaccoi Series :   \n",
    "\n",
    "The Fibonacci series is a sequence of numbers in which each number is the sum of the two preceding numbers, starting with 0 and 1.   \n",
    "\n",
    "The sequence goes like this: 0, 1, 1, 2, 3, 5, 8, 13, 21, and so on. \n",
    "\n",
    "The formula for generating the nth number in the Fibonacci series is given by: fib(n) = fib(n-1) + fib(n-2). The first two numbers in the series are 0 and 1, and each subsequent number is generated by adding the previous two numbers. The Fibonacci series appears in many different areas of mathematics, science, and nature, and has many interesting properties."
   ]
  },
  {
   "cell_type": "code",
   "execution_count": null,
   "id": "557d07a5",
   "metadata": {},
   "outputs": [],
   "source": [
    "def fibonacci_series(end):\n",
    "    a, b = 0, 1\n",
    "    while a < end:\n",
    "        yield a\n",
    "        a, b = b, a + b\n",
    "\n",
    "end = int(input(\"Enter the end of the range for the Fibonacci series: \"))\n",
    "\n",
    "for number in fibonacci_series(end):\n",
    "    print(number)\n"
   ]
  },
  {
   "cell_type": "code",
   "execution_count": null,
   "id": "a1e11b7a",
   "metadata": {},
   "outputs": [],
   "source": [
    "def fibonacci_series(end):\n",
    "    result = []\n",
    "    a, b = 0, 1\n",
    "    while a < end:\n",
    "        result.append(a)\n",
    "        a, b = b, a + b\n",
    "    return result\n",
    "\n",
    "end = int(input(\"Enter the end of the range for the Fibonacci series: \"))\n",
    "\n",
    "result = fibonacci_series(end)\n",
    "for number in result:\n",
    "    print(number)\n"
   ]
  },
  {
   "cell_type": "markdown",
   "id": "e24c2841",
   "metadata": {},
   "source": [
    "### Benefits of Using Generator Functions such as Yield\n",
    "\n",
    "The primary difference between using the yield statement and returning a list of values is the way the values are generated and consumed.\n",
    "\n",
    "When a function contains a yield statement, it becomes a generator function. A generator function is used to generate values one by one, instead of generating all the values at once and returning them as a list. When a generator function is called, it returns a generator object, which can be used to iterate over the values produced by the generator function one by one. The generator function only generates values when they are requested through the generator object, so it can generate an arbitrarily large number of values without consuming a lot of memory.\n",
    "\n",
    "On the other hand, when a function returns a list of values, it generates all the values at once and returns them as a list. The entire list of values is stored in memory, so if the list is large, it can consume a lot of memory. In addition, the entire list of values must be generated before any values can be consumed, which can be inefficient if the list is large and only a few values are needed.\n",
    "\n",
    "The benefits of using the yield statement are:\n",
    "\n",
    "Memory efficiency: Since the generator function generates values one by one, it only generates the values that are needed, and doesn't consume a lot of memory.\n",
    "\n",
    "Time efficiency: Since the generator function only generates values when they are requested, it can start producing values as soon as possible, even before the entire list of values has been generated.\n",
    "\n",
    "Simplicity: Generators are a simple and straightforward way to produce a series of values, without having to manage the memory and performance issues associated with returning a list of values.\n",
    "\n",
    "In general, you should use the yield statement when you need to generate an arbitrarily large series of values, and you don't need to generate the entire series of values at once. If you only need a few values from the series, or if you need to generate a small series of values, it may be simpler to return a list of values."
   ]
  },
  {
   "cell_type": "markdown",
   "id": "8c336177",
   "metadata": {},
   "source": [
    "In Python, the yield keyword is used to define a generator function. A generator function is a special type of function that generates values one by one, instead of generating all the values at once and returning them as a list.\n",
    "\n",
    "There is no specific limit to the number of generator functions you can have in a Python program. You can have as many generator functions as you need, each with its own unique functionality. The yield keyword allows you to create generator functions with a simple and straightforward syntax, making it easy to generate a series of values in a memory-efficient and time-efficient manner.\n",
    "\n",
    "In addition to generator functions, Python provides many other built-in functions and libraries that allow you to perform a wide variety of operations, such as file I/O, network communication, and data manipulation. The Python Standard Library provides a large collection of modules that you can use to perform a wide range of tasks, and there are also many third-party libraries available that you can use to extend the functionality of Python."
   ]
  },
  {
   "cell_type": "code",
   "execution_count": null,
   "id": "f5d295b2",
   "metadata": {},
   "outputs": [],
   "source": [
    "def generator_1():\n",
    "    yield 1\n",
    "    yield 2\n",
    "    yield 3\n",
    "    yield 4\n",
    "    yield 5\n",
    "\n",
    "def generator_2():\n",
    "    yield 6\n",
    "    yield 7\n",
    "    yield 8\n",
    "    yield 9\n",
    "    yield 10\n",
    "\n",
    "def generator_3():\n",
    "    yield 11\n",
    "    yield 12\n",
    "    yield 13\n",
    "    yield 14\n",
    "    yield 15\n",
    "\n",
    "print(\"Generator 1:\")\n",
    "for value in generator_1():\n",
    "    print(value)\n",
    "    \n",
    "print(\"\\nGenerator 2:\")\n",
    "for value in generator_2():\n",
    "    print(value)\n",
    "    \n",
    "print(\"\\nGenerator 3:\")\n",
    "for value in generator_3():\n",
    "    print(value)\n"
   ]
  },
  {
   "cell_type": "markdown",
   "id": "e2a794b6",
   "metadata": {},
   "source": [
    "### Lambda Function"
   ]
  },
  {
   "cell_type": "markdown",
   "id": "d80762ff",
   "metadata": {},
   "source": [
    "A lambda function, also known as an anonymous function, is a function in Python that is defined without a name. It is an inline function that can take any number of arguments, but can only have one expression. The expression is executed and returned when the function is called.\n",
    "\n",
    "Lambda functions are often used when you need a small piece of functionality for a short period of time, and don't want to define a full-fledged function for it. For example, you might use a lambda function as an argument to a higher-order function, such as map, filter, or reduce."
   ]
  },
  {
   "cell_type": "markdown",
   "id": "7ac5f66e",
   "metadata": {},
   "source": [
    "## My Test of Function - basic Calculator "
   ]
  },
  {
   "cell_type": "code",
   "execution_count": null,
   "id": "8c1f53fa",
   "metadata": {},
   "outputs": [],
   "source": [
    "def matta():\n",
    "    # Initialize the accumulator with the first expression\n",
    "    accumulator = float(input(\"Enter your expression: \"))\n",
    "\n",
    "    # Continuously ask for the next operator and expression until the user enters '='\n",
    "    while True:\n",
    "        # Ask for the next operator\n",
    "        operator = input(\"Enter operator (+, -, *, /, %): \")\n",
    "\n",
    "        # Check if the user wants to finish the calculation\n",
    "        if operator == \"=\":\n",
    "            break\n",
    "\n",
    "        # Ask for the next expression\n",
    "        expression = input(\"Enter another number (or '=' to finish): \")\n",
    "\n",
    "        # Check if the user wants to finish the calculation\n",
    "        if expression == \"=\":\n",
    "            break\n",
    "\n",
    "        # Convert the expression to a float\n",
    "        expression = float(expression)\n",
    "\n",
    "        # Perform the calculation based on the operator\n",
    "        if operator == \"+\":\n",
    "            accumulator += expression\n",
    "        elif operator == \"-\":\n",
    "            accumulator -= expression\n",
    "        elif operator == \"*\":\n",
    "            accumulator *= expression\n",
    "        elif operator == \"/\":\n",
    "            accumulator /= expression\n",
    "        elif operator == \"%\":\n",
    "            accumulator = accumulator * expression / 100\n",
    "\n",
    "    # Print the result\n",
    "    print(\"Result: \", accumulator)\n",
    "\n",
    "# Call the function to start the calculator app\n"
   ]
  },
  {
   "cell_type": "markdown",
   "id": "b821e05a",
   "metadata": {},
   "source": [
    "### Map , Reduce and Filter Functions "
   ]
  },
  {
   "cell_type": "markdown",
   "id": "153aa7be",
   "metadata": {},
   "source": [
    "### Map Functions"
   ]
  },
  {
   "cell_type": "markdown",
   "id": "37a32083",
   "metadata": {},
   "source": [
    "The map() function is a built-in function in many programming languages, including Python, that allows you to apply a specific function to each element in an iterable (such as a list, tuple, or dictionary) and returns a new iterable containing the results.\n",
    "\n",
    "The general syntax for map() in Python is as follows:\n",
    "\n",
    "map(function, iterable)\n",
    "where function is the function you want to apply to each element in the iterable, and iterable is the iterable that you want to apply the function to.\n",
    "\n",
    "Here is an example that uses the map() function to apply the str() function to a list of integers:\n",
    "\n",
    "numbers = [1, 2, 3, 4, 5]\n",
    "string_numbers = map(str, numbers)\n",
    "In this example, map() applies the str() function to each integer in the numbers list and returns a new iterable (string_numbers) containing the string representation of each integer."
   ]
  },
  {
   "cell_type": "markdown",
   "id": "288db8ae",
   "metadata": {},
   "source": [
    "### Reduce Function"
   ]
  },
  {
   "cell_type": "markdown",
   "id": "cb312adb",
   "metadata": {},
   "source": [
    "The reduce() function is another built-in function in Python, which is used to apply a given function to the elements of an iterable in a cumulative way. The function reduce() takes two arguments: a function and an iterable.\n",
    "\n",
    "The general syntax for reduce() in Python is as follows:\n",
    "\n",
    "\n",
    "reduce(function, iterable)\n",
    "where function is the function to be applied to the elements of the iterable and iterable is the sequence of elements to which the function is applied.\n",
    "\n",
    "Here is an example of using the reduce() function to find the product of all the elements in a list of integers:\n",
    "\n",
    "python\n",
    "Copy code\n",
    "from functools import reduce\n",
    "\n",
    "numbers = [2, 3, 4, 5]\n",
    "product = reduce(lambda x, y: x * y, numbers)\n",
    "In this example, the reduce() function applies the lambda function to the elements of the numbers list in a cumulative way, i.e., it multiplies the first two elements, then multiplies the result by the third element, and so on, until all elements have been processed, and the final result is returned as the product.\n",
    "\n",
    "Note that the reduce() function is part of the functools module in Python 3, so you need to import it explicitly before using it."
   ]
  },
  {
   "cell_type": "markdown",
   "id": "0fc88d3b",
   "metadata": {},
   "source": [
    "### Filter Functions"
   ]
  },
  {
   "cell_type": "markdown",
   "id": "40dbc397",
   "metadata": {},
   "source": [
    "The filter() function is a built-in function in Python that allows you to filter an iterable based on a given function. The filter() function takes two arguments: a function and an iterable.\n",
    "\n",
    "The general syntax for filter() in Python is as follows:\n",
    "\n",
    "scss\n",
    "Copy code\n",
    "filter(function, iterable)\n",
    "where function is the function to be applied to the elements of the iterable, and iterable is the sequence of elements to be filtered.\n",
    "\n",
    "Here is an example of using the filter() function to filter a list of integers to include only even numbers:\n",
    "\n",
    "less\n",
    "Copy code\n",
    "numbers = [1, 2, 3, 4, 5, 6]\n",
    "even_numbers = list(filter(lambda x: x % 2 == 0, numbers))\n",
    "In this example, the filter() function applies the lambda function to the elements of the numbers list and returns a new iterable (even_numbers) containing only the even numbers in the list.\n",
    "\n",
    "Note that the filter() function returns an iterator in Python 3, so you need to convert it to a list or tuple to get the filtered elements."
   ]
  },
  {
   "cell_type": "markdown",
   "id": "310f3b15",
   "metadata": {},
   "source": [
    "##### Map"
   ]
  },
  {
   "cell_type": "markdown",
   "id": "3e7ab5ea",
   "metadata": {},
   "source": [
    "map(function, iterable)\n"
   ]
  },
  {
   "cell_type": "code",
   "execution_count": null,
   "id": "ab1e4614",
   "metadata": {},
   "outputs": [],
   "source": [
    "l = [1,2,3,4,5,6]"
   ]
  },
  {
   "cell_type": "code",
   "execution_count": null,
   "id": "20a54522",
   "metadata": {},
   "outputs": [],
   "source": [
    "def sq(x):\n",
    "    return x**2"
   ]
  },
  {
   "cell_type": "code",
   "execution_count": null,
   "id": "5995dbfb",
   "metadata": {},
   "outputs": [],
   "source": [
    "list(map(sq,l)) # map(function, iterable) as per map function the sq is the function we just created and the iterable here is the list we created"
   ]
  },
  {
   "cell_type": "markdown",
   "id": "01994ff3",
   "metadata": {},
   "source": [
    "This is a Python code snippet that defines a function sq(x) which takes a number x as input and returns its square. It then uses the map() function to apply this sq() function to each element in a list l and returns a new iterable containing the results of the square of each element."
   ]
  },
  {
   "cell_type": "markdown",
   "id": "0167130b",
   "metadata": {},
   "source": [
    "##### Detailed Explanation : \n",
    "\n",
    "This code uses the map() function to apply the sq() function to each element in a list l. The map() function takes two arguments: the function to be applied (sq() in this case), and the iterable to be operated on (l in this case). The map() function returns an iterator containing the results of applying the given function to each element in the iterable. The list() function is used to convert this iterator to a list.\n",
    "\n",
    "The resulting list contains the square of each element in the original list l.\n",
    "\n",
    "In summary, the code applies the sq() function to each element in the list l using the map() function, and returns a new list containing the square of each element."
   ]
  },
  {
   "cell_type": "markdown",
   "id": "bbb40cbf",
   "metadata": {},
   "source": [
    "##### Experimenting Printing * in a right angled triangle using Map and Lambda function with and without loops : "
   ]
  },
  {
   "cell_type": "code",
   "execution_count": null,
   "id": "94632e3c",
   "metadata": {},
   "outputs": [],
   "source": [
    "n = int(input(\"Enter the number of rows: \"))\n",
    "\n",
    "# create a list of n elements, where each element is a string of '*' characters\n",
    "rows = list(map(lambda i: '*' * (i+1), range(n)))\n",
    "\n",
    "# print each row in the triangle\n",
    "for row in rows:\n",
    "    print(row)\n"
   ]
  },
  {
   "cell_type": "code",
   "execution_count": null,
   "id": "a812a3c6",
   "metadata": {},
   "outputs": [],
   "source": [
    "n = int(input(\"Enter the number of rows: \"))\n",
    "\n",
    "# create a list of n elements, where each element is a string of '*' characters\n",
    "rows = list(map(lambda i: '*' * (i+1), range(n)))\n",
    "\n",
    "# join the rows into a single string, separated by newline characters\n",
    "triangle = '\\n'.join(rows)\n",
    "\n",
    "# print the triangle string\n",
    "print(triangle)\n"
   ]
  },
  {
   "cell_type": "markdown",
   "id": "4b1cb27b",
   "metadata": {},
   "source": [
    "##### Code Explained\n",
    "\n",
    "Here's a step-by-step explanation of the line rows = list(map(lambda i: '*' * (i+1), range(n))), with a dry run of the code:\n",
    "\n",
    "Suppose we want to generate a right-angled triangle pattern with n = 5 rows.\n",
    "\n",
    "We start by creating a range of integers from 0 to n-1 using the range function. In this case, range(n) returns [0, 1, 2, 3, 4].\n",
    "\n",
    "We then apply a lambda function to each element of the range using the map function. The lambda function takes an integer i as its input, and returns a string of '*' characters of length i+1.\n",
    "\n",
    "For example, when i is 0, the lambda function returns '*' because 0+1 = 1. When i is 1, the lambda function returns '**' because 1+1 = 2. Similarly, when i is 2, the lambda function returns '***' because 2+1 = 3, and so on.\n",
    "\n",
    "The map function returns an iterator that generates the strings of '*' characters for each element of the range. However, since we want to store these strings in a list, we need to convert the iterator to a list using the list function.\n",
    "\n",
    "The resulting list of strings represents the rows of the right-angled triangle pattern, with the first element of the list representing the first row, the second element representing the second row, and so on.\n",
    "\n",
    "We assign this list of strings to the variable rows, which we can then use to print the right-angled triangle pattern.\n",
    "\n",
    "So, after executing the line rows = list(map(lambda i: '*' * (i+1), range(n))) with n = 5, the variable rows contains the list of strings ['*', '**', '***', '****', '*****'], which represents the rows of the right-angled triangle pattern with 5 rows."
   ]
  },
  {
   "cell_type": "markdown",
   "id": "9d6dac54",
   "metadata": {},
   "source": [
    "##### About Llambda \n",
    "\n",
    "Lambdas are simply anonymous functions that can be used as one-liners to perform simple operations. In this case, we are using a lambda function to generate the strings of '*' characters for each row of the right-angled triangle pattern.\n",
    "\n",
    "The lambda function takes an integer i as input and returns a string of '*' characters of length i+1. The syntax for a lambda function is lambda <input>: <expression>. In this case, our lambda function takes i as its input and returns the expression '*' * (i+1) as its output.\n",
    "\n",
    "The expression '*' * (i+1) simply multiplies the string ' *' by (i+1). This creates a string of '*' characters with a length equal to (i+1).\n",
    "\n",
    "So, the lambda function allows us to generate the strings of '*' characters for each row of the right-angled triangle pattern in a concise and efficient way."
   ]
  },
  {
   "cell_type": "code",
   "execution_count": null,
   "id": "a710ddba",
   "metadata": {},
   "outputs": [],
   "source": [
    "l = [1,2,3,4,5,4]"
   ]
  },
  {
   "cell_type": "code",
   "execution_count": null,
   "id": "5d2c41c7",
   "metadata": {},
   "outputs": [],
   "source": [
    "from functools import reduce"
   ]
  },
  {
   "cell_type": "code",
   "execution_count": null,
   "id": "82aa942a",
   "metadata": {},
   "outputs": [],
   "source": [
    "reduce(lambda x,y : x if x>y else y,l)"
   ]
  },
  {
   "cell_type": "code",
   "execution_count": null,
   "id": "82809bfc",
   "metadata": {},
   "outputs": [],
   "source": [
    "list(filter(lambda x : x %2 ==0, l))"
   ]
  },
  {
   "cell_type": "code",
   "execution_count": null,
   "id": "981ab585",
   "metadata": {},
   "outputs": [],
   "source": [
    "l1 = [-2,-3,-5,-7,-8,0,1,2,3,4,5] "
   ]
  },
  {
   "cell_type": "code",
   "execution_count": null,
   "id": "f2ae3f8b",
   "metadata": {},
   "outputs": [],
   "source": [
    "list(filter(lambda x: x<0, l1))"
   ]
  },
  {
   "cell_type": "code",
   "execution_count": null,
   "id": "680ddaea",
   "metadata": {},
   "outputs": [],
   "source": [
    "list(filter(lambda x : x>0,l1))"
   ]
  },
  {
   "cell_type": "code",
   "execution_count": null,
   "id": "ae7b55ea",
   "metadata": {},
   "outputs": [],
   "source": [
    "l2 = [\"Matta\", \"Skills\",\"Naresh\",\"Bangalore\"]"
   ]
  },
  {
   "cell_type": "code",
   "execution_count": null,
   "id": "18264ef7",
   "metadata": {},
   "outputs": [],
   "source": [
    "list(filter(lambda x: len(x)<=6, l2))"
   ]
  },
  {
   "cell_type": "markdown",
   "id": "aa0210e4",
   "metadata": {},
   "source": [
    "### OOPS Concepts : Object-Oriented Programming System \n",
    "\n",
    "What is object-oriented programming?\n",
    "Object-oriented programming (OOP) is a computer programming model that organizes software design around data, or objects, rather than functions and logic. An object can be defined as a data field that has unique attributes and behavior.\n",
    "\n",
    "OOP focuses on the objects that developers want to manipulate rather than the logic required to manipulate them. This approach to programming is well-suited for programs that are large, complex and actively updated or maintained. This includes programs for manufacturing and design, as well as mobile applications; for example, OOP can be used for manufacturing system simulation software.\n",
    "\n",
    "The organization of an object-oriented program also makes the method beneficial to collaborative development, where projects are divided into groups. Additional benefits of OOP include code reusability, scalability and efficiency.\n",
    "\n",
    "The first step in OOP is to collect all of the objects a programmer wants to manipulate and identify how they relate to each other -- an exercise known as data modeling.\n",
    "\n",
    "Examples of an object can range from physical entities, such as a human being who is described by properties like name and address, to small computer programs, such as widgets.\n",
    "\n",
    "Once an object is known, it is labeled with a class of objects that defines the kind of data it contains and any logic sequences that can manipulate it. Each distinct logic sequence is known as a method. Objects can communicate with well-defined interfaces called messages.\n",
    "\n",
    "What is the structure of object-oriented programming?\n",
    "The structure, or building blocks, of object-oriented programming include the following:\n",
    "\n",
    "Classes are user-defined data types that act as the blueprint for individual objects, attributes and methods.  \n",
    "\n",
    "Objects are instances of a class created with specifically defined data. Objects can correspond to real-world objects or an abstract entity. When class is defined initially, the description is the only object that is defined.  \n",
    "\n",
    "Methods are functions that are defined inside a class that describe the behaviors of an object. Each method contained in class definitions starts with a reference to an instance object. Additionally, the subroutines contained in an object are called instance methods. Programmers use methods for reusability or keeping functionality encapsulated inside one object at a time.  \n",
    "\n",
    "\n",
    "Attributes are defined in the class template and represent the state of an object. Objects will have data stored in the attributes field. Class attributes belong to the class itself.  "
   ]
  },
  {
   "cell_type": "code",
   "execution_count": null,
   "id": "f8571ce2",
   "metadata": {},
   "outputs": [],
   "source": [
    "a=1"
   ]
  },
  {
   "cell_type": "code",
   "execution_count": null,
   "id": "5c39a3fb",
   "metadata": {},
   "outputs": [],
   "source": [
    "print(type(a))"
   ]
  },
  {
   "cell_type": "code",
   "execution_count": null,
   "id": "e5dba22f",
   "metadata": {},
   "outputs": [],
   "source": [
    "print(type(\"Matta\"))"
   ]
  },
  {
   "cell_type": "markdown",
   "id": "4500fb3d",
   "metadata": {},
   "source": [
    "##### What are the main principles of OOP?\n",
    "Object-oriented programming is based on the following principles:\n",
    "\n",
    "***Encapsulation*** . This principle states that all important information is contained inside an object and only select information is exposed. The implementation and state of each object are privately held inside a defined class. Other objects do not have access to this class or the authority to make changes. They are only able to call a list of public functions or methods. This characteristic of data hiding provides greater program security and avoids unintended data corruption.   \n",
    "\n",
    " \n",
    "***Abstraction***. Objects only reveal internal mechanisms that are relevant for the use of other objects, hiding any unnecessary implementation code. The derived class can have its functionality extended. This concept can help developers more easily make additional changes or additions over time.  \n",
    "\n",
    "\n",
    "***Inheritance*** Classes can reuse code from other classes. Relationships and subclasses between objects can be assigned, enabling developers to reuse common logic while still maintaining a unique hierarchy. This property of OOP forces a more thorough data analysis, reduces development time and ensures a higher level of accuracy.    \n",
    "\n",
    "\n",
    "***Polymorphism.*** Objects are designed to share behaviors and they can take on more than one form. The program will determine which meaning or usage is necessary for each execution of that object from a parent class, reducing the need to duplicate code. A child class is then created, which extends the functionality of the parent class. Polymorphism allows different types of objects to pass through the same interface."
   ]
  },
  {
   "cell_type": "code",
   "execution_count": null,
   "id": "8cf6632a",
   "metadata": {},
   "outputs": [],
   "source": [
    "class test:\n",
    "    pass\n"
   ]
  },
  {
   "cell_type": "code",
   "execution_count": null,
   "id": "edfd9ada",
   "metadata": {},
   "outputs": [],
   "source": [
    "a = test() # Class can be assigned to a variable to make it easy to call it later"
   ]
  },
  {
   "cell_type": "code",
   "execution_count": null,
   "id": "ddf489ad",
   "metadata": {},
   "outputs": [],
   "source": [
    "print(type(a)) # Printing to show that now 'a' holds the class which is created  "
   ]
  },
  {
   "cell_type": "code",
   "execution_count": null,
   "id": "610ed6cd",
   "metadata": {},
   "outputs": [],
   "source": [
    "class Matta:\n",
    "    def Welcome_MSG(self):\n",
    "        print(\"Welcome to SkillTune\")\n",
    "        \n",
    "        \n",
    "# Defining something inside the class becomes methods of that class and not function, you can surely access this function outside the \n",
    "# code block like shown below "
   ]
  },
  {
   "cell_type": "code",
   "execution_count": null,
   "id": "4385e6ed",
   "metadata": {},
   "outputs": [],
   "source": [
    "a = Matta()"
   ]
  },
  {
   "cell_type": "code",
   "execution_count": null,
   "id": "f4dde556",
   "metadata": {},
   "outputs": [],
   "source": [
    "a.Welcome_MSG() # You can access the properties/ methods inside the Class you created"
   ]
  },
  {
   "cell_type": "code",
   "execution_count": null,
   "id": "5cf82544",
   "metadata": {},
   "outputs": [],
   "source": [
    "## class test:\n",
    " #   def __init__(self,phone_number,email_id, student_id):\n",
    "     #   self.phone_number = phone_number\n",
    "    #    self.email_id = email_id\n",
    "    #    self.student_id = student_id\n",
    "        \n",
    " #   def student_details(self):\n",
    " #       return self.phone_number, self.email_id, self.student_id"
   ]
  },
  {
   "cell_type": "code",
   "execution_count": null,
   "id": "c6f3f3c2",
   "metadata": {},
   "outputs": [],
   "source": [
    "matta = test(66565656, \"matta@matta.com\",101)"
   ]
  },
  {
   "cell_type": "code",
   "execution_count": null,
   "id": "0a26e2aa",
   "metadata": {},
   "outputs": [],
   "source": [
    "matta.phone_number"
   ]
  },
  {
   "cell_type": "code",
   "execution_count": null,
   "id": "bf40c3b4",
   "metadata": {},
   "outputs": [],
   "source": [
    "matta.email_id"
   ]
  },
  {
   "cell_type": "code",
   "execution_count": null,
   "id": "12c7c493",
   "metadata": {},
   "outputs": [],
   "source": [
    "matta.student_id"
   ]
  },
  {
   "cell_type": "code",
   "execution_count": null,
   "id": "cf6328d9",
   "metadata": {},
   "outputs": [],
   "source": [
    "naresh = test(9798739872, \"naresh@naresh.com\",102)"
   ]
  },
  {
   "cell_type": "code",
   "execution_count": null,
   "id": "895d1edf",
   "metadata": {},
   "outputs": [],
   "source": [
    "naresh.phone_number"
   ]
  },
  {
   "cell_type": "code",
   "execution_count": null,
   "id": "e4063a9a",
   "metadata": {},
   "outputs": [],
   "source": [
    "naresh.email_id"
   ]
  },
  {
   "cell_type": "code",
   "execution_count": null,
   "id": "74f441cf",
   "metadata": {},
   "outputs": [],
   "source": [
    "naresh.student_id"
   ]
  },
  {
   "cell_type": "code",
   "execution_count": null,
   "id": "6165536b",
   "metadata": {},
   "outputs": [],
   "source": [
    "matta.student_details()"
   ]
  },
  {
   "cell_type": "code",
   "execution_count": null,
   "id": "1939724a",
   "metadata": {},
   "outputs": [],
   "source": [
    "class test:\n",
    "    def __init__(self,phone_number,email_id, student_id):\n",
    "        self.phone_number = phone_number\n",
    "        self.email_id = email_id\n",
    "        self.student_id = student_id\n",
    "        \n",
    "    def student_details(self):\n",
    "        return self.phone_number, self.email_id, self.student_id\n"
   ]
  },
  {
   "cell_type": "code",
   "execution_count": null,
   "id": "b333d3a6",
   "metadata": {},
   "outputs": [],
   "source": [
    "matta = test(66565656, \"matta@matta.com\",101)"
   ]
  },
  {
   "cell_type": "code",
   "execution_count": null,
   "id": "d0b87480",
   "metadata": {},
   "outputs": [],
   "source": [
    "matta.student_details()"
   ]
  },
  {
   "cell_type": "code",
   "execution_count": null,
   "id": "dce01465",
   "metadata": {},
   "outputs": [],
   "source": [
    "atuple = (100, 200, 300, 400, 500)\n",
    "\n",
    "print(atuple[-2])\n",
    "\n",
    "print(atuple[-4:-1])\n",
    "\n",
    " "
   ]
  },
  {
   "cell_type": "code",
   "execution_count": null,
   "id": "10fbcb00",
   "metadata": {},
   "outputs": [],
   "source": [
    "atuple = (\"Orange\")\n",
    "\n",
    "print(type(atuple))"
   ]
  },
  {
   "cell_type": "code",
   "execution_count": null,
   "id": "934ab3c4",
   "metadata": {},
   "outputs": [],
   "source": [
    "atuple = (100,)\n",
    "\n",
    "print(atuple * 2)"
   ]
  },
  {
   "cell_type": "code",
   "execution_count": null,
   "id": "10676cd7",
   "metadata": {},
   "outputs": [],
   "source": [
    "dict1 = {\"name\": \"Mike\", \"salary\": 8000}\n",
    "\n",
    "temp = dict1.get(\"age\")\n",
    "\n",
    "print(temp)"
   ]
  },
  {
   "cell_type": "code",
   "execution_count": null,
   "id": "4822d268",
   "metadata": {},
   "outputs": [],
   "source": [
    "dict1 = {\"key1\":1, \"key2\":2}\n",
    "\n",
    "dict2 = {\"key2\":2, \"key1\":1}\n",
    "\n",
    "print(dict1 == dict2)"
   ]
  },
  {
   "cell_type": "markdown",
   "id": "a2241029",
   "metadata": {},
   "source": [
    "Q1. Explain Class and Object with respect to Object-Oriented Programming. Give a suitable example.  \n",
    "Q2. Name the four pillars of OOPs.  \n",
    "Q3. Explain why the __init__() function is used. Give a suitable example.  \n",
    "Q4. Why self is used in OOPs?  \n",
    "Q5. What is inheritance? Give an example for each type of inheritance.  "
   ]
  },
  {
   "cell_type": "markdown",
   "id": "57569b2f",
   "metadata": {},
   "source": [
    "###### Q1. Explain Class and Object with respect to Object-Oriented Programming. Give a suitable example.  \n"
   ]
  },
  {
   "cell_type": "markdown",
   "id": "028d4efc",
   "metadata": {},
   "source": [
    "Q1. In object-oriented programming, a class is a blueprint for creating objects that defines a set of attributes (data) and methods (functions) that objects of that class will have. An object is an instance of a class, created using the class blueprint, that contains its own data and methods. For example, consider a class called Car that has attributes such as color, model, and make, and methods such as start(), stop(), and accelerate(). An object of this class would be a specific car with its own color, model, make, and ability to perform the methods defined in the Car class."
   ]
  },
  {
   "cell_type": "markdown",
   "id": "b95b9b54",
   "metadata": {},
   "source": [
    "###### Q2. Name the four pillars of OOPs.  \n"
   ]
  },
  {
   "cell_type": "markdown",
   "id": "c0a765c0",
   "metadata": {},
   "source": [
    "The four pillars of OOPs are:\n",
    "\n",
    "Encapsulation: the concept of binding data and methods together to protect them from external interference and misuse.  \n",
    "Abstraction: the ability to focus on essential features of an object while ignoring non-essential details.  \n",
    "Inheritance: the ability of a class to inherit attributes and methods from a parent class.  \n",
    "Polymorphism: the ability of an object to take on multiple forms or behave in different ways depending on the context.  "
   ]
  },
  {
   "cell_type": "markdown",
   "id": "be29339e",
   "metadata": {},
   "source": [
    "##### Q3. Explain why the __init__() function is used. Give a suitable example.  \n"
   ]
  },
  {
   "cell_type": "markdown",
   "id": "a2bd8034",
   "metadata": {},
   "source": [
    " The init() function is used to initialize the attributes of an object when it is created. It is called automatically when an object is instantiated from a class, and allows us to set initial values for the object's attributes. For example, consider a class called Person with attributes name and age. The init() function would be used to set the initial values of these attributes for each object of the class, like so:"
   ]
  },
  {
   "cell_type": "code",
   "execution_count": null,
   "id": "2e778b3d",
   "metadata": {},
   "outputs": [],
   "source": [
    "class Person:\n",
    "    def __init__(self, name, age):\n",
    "        self.name = name\n",
    "        self.age = age\n"
   ]
  },
  {
   "cell_type": "markdown",
   "id": "2d1665a9",
   "metadata": {},
   "source": [
    "###### Q4. Why self is used in OOPs?  \n"
   ]
  },
  {
   "cell_type": "markdown",
   "id": "4e5f7ea5",
   "metadata": {},
   "source": [
    "In OOPs, self is used as a reference to the current instance of a class. It is used within class methods to refer to the object that the method is being called on. By using self, we can access the attributes and methods of the object. For example, consider a class called Circle with a method called area() that calculates the area of the circle. The area() method needs to access the radius attribute of the Circle object, which is done using self:"
   ]
  },
  {
   "cell_type": "code",
   "execution_count": null,
   "id": "4d50380b",
   "metadata": {},
   "outputs": [],
   "source": [
    "class Circle:\n",
    "    def __init__(self, radius):\n",
    "        self.radius = radius\n",
    "    \n",
    "    def area(self):\n",
    "        return 3.14 * (self.radius ** 2)\n"
   ]
  },
  {
   "cell_type": "markdown",
   "id": "33573b49",
   "metadata": {},
   "source": [
    "##### Q5. What is inheritance? Give an example for each type of inheritance.  "
   ]
  },
  {
   "cell_type": "markdown",
   "id": "fe5ecaee",
   "metadata": {},
   "source": [
    " Inheritance is the ability of a class to inherit attributes and methods from a parent class. There are four types of inheritance:\n",
    "\n",
    "Single inheritance: when a class inherits from a single parent class.  \n",
    "Multiple inheritance: when a class inherits from multiple parent classes.  \n",
    "Multilevel inheritance: when a class inherits from a parent class, which in turn inherits from another parent class.  \n",
    "Hierarchical inheritance: when multiple classes inherit from a single parent class.  \n",
    "Example for each type of inheritance:  "
   ]
  },
  {
   "cell_type": "code",
   "execution_count": null,
   "id": "5475c09e",
   "metadata": {},
   "outputs": [],
   "source": [
    "class Animal:\n",
    "    def eat(self):\n",
    "        print(\"Eating...\")\n",
    "\n",
    "class Dog(Animal):\n",
    "    def bark(self):\n",
    "        print(\"Barking...\")\n",
    "\n",
    "d = Dog()\n",
    "d.eat()   # Output: Eating...\n",
    "d.bark()  # Output: Barking...\n"
   ]
  },
  {
   "cell_type": "code",
   "execution_count": null,
   "id": "574e81b1",
   "metadata": {},
   "outputs": [],
   "source": [
    "class A:\n",
    "    def foo(self):\n",
    "        print(\"A\")\n",
    "\n",
    "class B:\n",
    "    def foo(self):\n",
    "        print(\"B\")\n",
    "\n",
    "class C(A, B):\n",
    "    pass\n",
    "\n",
    "c = C()\n",
    "c.foo()   # Output: A\n"
   ]
  },
  {
   "cell_type": "code",
   "execution_count": null,
   "id": "fba3f711",
   "metadata": {},
   "outputs": [],
   "source": [
    "class A:\n",
    "    def foo(self):\n",
    "        print(\"A\")\n",
    "\n",
    "class B(A):\n",
    "    pass\n",
    "\n",
    "class C(B):\n",
    "    pass\n",
    "\n",
    "c = C()\n",
    "c.foo()   # Output: A\n"
   ]
  },
  {
   "cell_type": "code",
   "execution_count": null,
   "id": "dcba2ab8",
   "metadata": {},
   "outputs": [],
   "source": [
    "class Animal:\n",
    "    def eat(self\n"
   ]
  },
  {
   "cell_type": "markdown",
   "id": "bb77f2a1",
   "metadata": {},
   "source": [
    "### OOP Challenges"
   ]
  },
  {
   "cell_type": "markdown",
   "id": "24a274e9",
   "metadata": {},
   "source": [
    "##### Q1, Create a vehicle class with an init method having instance variables as name_of_vehicle, max_speed\n",
    "and average_of_vehicle."
   ]
  },
  {
   "cell_type": "code",
   "execution_count": null,
   "id": "83aa2d56",
   "metadata": {},
   "outputs": [],
   "source": [
    "#  example implementation of a Vehicle class with an __init__ method that sets the name_of_vehicle, \n",
    "# max_speed, and average_of_vehicle instance variables:\n",
    "\n",
    "class Vehicle:\n",
    "    def __init__(self, name_of_vehicle, max_speed, average_of_vehicle):\n",
    "        self.name_of_vehicle = name_of_vehicle\n",
    "        self.max_speed = max_speed\n",
    "        self.average_of_vehicle = average_of_vehicle\n"
   ]
  },
  {
   "cell_type": "markdown",
   "id": "ce5b05ac",
   "metadata": {},
   "source": [
    "With this class definition, you can create instances of Vehicle with different names, maximum speeds, and averages, like so:\n",
    "\n"
   ]
  },
  {
   "cell_type": "code",
   "execution_count": null,
   "id": "4da1309d",
   "metadata": {},
   "outputs": [],
   "source": [
    "car = Vehicle(\"Toyota Corolla\", 180, 30)\n",
    "bike = Vehicle(\"Honda CB Unicorn\", 120, 60)\n",
    "\n",
    "#In this example, car and bike are both instances of the Vehicle class, \n",
    "#with their own name_of_vehicle, max_speed, and average_of_vehicle instance variables."
   ]
  },
  {
   "cell_type": "markdown",
   "id": "3923dec9",
   "metadata": {},
   "source": [
    "##### Q2. Create a child class car from the vehicle class created in Que 1, which will inherit the vehicle class.\n",
    "Create a method named seating_capacity which takes capacity as an argument and returns the name of\n",
    "the vehicle and its seating capacity."
   ]
  },
  {
   "cell_type": "code",
   "execution_count": null,
   "id": "107f2a24",
   "metadata": {},
   "outputs": [],
   "source": [
    "class Car(Vehicle):\n",
    "    def __init__(self, name_of_vehicle, max_speed, average_of_vehicle):\n",
    "        super().__init__(name_of_vehicle, max_speed, average_of_vehicle)\n",
    "    \n",
    "    def seating_capacity(self, capacity):\n",
    "        return f\"{self.name_of_vehicle} has a seating capacity of {capacity} persons.\"\n"
   ]
  },
  {
   "cell_type": "markdown",
   "id": "f4e4f654",
   "metadata": {},
   "source": [
    "In this implementation, the Car class inherits from the Vehicle class, and its __init__ method calls the parent class's __init__ method using the super() function.\n",
    "\n",
    "The seating_capacity method takes a capacity argument, which is the seating capacity of the car. The method returns a string that includes the name of the car and its seating capacity.\n",
    "\n",
    "Here's an example of how you can create an instance of the Car class and call the seating_capacity method:"
   ]
  },
  {
   "cell_type": "code",
   "execution_count": null,
   "id": "02726963",
   "metadata": {},
   "outputs": [],
   "source": [
    "my_car = Car(\"Toyota Corolla\", 180, 30)\n",
    "print(my_car.seating_capacity(5))\n",
    "# Output: Toyota Corolla has a seating capacity of 5 persons.\n"
   ]
  },
  {
   "cell_type": "markdown",
   "id": "0a6a9be1",
   "metadata": {},
   "source": [
    "##### Q3. What is multiple inheritance? Write a python code to demonstrate multiple inheritance."
   ]
  },
  {
   "cell_type": "markdown",
   "id": "58807435",
   "metadata": {},
   "source": [
    "Multiple inheritance is a feature in object-oriented programming languages, including Python, where a class can inherit from multiple parent classes. This allows the child class to inherit the attributes and methods of all its parent classes."
   ]
  },
  {
   "cell_type": "code",
   "execution_count": null,
   "id": "81f264e5",
   "metadata": {},
   "outputs": [],
   "source": [
    "class A:\n",
    "    def method_A(self):\n",
    "        print(\"This is method A\")\n",
    "\n",
    "class B:\n",
    "    def method_B(self):\n",
    "        print(\"This is method B\")\n",
    "\n",
    "class C(A, B):\n",
    "    def method_C(self):\n",
    "        print(\"This is method C\")\n",
    "\n",
    "obj = C()\n",
    "obj.method_A() # This is method A\n",
    "obj.method_B() # This is method B\n",
    "obj.method_C() # This is method C\n"
   ]
  },
  {
   "cell_type": "markdown",
   "id": "e436320e",
   "metadata": {},
   "source": [
    "In this example, we have three classes: A, B, and C. Classes A and B are the parent classes, and class C is the child class that inherits from both A and B.  \n",
    "\n",
    "Class A has a method method_A, class B has a method method_B, and class C has a method method_C. The child class C inherits the methods of both A and B.  \n",
    "\n",
    "We create an object obj of the C class and call its methods method_A, method_B, and method_C. Since C inherits from both A and B, we can call methods from both parent classes.  "
   ]
  },
  {
   "cell_type": "markdown",
   "id": "922c6362",
   "metadata": {},
   "source": [
    "##### Q4. What are getter and setter in python? Create a class and create a getter and a setter method in this class."
   ]
  },
  {
   "cell_type": "markdown",
   "id": "53c75e68",
   "metadata": {},
   "source": [
    "Getter methods are used to access the private attributes of a class. They are used to retrieve the values of private attributes without accessing them directly.\n",
    "\n",
    "Setter methods are used to modify the private attributes of a class. They are used to set the values of private attributes without modifying them directly."
   ]
  },
  {
   "cell_type": "code",
   "execution_count": null,
   "id": "6aa7608f",
   "metadata": {},
   "outputs": [],
   "source": [
    "class Person:\n",
    "    def __init__(self, name, age):\n",
    "        self.name = name\n",
    "        self.__age = age\n",
    "\n",
    "    def get_age(self):\n",
    "        return self.__age\n",
    "\n",
    "    def set_age(self, age):\n",
    "        if age > 0:\n",
    "            self.__age = age\n",
    "        else:\n",
    "            print(\"Age should be greater than 0.\")\n",
    "\n",
    "person = Person(\"John\", 30)\n",
    "print(person.get_age()) # Output: 30\n",
    "person.set_age(40)\n",
    "print(person.get_age()) # Output: 40\n",
    "person.set_age(-10) # Output: Age should be greater than 0.\n"
   ]
  },
  {
   "cell_type": "markdown",
   "id": "a25bda4d",
   "metadata": {},
   "source": [
    "In this example, the Person class has a private attribute __age which can only be accessed and modified through its getter and setter methods. The __init__ method sets the name and __age instance variables.\n",
    "\n",
    "The get_age method is a getter method that returns the value of the private attribute __age. The set_age method is a setter method that sets the value of the private attribute __age only if the new value is greater than 0.\n",
    "\n",
    "We create an instance of the Person class and call its getter and setter methods to retrieve and modify the private attribute __age. When we set the age to a negative value, the setter method prints an error message."
   ]
  },
  {
   "cell_type": "markdown",
   "id": "bcb6095d",
   "metadata": {},
   "source": [
    "##### 5.What is method overriding in python? Write a python code to demonstrate method overriding."
   ]
  },
  {
   "cell_type": "markdown",
   "id": "aaa42f0b",
   "metadata": {},
   "source": [
    "Method overriding is a feature in object-oriented programming languages, including Python, where a child class can provide its own implementation of a method that is already defined in its parent class. This allows the child class to change the behavior of the method inherited from the parent class."
   ]
  },
  {
   "cell_type": "code",
   "execution_count": null,
   "id": "a456a372",
   "metadata": {},
   "outputs": [],
   "source": [
    "class Animal:\n",
    "    def sound(self):\n",
    "        print(\"This animal makes a sound.\")\n",
    "\n",
    "class Cat(Animal):\n",
    "    def sound(self):\n",
    "        print(\"Meow!\")\n",
    "\n",
    "class Dog(Animal):\n",
    "    def sound(self):\n",
    "        print(\"Woof!\")\n",
    "\n",
    "animal = Animal()\n",
    "cat = Cat()\n",
    "dog = Dog()\n",
    "\n",
    "animal.sound() # This animal makes a sound.\n",
    "cat.sound() # Meow!\n",
    "dog.sound() # Woof!\n"
   ]
  },
  {
   "cell_type": "markdown",
   "id": "97518de8",
   "metadata": {},
   "source": [
    "#### Abstract Class : \n",
    "\n",
    "If you do not use the @abstractmethod decorator, then the method in the abstract base class is treated like any other regular method. This means that concrete subclasses are not required to implement it, but they can still choose to do so if they want.\n",
    "\n",
    "If a concrete subclass does not implement an abstract method defined in the abstract base class, then attempting to create an instance of that subclass will raise a TypeError with a message indicating that the abstract method was not implemented.\n",
    "\n",
    "In terms of attributes, child classes inherit all the attributes and methods of their parent class, whether they are abstract or not. Child classes can also define their own attributes and methods, which will be specific to that child class.\n",
    "\n",
    "So, if a child class does not implement an abstract method, it will still inherit the method from its parent class (which may or may not have a default implementation). However, if the child class attempts to instantiate an object without providing an implementation for the abstract method, it will raise a TypeError.\n",
    "\n",
    "It's worth noting that abstract classes are used to define interfaces rather than concrete implementations. By defining an abstract class with abstract methods, you are essentially saying that any concrete subclass must implement those methods in order to be considered a valid implementation of the interface."
   ]
  },
  {
   "cell_type": "code",
   "execution_count": null,
   "id": "2dee38de",
   "metadata": {},
   "outputs": [],
   "source": [
    "from abc import ABC, abstractmethod\n",
    "\n",
    "class Animal(ABC):\n",
    "    @abstractmethod\n",
    "    def make_sound(self):\n",
    "        pass\n",
    "\n",
    "class Dog(Animal):\n",
    "    def make_sound(self):\n",
    "        return \"Woof!\"\n",
    "\n",
    "class Cat(Animal):\n",
    "    def make_sound(self):\n",
    "        return \"Meow!\"\n",
    "\n",
    "# create instances of the concrete subclasses\n",
    "dog = Dog()\n",
    "cat = Cat()\n",
    "\n",
    "# call the make_sound method on each instance\n",
    "print(\"Dog says:\", dog.make_sound())\n",
    "print(\"Cat says:\", cat.make_sound())\n"
   ]
  },
  {
   "cell_type": "markdown",
   "id": "72f37a2b",
   "metadata": {},
   "source": [
    "In this example, we define an abstract base class Animal with an abstract method speak. We then define a concrete subclass Dog that implements its own method bark, but fails to implement the abstract method speak.\n",
    "\n",
    "We create an instance of Dog and call its bark method, which works fine because it is defined in the Dog class. However, when we try to call the speak method (which is not defined in Dog), a TypeError is raised because Dog does not provide an implementation for the abstract speak method:"
   ]
  },
  {
   "cell_type": "code",
   "execution_count": null,
   "id": "0f21e7fa",
   "metadata": {},
   "outputs": [],
   "source": [
    "from abc import ABC, abstractmethod\n",
    "\n",
    "class Animal(ABC):\n",
    "    def __init__(self, name, age):\n",
    "        self.name = name\n",
    "        self.age = age\n",
    "\n",
    "    @abstractmethod\n",
    "    def speak(self):\n",
    "        pass\n",
    "\n",
    "class Dog(Animal):\n",
    "    def __init__(self, name, age, breed):\n",
    "        super().__init__(name, age)\n",
    "        self.breed = breed\n",
    "\n",
    "    def bark(self):\n",
    "        print(\"Woof!\")\n",
    "\n",
    "dog = Dog(\"Buddy\", 3, \"Golden Retriever\")\n",
    "dog.bark()  # This will work fine\n",
    "print(dog.speak())  # This will raise a TypeError\n"
   ]
  },
  {
   "cell_type": "code",
   "execution_count": null,
   "id": "5a51d6f4",
   "metadata": {},
   "outputs": [],
   "source": [
    "from abc import ABC, abstractmethod\n",
    "\n",
    "class Animal(ABC):\n",
    "    def __init__(self, name, age):\n",
    "        self.name = name\n",
    "        self.age = age\n",
    "\n",
    "    @abstractmethod\n",
    "    def speak(self):\n",
    "        pass\n",
    "\n",
    "class Dog(Animal):\n",
    "    def __init__(self, name, age, breed):\n",
    "        super().__init__(name, age)\n",
    "        self.breed = breed\n",
    "\n",
    "    def speak(self):\n",
    "        return \"Woof!\"\n",
    "\n",
    "dog = Dog(\"Buddy\", 3, \"Golden Retriever\")\n",
    "print(dog.speak())  # This will work fine\n"
   ]
  },
  {
   "cell_type": "markdown",
   "id": "0d7a4fce",
   "metadata": {},
   "source": [
    "### OOPS Concept"
   ]
  },
  {
   "cell_type": "markdown",
   "id": "d21dda18",
   "metadata": {},
   "source": [
    "###### Decorators"
   ]
  },
  {
   "cell_type": "markdown",
   "id": "de0f1048",
   "metadata": {},
   "source": [
    "In Python, decorators are a way to modify the behavior of a function or class without modifying its source code. Decorators allow you to wrap a function or class with another function or class that can add behavior, modify input or output, or provide additional functionality.\n",
    "\n",
    "Decorators are implemented using the @decorator syntax. You simply define a decorator function, and then apply it to the function or class you want to modify by placing the decorator function name above the target function or class definition.\n",
    "\n",
    "Here's a simple example of a decorator that adds a \"Hello, world!\" message to a function:"
   ]
  },
  {
   "cell_type": "code",
   "execution_count": null,
   "id": "f1755c24",
   "metadata": {},
   "outputs": [],
   "source": [
    "def hello_decorator(func):\n",
    "    def wrapper():\n",
    "        print(\"Hello, world!\")\n",
    "        func()\n",
    "    return wrapper\n",
    "\n",
    "@hello_decorator\n",
    "def my_function():\n",
    "    print(\"This is my function.\")\n",
    "\n",
    "my_function()\n"
   ]
  },
  {
   "cell_type": "code",
   "execution_count": null,
   "id": "044b5990",
   "metadata": {},
   "outputs": [],
   "source": [
    "import time\n",
    "\n",
    "def rate_limited(max_per_second):\n",
    "    min_interval = 1.0 / float(max_per_second)\n",
    "    last_time = time.monotonic()\n",
    "\n",
    "    def decorate(func):\n",
    "        nonlocal last_time\n",
    "        def rate_limited_func(*args, **kwargs):\n",
    "            nonlocal last_time\n",
    "            elapsed = time.monotonic() - last_time\n",
    "            left_to_wait = min_interval - elapsed\n",
    "            if left_to_wait > 0:\n",
    "                time.sleep(left_to_wait)\n",
    "            result = func(*args, **kwargs)\n",
    "            last_time = time.monotonic()\n",
    "            return result\n",
    "        return rate_limited_func\n",
    "    return decorate\n",
    "\n",
    "@rate_limited(2)\n",
    "def print_message(message):\n",
    "    print(message)\n",
    "\n",
    "print_message(\"Hello, world!\")\n",
    "print_message(\"Hello, again!\")\n",
    "print_message(\"One more time!\")\n"
   ]
  },
  {
   "cell_type": "code",
   "execution_count": null,
   "id": "8f472aa6",
   "metadata": {},
   "outputs": [],
   "source": [
    "def double_result(func):\n",
    "    \"\"\"\n",
    "    A decorator function that takes a function as an argument and returns a new function that doubles its output.\n",
    "    \"\"\"\n",
    "\n",
    "    def wrapper(*args, **kwargs):\n",
    "        \"\"\"\n",
    "        The wrapper function that replaces the original function. It takes any number of arguments and keyword arguments,\n",
    "        passes them to the original function, and then doubles the result.\n",
    "        \"\"\"\n",
    "        result = func(*args, **kwargs)  # Call the original function\n",
    "        return result * 2  # Double the result\n",
    "\n",
    "    return wrapper  # Return the new function\n",
    "\n",
    "\n",
    "@double_result\n",
    "def add(a, b):\n",
    "    \"\"\"\n",
    "    A simple function that takes two numbers and returns their sum.\n",
    "    \"\"\"\n",
    "    return a + b\n",
    "\n",
    "\n",
    "# Call the decorated function\n",
    "result = add(5, 10)\n",
    "print(result)  # Output: 30\n"
   ]
  },
  {
   "cell_type": "markdown",
   "id": "23d4a6b7",
   "metadata": {},
   "source": [
    "In this example, we define a decorator function double_result that takes a function as its argument and returns a new function that doubles the output of the original function. Here's how it works:\n",
    "\n",
    "\n",
    "\n",
    "We define the double_result function with one parameter, func, which is the function we want to decorate.\n",
    "Inside the double_result function, we define a new function called wrapper, which replaces the original function. This function takes any number of positional and keyword arguments (*args and **kwargs), passes them to the original function using the func(*args, **kwargs) syntax, and then doubles the result of the original function by multiplying it with 2.\n",
    "We return the wrapper function, which is the new function that replaces the original function.\n",
    "We use the @double_result syntax to apply the decorator function to the add function. This is equivalent to calling add = double_result(add).\n",
    "\n",
    "\n",
    "\n",
    "\n",
    "Finally, we call the decorated function add with the arguments 5 and 10, and store the result in the variable result. When we print result, we see that the decorator function has doubled the output of the add function.\n",
    "So, in summary, the double_result decorator function takes a function as an argument, defines a new function that replaces the original function, and returns the new function. The new function doubles the output of the original function, which adds some extra functionality to the original function without changing its core logic. The @double_result syntax applies the decorator to the add function, which causes the decorator to be called every time the add function is called, effectively modifying its behavior."
   ]
  },
  {
   "cell_type": "code",
   "execution_count": null,
   "id": "b5a000bb",
   "metadata": {},
   "outputs": [],
   "source": [
    "def memoize(func):\n",
    "    \"\"\"\n",
    "    A decorator function that caches the output of a function to improve performance.\n",
    "    \"\"\"\n",
    "\n",
    "    cache = {}\n",
    "\n",
    "    def wrapper(*args):\n",
    "        \"\"\"\n",
    "        The wrapper function that replaces the original function. It takes any number of arguments,\n",
    "        checks if the function has already been called with those arguments, and returns the cached result\n",
    "        if available, otherwise it calls the original function and stores the result in the cache.\n",
    "        \"\"\"\n",
    "        if args in cache:\n",
    "            # If the function has already been called with these arguments, return the cached result\n",
    "            return cache[args]\n",
    "        else:\n",
    "            # Otherwise, call the original function and store the result in the cache\n",
    "            result = func(*args)\n",
    "            cache[args] = result\n",
    "            return result\n",
    "\n",
    "    return wrapper\n",
    "\n",
    "\n",
    "@memoize\n",
    "def fibonacci(n):\n",
    "    \"\"\"\n",
    "    A recursive function that calculates the nth number in the Fibonacci sequence.\n",
    "    \"\"\"\n",
    "    if n < 2:\n",
    "        return n\n",
    "    else:\n",
    "        return fibonacci(n - 1) + fibonacci(n - 2)\n",
    "\n",
    "\n",
    "# Call the decorated function\n",
    "result = fibonacci(20)\n",
    "print(result)  # Output: 6765\n"
   ]
  },
  {
   "cell_type": "markdown",
   "id": "e3ee8b08",
   "metadata": {},
   "source": [
    "In this example, we define a decorator function memoize that caches the output of a function to improve performance. Here's how it works:\n",
    "\n",
    "We define the memoize function with one parameter, func, which is the function we want to decorate.\n",
    "Inside the memoize function, we define a dictionary cache that will store the cached results.\n",
    "We define a new function called wrapper, which replaces the original function. This function takes any number of positional arguments (*args), checks if the function has already been called with those arguments by looking up the args tuple in the cache dictionary, and returns the cached result if available. If the result is not available in the cache, it calls the original function with the same arguments, stores the result in the cache dictionary, and returns the result.\n",
    "We return the wrapper function, which is the new function that replaces the original function.\n",
    "We use the @memoize syntax to apply the decorator function to the fibonacci function. This is equivalent to calling fibonacci = memoize(fibonacci).\n",
    "\n",
    "\n",
    "Finally, we call the decorated function fibonacci with the argument 20, and store the result in the variable result. When we print result, we see that the decorator function has cached the results of the fibonacci function, which speeds up the computation significantly.\n",
    "\n",
    "\n",
    "So, in summary, the memoize decorator function takes a function as an argument, defines a new function that replaces the original function, and returns the new function. The new function caches the output of the original function to improve performance, which is especially useful for expensive computations or recursive functions. The @memoize syntax applies the decorator to the fibonacci function, which causes the decorator to be called every time the fibonacci function is called, effectively modifying its behavior"
   ]
  },
  {
   "cell_type": "code",
   "execution_count": null,
   "id": "f3548092",
   "metadata": {},
   "outputs": [],
   "source": [
    "import time\n",
    "\n",
    "def timer(func):\n",
    "    def wrapper(*args, **kwargs):\n",
    "        start_time = time.time()\n",
    "        result = func(*args, **kwargs)\n",
    "        end_time = time.time()\n",
    "        print(f\"Time taken: {end_time - start_time:.6f} seconds\")\n",
    "        return result\n",
    "    return wrapper\n",
    "\n",
    "@timer\n",
    "def my_function():\n",
    "    time.sleep(2)\n",
    "    return \"Done\"\n",
    "\n",
    "result = my_function()\n",
    "print(result)\n"
   ]
  },
  {
   "cell_type": "markdown",
   "id": "5fa8aa42",
   "metadata": {},
   "source": [
    "In this example, the timer function is a decorator that takes a function as its argument and returns a wrapper function. The wrapper function calls the original function and calculates the time taken to execute it. The @timer decorator is applied to the my_function function, which calculates the time taken to execute the time.sleep(2) statement and returns the string \"Done\". Finally, the result of my_function is printed along with the time taken to execute it."
   ]
  },
  {
   "cell_type": "code",
   "execution_count": null,
   "id": "1eeffcd1",
   "metadata": {},
   "outputs": [],
   "source": [
    "def deco(func):\n",
    "    def inner_deco():\n",
    "        print(\"This is the start of my function\")\n",
    "        func()\n",
    "        print(\"This is the end of my Function\")\n",
    "    return inner_deco"
   ]
  },
  {
   "cell_type": "code",
   "execution_count": null,
   "id": "80f37a5a",
   "metadata": {},
   "outputs": [],
   "source": [
    "def test1():\n",
    "    print(4+5)"
   ]
  },
  {
   "cell_type": "code",
   "execution_count": null,
   "id": "60014d0f",
   "metadata": {},
   "outputs": [],
   "source": [
    "test1()"
   ]
  },
  {
   "cell_type": "code",
   "execution_count": null,
   "id": "839f6adf",
   "metadata": {},
   "outputs": [],
   "source": [
    "@deco\n",
    "def test1():\n",
    "    print(4+5)"
   ]
  },
  {
   "cell_type": "code",
   "execution_count": null,
   "id": "f8e6fb50",
   "metadata": {},
   "outputs": [],
   "source": [
    "test1()"
   ]
  },
  {
   "cell_type": "code",
   "execution_count": null,
   "id": "f567271d",
   "metadata": {},
   "outputs": [],
   "source": [
    "import time\n",
    "def time_complexity(func):\n",
    "    def timer_test_inner():\n",
    "        start = time.time()\n",
    "        func()\n",
    "        end = time.time()\n",
    "        print(end-start)\n",
    "    return timer_test_inner\n",
    "    \n",
    "    "
   ]
  },
  {
   "cell_type": "code",
   "execution_count": null,
   "id": "94875a17",
   "metadata": {},
   "outputs": [],
   "source": [
    "@time_complexity\n",
    "def test2():\n",
    "    print(45+45)"
   ]
  },
  {
   "cell_type": "code",
   "execution_count": null,
   "id": "ad7fe700",
   "metadata": {},
   "outputs": [],
   "source": [
    "test2()"
   ]
  },
  {
   "cell_type": "code",
   "execution_count": null,
   "id": "ced313a4",
   "metadata": {},
   "outputs": [],
   "source": [
    "@time_complexity\n",
    "def test3():\n",
    "    for i in range (100000):\n",
    "        pass"
   ]
  },
  {
   "cell_type": "code",
   "execution_count": null,
   "id": "fcc81642",
   "metadata": {},
   "outputs": [],
   "source": [
    "test3()"
   ]
  },
  {
   "cell_type": "markdown",
   "id": "4437d273",
   "metadata": {},
   "source": [
    "### Class Methods"
   ]
  },
  {
   "cell_type": "code",
   "execution_count": null,
   "id": "1a366fee",
   "metadata": {},
   "outputs": [],
   "source": [
    "class pwskills:\n",
    "    def __init__(self, name, email):\n",
    "        self.name=name\n",
    "        self.email=email\n",
    "        \n",
    "        def student_details(self):\n",
    "            print(self.name, self.email)"
   ]
  },
  {
   "cell_type": "code",
   "execution_count": null,
   "id": "75ae534c",
   "metadata": {},
   "outputs": [],
   "source": [
    "pw = pwskills(\"Matta\", \"matta@matta.com\")"
   ]
  },
  {
   "cell_type": "code",
   "execution_count": null,
   "id": "d57a9ce8",
   "metadata": {},
   "outputs": [],
   "source": [
    "pw.name"
   ]
  },
  {
   "cell_type": "code",
   "execution_count": null,
   "id": "50c42297",
   "metadata": {},
   "outputs": [],
   "source": [
    "pw.email"
   ]
  },
  {
   "cell_type": "code",
   "execution_count": null,
   "id": "41d1435e",
   "metadata": {},
   "outputs": [],
   "source": [
    "class pwskills1:\n",
    "    def __init__(self, name, email):\n",
    "        self.name=name\n",
    "        self.email=email\n",
    "        \n",
    "    @classmethod\n",
    "    def details(cls,name,email):\n",
    "        return cls(name,email)\n",
    "        \n",
    "    def student_details(self):\n",
    "        print(self.name, self.email)"
   ]
  },
  {
   "cell_type": "code",
   "execution_count": null,
   "id": "deff59fe",
   "metadata": {},
   "outputs": [],
   "source": [
    "pw1 = pwskills1.details(\"Matta\",\"Matta@matta.com\")"
   ]
  },
  {
   "cell_type": "code",
   "execution_count": null,
   "id": "3c5da823",
   "metadata": {},
   "outputs": [],
   "source": [
    "pw1.name"
   ]
  },
  {
   "cell_type": "code",
   "execution_count": null,
   "id": "ada7f5fb",
   "metadata": {},
   "outputs": [],
   "source": [
    "pw1.email"
   ]
  },
  {
   "cell_type": "code",
   "execution_count": null,
   "id": "6b1b341e",
   "metadata": {},
   "outputs": [],
   "source": [
    "pw1.student_details()"
   ]
  },
  {
   "cell_type": "code",
   "execution_count": null,
   "id": "7aeaeef3",
   "metadata": {},
   "outputs": [],
   "source": [
    "class pwskills2:\n",
    "    \n",
    "    mobile_number = 9885656565\n",
    "    \n",
    "    def __init__(self, name, email):\n",
    "        self.name=name\n",
    "        self.email=email\n",
    "     \n",
    "    @classmethod\n",
    "    def change_number(cls,mobile):\n",
    "        pwskills2.mobile_number= mobile\n",
    "        \n",
    "    @classmethod\n",
    "    def details(cls,name,email):\n",
    "        return cls(name,email)\n",
    "        \n",
    "    def student_details(self):\n",
    "        print(self.name, self.email, pwskills2.mobile_number)"
   ]
  },
  {
   "cell_type": "code",
   "execution_count": null,
   "id": "fd34f318",
   "metadata": {},
   "outputs": [],
   "source": [
    "pwskills2.mobile_number"
   ]
  },
  {
   "cell_type": "code",
   "execution_count": null,
   "id": "f7f62df2",
   "metadata": {},
   "outputs": [],
   "source": [
    "pwskills2.change_number(98856555565)"
   ]
  },
  {
   "cell_type": "code",
   "execution_count": null,
   "id": "ffecae96",
   "metadata": {},
   "outputs": [],
   "source": [
    "pwskills2.mobile_number"
   ]
  },
  {
   "cell_type": "code",
   "execution_count": null,
   "id": "90ea1276",
   "metadata": {},
   "outputs": [],
   "source": [
    "pwww=pwskills2.details(\"Matta\",\"matta@gmail.com\")"
   ]
  },
  {
   "cell_type": "code",
   "execution_count": null,
   "id": "57a3e82f",
   "metadata": {},
   "outputs": [],
   "source": [
    "pwww.student_details()"
   ]
  },
  {
   "cell_type": "code",
   "execution_count": null,
   "id": "02032ed1",
   "metadata": {},
   "outputs": [],
   "source": [
    "def validate_password():\n",
    "    password = input(\"Please enter a password: \").strip()\n",
    "    if len(password) != 10:\n",
    "        return \"Invalid Password: Password should be exactly 10 characters long\"\n",
    "    \n",
    "    uppercase_count = 0\n",
    "    lowercase_count = 0\n",
    "    digit_count = 0\n",
    "    special_count = 0\n",
    "    for char in password:\n",
    "        if char.isupper():\n",
    "            uppercase_count += 1\n",
    "        elif char.islower():\n",
    "            lowercase_count += 1\n",
    "        elif char.isdigit():\n",
    "            digit_count += 1\n",
    "        elif not char.isalnum() and char != \" \":\n",
    "            special_count += 1\n",
    "    \n",
    "    if uppercase_count < 2:\n",
    "        return \"Invalid Password: Password should contain at least two uppercase letters\"\n",
    "    elif lowercase_count < 2:\n",
    "        return \"Invalid Password: Password should contain at least two lowercase letters\"\n",
    "    elif digit_count < 1:\n",
    "        return \"Invalid Password: Password should contain at least one digit\"\n",
    "    elif special_count < 3:\n",
    "        return \"Invalid Password: Password should contain at least three special characters\"\n",
    "    \n",
    "    return \"Valid Password\"\n",
    "\n",
    "# call the function to check the password\n",
    "print(validate_password())\n"
   ]
  },
  {
   "cell_type": "markdown",
   "id": "9f0dd3f1",
   "metadata": {},
   "source": [
    "### Static Method"
   ]
  },
  {
   "cell_type": "code",
   "execution_count": null,
   "id": "f89ea1c8",
   "metadata": {},
   "outputs": [],
   "source": [
    "class pwskills1:\n",
    "    def student_details(self,name,mail_id,number):\n",
    "        print(name,mail_id,number)\n",
    "        \n",
    "    @staticmethod\n",
    "    def mentor_class(list_mentod):\n",
    "        print(list_mentor)\n",
    "        \n",
    "    def mentor (self, mentor_list):\n",
    "        print(mentor_list)"
   ]
  },
  {
   "cell_type": "markdown",
   "id": "0310a932",
   "metadata": {},
   "source": [
    "### Static, CLass and Normal Class Methods with example "
   ]
  },
  {
   "cell_type": "code",
   "execution_count": null,
   "id": "cba2be30",
   "metadata": {},
   "outputs": [],
   "source": [
    "class MyClass:\n",
    "    \n",
    "    class_variable = 10  # class variable\n",
    "    \n",
    "    def __init__(self, instance_variable):\n",
    "        self.instance_variable = instance_variable\n",
    "    \n",
    "    def instance_method(self):  # normal instance method\n",
    "        \"\"\"This is an instance method.\n",
    "        It can access the instance variable and class variable\n",
    "        \"\"\"\n",
    "        print(f\"Instance method called with instance variable: {self.instance_variable} and class variable: {MyClass.class_variable}\")\n",
    "    \n",
    "    @staticmethod\n",
    "    def static_method():  # static method\n",
    "        \"\"\"This is a static method.\n",
    "        It cannot access the instance variable but can access the class variable.\n",
    "        \"\"\"\n",
    "        print(f\"Static method called with class variable: {MyClass.class_variable}\")\n",
    "    \n",
    "    @classmethod\n",
    "    def class_method(cls):  # class method\n",
    "        \"\"\"This is a class method.\n",
    "        It can access the class variable but not the instance variable.\n",
    "        \"\"\"\n",
    "        print(f\"Class method called with class variable: {cls.class_variable}\")\n",
    "\n"
   ]
  },
  {
   "cell_type": "markdown",
   "id": "c138b4b6",
   "metadata": {},
   "source": [
    "In the above code, we have a class called MyClass which has three different types of methods: normal instance method, static method, and class method. Here's a detailed explanation of each of these methods:  \n",
    "\n",
    "Normal Instance Method: This is a regular method that we define in a class. It takes self as its first parameter, which refers to the instance of the class that called the method. An instance method can access both instance variables and class variables. An instance method is used when we need to modify the state of the object. For example, instance_method is an instance method that can access both instance and class variables.   \n",
    "\n",
    "Static Method: This is a special type of method that does not take self as its first parameter. Instead, it is decorated with the @staticmethod decorator. A static method can access class variables but cannot access instance variables. We use static methods when we don't need to modify the state of the object but need to perform some operation related to the class. For example, static_method is a static method that can access only class variables.  \n",
    "\n",
    "Class Method: This is another special type of method that takes cls as its first parameter, which refers to the class that called the method. A class method is also decorated with the @classmethod decorator. A class method can access class variables but cannot access instance variables. We use class methods when we need to perform some operation related to the class, but not necessarily the instance. For example, class_method is a class method that can access only class variables.  \n",
    "\n",
    "Overall, these three methods serve different purposes in a class, and it's important to understand when to use each one."
   ]
  },
  {
   "cell_type": "code",
   "execution_count": null,
   "id": "add43e9d",
   "metadata": {},
   "outputs": [],
   "source": [
    "class MyClass:\n",
    "    class_variable = \"This is a class variable.\"\n",
    "\n",
    "    def __init__(self, instance_variable):\n",
    "        self.instance_variable = instance_variable\n",
    "\n",
    "    # Normal instance method - can be called on object of the class\n",
    "    def instance_method(self):\n",
    "        print(\"This is an instance method.\")\n",
    "        print(f\"Instance variable value: {self.instance_variable}\")\n",
    "        print(f\"Class variable value: {MyClass.class_variable}\")\n",
    "    \n",
    "    # Class method - can be called on class directly\n",
    "    @classmethod\n",
    "    def class_method(cls):\n",
    "        print(\"This is a class method.\")\n",
    "        print(f\"Class variable value: {cls.class_variable}\")\n",
    "    \n",
    "    # Static method - can be called on class directly\n",
    "    @staticmethod\n",
    "    def static_method():\n",
    "        print(\"This is a static method.\")\n",
    "        print(f\"Class variable value: {MyClass.class_variable}\")\n",
    "\n",
    "# Calling normal instance method with object\n",
    "obj = MyClass(\"This is an instance variable.\")\n",
    "obj.instance_method()\n",
    "\n",
    "# Calling class method with class\n",
    "MyClass.class_method()\n",
    "\n",
    "# Calling static method with class\n",
    "MyClass.static_method()\n"
   ]
  },
  {
   "cell_type": "markdown",
   "id": "c514b195",
   "metadata": {},
   "source": [
    "### Real World applications example for Class "
   ]
  },
  {
   "cell_type": "code",
   "execution_count": null,
   "id": "9e32302a",
   "metadata": {},
   "outputs": [],
   "source": [
    "class BankAccount:\n",
    "    def __init__(self, account_holder_name, account_number, balance):\n",
    "        self.account_holder_name = account_holder_name\n",
    "        self.account_number = account_number\n",
    "        self.balance = balance\n",
    "    \n",
    "    def deposit(self, amount):\n",
    "        self.balance += amount\n",
    "        \n",
    "    def withdraw(self, amount):\n",
    "        if self.balance >= amount:\n",
    "            self.balance -= amount\n",
    "        else:\n",
    "            print(\"Insufficient balance\")\n",
    "            \n",
    "    def check_balance(self):\n",
    "        print(f\"Account balance: {self.balance}\")\n"
   ]
  },
  {
   "cell_type": "code",
   "execution_count": null,
   "id": "9383de7f",
   "metadata": {},
   "outputs": [],
   "source": [
    "account1 = BankAccount(\"Matta\", \"1234567890\", 1000)\n",
    "account1.deposit(500)\n",
    "account1.check_balance() # Output: Account balance: 1500\n",
    "account1.withdraw(2000) # Output: Insufficient balance\n"
   ]
  },
  {
   "cell_type": "code",
   "execution_count": null,
   "id": "21b07027",
   "metadata": {},
   "outputs": [],
   "source": [
    "class Product:\n",
    "    def __init__(self, name, price, quantity):\n",
    "        self.name = name\n",
    "        self.price = price\n",
    "        self.quantity = quantity\n",
    "    \n",
    "    def add_to_cart(self, quantity):\n",
    "        self.quantity += quantity\n",
    "        \n",
    "    def remove_from_cart(self, quantity):\n",
    "        if self.quantity >= quantity:\n",
    "            self.quantity -= quantity\n",
    "        else:\n",
    "            print(\"Insufficient quantity\")\n",
    "            \n",
    "    def calculate_total_price(self):\n",
    "        return self.price * self.quantity\n"
   ]
  },
  {
   "cell_type": "code",
   "execution_count": null,
   "id": "7637e177",
   "metadata": {},
   "outputs": [],
   "source": [
    "product1 = Product(\"iPhone 13\", 999, 1)\n",
    "product1.add_to_cart(2)\n",
    "product1.remove_from_cart(1)\n",
    "print(product1.calculate_total_price()) # Output: 1998\n"
   ]
  },
  {
   "cell_type": "code",
   "execution_count": null,
   "id": "6069c4e9",
   "metadata": {},
   "outputs": [],
   "source": [
    "class BankClassMethod:\n",
    "    bank_name = \"ABC Bank\"\n",
    "    interest_rate = 0.05\n",
    "    \n",
    "    def __init__(self, account_number, balance):\n",
    "        self.account_number = account_number\n",
    "        self.balance = balance\n",
    "    \n",
    "    @classmethod\n",
    "    def set_interest_rate(cls, new_rate):\n",
    "        cls.interest_rate = new_rate\n",
    "    \n",
    "    def deposit(self, amount):\n",
    "        self.balance += amount\n",
    "    \n",
    "    def withdraw(self, amount):\n",
    "        if amount <= self.balance:\n",
    "            self.balance -= amount\n",
    "        else:\n",
    "            print(\"Insufficient balance.\")\n",
    "    \n",
    "    def get_balance(self):\n",
    "        return self.balance\n",
    "\n",
    "\n",
    "class BankStaticMethod:\n",
    "    bank_name = \"XYZ Bank\"\n",
    "    interest_rate = 0.05\n",
    "    \n",
    "    def __init__(self, account_number, balance):\n",
    "        self.account_number = account_number\n",
    "        self.balance = balance\n",
    "    \n",
    "    @staticmethod\n",
    "    def calculate_interest(balance, rate):\n",
    "        return balance * rate\n",
    "    \n",
    "    def deposit(self, amount):\n",
    "        self.balance += amount\n",
    "    \n",
    "    def withdraw(self, amount):\n",
    "        if amount <= self.balance:\n",
    "            self.balance -= amount\n",
    "        else:\n",
    "            print(\"Insufficient balance.\")\n",
    "    \n",
    "    def get_balance(self):\n",
    "        return self.balance\n"
   ]
  },
  {
   "cell_type": "markdown",
   "id": "6339e08a",
   "metadata": {},
   "source": [
    "In the BankClassMethod class, the set_interest_rate method is a class method that can be used to set the interest rate for all accounts of the bank. We can call it using the class name without creating an object:"
   ]
  },
  {
   "cell_type": "code",
   "execution_count": null,
   "id": "e6fb7f4d",
   "metadata": {},
   "outputs": [],
   "source": [
    "BankClassMethod.set_interest_rate(0.06)\n"
   ]
  },
  {
   "cell_type": "markdown",
   "id": "bef2654a",
   "metadata": {},
   "source": [
    "In the BankStaticMethod class, the calculate_interest method is a static method that calculates the interest based on the given balance and rate. We can call it using the class name without creating an object:"
   ]
  },
  {
   "cell_type": "code",
   "execution_count": null,
   "id": "96113c74",
   "metadata": {},
   "outputs": [],
   "source": [
    "BankStaticMethod.calculate_interest(1000, 0.05)\n"
   ]
  },
  {
   "cell_type": "markdown",
   "id": "1f93161c",
   "metadata": {},
   "source": [
    "#### Shopping Example "
   ]
  },
  {
   "cell_type": "code",
   "execution_count": null,
   "id": "7736dfff",
   "metadata": {},
   "outputs": [],
   "source": [
    "class ShoppingCart:\n",
    "    def __init__(self):\n",
    "        self.items = []\n",
    "        \n",
    "    def add_item(self, item):\n",
    "        self.items.append(item)\n",
    "        \n",
    "    def remove_item(self, item):\n",
    "        self.items.remove(item)\n",
    "        \n",
    "    def calculate_total(self):\n",
    "        total = 0\n",
    "        for item in self.items:\n",
    "            total += item.price\n",
    "        return total\n",
    "    \n",
    "    def get_cart_items(self):\n",
    "        return [item.name for item in self.items]\n",
    "\n",
    "class ShoppingCartStatic:\n",
    "    items = []\n",
    "    \n",
    "    @staticmethod\n",
    "    def add_item(item):\n",
    "        ShoppingCartStatic.items.append(item)\n",
    "        \n",
    "    @staticmethod\n",
    "    def remove_item(item):\n",
    "        ShoppingCartStatic.items.remove(item)\n",
    "        \n",
    "    @staticmethod\n",
    "    def calculate_total():\n",
    "        total = 0\n",
    "        for item in ShoppingCartStatic.items:\n",
    "            total += item.price\n",
    "        return total\n",
    "    \n",
    "    @staticmethod\n",
    "    def get_cart_items():\n",
    "        return [item.name for item in ShoppingCartStatic.items]\n",
    "\n",
    "class ShoppingCartClass:\n",
    "    items = []\n",
    "    \n",
    "    @classmethod\n",
    "    def add_item(cls, item):\n",
    "        cls.items.append(item)\n",
    "        \n",
    "    @classmethod\n",
    "    def remove_item(cls, item):\n",
    "        cls.items.remove(item)\n",
    "        \n",
    "    @classmethod\n",
    "    def calculate_total(cls):\n",
    "        total = 0\n",
    "        for item in cls.items:\n",
    "            total += item.price\n",
    "        return total\n",
    "    \n",
    "    @classmethod\n",
    "    def get_cart_items(cls):\n",
    "        return [item.name for item in cls.items]\n",
    "\n",
    "class Item:\n",
    "    def __init__(self, name, price):\n",
    "        self.name = name\n",
    "        self.price = price\n",
    "\n",
    "\n"
   ]
  },
  {
   "cell_type": "markdown",
   "id": "ae82b5f2",
   "metadata": {},
   "source": [
    "The ShoppingCart class is a normal class that takes items and allows you to add or remove them from the cart. It also has a method to calculate the total cost of all the items in the cart.  \n",
    "\n",
    "The ShoppingCartStatic class is a static class that performs the same functions as the normal ShoppingCart class, but with static methods. This means that the methods can be called directly on the class, without needing to create an instance of the class.  \n",
    "\n",
    "The ShoppingCartClass class is a class method that performs the same functions as the normal ShoppingCart class, but with class methods. This means that the methods can be called on the class itself, or on any instance of the class. \n",
    "\n",
    "Here's how to call each of these classes:"
   ]
  },
  {
   "cell_type": "markdown",
   "id": "406bba86",
   "metadata": {},
   "source": [
    "Normal Class"
   ]
  },
  {
   "cell_type": "code",
   "execution_count": null,
   "id": "64cb4441",
   "metadata": {},
   "outputs": [],
   "source": [
    "# Define the ShoppingCart class with __init__, add_item, remove_item, calculate_total and get_cart_items methods.\n",
    "class ShoppingCart:\n",
    "    # Constructor to initialize empty items list.\n",
    "    def __init__(self):\n",
    "        self.items = []\n",
    "        \n",
    "    # Add an item to the shopping cart.\n",
    "    def add_item(self, item):\n",
    "        self.items.append(item)\n",
    "        \n",
    "    # Remove an item from the shopping cart.\n",
    "    def remove_item(self, item):\n",
    "        self.items.remove(item)\n",
    "        \n",
    "    # Calculate the total price of all items in the shopping cart.\n",
    "    def calculate_total(self):\n",
    "        total = 0\n",
    "        for item in self.items:\n",
    "            total += item.price\n",
    "        return total\n",
    "    \n",
    "    # Return a list of item names in the shopping cart.\n",
    "    def get_cart_items(self):\n",
    "        return [item.name for item in self.items]\n"
   ]
  },
  {
   "cell_type": "markdown",
   "id": "6c3584bf",
   "metadata": {},
   "source": [
    "Static Method"
   ]
  },
  {
   "cell_type": "code",
   "execution_count": null,
   "id": "73202a79",
   "metadata": {},
   "outputs": [],
   "source": [
    "# Define the ShoppingCartStatic class with static methods add_item, remove_item, calculate_total and get_cart_items.\n",
    "class ShoppingCartStatic:\n",
    "    # Class variable to store items list.\n",
    "    items = []\n",
    "    \n",
    "    # Static method to add an item to the shopping cart.\n",
    "    @staticmethod\n",
    "    def add_item(item):\n",
    "        ShoppingCartStatic.items.append(item)\n",
    "        \n",
    "    # Static method to remove an item from the shopping cart.\n",
    "    @staticmethod\n",
    "    def remove_item(item):\n",
    "        ShoppingCartStatic.items.remove(item)\n",
    "        \n",
    "    # Static method to calculate the total price of all items in the shopping cart.\n",
    "    @staticmethod\n",
    "    def calculate_total():\n",
    "        total = 0\n",
    "        for item in ShoppingCartStatic.items:\n",
    "            total += item.price\n",
    "        return total\n",
    "    \n",
    "    # Static method to return a list of item names in the shopping cart.\n",
    "    @staticmethod\n",
    "    def get_cart_items():\n",
    "        return [item.name for item in ShoppingCartStatic.items]\n"
   ]
  },
  {
   "cell_type": "markdown",
   "id": "86f5d38b",
   "metadata": {},
   "source": [
    "Class Method"
   ]
  },
  {
   "cell_type": "code",
   "execution_count": null,
   "id": "68951094",
   "metadata": {},
   "outputs": [],
   "source": [
    "# Define the ShoppingCartClass class with class methods add_item, remove_item, calculate_total and get_cart_items.\n",
    "class ShoppingCartClass:\n",
    "    # Class variable to store items list.\n",
    "    items = []\n",
    "    \n",
    "    # Class method to add an item to the shopping cart.\n",
    "    @classmethod\n",
    "    def add_item(cls, item):\n",
    "        cls.items.append(item)\n",
    "        \n",
    "    # Class method to remove an item from the shopping cart.\n",
    "    @classmethod\n",
    "    def remove_item(cls, item):\n",
    "        cls.items.remove(item)\n",
    "        \n",
    "    # Class method to calculate the total price of all items in the shopping cart.\n",
    "    @classmethod\n",
    "    def calculate_total(cls):\n",
    "        total = 0\n",
    "        for item in cls.items:\n",
    "            total += item.price\n",
    "        return total\n",
    "    \n",
    "    # Class method to return a list of item names in the shopping cart.\n",
    "    @classmethod\n",
    "    def get_cart_items(cls):\n",
    "        return [item.name for item in cls.items]\n"
   ]
  },
  {
   "cell_type": "code",
   "execution_count": null,
   "id": "8b5bd942",
   "metadata": {},
   "outputs": [],
   "source": [
    "# Normal class example\n",
    "item1 = Item(\"Shirt\", 50)\n",
    "item2 = Item(\"Pants\", 70)\n",
    "\n",
    "cart = ShoppingCart()\n",
    "cart.add_item(item1)\n",
    "cart.add_item(item2)\n",
    "cart.remove_item(item1)\n",
    "total = cart.calculate_total()\n",
    "items = cart.get_cart_items()\n",
    "\n",
    "print(\"Items in cart:\", items)\n",
    "print(\"Total price:\", total)\n",
    "\n",
    "# Static class example\n",
    "item3 = Item(\"Sneakers\", 100)\n",
    "\n",
    "ShoppingCartStatic.add_item(item1)\n",
    "ShoppingCartStatic.add_item(item2)\n",
    "ShoppingCartStatic.add_item(item3)\n",
    "ShoppingCartStatic.remove_item(item1)\n",
    "total = ShoppingCartStatic.calculate_total()\n",
    "items = ShoppingCartStatic.get_cart_items()\n",
    "\n",
    "print(\"Items in cart:\", items)\n",
    "print(\"Total price:\", total)\n",
    "\n",
    "# Class method example\n",
    "item4 = Item(\"Jacket\", 150)\n",
    "\n",
    "ShoppingCartClass.add_item(item1)\n",
    "ShoppingCartClass.add_item(item2)\n",
    "ShoppingCartClass.add_item(item4)\n",
    "ShoppingCartClass.remove_item(item1)\n",
    "total = ShoppingCartClass.calculate_total()\n",
    "items = ShoppingCartClass.get_cart_items()\n",
    "\n",
    "print(\"Items in cart:\", items)\n",
    "print(\"Total price:\", total)"
   ]
  },
  {
   "cell_type": "markdown",
   "id": "85887fce",
   "metadata": {},
   "source": [
    "### Special (Magic / Dunder) Methods"
   ]
  },
  {
   "cell_type": "markdown",
   "id": "66d778bd",
   "metadata": {},
   "source": [
    "Special methods, also known as magic methods or dunder methods (short for \"double underscore methods\"), are a set of predefined methods in Python that start and end with double underscores (e.g., __init__). These methods are used to define specific behaviors for built-in operations or syntactic sugar in Python.\n",
    "\n",
    "Here are some common special methods and their uses:\n",
    "\n",
    "__init__(self, ...) : Initializes a newly created object with default or user-specified attributes.  \n",
    "__str__(self) : Returns a string representation of an object.  \n",
    "__repr__(self) : Returns a string representation of an object that can be used to recreate the object.  \n",
    "__len__(self) : Returns the length of an object.  \n",
    "__add__(self, other) : Defines the behavior for addition operation (+).  \n",
    "__eq__(self, other) : Defines the behavior for equality comparison (==).  \n",
    "These methods are automatically called when certain built-in operations are performed on an object. For example, when we use the + operator on two objects, the __add__ method of the left-hand object is called with the right-hand object passed as an argument.+  "
   ]
  },
  {
   "cell_type": "code",
   "execution_count": null,
   "id": "d7039328",
   "metadata": {},
   "outputs": [],
   "source": [
    "dir(int)"
   ]
  },
  {
   "cell_type": "code",
   "execution_count": null,
   "id": "105b7525",
   "metadata": {},
   "outputs": [],
   "source": [
    "a = 10"
   ]
  },
  {
   "cell_type": "code",
   "execution_count": null,
   "id": "88d1dc75",
   "metadata": {},
   "outputs": [],
   "source": [
    "a+6"
   ]
  },
  {
   "cell_type": "code",
   "execution_count": null,
   "id": "169af656",
   "metadata": {},
   "outputs": [],
   "source": [
    "a.__add__(6)"
   ]
  },
  {
   "cell_type": "code",
   "execution_count": null,
   "id": "f43f10e1",
   "metadata": {},
   "outputs": [],
   "source": [
    "dir(str)"
   ]
  },
  {
   "cell_type": "markdown",
   "id": "83c39cdb",
   "metadata": {},
   "source": [
    "#### Self Study  Encryption and Decryption "
   ]
  },
  {
   "cell_type": "markdown",
   "id": "bf438475",
   "metadata": {},
   "source": [
    "There are many different encryption techniques and algorithms that are used for secure communication. Some of the most popular encryption algorithms include:\n",
    "\n",
    "Caesar Cipher: It is a substitution cipher in which each letter in the plaintext is shifted a certain number of places down the alphabet.\n",
    "\n",
    "Vigenere Cipher: It is a polyalphabetic substitution cipher that uses a keyword to determine the letter substitution.\n",
    "\n",
    "AES (Advanced Encryption Standard): It is a symmetric key encryption algorithm that is used for secure data transmission and storage.\n",
    "\n",
    "RSA (Rivest-Shamir-Adleman): It is an asymmetric key encryption algorithm that is widely used for secure communication.\n",
    "\n",
    "Blowfish: It is a symmetric key block cipher that is used for secure data transmission and storage.\n",
    "\n",
    "DES (Data Encryption Standard): It is a symmetric key block cipher that is used for secure data transmission and storage.\n",
    "\n",
    "Triple DES: It is an advanced version of DES that uses three keys instead of one for greater security.\n",
    "\n",
    "These are just a few examples, there are many other encryption algorithms and techniques that are used in different applications depending on the level of security required."
   ]
  },
  {
   "cell_type": "code",
   "execution_count": null,
   "id": "e0b136db",
   "metadata": {},
   "outputs": [],
   "source": [
    "def encrypt_message(message):\n",
    "    encrypted = \"\"\n",
    "    for char in message.lower():\n",
    "        if char.isalpha():\n",
    "            encrypted += chr(ord('a') + ord('z') - ord(char))\n",
    "        elif char == ' ':\n",
    "            encrypted += '$'\n",
    "        else:\n",
    "            encrypted += char\n",
    "    return encrypted\n",
    "\n",
    "input_sentence = input(\"Enter a sentence to encrypt: \")\n",
    "encrypted_sentence = encrypt_message(input_sentence)\n",
    "print(\"Encrypted Sentence:\", encrypted_sentence)\n"
   ]
  },
  {
   "cell_type": "code",
   "execution_count": null,
   "id": "cf161f6b",
   "metadata": {},
   "outputs": [],
   "source": [
    "def decrypt_message(message):\n",
    "    decrypted_message = \"\"\n",
    "    for char in message:\n",
    "        if char.isalpha():\n",
    "            decrypted_message += chr(219 - ord(char))\n",
    "        else:\n",
    "            decrypted_message += char\n",
    "    decrypted_message = decrypted_message.replace(\"$\", \" \")\n",
    "    return decrypted_message.lower()\n",
    "\n",
    "encrypted_message = input (\"Enter the encrypted message: \")\n",
    "decrypted_message = decrypt_message(encrypted_message)\n",
    "print(\"Decrypted message:\", decrypted_message)\n"
   ]
  },
  {
   "cell_type": "markdown",
   "id": "a8387aa4",
   "metadata": {},
   "source": [
    "#### Back to Special Methods"
   ]
  },
  {
   "cell_type": "code",
   "execution_count": null,
   "id": "ad453b0b",
   "metadata": {},
   "outputs": [],
   "source": [
    "dir(dict)"
   ]
  },
  {
   "cell_type": "code",
   "execution_count": null,
   "id": "e1d01fee",
   "metadata": {},
   "outputs": [],
   "source": [
    "dir(tuple)"
   ]
  },
  {
   "cell_type": "markdown",
   "id": "51e7125b",
   "metadata": {},
   "source": [
    "Property decorators in Python are a way of defining special behavior for class attributes. The three main property decorators are getters, setters, and deleters, which allow you to define custom behavior when getting, setting, or deleting attribute values of an object.  \n",
    "\n",
    "Getter: The @property decorator is used to define a getter method for a class attribute. When a user retrieves the value of the attribute, the getter method is called automatically, and its return value is returned as the value of the attribute. This allows you to define custom logic for getting the value of an attribute.  \n",
    "\n",
    "Setter: The @<attribute_name>.setter decorator is used to define a setter method for a class attribute. When a user sets the value of the attribute, the setter method is called automatically, and it allows you to define custom logic for setting the value of an attribute. You can use the @property decorator along with the @<attribute_name>.setter decorator to define a read-write property.  \n",
    "\n",
    "Deleter: The @<attribute_name>.deleter decorator is used to define a deleter method for a class attribute. When a user deletes the attribute, the deleter method is called automatically, and it allows you to define custom logic for deleting the attribute. You can use the @property decorator along with the @<attribute_name>.deleter decorator to define a read-only property.  "
   ]
  },
  {
   "cell_type": "code",
   "execution_count": null,
   "id": "913838e1",
   "metadata": {},
   "outputs": [],
   "source": [
    "class pwskills:\n",
    "    def __init__(self,course_price, course_name):\n",
    "        self.__course_price = course_price\n",
    "        self.course_name = course_name"
   ]
  },
  {
   "cell_type": "code",
   "execution_count": null,
   "id": "fad692d3",
   "metadata": {},
   "outputs": [],
   "source": [
    "pw = pwskills(3500,\"Data Science Masters\")"
   ]
  },
  {
   "cell_type": "code",
   "execution_count": null,
   "id": "5128f878",
   "metadata": {},
   "outputs": [],
   "source": [
    "pw.course_name"
   ]
  },
  {
   "cell_type": "code",
   "execution_count": null,
   "id": "121a43f1",
   "metadata": {},
   "outputs": [],
   "source": [
    "pw.__course_price # no one can access a private method which starts from __ in this case  self.__course_price = course_price"
   ]
  },
  {
   "cell_type": "code",
   "execution_count": null,
   "id": "e49789ea",
   "metadata": {},
   "outputs": [],
   "source": [
    "pw._pwskills__course_price # admin or superuser can access because they know the class name"
   ]
  },
  {
   "cell_type": "code",
   "execution_count": null,
   "id": "e5cff88f",
   "metadata": {},
   "outputs": [],
   "source": [
    "class pwskills:\n",
    "    def __init__(self,course_price, course_name):\n",
    "        self.__course_price = course_price\n",
    "        self.course_name = course_name\n",
    "    @property\n",
    "    def course_price_access(self):\n",
    "        return self.__course_price"
   ]
  },
  {
   "cell_type": "code",
   "execution_count": null,
   "id": "07633c6a",
   "metadata": {},
   "outputs": [],
   "source": [
    "pw = pwskills(3500,\"DSM\")"
   ]
  },
  {
   "cell_type": "code",
   "execution_count": null,
   "id": "13d7b532",
   "metadata": {},
   "outputs": [],
   "source": [
    "pw.course_name"
   ]
  },
  {
   "cell_type": "code",
   "execution_count": null,
   "id": "ae275573",
   "metadata": {},
   "outputs": [],
   "source": [
    "pw.course_price_access"
   ]
  },
  {
   "cell_type": "code",
   "execution_count": null,
   "id": "7951301c",
   "metadata": {},
   "outputs": [],
   "source": [
    "class pwskills:\n",
    "    def __init__(self,course_price, course_name):\n",
    "        self.__course_price = course_price\n",
    "        self.course_name = course_name\n",
    "    @property\n",
    "    def course_price_access(self):\n",
    "        return self.__course_price\n",
    "    \n",
    "    @course_price_access.setter\n",
    "    def course_price_set(self,price):\n",
    "        if price <= 3500:\n",
    "            pass\n",
    "        else :\n",
    "            self.__course_price = price"
   ]
  },
  {
   "cell_type": "code",
   "execution_count": null,
   "id": "d112291f",
   "metadata": {},
   "outputs": [],
   "source": [
    "pw = pwskills(3500,\"DSM\")"
   ]
  },
  {
   "cell_type": "code",
   "execution_count": null,
   "id": "5fb79360",
   "metadata": {},
   "outputs": [],
   "source": [
    "pw.course_name"
   ]
  },
  {
   "cell_type": "code",
   "execution_count": null,
   "id": "1a0483ec",
   "metadata": {},
   "outputs": [],
   "source": [
    "pw.course_price_set = 2300"
   ]
  },
  {
   "cell_type": "code",
   "execution_count": null,
   "id": "b472a01e",
   "metadata": {},
   "outputs": [],
   "source": [
    "pw.course_price_access"
   ]
  },
  {
   "cell_type": "code",
   "execution_count": null,
   "id": "b3a49686",
   "metadata": {},
   "outputs": [],
   "source": [
    "pw.course_price_set = 4500"
   ]
  },
  {
   "cell_type": "code",
   "execution_count": null,
   "id": "0a5d12dd",
   "metadata": {},
   "outputs": [],
   "source": [
    "pw.course_price_access"
   ]
  },
  {
   "cell_type": "code",
   "execution_count": 5,
   "id": "198793ea",
   "metadata": {},
   "outputs": [
    {
     "name": "stdout",
     "output_type": "stream",
     "text": [
      "Matta\n",
      "Matta\n",
      "25\n",
      "30\n",
      "None\n"
     ]
    }
   ],
   "source": [
    "class Person:\n",
    "    def __init__(self, name, age):\n",
    "        self._name = name\n",
    "        self._age = age\n",
    "\n",
    "    @property\n",
    "    def name(self):\n",
    "        return self._name\n",
    "\n",
    "    @name.setter\n",
    "    def name(self, name):\n",
    "        self._name = name\n",
    "\n",
    "    @property\n",
    "    def age(self):\n",
    "        return self._age\n",
    "\n",
    "    @age.setter\n",
    "    def age(self, age):\n",
    "        self._age = age\n",
    "\n",
    "    @age.deleter\n",
    "    def age(self):\n",
    "        self._age = None\n",
    "\n",
    "person = Person(\"Matta\", 25)\n",
    "\n",
    "print(person.name)  # Output: Matta\n",
    "person.name = \"Matta\"\n",
    "print(person.name)  # Output: Alice\n",
    "\n",
    "print(person.age)  # Output: 25\n",
    "person.age = 30\n",
    "print(person.age)  # Output: 30\n",
    "\n",
    "del person.age\n",
    "print(person.age)  # Output: None\n"
   ]
  },
  {
   "cell_type": "markdown",
   "id": "4072f88d",
   "metadata": {},
   "source": [
    "## Working with Files in Python"
   ]
  },
  {
   "cell_type": "markdown",
   "id": "72d32287",
   "metadata": {},
   "source": [
    "Retrieve file properties  \n",
    "Create directories  \n",
    "Match patterns in filenames  \n",
    "Traverse directory trees  \n",
    "Make temporary files and directories  \n",
    "Delete files and directories  \n",
    "Copy, move, or rename files and directories  \n",
    "Create and extract ZIP and TAR archives  \n",
    "Open multiple files using the fileinput module  "
   ]
  },
  {
   "cell_type": "markdown",
   "id": "2f39ed52",
   "metadata": {},
   "source": [
    "Python’s “with open(…) as …” Pattern\n",
    "Reading and writing data to files using Python is pretty straightforward. To do this, you must first open files in the appropriate mode. Here’s an example of how to use Python’s “with open(…) as …” pattern to open a text file and read its contents:"
   ]
  },
  {
   "cell_type": "markdown",
   "id": "f2755224",
   "metadata": {},
   "source": [
    "Getting a Directory Listing\n",
    "Suppose your current working directory has a subdirectory called my_directory that has the following contents:"
   ]
  },
  {
   "cell_type": "markdown",
   "id": "a5c3e921",
   "metadata": {},
   "source": [
    "File Handling\n",
    "The key function for working with files in Python is the open() function.\n",
    "\n",
    "The open() function takes two parameters; filename, and mode.\n",
    "\n",
    "There are four different methods (modes) for opening a file:\n",
    "\n",
    "\"r\" - Read - Default value. Opens a file for reading, error if the file does not exist\n",
    "\n",
    "\"a\" - Append - Opens a file for appending, creates the file if it does not exist\n",
    "\n",
    "\"w\" - Write - Opens a file for writing, creates the file if it does not exist\n",
    "\n",
    "\"x\" - Create - Creates the specified file, returns an error if the file exists\n",
    "\n",
    "In addition you can specify if the file should be handled as binary or text mode\n",
    "\n",
    "\"t\" - Text - Default value. Text mode\n",
    "\n",
    "\"b\" - Binary - Binary mode (e.g. images)\n",
    "\n",
    "Syntax\n",
    "To open a file for reading it is enough to specify the name of the file:\n",
    "\n",
    "f = open(\"demofile.txt\")\n",
    "The code above is the same as:\n",
    "\n",
    "f = open(\"demofile.txt\", \"rt\")\n",
    "Because \"r\" for read, and \"t\" for text are the default values, you do not need to specify them."
   ]
  },
  {
   "cell_type": "markdown",
   "id": "18ab5ed1",
   "metadata": {},
   "source": [
    "Open a File on the Server\n",
    "Assume we have the following file, located in the same folder as Python:\n",
    "\n",
    "demofile.txt  \n",
    "\n",
    "Hello! Welcome to demofile.txt\n",
    "This file is for testing purposes.  \n",
    "Good Luck! \n",
    "To open the file, use the built-in open() function.  \n",
    "\n",
    "The open() function returns a file object, which has a read() method for reading the content of the file:\n",
    "\n",
    "ExampleGet your own Python Server\n",
    "f = open(\"demofile.txt\", \"r\")  \n",
    "print(f.read())\n",
    "If the file is located in a different location, you will have to specify the file path, like this:  \n",
    "\n",
    "ExampleGet your own Python Server\n",
    "Open a file on a different location:  \n",
    "\n",
    "f = open(\"D:\\\\myfiles\\welcome.txt\", \"r\")  \n",
    "print(f.read())\n",
    "Read Only Parts of the File\n",
    "By default the read() method returns the whole text, but you can also specify how many characters you want to return:\n",
    "\n",
    "ExampleGet your own Python Server\n",
    "Return the 5 first characters of the file:\n",
    "\n",
    "f = open(\"demofile.txt\", \"r\")  \n",
    "print(f.read(5))"
   ]
  },
  {
   "cell_type": "markdown",
   "id": "8e0778eb",
   "metadata": {},
   "source": [
    "### Reading and Writing files "
   ]
  },
  {
   "cell_type": "code",
   "execution_count": 13,
   "id": "1a59ce90",
   "metadata": {},
   "outputs": [],
   "source": [
    "data = {\n",
    "    \"Name\" : \"Matta\",\n",
    "    \"Email\":\"matta@gmail.com\",\n",
    "    \"Contact Number\" : 985656565,\n",
    "    \"Subject\" : [\"Data Science\",\"Data Analytics\"]\n",
    "}"
   ]
  },
  {
   "cell_type": "code",
   "execution_count": 14,
   "id": "7761ddf5",
   "metadata": {},
   "outputs": [],
   "source": [
    "import json"
   ]
  },
  {
   "cell_type": "code",
   "execution_count": 15,
   "id": "7d2c9d9b",
   "metadata": {},
   "outputs": [],
   "source": [
    "with open(\"test1.json\", \"w\") as f : \n",
    "    json.dump(data,f)"
   ]
  },
  {
   "cell_type": "code",
   "execution_count": 16,
   "id": "8ecac07e",
   "metadata": {},
   "outputs": [],
   "source": [
    "with open(\"test1.json\", \"r\") as f : \n",
    "    data = json.load(f)\n",
    "    "
   ]
  },
  {
   "cell_type": "code",
   "execution_count": 17,
   "id": "3b05e65d",
   "metadata": {},
   "outputs": [
    {
     "data": {
      "text/plain": [
       "{'Name': 'Matta',\n",
       " 'Email': 'matta@gmail.com',\n",
       " 'Contact Number': 985656565,\n",
       " 'Subject': ['Data Science', 'Data Analytics']}"
      ]
     },
     "execution_count": 17,
     "metadata": {},
     "output_type": "execute_result"
    }
   ],
   "source": [
    "data"
   ]
  },
  {
   "cell_type": "code",
   "execution_count": 19,
   "id": "b7819cd6",
   "metadata": {},
   "outputs": [
    {
     "data": {
      "text/plain": [
       "'Data Analytics'"
      ]
     },
     "execution_count": 19,
     "metadata": {},
     "output_type": "execute_result"
    }
   ],
   "source": [
    "data[\"Subject\"][1]"
   ]
  },
  {
   "cell_type": "code",
   "execution_count": 29,
   "id": "8841bac2",
   "metadata": {},
   "outputs": [],
   "source": [
    "data1 = [\n",
    "         [\"Name\", \"Email\", \"Mobile\"],\n",
    "         [\"Matta\", \"matta@gmail.com\", 895656565],\n",
    "          [\"Naresh\",\"naresh@gmail.com\", 65656862],\n",
    "    \n",
    "]"
   ]
  },
  {
   "cell_type": "code",
   "execution_count": 30,
   "id": "f31d7c8f",
   "metadata": {},
   "outputs": [],
   "source": [
    "import csv"
   ]
  },
  {
   "cell_type": "code",
   "execution_count": 37,
   "id": "5d83f6b7",
   "metadata": {},
   "outputs": [],
   "source": [
    "with open(\"test3.csv\",'w') as f:\n",
    "    w = csv.writer(f)\n",
    "    for i in data1:\n",
    "        w.writerow(i)"
   ]
  },
  {
   "cell_type": "code",
   "execution_count": 42,
   "id": "f135e61c",
   "metadata": {},
   "outputs": [
    {
     "name": "stdout",
     "output_type": "stream",
     "text": [
      "['Name', 'Email', 'Mobile']\n",
      "[]\n",
      "['Matta', 'matta@gmail.com', '895656565']\n",
      "[]\n",
      "['Naresh', 'naresh@gmail.com', '65656862']\n",
      "[]\n"
     ]
    }
   ],
   "source": [
    "with open(\"test3.csv\",'r') as f:\n",
    "    read = csv.reader(f)\n",
    "    for i in read:\n",
    "        print(i)"
   ]
  },
  {
   "cell_type": "markdown",
   "id": "8e18b4b6",
   "metadata": {},
   "source": [
    "### Buffer read and write and other file methods python\n"
   ]
  },
  {
   "cell_type": "code",
   "execution_count": 43,
   "id": "be455fa6",
   "metadata": {},
   "outputs": [],
   "source": [
    "import io"
   ]
  },
  {
   "cell_type": "code",
   "execution_count": 48,
   "id": "9f6bd5e8",
   "metadata": {},
   "outputs": [],
   "source": [
    "with open(\"test.txt\",'wb') as f:\n",
    "    file = io.BufferedWriter(f)\n",
    "    file.write(b\"This is my buffer write / n\")\n",
    "    file.write(b\"This is my second line that I am writing\")\n",
    "    file.flush"
   ]
  },
  {
   "cell_type": "code",
   "execution_count": 49,
   "id": "5d0b5e50",
   "metadata": {},
   "outputs": [
    {
     "name": "stdout",
     "output_type": "stream",
     "text": [
      "b''\n"
     ]
    }
   ],
   "source": [
    "with open(\"test.txt\",\"rb\")as f:\n",
    "    file = io.BufferedReader(f)\n",
    "    d = file.read(1000)\n",
    "    print(d)"
   ]
  },
  {
   "cell_type": "markdown",
   "id": "60895555",
   "metadata": {},
   "source": [
    "### Logging & Debugger"
   ]
  },
  {
   "cell_type": "code",
   "execution_count": 1,
   "id": "55bc22cb",
   "metadata": {},
   "outputs": [],
   "source": [
    "import logging"
   ]
  },
  {
   "cell_type": "code",
   "execution_count": 2,
   "id": "4b5d5fd9",
   "metadata": {},
   "outputs": [],
   "source": [
    "logging.basicConfig(filename = \"test.log\" , level = logging.INFO)"
   ]
  },
  {
   "cell_type": "code",
   "execution_count": 3,
   "id": "ddafdcc7",
   "metadata": {},
   "outputs": [],
   "source": [
    "logging.info(\"This is my line of execution\")"
   ]
  },
  {
   "cell_type": "code",
   "execution_count": 4,
   "id": "5b1be2e5",
   "metadata": {},
   "outputs": [],
   "source": [
    "logging.error(\"This is Error\")"
   ]
  },
  {
   "cell_type": "code",
   "execution_count": 5,
   "id": "1e461e56",
   "metadata": {},
   "outputs": [],
   "source": [
    "logging.critical(\"This is Critical line of execution\")"
   ]
  },
  {
   "cell_type": "code",
   "execution_count": 6,
   "id": "b9e1f9f9",
   "metadata": {},
   "outputs": [],
   "source": [
    "logging.warning(\"This is Warning\")"
   ]
  },
  {
   "cell_type": "code",
   "execution_count": 7,
   "id": "912b83cf",
   "metadata": {},
   "outputs": [],
   "source": [
    "logging.debug(\"Debug info\")"
   ]
  },
  {
   "cell_type": "code",
   "execution_count": 8,
   "id": "d8e96ebe",
   "metadata": {},
   "outputs": [
    {
     "ename": "AttributeError",
     "evalue": "module 'logging' has no attribute 'noset'",
     "output_type": "error",
     "traceback": [
      "\u001b[1;31m---------------------------------------------------------------------------\u001b[0m",
      "\u001b[1;31mAttributeError\u001b[0m                            Traceback (most recent call last)",
      "\u001b[1;32m~\\AppData\\Local\\Temp/ipykernel_10188/3516979298.py\u001b[0m in \u001b[0;36m<module>\u001b[1;34m\u001b[0m\n\u001b[1;32m----> 1\u001b[1;33m \u001b[0mlogging\u001b[0m\u001b[1;33m.\u001b[0m\u001b[0mnoset\u001b[0m\u001b[1;33m(\u001b[0m\u001b[1;34m\"Ths is my noset\"\u001b[0m\u001b[1;33m)\u001b[0m \u001b[1;31m#noset is deprecated from latest Python\u001b[0m\u001b[1;33m\u001b[0m\u001b[1;33m\u001b[0m\u001b[0m\n\u001b[0m",
      "\u001b[1;31mAttributeError\u001b[0m: module 'logging' has no attribute 'noset'"
     ]
    }
   ],
   "source": [
    "logging.noset(\"Ths is my noset\") #noset is deprecated from latest Python"
   ]
  },
  {
   "cell_type": "markdown",
   "id": "0e454993",
   "metadata": {},
   "source": [
    "\n",
    "Debug  \n",
    "INFO  \n",
    "Warning  \n",
    "ERROR  \n",
    "Critical   "
   ]
  },
  {
   "cell_type": "code",
   "execution_count": 13,
   "id": "5bec897f",
   "metadata": {},
   "outputs": [],
   "source": [
    "logging.basicConfig(filename = \"test1.log\" , level = logging.DEBUG, format = '%(asctime)s %(message)s' )"
   ]
  },
  {
   "cell_type": "code",
   "execution_count": 8,
   "id": "ee79bcb3",
   "metadata": {},
   "outputs": [],
   "source": [
    "logging.info(\"This is my info log\")"
   ]
  },
  {
   "cell_type": "code",
   "execution_count": 15,
   "id": "0dc18a55",
   "metadata": {},
   "outputs": [],
   "source": [
    "logging.debug(\"This is my debug log\")"
   ]
  },
  {
   "cell_type": "code",
   "execution_count": 16,
   "id": "bf19ecba",
   "metadata": {},
   "outputs": [],
   "source": [
    "logging.warning(\"This is my warning\")"
   ]
  },
  {
   "cell_type": "code",
   "execution_count": 12,
   "id": "255d1df0",
   "metadata": {},
   "outputs": [],
   "source": [
    "logging.basicConfig(filename = \"test3.log\" , level = logging.DEBUG, format = '%(asctime)s %(name)s %(levelname)s %(message)s' )"
   ]
  },
  {
   "cell_type": "code",
   "execution_count": 13,
   "id": "05cbc729",
   "metadata": {},
   "outputs": [],
   "source": [
    "logging.info(\"This is my info log\")"
   ]
  },
  {
   "cell_type": "code",
   "execution_count": 4,
   "id": "84fb7623",
   "metadata": {},
   "outputs": [],
   "source": [
    "logging.debug(\"This is my debug log\")"
   ]
  },
  {
   "cell_type": "code",
   "execution_count": 5,
   "id": "604967a6",
   "metadata": {},
   "outputs": [],
   "source": [
    "logging.warning(\"This is my warning\")"
   ]
  },
  {
   "cell_type": "code",
   "execution_count": 1,
   "id": "a3cdcdaa",
   "metadata": {},
   "outputs": [],
   "source": [
    "import logging"
   ]
  },
  {
   "cell_type": "code",
   "execution_count": 2,
   "id": "e19c9aae",
   "metadata": {},
   "outputs": [],
   "source": [
    "logging.basicConfig(filename = \"test4.log\" , level = logging.DEBUG, format = '%(asctime)s %(name)s %(levelname)s %(message)s' )"
   ]
  },
  {
   "cell_type": "code",
   "execution_count": 3,
   "id": "12c3f3e1",
   "metadata": {},
   "outputs": [],
   "source": [
    "l = [1,2,3,4,[5,6,7], \"Naresh\",\"Matta\"]"
   ]
  },
  {
   "cell_type": "code",
   "execution_count": 4,
   "id": "d1c34e40",
   "metadata": {},
   "outputs": [],
   "source": [
    "l1_int = []\n",
    "l2_str = []\n",
    "for i in l:\n",
    "    logging.info(\"This is the start of for loop {}\".format(l))\n",
    "    logging.info(\"This is the value of i am logging {}\".format(i))\n",
    "    \n",
    "    if type(i)==list:\n",
    "        for j in i:\n",
    "            logging.info(\"This is the value of j{j}and i{i}s\".format(i=i,j=j))\n",
    "            if type(j) == int :\n",
    "                l1_int.append(j)\n",
    "    elif type(i) == int:\n",
    "        l1_int.append(i)\n",
    "        \n",
    "    else :\n",
    "        if type (i) == str:\n",
    "            l2_str.append(i)\n",
    "logging.info(\"This is my final result with all int{l1}, with all str{l2}\".format(l1=l1_int,l2=l2_str))"
   ]
  },
  {
   "cell_type": "code",
   "execution_count": 5,
   "id": "3b06ed9d",
   "metadata": {},
   "outputs": [
    {
     "data": {
      "text/plain": [
       "[1, 2, 3, 4, 5, 6, 7]"
      ]
     },
     "execution_count": 5,
     "metadata": {},
     "output_type": "execute_result"
    }
   ],
   "source": [
    "l1_int"
   ]
  },
  {
   "cell_type": "code",
   "execution_count": 6,
   "id": "5cb4f519",
   "metadata": {},
   "outputs": [
    {
     "data": {
      "text/plain": [
       "['Naresh', 'Matta']"
      ]
     },
     "execution_count": 6,
     "metadata": {},
     "output_type": "execute_result"
    }
   ],
   "source": [
    "l2_str"
   ]
  },
  {
   "cell_type": "markdown",
   "id": "ec8c821e",
   "metadata": {},
   "source": [
    "### Modules and Import Statement "
   ]
  },
  {
   "cell_type": "markdown",
   "id": "5a720c27",
   "metadata": {},
   "source": [
    "In Python, a module is a file that contains Python definitions and statements. Modules can be used to organize code into logical units, making it easier to manage and reuse code across different programs. A module can define functions, classes, and variables, as well as import other modules.\n",
    "\n",
    "To use a module in Python, you need to import it into your program using the import statement. The import statement tells Python to load the module and make its contents available in your program. You can import a module as a whole, or you can import specific items from the module using the from ... import ... syntax.\n",
    "\n",
    "When you import a module, Python looks for the module in several locations, including the current directory, the directories specified in the PYTHONPATH environment variable, and the standard library directories. Once the module is found, Python compiles it into bytecode and executes it.\n",
    "\n",
    "You can also create your own modules in Python by defining functions, classes, and variables in a file and then importing the file as a module. To import a module from another directory or location, you can use the sys.path list to add the directory to the list of locations where Python looks for modules.\n",
    "\n",
    "Overall, modules and import statements are an essential part of programming in Python, allowing you to organize and reuse code in a modular and efficient way."
   ]
  },
  {
   "cell_type": "code",
   "execution_count": 7,
   "id": "8f9c8752",
   "metadata": {},
   "outputs": [
    {
     "name": "stdout",
     "output_type": "stream",
     "text": [
      "The square root of 25 is 5.0\n"
     ]
    }
   ],
   "source": [
    "import math\n",
    "\n",
    "x = 25\n",
    "y = math.sqrt(x)\n",
    "\n",
    "print(\"The square root of\", x, \"is\", y)\n"
   ]
  },
  {
   "cell_type": "markdown",
   "id": "6388eae9",
   "metadata": {},
   "source": [
    "In this example, we first import the math module using the import statement. We then define a variable x and set it to the value 25. Next, we use the math.sqrt() function to calculate the square root of x and assign the result to the variable y. Finally, we use the print() function to display the result of the calculation.\n",
    "\n",
    "When you run this code in a Jupyter Notebook cell, you should see the following output:"
   ]
  },
  {
   "cell_type": "code",
   "execution_count": 8,
   "id": "1561dd38",
   "metadata": {},
   "outputs": [
    {
     "name": "stdout",
     "output_type": "stream",
     "text": [
      "The square root of 25 is 5.0\n"
     ]
    }
   ],
   "source": [
    "from math import sqrt\n",
    "\n",
    "x = 25\n",
    "y = sqrt(x)\n",
    "\n",
    "print(\"The square root of\", x, \"is\", y)\n"
   ]
  },
  {
   "cell_type": "markdown",
   "id": "5d5eeb9d",
   "metadata": {},
   "source": [
    "Note that you can also use the from ... import ... syntax to import specific functions or variables from a module. For example, you could import just the sqrt() function from the math module like above"
   ]
  },
  {
   "cell_type": "markdown",
   "id": "038944e3",
   "metadata": {},
   "source": [
    "### Exception Handling"
   ]
  },
  {
   "cell_type": "markdown",
   "id": "b85c76c0",
   "metadata": {},
   "source": [
    "Exception handling is a mechanism in Python that allows you to catch and handle errors that occur during program execution. When an error occurs, Python raises an exception, which can be caught and handled using try-except blocks.\n",
    "\n",
    "The basic syntax of a try-except block is as follows: "
   ]
  },
  {
   "cell_type": "markdown",
   "id": "dca85cb3",
   "metadata": {},
   "source": [
    "try:   \n",
    "    # some code that might raise an exception   \n",
    "except:   \n",
    "    # code to handle the exception  \n"
   ]
  },
  {
   "cell_type": "code",
   "execution_count": 10,
   "id": "e5fb5d80",
   "metadata": {},
   "outputs": [
    {
     "name": "stdout",
     "output_type": "stream",
     "text": [
      "Cannot divide by zero\n"
     ]
    }
   ],
   "source": [
    "try:\n",
    "    x = 1 / 0\n",
    "except ZeroDivisionError:\n",
    "    print(\"Cannot divide by zero\")\n"
   ]
  },
  {
   "cell_type": "markdown",
   "id": "ac568a8a",
   "metadata": {},
   "source": [
    "In this code, the try block contains the code that might raise an exception. If an exception occurs, the code in the except   block is executed instead. You can specify the type of exception to catch by including its name in the except clause. For   example given above "
   ]
  },
  {
   "cell_type": "code",
   "execution_count": 11,
   "id": "6934b557",
   "metadata": {},
   "outputs": [
    {
     "ename": "IndentationError",
     "evalue": "expected an indented block (Temp/ipykernel_7752/3306700349.py, line 3)",
     "output_type": "error",
     "traceback": [
      "\u001b[1;36m  File \u001b[1;32m\"C:\\Users\\inare\\AppData\\Local\\Temp/ipykernel_7752/3306700349.py\"\u001b[1;36m, line \u001b[1;32m3\u001b[0m\n\u001b[1;33m    except ZeroDivisionError:\u001b[0m\n\u001b[1;37m    ^\u001b[0m\n\u001b[1;31mIndentationError\u001b[0m\u001b[1;31m:\u001b[0m expected an indented block\n"
     ]
    }
   ],
   "source": [
    "try:\n",
    "    # some code that might raise an exception\n",
    "except ZeroDivisionError:\n",
    "    # code to handle division by zero\n",
    "except ValueError:\n",
    "    # code to handle invalid input\n",
    "except:\n",
    "    # code to handle all other exceptions\n"
   ]
  },
  {
   "cell_type": "markdown",
   "id": "61dada90",
   "metadata": {},
   "source": [
    "In this code, we try to divide the number 1 by zero, which raises a ZeroDivisionError. We catch this error using the except ZeroDivisionError clause, and print a message indicating that division by zero is not allowed.\n",
    "\n",
    "You can also catch multiple types of exceptions in the same try-except block:"
   ]
  },
  {
   "cell_type": "markdown",
   "id": "777aa3fa",
   "metadata": {},
   "source": [
    "In this code, we catch ZeroDivisionError and ValueError separately, and catch all other exceptions with a generic except clause.\n",
    "\n",
    "You can also use a finally block to specify code that should be executed regardless of whether an exception is raised:"
   ]
  },
  {
   "cell_type": "markdown",
   "id": "c4e92103",
   "metadata": {},
   "source": [
    "try:   \n",
    "    # some code that might raise an exception   \n",
    "finally:   \n",
    "    # code to execute after the try block, regardless of whether an exception was raised  \n"
   ]
  },
  {
   "cell_type": "code",
   "execution_count": 3,
   "id": "45e8d3fd",
   "metadata": {},
   "outputs": [
    {
     "name": "stdout",
     "output_type": "stream",
     "text": [
      "This is my print\n"
     ]
    }
   ],
   "source": [
    "try:\n",
    "    f = open(\"test.txt\", 'r')\n",
    "except Exception as e :\n",
    "    print(\"There is some error in my code\" , e)\n",
    "print(\"This is my print\")"
   ]
  },
  {
   "cell_type": "markdown",
   "id": "2862b580",
   "metadata": {},
   "source": [
    "### Code with Exception handling"
   ]
  },
  {
   "cell_type": "code",
   "execution_count": 4,
   "id": "b0899486",
   "metadata": {},
   "outputs": [
    {
     "name": "stdout",
     "output_type": "stream",
     "text": [
      "5.0\n",
      "Error: Cannot divide by zero!\n",
      "None\n",
      "4.0\n",
      "Error: Cannot find square root of a negative number!\n",
      "None\n",
      "5\n",
      "5\n",
      "Error: Invalid input type!\n",
      "None\n"
     ]
    }
   ],
   "source": [
    "class NegativeNumberError(Exception):\n",
    "    pass\n",
    "\n",
    "def divide(x, y):\n",
    "    try:\n",
    "        result = x / y\n",
    "    except ZeroDivisionError:\n",
    "        print(\"Error: Cannot divide by zero!\")\n",
    "    else:\n",
    "        return result\n",
    "\n",
    "def square_root(x):\n",
    "    try:\n",
    "        if x < 0:\n",
    "            raise NegativeNumberError(\"Error: Cannot find square root of a negative number!\")\n",
    "        else:\n",
    "            return x ** 0.5\n",
    "    except NegativeNumberError as e:\n",
    "        print(e)\n",
    "\n",
    "def absolute_value(x):\n",
    "    try:\n",
    "        if x < 0:\n",
    "            return -x\n",
    "        else:\n",
    "            return x\n",
    "    except TypeError:\n",
    "        print(\"Error: Invalid input type!\")\n",
    "\n",
    "# Example usage\n",
    "print(divide(10, 2))    # Output: 5.0\n",
    "print(divide(10, 0))    # Output: Error: Cannot divide by zero!\n",
    "\n",
    "print(square_root(16))  # Output: 4.0\n",
    "print(square_root(-1))  # Output: Error: Cannot find square root of a negative number!\n",
    "\n",
    "print(absolute_value(5))     # Output: 5\n",
    "print(absolute_value(-5))    # Output: 5\n",
    "print(absolute_value(\"five\")) # Output: Error: Invalid input type!\n"
   ]
  },
  {
   "cell_type": "markdown",
   "id": "68584993",
   "metadata": {},
   "source": [
    "In this example, we define three math functions (divide, square_root, and absolute_value) that take one or two arguments and perform some mathematical operation on them. Each function also has exception handling to handle potential errors that may occur during execution.\n",
    "\n",
    "For example, the divide function handles the ZeroDivisionError exception that can occur when dividing by zero, and the square_root function raises a custom NegativeNumberError exception when attempting to find the square root of a negative number.\n",
    "\n",
    "The absolute_value function also has exception handling for invalid input types, such as when the input is not a number.\n",
    "\n",
    "Overall, exception handling allows our code to gracefully handle errors and prevent our program from crashing."
   ]
  },
  {
   "cell_type": "markdown",
   "id": "fd97eb0f",
   "metadata": {},
   "source": [
    "#### Without Exception Handling "
   ]
  },
  {
   "cell_type": "code",
   "execution_count": 6,
   "id": "122ade44",
   "metadata": {},
   "outputs": [
    {
     "name": "stdout",
     "output_type": "stream",
     "text": [
      "5.0\n"
     ]
    },
    {
     "ename": "ZeroDivisionError",
     "evalue": "division by zero",
     "output_type": "error",
     "traceback": [
      "\u001b[1;31m---------------------------------------------------------------------------\u001b[0m",
      "\u001b[1;31mZeroDivisionError\u001b[0m                         Traceback (most recent call last)",
      "\u001b[1;32m~\\AppData\\Local\\Temp/ipykernel_14532/4203560343.py\u001b[0m in \u001b[0;36m<module>\u001b[1;34m\u001b[0m\n\u001b[0;32m     20\u001b[0m \u001b[1;31m# Example usage\u001b[0m\u001b[1;33m\u001b[0m\u001b[1;33m\u001b[0m\u001b[0m\n\u001b[0;32m     21\u001b[0m \u001b[0mprint\u001b[0m\u001b[1;33m(\u001b[0m\u001b[0mdivide\u001b[0m\u001b[1;33m(\u001b[0m\u001b[1;36m10\u001b[0m\u001b[1;33m,\u001b[0m \u001b[1;36m2\u001b[0m\u001b[1;33m)\u001b[0m\u001b[1;33m)\u001b[0m    \u001b[1;31m# Output: 5.0\u001b[0m\u001b[1;33m\u001b[0m\u001b[1;33m\u001b[0m\u001b[0m\n\u001b[1;32m---> 22\u001b[1;33m \u001b[0mprint\u001b[0m\u001b[1;33m(\u001b[0m\u001b[0mdivide\u001b[0m\u001b[1;33m(\u001b[0m\u001b[1;36m10\u001b[0m\u001b[1;33m,\u001b[0m \u001b[1;36m0\u001b[0m\u001b[1;33m)\u001b[0m\u001b[1;33m)\u001b[0m    \u001b[1;31m# ZeroDivisionError: division by zero\u001b[0m\u001b[1;33m\u001b[0m\u001b[1;33m\u001b[0m\u001b[0m\n\u001b[0m\u001b[0;32m     23\u001b[0m \u001b[1;33m\u001b[0m\u001b[0m\n\u001b[0;32m     24\u001b[0m \u001b[0mprint\u001b[0m\u001b[1;33m(\u001b[0m\u001b[0msquare_root\u001b[0m\u001b[1;33m(\u001b[0m\u001b[1;36m16\u001b[0m\u001b[1;33m)\u001b[0m\u001b[1;33m)\u001b[0m  \u001b[1;31m# Output: 4.0\u001b[0m\u001b[1;33m\u001b[0m\u001b[1;33m\u001b[0m\u001b[0m\n",
      "\u001b[1;32m~\\AppData\\Local\\Temp/ipykernel_14532/4203560343.py\u001b[0m in \u001b[0;36mdivide\u001b[1;34m(x, y)\u001b[0m\n\u001b[0;32m      3\u001b[0m \u001b[1;33m\u001b[0m\u001b[0m\n\u001b[0;32m      4\u001b[0m \u001b[1;32mdef\u001b[0m \u001b[0mdivide\u001b[0m\u001b[1;33m(\u001b[0m\u001b[0mx\u001b[0m\u001b[1;33m,\u001b[0m \u001b[0my\u001b[0m\u001b[1;33m)\u001b[0m\u001b[1;33m:\u001b[0m\u001b[1;33m\u001b[0m\u001b[1;33m\u001b[0m\u001b[0m\n\u001b[1;32m----> 5\u001b[1;33m     \u001b[0mresult\u001b[0m \u001b[1;33m=\u001b[0m \u001b[0mx\u001b[0m \u001b[1;33m/\u001b[0m \u001b[0my\u001b[0m\u001b[1;33m\u001b[0m\u001b[1;33m\u001b[0m\u001b[0m\n\u001b[0m\u001b[0;32m      6\u001b[0m     \u001b[1;32mreturn\u001b[0m \u001b[0mresult\u001b[0m\u001b[1;33m\u001b[0m\u001b[1;33m\u001b[0m\u001b[0m\n\u001b[0;32m      7\u001b[0m \u001b[1;33m\u001b[0m\u001b[0m\n",
      "\u001b[1;31mZeroDivisionError\u001b[0m: division by zero"
     ]
    }
   ],
   "source": [
    "class NegativeNumberError(Exception):\n",
    "    pass\n",
    "\n",
    "def divide(x, y):\n",
    "    result = x / y\n",
    "    return result\n",
    "\n",
    "def square_root(x):\n",
    "    if x < 0:\n",
    "        raise NegativeNumberError(\"Error: Cannot find square root of a negative number!\")\n",
    "    else:\n",
    "        return x ** 0.5\n",
    "\n",
    "def absolute_value(x):\n",
    "    if x < 0:\n",
    "        return -x\n",
    "    else:\n",
    "        return x\n",
    "\n",
    "# Example usage\n",
    "print(divide(10, 2))    # Output: 5.0\n",
    "print(divide(10, 0))    # ZeroDivisionError: division by zero\n",
    "\n",
    "print(square_root(16))  # Output: 4.0\n",
    "print(square_root(-1))  # NegativeNumberError: Error: Cannot find square root of a negative number!\n",
    "\n",
    "print(absolute_value(5))     # Output: 5\n",
    "print(absolute_value(-5))    # Output: 5\n",
    "print(absolute_value(\"five\")) # TypeError: '<' not supported between instances of 'str' and 'int'\n"
   ]
  },
  {
   "cell_type": "markdown",
   "id": "c80daf79",
   "metadata": {},
   "source": [
    "#### Q1. What is an exception in python? Write the difference between Exceptions and Syntax Error"
   ]
  },
  {
   "cell_type": "markdown",
   "id": "40612c11",
   "metadata": {},
   "source": [
    "An exception in Python is a runtime error that occurs during the execution of a program. It is an event that interrupts the normal flow of a program's instructions. In Python, exceptions are objects that represent errors or other exceptional events that can occur during the execution of a program.  \n",
    "\n",
    "There are two main types of exceptions in Python:   \n",
    "\n",
    "Built-in exceptions: These are the exceptions that are provided by the Python language and are built into the interpreter. Examples include ZeroDivisionError, NameError, TypeError, etc.   \n",
    "\n",
    "User-defined exceptions: These are exceptions that are defined by the programmer and are used to signal errors or exceptional events that are specific to the program being developed.   \n",
    "\n",
    "The main difference between exceptions and syntax errors is that syntax errors are detected by the interpreter before the program is run, while exceptions occur during the execution of the program.   \n",
    "\n",
    "Syntax errors occur when the syntax of the program is incorrect, such as a missing or extra bracket, a typo in a keyword, etc. These errors are detected by the Python interpreter before the program is run and are often easy to fix.   \n",
    "\n",
    "Exceptions, on the other hand, occur during the execution of the program and can be caused by a wide range of factors, including invalid user input, network errors, file I/O errors, and many others. Exceptions are often more difficult to predict and handle than syntax errors, and require more sophisticated error handling techniques.   "
   ]
  },
  {
   "cell_type": "markdown",
   "id": "1de54f2e",
   "metadata": {},
   "source": [
    "#### Q2. What happens when an exception is not handled? Explain with an example"
   ]
  },
  {
   "cell_type": "markdown",
   "id": "854facc8",
   "metadata": {},
   "source": [
    "When an exception is not handled, it will cause the program to terminate abruptly and display an error message, which can be difficult for the user to understand."
   ]
  },
  {
   "cell_type": "code",
   "execution_count": 7,
   "id": "34c3e0b7",
   "metadata": {},
   "outputs": [
    {
     "ename": "ZeroDivisionError",
     "evalue": "division by zero",
     "output_type": "error",
     "traceback": [
      "\u001b[1;31m---------------------------------------------------------------------------\u001b[0m",
      "\u001b[1;31mZeroDivisionError\u001b[0m                         Traceback (most recent call last)",
      "\u001b[1;32m~\\AppData\\Local\\Temp/ipykernel_14532/2375341032.py\u001b[0m in \u001b[0;36m<module>\u001b[1;34m\u001b[0m\n\u001b[0;32m      1\u001b[0m \u001b[0mnumerator\u001b[0m \u001b[1;33m=\u001b[0m \u001b[1;36m10\u001b[0m\u001b[1;33m\u001b[0m\u001b[1;33m\u001b[0m\u001b[0m\n\u001b[0;32m      2\u001b[0m \u001b[0mdenominator\u001b[0m \u001b[1;33m=\u001b[0m \u001b[1;36m0\u001b[0m\u001b[1;33m\u001b[0m\u001b[1;33m\u001b[0m\u001b[0m\n\u001b[1;32m----> 3\u001b[1;33m \u001b[0mresult\u001b[0m \u001b[1;33m=\u001b[0m \u001b[0mnumerator\u001b[0m \u001b[1;33m/\u001b[0m \u001b[0mdenominator\u001b[0m\u001b[1;33m\u001b[0m\u001b[1;33m\u001b[0m\u001b[0m\n\u001b[0m\u001b[0;32m      4\u001b[0m \u001b[0mprint\u001b[0m\u001b[1;33m(\u001b[0m\u001b[0mresult\u001b[0m\u001b[1;33m)\u001b[0m\u001b[1;33m\u001b[0m\u001b[1;33m\u001b[0m\u001b[0m\n",
      "\u001b[1;31mZeroDivisionError\u001b[0m: division by zero"
     ]
    }
   ],
   "source": [
    "numerator = 10\n",
    "denominator = 0\n",
    "result = numerator / denominator\n",
    "print(result)\n"
   ]
  },
  {
   "cell_type": "markdown",
   "id": "af4da302",
   "metadata": {},
   "source": [
    "This error message is not user-friendly and can be confusing for non-technical users. It is always a good practice to handle exceptions in the code to avoid such situations and provide a better user experience."
   ]
  },
  {
   "cell_type": "code",
   "execution_count": 8,
   "id": "1da04ad7",
   "metadata": {},
   "outputs": [
    {
     "name": "stdout",
     "output_type": "stream",
     "text": [
      "Error: Cannot divide by zero!\n"
     ]
    }
   ],
   "source": [
    "numerator = 10\n",
    "denominator = 0\n",
    "try:\n",
    "    result = numerator / denominator\n",
    "    print(result)\n",
    "except ZeroDivisionError:\n",
    "    print(\"Error: Cannot divide by zero!\")\n"
   ]
  },
  {
   "cell_type": "markdown",
   "id": "29536a24",
   "metadata": {},
   "source": [
    "#### Q3 Which Python statements are used to catch and handle exception? explain with a example "
   ]
  },
  {
   "cell_type": "markdown",
   "id": "839fa375",
   "metadata": {},
   "source": [
    "Python statements used to raise and handle exceptions are try, except, finally, and raise."
   ]
  },
  {
   "cell_type": "code",
   "execution_count": 9,
   "id": "6ecaeb42",
   "metadata": {},
   "outputs": [
    {
     "name": "stdout",
     "output_type": "stream",
     "text": [
      "Enter a number: 5\n",
      "Enter another number: 4\n",
      "Result: 1.25\n",
      "Done with calculations.\n"
     ]
    }
   ],
   "source": [
    "try:\n",
    "    x = int(input(\"Enter a number: \"))\n",
    "    y = int(input(\"Enter another number: \"))\n",
    "    result = x / y\n",
    "except ZeroDivisionError:\n",
    "    print(\"Error: Cannot divide by zero!\")\n",
    "except ValueError:\n",
    "    print(\"Error: Invalid input type!\")\n",
    "else:\n",
    "    print(\"Result:\", result)\n",
    "finally:\n",
    "    print(\"Done with calculations.\")\n"
   ]
  },
  {
   "cell_type": "markdown",
   "id": "6b720bde",
   "metadata": {},
   "source": [
    "In this example, the try block contains the code that could potentially raise an exception. If an exception is raised, the corresponding except block is executed. If no exception is raised, the else block is executed. The finally block is always executed, regardless of whether an exception was raised or not"
   ]
  },
  {
   "cell_type": "markdown",
   "id": "0ccd2052",
   "metadata": {},
   "source": [
    "#### Explain with example : \n",
    "\n",
    "a. try and else  \n",
    "b. finally   \n",
    "c. raise   "
   ]
  },
  {
   "cell_type": "markdown",
   "id": "a1a1f2fb",
   "metadata": {},
   "source": [
    "In Python, the try, except, else, finally statements are used to catch and handle exceptions.\n",
    "\n",
    "The try block contains the code that may raise an exception, and the except block contains the code that handles the exception.\n",
    "\n",
    "The else block is optional and is executed only if no exceptions are raised in the try block.\n",
    "\n",
    "The finally block is also optional and is executed whether an exception is raised or not. It is used to clean up resources or perform some final actions.\n",
    "\n",
    "Here's an example:"
   ]
  },
  {
   "cell_type": "code",
   "execution_count": 10,
   "id": "4604367b",
   "metadata": {},
   "outputs": [
    {
     "name": "stdout",
     "output_type": "stream",
     "text": [
      "Enter the numerator: 5\n",
      "Enter the denominator: 5\n",
      "The result is: 1.0\n",
      "Program execution complete.\n"
     ]
    }
   ],
   "source": [
    "try:\n",
    "    numerator = int(input(\"Enter the numerator: \"))\n",
    "    denominator = int(input(\"Enter the denominator: \"))\n",
    "    result = numerator / denominator\n",
    "except ValueError:\n",
    "    print(\"Error: Invalid input. Please enter integer values.\")\n",
    "except ZeroDivisionError:\n",
    "    print(\"Error: Cannot divide by zero.\")\n",
    "else:\n",
    "    print(\"The result is:\", result)\n",
    "finally:\n",
    "    print(\"Program execution complete.\")\n"
   ]
  },
  {
   "cell_type": "markdown",
   "id": "1cec6af0",
   "metadata": {},
   "source": [
    "#### Q5. What are Custom Exceptions in python? Why do we need Custom Exceptions? Explain with an example"
   ]
  },
  {
   "cell_type": "markdown",
   "id": "539340bd",
   "metadata": {},
   "source": [
    "In Python, Custom Exceptions are user-defined exceptions that are created by the programmer as per the specific requirements of their program.   \n",
    "\n",
    "We need custom exceptions in Python to add more clarity and detail to the error message that is raised when an exception occurs in our program. With custom exceptions, we can raise an exception with a specific message and error code that is more meaningful to the users or other developers who are using our program. It also helps in debugging the code easily and quickly.   \n",
    "\n",
    "For example, let's say we are writing a program that handles student records. In our program, we need to handle a situation where a student ID is not found in the database. Instead of raising a general exception, we can create a custom exception named StudentNotFoundError and raise it with a specific error message. This will help the user to understand the exact issue and resolve it accordingly.  "
   ]
  },
  {
   "cell_type": "code",
   "execution_count": 11,
   "id": "7e552dcc",
   "metadata": {},
   "outputs": [],
   "source": [
    "class StudentNotFoundError(Exception):\n",
    "    def __init__(self, message):\n",
    "        self.message = message\n",
    "        super().__init__(self.message)\n"
   ]
  },
  {
   "cell_type": "code",
   "execution_count": 12,
   "id": "77b39210",
   "metadata": {},
   "outputs": [],
   "source": [
    "def find_student(student_id):\n",
    "    # Search for the student record in the database\n",
    "    if not found:\n",
    "        raise StudentNotFoundError(\"Student with ID {} not found\".format(student_id))\n"
   ]
  },
  {
   "cell_type": "markdown",
   "id": "f674fc6e",
   "metadata": {},
   "source": [
    "#### Q6. Create custom exception class, Use this class to handle an exception."
   ]
  },
  {
   "cell_type": "code",
   "execution_count": 13,
   "id": "38c85116",
   "metadata": {},
   "outputs": [
    {
     "name": "stdout",
     "output_type": "stream",
     "text": [
      "50 is out of range (0-10)\n",
      "-5 is out of range (0-10)\n"
     ]
    }
   ],
   "source": [
    "class OutOfRangeError(Exception):\n",
    "    \"\"\"Exception raised when a value is out of range.\"\"\"\n",
    "    pass\n",
    "\n",
    "def get_value_in_range(val, min_val, max_val):\n",
    "    \"\"\"Returns the given value if it is within the specified range,\n",
    "    otherwise raises an OutOfRangeError exception.\"\"\"\n",
    "    if val < min_val or val > max_val:\n",
    "        raise OutOfRangeError(f\"{val} is out of range ({min_val}-{max_val})\")\n",
    "    return val\n",
    "\n",
    "# Example usage\n",
    "try:\n",
    "    val = get_value_in_range(50, 0, 10)\n",
    "    print(val)\n",
    "except OutOfRangeError as e:\n",
    "    print(e)\n",
    "    \n",
    "try:\n",
    "    val = get_value_in_range(-5, 0, 10)\n",
    "    print(val)\n",
    "except OutOfRangeError as e:\n",
    "    print(e)\n"
   ]
  },
  {
   "cell_type": "markdown",
   "id": "535a521a",
   "metadata": {},
   "source": [
    "#### Custom Exceptions"
   ]
  },
  {
   "cell_type": "code",
   "execution_count": 14,
   "id": "b4cf176f",
   "metadata": {},
   "outputs": [
    {
     "name": "stdout",
     "output_type": "stream",
     "text": [
      "Enter your age-256\n"
     ]
    }
   ],
   "source": [
    "age = int(input(\"Enter your age\"))"
   ]
  },
  {
   "cell_type": "code",
   "execution_count": 1,
   "id": "adc760c9",
   "metadata": {},
   "outputs": [],
   "source": [
    "class validateage(Exception) :\n",
    "    def __init__(self,msg) :\n",
    "        self.msg=msg"
   ]
  },
  {
   "cell_type": "code",
   "execution_count": 2,
   "id": "e6d48e12",
   "metadata": {},
   "outputs": [],
   "source": [
    "def validate_age(age):\n",
    "    if age<0:\n",
    "        raise validateage(\"age cannot be less than o\")\n",
    "    elif age>=110:\n",
    "        raise validateage(\"Age is too high\")"
   ]
  },
  {
   "cell_type": "code",
   "execution_count": 4,
   "id": "9d5aec50",
   "metadata": {},
   "outputs": [
    {
     "name": "stdout",
     "output_type": "stream",
     "text": [
      "Enter your age-1\n",
      "age cannot be less than o\n"
     ]
    }
   ],
   "source": [
    "try : \n",
    "    age = int(input(\"Enter your age\"))\n",
    "    validate_age(age)\n",
    "except validateage as e:\n",
    "    print(e)"
   ]
  },
  {
   "cell_type": "markdown",
   "id": "1570a18b",
   "metadata": {},
   "source": [
    "#### Python Exceptions"
   ]
  },
  {
   "cell_type": "markdown",
   "id": "0d2584b4",
   "metadata": {},
   "source": [
    "Python exceptions are runtime errors that occur when an unexpected event happens during the execution of a Python program. These errors can be caused by a variety of factors, including incorrect user input, logical errors in the code, or unexpected external conditions (such as network failures). Python provides a built-in mechanism for handling exceptions, which allows programmers to gracefully handle errors and take appropriate action.\n",
    "\n",
    "Python has a number of built-in exception types that are raised under different circumstances. Some of the common built-in exception types in Python include:\n",
    "\n",
    "SyntaxError: raised when the Python interpreter encounters a syntax error in the code\n",
    "TypeError: raised when an operation or function is applied to an object of inappropriate type\n",
    "ValueError: raised when a function or method receives an argument of the correct type but an inappropriate value\n",
    "ZeroDivisionError: raised when an attempt is made to divide by zero\n",
    "In addition to these built-in exception types, programmers can also define their own custom exception types using the Exception class or one of its subclasses.\n",
    "\n",
    "The primary advantage of exception handling in Python is that it allows programmers to gracefully handle runtime errors and prevent their programs from crashing or producing unexpected results. By catching and handling exceptions, programmers can ensure that their programs continue to execute in a predictable and reliable manner, even in the face of unexpected errors.\n",
    "\n",
    "Exception handling can also make it easier to diagnose and fix errors in a program, since it allows programmers to log error messages and stack traces that provide detailed information about where an error occurred and how it can be fixed. This information can be used to identify and fix bugs in a program, or to provide useful feedback to end users who encounter errors.\n",
    "\n",
    "In addition to exception handling, logging is another important technique for debugging and maintaining Python programs. Logging allows programmers to record important events and messages during the execution of a program, which can help to identify problems and diagnose errors. Python's built-in logging module provides a flexible and powerful framework for logging messages of varying severity and importance, and for controlling where and how those messages are stored and displayed.\n",
    "\n",
    "Overall, the combination of exception handling and logging provides a powerful toolkit for building robust and reliable Python programs, and for ensuring that those programs continue to operate correctly even in the face of unexpected errors and conditions."
   ]
  },
  {
   "cell_type": "markdown",
   "id": "f4b629d0",
   "metadata": {},
   "source": [
    "1) Using try-except blocks: This is the most common way to handle exceptions in Python. In this approach, you wrap the code that might raise an exception inside a try block, and then catch any exceptions that are raised in an except block. Here's an example:"
   ]
  },
  {
   "cell_type": "code",
   "execution_count": 2,
   "id": "ebe9453f",
   "metadata": {},
   "outputs": [
    {
     "ename": "IndentationError",
     "evalue": "expected an indented block (Temp/ipykernel_9620/2294483825.py, line 3)",
     "output_type": "error",
     "traceback": [
      "\u001b[1;36m  File \u001b[1;32m\"C:\\Users\\inare\\AppData\\Local\\Temp/ipykernel_9620/2294483825.py\"\u001b[1;36m, line \u001b[1;32m3\u001b[0m\n\u001b[1;33m    except ExceptionType:\u001b[0m\n\u001b[1;37m    ^\u001b[0m\n\u001b[1;31mIndentationError\u001b[0m\u001b[1;31m:\u001b[0m expected an indented block\n"
     ]
    }
   ],
   "source": [
    "try:\n",
    "    # code that might raise an exception\n",
    "except ExceptionType:\n",
    "    # code to handle the exception\n"
   ]
  },
  {
   "cell_type": "markdown",
   "id": "8da59e03",
   "metadata": {},
   "source": [
    "2) Using try-except-else blocks: This approach is similar to the previous one, but includes an else block that is executed if no exception is raised in the try block. Here's an example:"
   ]
  },
  {
   "cell_type": "code",
   "execution_count": 3,
   "id": "85e016ea",
   "metadata": {},
   "outputs": [
    {
     "ename": "IndentationError",
     "evalue": "expected an indented block (Temp/ipykernel_9620/1358462420.py, line 3)",
     "output_type": "error",
     "traceback": [
      "\u001b[1;36m  File \u001b[1;32m\"C:\\Users\\inare\\AppData\\Local\\Temp/ipykernel_9620/1358462420.py\"\u001b[1;36m, line \u001b[1;32m3\u001b[0m\n\u001b[1;33m    except ExceptionType:\u001b[0m\n\u001b[1;37m    ^\u001b[0m\n\u001b[1;31mIndentationError\u001b[0m\u001b[1;31m:\u001b[0m expected an indented block\n"
     ]
    }
   ],
   "source": [
    "try:\n",
    "    # code that might raise an exception\n",
    "except ExceptionType:\n",
    "    # code to handle the exception\n",
    "else:\n",
    "    # code to execute if no exception is raised\n"
   ]
  },
  {
   "cell_type": "markdown",
   "id": "9a72689d",
   "metadata": {},
   "source": [
    "3) Using try-except-finally blocks: This approach is similar to the first one, but includes a finally block that is always executed, regardless of whether an exception is raised. Here's an example:"
   ]
  },
  {
   "cell_type": "code",
   "execution_count": null,
   "id": "d63d682e",
   "metadata": {},
   "outputs": [],
   "source": [
    "try:\n",
    "    # code that might raise an exception\n",
    "except ExceptionType:\n",
    "    # code to handle the exception\n",
    "finally:\n",
    "    # code to execute regardless of whether an exception is raised\n"
   ]
  },
  {
   "cell_type": "markdown",
   "id": "fb0d9788",
   "metadata": {},
   "source": [
    "4) Raising exceptions: You can also raise your own exceptions in Python using the raise keyword. This is useful when you want to signal an error or abnormal condition in your code. Here's an example:"
   ]
  },
  {
   "cell_type": "code",
   "execution_count": 7,
   "id": "9dcb182d",
   "metadata": {},
   "outputs": [
    {
     "ename": "ValueError",
     "evalue": "x must be non-negative",
     "output_type": "error",
     "traceback": [
      "\u001b[1;31m---------------------------------------------------------------------------\u001b[0m",
      "\u001b[1;31mValueError\u001b[0m                                Traceback (most recent call last)",
      "\u001b[1;32m~\\AppData\\Local\\Temp/ipykernel_9620/1697524675.py\u001b[0m in \u001b[0;36m<module>\u001b[1;34m\u001b[0m\n\u001b[0;32m      1\u001b[0m \u001b[0mx\u001b[0m \u001b[1;33m=\u001b[0m \u001b[1;33m-\u001b[0m\u001b[1;36m5\u001b[0m\u001b[1;33m\u001b[0m\u001b[1;33m\u001b[0m\u001b[0m\n\u001b[0;32m      2\u001b[0m \u001b[1;32mif\u001b[0m \u001b[0mx\u001b[0m \u001b[1;33m<\u001b[0m \u001b[1;36m0\u001b[0m\u001b[1;33m:\u001b[0m\u001b[1;33m\u001b[0m\u001b[1;33m\u001b[0m\u001b[0m\n\u001b[1;32m----> 3\u001b[1;33m     \u001b[1;32mraise\u001b[0m \u001b[0mValueError\u001b[0m\u001b[1;33m(\u001b[0m\u001b[1;34m\"x must be non-negative\"\u001b[0m\u001b[1;33m)\u001b[0m\u001b[1;33m\u001b[0m\u001b[1;33m\u001b[0m\u001b[0m\n\u001b[0m",
      "\u001b[1;31mValueError\u001b[0m: x must be non-negative"
     ]
    }
   ],
   "source": [
    "x = -5\n",
    "if x < 0:\n",
    "    raise ValueError(\"x must be non-negative\")\n"
   ]
  },
  {
   "cell_type": "markdown",
   "id": "6df44398",
   "metadata": {},
   "source": [
    "5) Using the with statement: The with statement is a Python feature that allows you to manage resources in a safe and efficient way. It can also be used to handle exceptions raised by the code inside the with block. Here's an example:"
   ]
  },
  {
   "cell_type": "code",
   "execution_count": null,
   "id": "37e9627f",
   "metadata": {},
   "outputs": [],
   "source": [
    "with open(\"myfile.txt\", \"r\") as f:\n",
    "    # code that reads from the file\n"
   ]
  },
  {
   "cell_type": "markdown",
   "id": "36b53eaf",
   "metadata": {},
   "source": [
    "6) Using exception chaining: Starting with Python 3, you can chain exceptions together using the raise ... from syntax. This allows you to capture the original exception that caused the current exception to be raised, and propagate it up the call stack. Here's an example:"
   ]
  },
  {
   "cell_type": "code",
   "execution_count": 11,
   "id": "5bbc6cf0",
   "metadata": {},
   "outputs": [
    {
     "ename": "IndentationError",
     "evalue": "expected an indented block (Temp/ipykernel_9620/2545816186.py, line 3)",
     "output_type": "error",
     "traceback": [
      "\u001b[1;36m  File \u001b[1;32m\"C:\\Users\\inare\\AppData\\Local\\Temp/ipykernel_9620/2545816186.py\"\u001b[1;36m, line \u001b[1;32m3\u001b[0m\n\u001b[1;33m    except ExceptionType as e:\u001b[0m\n\u001b[1;37m    ^\u001b[0m\n\u001b[1;31mIndentationError\u001b[0m\u001b[1;31m:\u001b[0m expected an indented block\n"
     ]
    }
   ],
   "source": [
    "try:\n",
    "    # code that might raise an exception\n",
    "except ExceptionType as e: \n",
    "    raise MyException(\"An error occurred\") from e\n"
   ]
  },
  {
   "cell_type": "markdown",
   "id": "df3c76fe",
   "metadata": {},
   "source": [
    "#### Custom Exception Type and Custom Exception Message"
   ]
  },
  {
   "cell_type": "markdown",
   "id": "8847ef62",
   "metadata": {},
   "source": [
    "in Python you can define your own custom exception types. This can be useful when you want to create more specific or specialized exceptions that are tailored to your application or module.\n",
    "\n",
    "To define a custom exception type in Python, you can create a new class that inherits from the built-in Exception class or one of its subclasses. For example:"
   ]
  },
  {
   "cell_type": "code",
   "execution_count": null,
   "id": "ce1ffec9",
   "metadata": {},
   "outputs": [],
   "source": [
    "class MyCustomException(Exception):\n",
    "    pass\n"
   ]
  },
  {
   "cell_type": "markdown",
   "id": "83498d4f",
   "metadata": {},
   "source": [
    "In this example, we define a new exception type called MyCustomException that inherits from the built-in Exception class. You can also add additional attributes or methods to your custom exception class if needed.\n",
    "\n",
    "Once you have defined your custom exception type, you can raise instances of it in your code using the raise statement, just like you would with any other exception. For example:"
   ]
  },
  {
   "cell_type": "code",
   "execution_count": null,
   "id": "6b13cf73",
   "metadata": {},
   "outputs": [],
   "source": [
    "if some_condition:\n",
    "    raise MyCustomException(\"An error occurred\")\n"
   ]
  },
  {
   "cell_type": "markdown",
   "id": "f9bb313c",
   "metadata": {},
   "source": [
    "In this example, we raise a new instance of MyCustomException with a message that describes the error.\n",
    "\n",
    "Overall, defining your own custom exception types can be a powerful tool for creating more robust and maintainable code, by allowing you to catch and handle specific types of errors in a more fine-grained way."
   ]
  },
  {
   "cell_type": "markdown",
   "id": "1efe3c90",
   "metadata": {},
   "source": [
    "#### Logging "
   ]
  },
  {
   "cell_type": "markdown",
   "id": "88b69eda",
   "metadata": {},
   "source": [
    "Logging is the process of recording events and messages that occur during the execution of a program. In Python, the built-in logging module provides a flexible and powerful framework for logging messages of varying severity and importance, and for controlling where and how those messages are stored and displayed.\n",
    "\n",
    "The logging module provides several components for setting up and managing a logging system:\n",
    "\n",
    "Loggers: A logger is the primary component of the logging system. It is used to collect and route log messages to the appropriate handlers. Each logger is identified by a name, which is used to determine its place in the logger hierarchy. Loggers can be configured to propagate messages to parent loggers, or to stop propagation at a certain point in the hierarchy.\n",
    "\n",
    "Handlers: A handler is responsible for delivering log messages to a particular destination, such as the console or a file. The logging module provides several built-in handler classes for common destinations, and custom handlers can be created by subclassing the Handler class. Handlers can be associated with one or more loggers, and can be configured to filter messages based on their severity level.\n",
    "\n",
    "Formatters: A formatter is used to format log messages into a human-readable string. The logging module provides several built-in formatter classes, and custom formatters can be created by subclassing the Formatter class. Formatters can be associated with one or more handlers, and can be configured to produce output in a variety of formats.\n",
    "\n",
    "Using these components, a logging system can be set up and configured to capture and route log messages from a Python program. Here's an example of how to set up a basic logging system:"
   ]
  },
  {
   "cell_type": "code",
   "execution_count": 1,
   "id": "51a8321e",
   "metadata": {},
   "outputs": [
    {
     "name": "stderr",
     "output_type": "stream",
     "text": [
      "2023-02-27 16:16:12,127 - myapp - DEBUG - This is a debug message\n"
     ]
    }
   ],
   "source": [
    "import logging\n",
    "\n",
    "# Set up a logger\n",
    "logger = logging.getLogger(\"myapp\")\n",
    "logger.setLevel(logging.DEBUG)\n",
    "\n",
    "# Set up a console handler\n",
    "console_handler = logging.StreamHandler()\n",
    "console_handler.setLevel(logging.DEBUG)\n",
    "\n",
    "# Set up a formatter\n",
    "formatter = logging.Formatter(\"%(asctime)s - %(name)s - %(levelname)s - %(message)s\")\n",
    "console_handler.setFormatter(formatter)\n",
    "\n",
    "# Add the handler to the logger\n",
    "logger.addHandler(console_handler)\n",
    "\n",
    "# Log a message\n",
    "logger.debug(\"This is a debug message\")\n"
   ]
  },
  {
   "cell_type": "markdown",
   "id": "7506c405",
   "metadata": {},
   "source": [
    "In this example, we create a logger named \"myapp\" and set its logging level to DEBUG, which means it will capture messages with severity levels of DEBUG, INFO, WARNING, ERROR, and CRITICAL. We then create a console handler and associate it with the logger, and set its logging level to DEBUG. Finally, we create a formatter and associate it with the console handler, and then use the logger to log a debug message.\n",
    "\n",
    "When this code is run, the message \"This is a debug message\" will be printed to the console with a timestamp, logger name, severity level, and message text.\n",
    "\n",
    "Overall, logging is an essential tool for debugging and maintaining Python programs, and the logging module provides a flexible and powerful framework for building logging systems that can capture and route log messages from a variety of sources."
   ]
  },
  {
   "cell_type": "markdown",
   "id": "d723070d",
   "metadata": {},
   "source": [
    "#### Custom Class, Function , Object , Exception handling and Logging in one example : "
   ]
  },
  {
   "cell_type": "code",
   "execution_count": 12,
   "id": "288a5d6e",
   "metadata": {},
   "outputs": [
    {
     "name": "stderr",
     "output_type": "stream",
     "text": [
      "ERROR:root:Invalid input: 2 or three\n",
      "ERROR:root:Both inputs must be numbers\n",
      "ERROR:root:This is an example error message\n"
     ]
    },
    {
     "name": "stdout",
     "output_type": "stream",
     "text": [
      "5\n",
      "Error: Both inputs must be numbers\n"
     ]
    }
   ],
   "source": [
    "import logging\n",
    "import time\n",
    "\n",
    "class MathUtils:\n",
    "    class InvalidInputException(Exception):\n",
    "        pass\n",
    "    \n",
    "    def add_numbers(self, x, y):\n",
    "        \"\"\"\n",
    "        Adds two numbers together and returns the result.\n",
    "        \n",
    "        Raises an InvalidInputException if either input is not a number.\n",
    "        \"\"\"\n",
    "        try:\n",
    "            result = x + y\n",
    "        except TypeError:\n",
    "            # log the error and raise a custom exception\n",
    "            logging.error(f\"Invalid input: {x} or {y}\")\n",
    "            raise MathUtils.InvalidInputException(\"Both inputs must be numbers\") from None\n",
    "        \n",
    "        return result\n",
    "\n",
    "# example usage\n",
    "math_utils = MathUtils()\n",
    "\n",
    "# valid inputs\n",
    "result = math_utils.add_numbers(2, 3)\n",
    "print(result)  # output: 5\n",
    "\n",
    "# invalid inputs\n",
    "try:\n",
    "    result = math_utils.add_numbers(2, 'three')\n",
    "except MathUtils.InvalidInputException as e:\n",
    "    # log the error and print a message\n",
    "    logging.error(str(e))\n",
    "    print(\"Error:\", str(e))\n",
    "\n",
    "# logging configuration\n",
    "logging.basicConfig(\n",
    "    filename='math_utils.log', \n",
    "    level=logging.ERROR,\n",
    "    format='%(asctime)s %(levelname)s: %(message)s'\n",
    ")\n",
    "\n",
    "# example logging output\n",
    "logging.error(\"This is an example error message\")\n"
   ]
  },
  {
   "cell_type": "markdown",
   "id": "ff76ecbf",
   "metadata": {},
   "source": [
    "In this example, we define a MathUtils class with a single method called add_numbers, which takes two arguments and returns their sum. We also define a custom exception called InvalidInputException, which is raised if either input is not a number.\n",
    "\n",
    "To handle logging, we configure the logging module using the basicConfig function, specifying a log file name, log level, and message format. We then use the logging.error function to log any errors that occur in the add_numbers method or elsewhere in the code.\n",
    "\n",
    "When we run the example code, we first call add_numbers with valid inputs and print the result. We then call it with invalid inputs (one of which is a string), causing the custom exception to be raised and the error message to be logged and printed.\n",
    "\n",
    "Finally, we log an example error message using the logging module, which will be written to the log file with a timestamp and message format specified in the logging configuration."
   ]
  },
  {
   "cell_type": "code",
   "execution_count": 1,
   "id": "c3bc1e97",
   "metadata": {},
   "outputs": [
    {
     "name": "stdout",
     "output_type": "stream",
     "text": [
      "5\n",
      "Error: Both inputs must be numbers\n"
     ]
    }
   ],
   "source": [
    "import logging\n",
    "import time\n",
    "\n",
    "class MathUtils:\n",
    "    class InvalidInputException(Exception):\n",
    "        pass\n",
    "    \n",
    "    def add_numbers(self, x, y):\n",
    "        \"\"\"\n",
    "        Adds two numbers together and returns the result.\n",
    "        \n",
    "        Raises an InvalidInputException if either input is not a number.\n",
    "        \"\"\"\n",
    "        try:\n",
    "            result = x + y\n",
    "        except TypeError:\n",
    "            # log the error and raise a custom exception\n",
    "            logging.error(f\"Invalid input: {x} or {y}\")\n",
    "            raise MathUtils.InvalidInputException(\"Both inputs must be numbers\") from None\n",
    "        \n",
    "        return result\n",
    "\n",
    "# configure logging to write to a file\n",
    "logging.basicConfig(\n",
    "    filename='func.log', \n",
    "    level=logging.ERROR,\n",
    "    format='%(asctime)s %(levelname)s: %(message)s'\n",
    ")\n",
    "\n",
    "# example usage\n",
    "math_utils = MathUtils()\n",
    "\n",
    "# valid inputs\n",
    "result = math_utils.add_numbers(2, 3)\n",
    "print(result)  # output: 5\n",
    "\n",
    "# invalid inputs\n",
    "try:\n",
    "    result = math_utils.add_numbers(2, 'three')\n",
    "except MathUtils.InvalidInputException as e:\n",
    "    # log the error and print a message\n",
    "    logging.error(str(e))\n",
    "    print(\"Error:\", str(e))\n",
    "\n",
    "# example logging output\n",
    "logging.error(\"This is an example error message\")\n"
   ]
  },
  {
   "cell_type": "markdown",
   "id": "55090f53",
   "metadata": {},
   "source": [
    "### FAQ's Exception Handling "
   ]
  },
  {
   "cell_type": "markdown",
   "id": "8429c302",
   "metadata": {},
   "source": [
    "#### Q1. Explain why we have to use the Exception class while creating a Custom Exception.\n",
    "#### Note: Here Exception class refers to the base class for all the exceptions."
   ]
  },
  {
   "cell_type": "markdown",
   "id": "52f2a4f3",
   "metadata": {},
   "source": [
    "In Python, all exceptions are derived from the BaseException class, including the built-in exceptions like TypeError, ValueError, IOError, etc. When you create a custom exception, you typically want it to inherit from the Exception class or one of its subclasses, rather than directly from BaseException. This is because the Exception class provides additional functionality and is designed to be used as a base class for user-defined exceptions.\n",
    "\n",
    "Here are a few reasons why you should use the Exception class when creating a custom exception:\n",
    "\n",
    "Consistency: By inheriting from the Exception class, you make your custom exception consistent with other built-in and third-party exceptions that users of your code may be familiar with. Users will know that they can catch your custom exception using a try-except block, just like they would with any other exception.\n",
    "\n",
    "Additional functionality: The Exception class provides several useful methods and attributes that can be used to customize the behavior of your exception, such as __str__, args, with_traceback, etc. By inheriting from Exception, you can take advantage of these methods without having to define them yourself.\n",
    "\n",
    "Clarity: Inheriting from the Exception class makes it clear that your custom class is intended to be an exception. If you were to inherit directly from BaseException, it may not be immediately clear to users of your code that your class is an exception, and they may not know how to handle it correctly.\n",
    "\n",
    "Overall, by inheriting from the Exception class, you can make your custom exception more consistent, more functional, and clearer to users of your code."
   ]
  },
  {
   "cell_type": "markdown",
   "id": "9d3deadb",
   "metadata": {},
   "source": [
    "#### Q2. Write a python program to print Python Exception Hierarchy."
   ]
  },
  {
   "cell_type": "code",
   "execution_count": 3,
   "id": "6c8fa0e3",
   "metadata": {},
   "outputs": [
    {
     "name": "stdout",
     "output_type": "stream",
     "text": [
      "The Hierarchy for inbuilt exceptions is: \n",
      " BaseException\n",
      "--- Exception\n",
      "------ TypeError\n",
      "--------- MultipartConversionError\n",
      "--------- FloatOperation\n",
      "------ StopAsyncIteration\n",
      "------ StopIteration\n",
      "------ ImportError\n",
      "--------- ModuleNotFoundError\n",
      "--------- ZipImportError\n",
      "------ OSError\n",
      "--------- ConnectionError\n",
      "------------ BrokenPipeError\n",
      "------------ ConnectionAbortedError\n",
      "------------ ConnectionRefusedError\n",
      "------------ ConnectionResetError\n",
      "--------------- RemoteDisconnected\n",
      "--------- BlockingIOError\n",
      "--------- ChildProcessError\n",
      "--------- FileExistsError\n",
      "--------- FileNotFoundError\n",
      "--------- IsADirectoryError\n",
      "--------- NotADirectoryError\n",
      "--------- InterruptedError\n",
      "------------ InterruptedSystemCall\n",
      "--------- PermissionError\n",
      "--------- ProcessLookupError\n",
      "--------- TimeoutError\n",
      "--------- UnsupportedOperation\n",
      "--------- herror\n",
      "--------- gaierror\n",
      "--------- timeout\n",
      "--------- Error\n",
      "------------ SameFileError\n",
      "--------- SpecialFileError\n",
      "--------- ExecError\n",
      "--------- ReadError\n",
      "--------- SSLError\n",
      "------------ SSLCertVerificationError\n",
      "------------ SSLZeroReturnError\n",
      "------------ SSLWantReadError\n",
      "------------ SSLWantWriteError\n",
      "------------ SSLSyscallError\n",
      "------------ SSLEOFError\n",
      "--------- URLError\n",
      "------------ HTTPError\n",
      "------------ ContentTooShortError\n",
      "--------- BadGzipFile\n",
      "------ EOFError\n",
      "--------- IncompleteReadError\n",
      "------ RuntimeError\n",
      "--------- RecursionError\n",
      "--------- NotImplementedError\n",
      "------------ ZMQVersionError\n",
      "------------ StdinNotImplementedError\n",
      "--------- _DeadlockError\n",
      "--------- BrokenBarrierError\n",
      "--------- BrokenExecutor\n",
      "--------- SendfileNotAvailableError\n",
      "--------- ExtractionError\n",
      "--------- VariableError\n",
      "------ NameError\n",
      "--------- UnboundLocalError\n",
      "------ AttributeError\n",
      "--------- FrozenInstanceError\n",
      "------ SyntaxError\n",
      "--------- IndentationError\n",
      "------------ TabError\n",
      "------ LookupError\n",
      "--------- IndexError\n",
      "--------- KeyError\n",
      "------------ NoSuchKernel\n",
      "------------ UnknownBackend\n",
      "--------- CodecRegistryError\n",
      "------ ValueError\n",
      "--------- UnicodeError\n",
      "------------ UnicodeEncodeError\n",
      "------------ UnicodeDecodeError\n",
      "------------ UnicodeTranslateError\n",
      "--------- UnsupportedOperation\n",
      "--------- JSONDecodeError\n",
      "--------- SSLCertVerificationError\n",
      "--------- Error\n",
      "--------- ClassNotFound\n",
      "--------- ClipboardEmpty\n",
      "--------- MessageDefect\n",
      "------------ NoBoundaryInMultipartDefect\n",
      "------------ StartBoundaryNotFoundDefect\n",
      "------------ CloseBoundaryNotFoundDefect\n",
      "------------ FirstHeaderLineIsContinuationDefect\n",
      "------------ MisplacedEnvelopeHeaderDefect\n",
      "------------ MissingHeaderBodySeparatorDefect\n",
      "------------ MultipartInvariantViolationDefect\n",
      "------------ InvalidMultipartContentTransferEncodingDefect\n",
      "------------ UndecodableBytesDefect\n",
      "------------ InvalidBase64PaddingDefect\n",
      "------------ InvalidBase64CharactersDefect\n",
      "------------ InvalidBase64LengthDefect\n",
      "------------ HeaderDefect\n",
      "--------------- InvalidHeaderDefect\n",
      "--------------- HeaderMissingRequiredValue\n",
      "--------------- NonPrintableDefect\n",
      "--------------- ObsoleteHeaderDefect\n",
      "--------------- NonASCIILocalPartDefect\n",
      "--------- IllegalMonthError\n",
      "--------- IllegalWeekdayError\n",
      "--------- MacroToEdit\n",
      "--------- ParserError\n",
      "--------- InvalidFileException\n",
      "--------- InvalidVersion\n",
      "--------- InvalidSpecifier\n",
      "--------- InvalidMarker\n",
      "--------- UndefinedComparison\n",
      "--------- UndefinedEnvironmentName\n",
      "--------- InvalidRequirement\n",
      "------------ RequirementParseError\n",
      "------ AssertionError\n",
      "------ ArithmeticError\n",
      "--------- FloatingPointError\n",
      "--------- OverflowError\n",
      "--------- ZeroDivisionError\n",
      "------------ DivisionByZero\n",
      "------------ DivisionUndefined\n",
      "--------- DecimalException\n",
      "------------ Clamped\n",
      "------------ Rounded\n",
      "--------------- Underflow\n",
      "--------------- Overflow\n",
      "------------ Inexact\n",
      "--------------- Underflow\n",
      "--------------- Overflow\n",
      "------------ Subnormal\n",
      "--------------- Underflow\n",
      "------------ DivisionByZero\n",
      "------------ FloatOperation\n",
      "------------ InvalidOperation\n",
      "--------------- ConversionSyntax\n",
      "--------------- DivisionImpossible\n",
      "--------------- DivisionUndefined\n",
      "--------------- InvalidContext\n",
      "------ SystemError\n",
      "--------- CodecRegistryError\n",
      "------ ReferenceError\n",
      "------ MemoryError\n",
      "------ BufferError\n",
      "------ Warning\n",
      "--------- UserWarning\n",
      "------------ GetPassWarning\n",
      "------------ FormatterWarning\n",
      "--------- DeprecationWarning\n",
      "------------ ProvisionalWarning\n",
      "--------- PendingDeprecationWarning\n",
      "--------- SyntaxWarning\n",
      "--------- RuntimeWarning\n",
      "------------ ProactorSelectorThreadWarning\n",
      "------------ UnknownTimezoneWarning\n",
      "------------ PEP440Warning\n",
      "--------- FutureWarning\n",
      "------------ ProvisionalCompleterWarning\n",
      "--------- ImportWarning\n",
      "--------- UnicodeWarning\n",
      "--------- BytesWarning\n",
      "--------- ResourceWarning\n",
      "--------- DeprecatedTzFormatWarning\n",
      "--------- PkgResourcesDeprecationWarning\n",
      "------ Error\n",
      "------ _OptionError\n",
      "------ error\n",
      "------ Verbose\n",
      "------ _Error\n",
      "------ SubprocessError\n",
      "--------- CalledProcessError\n",
      "--------- TimeoutExpired\n",
      "------ _GiveupOnSendfile\n",
      "------ error\n",
      "------ LZMAError\n",
      "------ RegistryError\n",
      "------ _GiveupOnFastCopy\n",
      "------ ZMQBaseError\n",
      "--------- ZMQError\n",
      "------------ ContextTerminated\n",
      "------------ Again\n",
      "------------ InterruptedSystemCall\n",
      "--------- ZMQBindError\n",
      "--------- NotDone\n",
      "------ Error\n",
      "------ error\n",
      "------ PickleError\n",
      "--------- PicklingError\n",
      "--------- UnpicklingError\n",
      "------ _Stop\n",
      "------ TokenError\n",
      "------ StopTokenizing\n",
      "------ ClassFoundException\n",
      "------ EndOfBlock\n",
      "------ TraitError\n",
      "------ ArgumentError\n",
      "------ ArgumentTypeError\n",
      "------ ConfigError\n",
      "--------- ConfigLoaderError\n",
      "------------ ArgumentError\n",
      "--------- ConfigFileNotFound\n",
      "------ ConfigurableError\n",
      "--------- MultipleInstanceError\n",
      "------ ApplicationError\n",
      "------ NoIPAddresses\n",
      "------ Error\n",
      "--------- CancelledError\n",
      "--------- TimeoutError\n",
      "--------- InvalidStateError\n",
      "------ Incomplete\n",
      "------ TimeoutError\n",
      "------ InvalidStateError\n",
      "------ LimitOverrunError\n",
      "------ QueueEmpty\n",
      "------ QueueFull\n",
      "------ InvalidPortNumber\n",
      "------ Empty\n",
      "------ Full\n",
      "------ DuplicateKernelError\n",
      "------ TimeoutError\n",
      "------ COMError\n",
      "------ ArgumentError\n",
      "------ ReturnValueIgnoredError\n",
      "------ KeyReuseError\n",
      "------ UnknownKeyError\n",
      "------ LeakedCallbackError\n",
      "------ BadYieldError\n",
      "------ ReturnValueIgnoredError\n",
      "------ Return\n",
      "------ ErrorDuringImport\n",
      "------ BdbQuit\n",
      "------ Restart\n",
      "------ FindCmdError\n",
      "------ HomeDirError\n",
      "------ ProfileDirError\n",
      "------ IPythonCoreError\n",
      "--------- TryNext\n",
      "--------- UsageError\n",
      "--------- StdinNotImplementedError\n",
      "------ InputRejected\n",
      "------ GetoptError\n",
      "------ OptionError\n",
      "------ ErrorToken\n",
      "------ PrefilterError\n",
      "------ AliasError\n",
      "--------- InvalidAliasError\n",
      "------ Error\n",
      "--------- InterfaceError\n",
      "--------- DatabaseError\n",
      "------------ InternalError\n",
      "------------ OperationalError\n",
      "------------ ProgrammingError\n",
      "------------ IntegrityError\n",
      "------------ DataError\n",
      "------------ NotSupportedError\n",
      "------ Warning\n",
      "------ SpaceInInput\n",
      "------ DOMException\n",
      "--------- IndexSizeErr\n",
      "--------- DomstringSizeErr\n",
      "--------- HierarchyRequestErr\n",
      "--------- WrongDocumentErr\n",
      "--------- InvalidCharacterErr\n",
      "--------- NoDataAllowedErr\n",
      "--------- NoModificationAllowedErr\n",
      "--------- NotFoundErr\n",
      "--------- NotSupportedErr\n",
      "--------- InuseAttributeErr\n",
      "--------- InvalidStateErr\n",
      "--------- SyntaxErr\n",
      "--------- InvalidModificationErr\n",
      "--------- NamespaceErr\n",
      "--------- InvalidAccessErr\n",
      "--------- ValidationErr\n",
      "------ ValidationError\n",
      "------ EditReadOnlyBuffer\n",
      "------ _Retry\n",
      "------ InvalidLayoutError\n",
      "------ HeightIsUnknownError\n",
      "------ ParserSyntaxError\n",
      "------ InternalParseError\n",
      "------ _PositionUpdatingFinished\n",
      "------ SimpleGetItemNotFound\n",
      "------ UncaughtAttributeError\n",
      "------ ParamIssue\n",
      "------ _JediError\n",
      "--------- InternalError\n",
      "--------- WrongVersion\n",
      "--------- RefactoringError\n",
      "------ OnErrorLeaf\n",
      "------ InvalidPythonEnvironment\n",
      "------ MessageError\n",
      "--------- MessageParseError\n",
      "------------ HeaderParseError\n",
      "------------ BoundaryError\n",
      "--------- MultipartConversionError\n",
      "--------- CharsetError\n",
      "------ Error\n",
      "------ HTTPException\n",
      "--------- NotConnected\n",
      "--------- InvalidURL\n",
      "--------- UnknownProtocol\n",
      "--------- UnknownTransferEncoding\n",
      "--------- UnimplementedFileMode\n",
      "--------- IncompleteRead\n",
      "--------- ImproperConnectionState\n",
      "------------ CannotSendRequest\n",
      "------------ CannotSendHeader\n",
      "------------ ResponseNotReady\n",
      "--------- BadStatusLine\n",
      "------------ RemoteDisconnected\n",
      "--------- LineTooLong\n",
      "------ InteractivelyDefined\n",
      "------ KillEmbedded\n",
      "------ QueueEmpty\n",
      "------ QueueFull\n",
      "------ ExpatError\n",
      "------ Error\n",
      "--------- ProtocolError\n",
      "--------- ResponseError\n",
      "--------- Fault\n",
      "------ BadZipFile\n",
      "------ LargeZipFile\n",
      "------ error\n",
      "------ com_error\n",
      "------ internal_error\n",
      "------ ParseBaseException\n",
      "--------- ParseException\n",
      "--------- ParseFatalException\n",
      "------------ ParseSyntaxException\n",
      "------ RecursiveGrammarException\n",
      "------ ResolutionError\n",
      "--------- VersionConflict\n",
      "------------ ContextualVersionConflict\n",
      "--------- DistributionNotFound\n",
      "--------- UnknownExtra\n",
      "------ UnableToResolveVariableException\n",
      "------ InvalidTypeInArgsException\n",
      "--- GeneratorExit\n",
      "--- SystemExit\n",
      "--- KeyboardInterrupt\n",
      "--- CancelledError\n",
      "--- DebuggerInitializationError\n"
     ]
    }
   ],
   "source": [
    "import inspect as ipt  \n",
    "    \n",
    "# Then we will create tree_class function  \n",
    "def tree_class(cls, ind = 0):  \n",
    "      \n",
    "      # Then we will print the name of the class  \n",
    "    print ('-' * ind, cls.__name__)  \n",
    "        \n",
    "    # now, we will iterate through the subclasses  \n",
    "    for K in cls.__subclasses__():  \n",
    "        tree_class(K, ind + 3)  \n",
    "    \n",
    "print (\"The Hierarchy for inbuilt exceptions is: \")  \n",
    "    \n",
    "# THE inspect.getmro() will return the tuple   \n",
    "# of class  which is cls's base classes.  \n",
    "    \n",
    "#Now, we will build a tree hierarchy   \n",
    "ipt.getclasstree(ipt.getmro(BaseException))  \n",
    "    \n",
    "# function call  \n",
    "tree_class(BaseException)  "
   ]
  },
  {
   "cell_type": "markdown",
   "id": "ba333159",
   "metadata": {},
   "source": [
    "#### Q3. What errors are defined in the ArithmeticError class? Explain any two with an example."
   ]
  },
  {
   "cell_type": "markdown",
   "id": "2f781759",
   "metadata": {},
   "source": [
    "The ArithmeticError class in Python is a subclass of Exception that represents any error that occurs during arithmetic operations. Some errors defined in the ArithmeticError class include ZeroDivisionError, OverflowError, FloatingPointError, and ValueError.\n",
    "\n",
    "Here are examples of two errors defined in ArithmeticError:\n",
    "\n",
    "ZeroDivisionError: This error occurs when attempting to divide a number by zero."
   ]
  },
  {
   "cell_type": "code",
   "execution_count": 4,
   "id": "7e0e7906",
   "metadata": {},
   "outputs": [
    {
     "name": "stdout",
     "output_type": "stream",
     "text": [
      "Cannot divide by zero\n"
     ]
    }
   ],
   "source": [
    "a = 5\n",
    "b = 0\n",
    "\n",
    "try:\n",
    "    c = a / b\n",
    "except ZeroDivisionError:\n",
    "    print(\"Cannot divide by zero\")\n"
   ]
  },
  {
   "cell_type": "code",
   "execution_count": 7,
   "id": "4a663741",
   "metadata": {},
   "outputs": [],
   "source": [
    "a = 10**1000   # a large number\n",
    "b = 2\n",
    "\n",
    "try:\n",
    "    c = a * b\n",
    "except OverflowError:\n",
    "    print(\"Result is too large to be represented in Python\")\n"
   ]
  },
  {
   "cell_type": "markdown",
   "id": "3f202da8",
   "metadata": {},
   "source": [
    "#### Q4. Why LookupError class is used? Explain with an example KeyError and IndexError."
   ]
  },
  {
   "cell_type": "markdown",
   "id": "ed1cce3c",
   "metadata": {},
   "source": [
    "The LookupError class is a base class for all the lookup-related errors in Python. It is raised when a key or an index is not found in a mapping or a sequence respectively. It is a subclass of the Exception class and a superclass of the KeyError and IndexError classes.\n",
    "\n",
    "The KeyError is raised when a key is not found in a mapping such as a dictionary. For example:"
   ]
  },
  {
   "cell_type": "code",
   "execution_count": 8,
   "id": "59b1dfb7",
   "metadata": {},
   "outputs": [
    {
     "name": "stdout",
     "output_type": "stream",
     "text": [
      "Key 'd' is not present in the dictionary\n"
     ]
    }
   ],
   "source": [
    "# Creating a dictionary\n",
    "my_dict = {'a': 1, 'b': 2, 'c': 3}\n",
    "\n",
    "# Trying to access a non-existent key\n",
    "try:\n",
    "    value = my_dict['d']\n",
    "except KeyError:\n",
    "    print(\"Key 'd' is not present in the dictionary\")\n",
    "\n",
    "# Output: Key 'd' is not present in the dictionary\n"
   ]
  },
  {
   "cell_type": "markdown",
   "id": "23658ef9",
   "metadata": {},
   "source": [
    "#### Q5. Explain ImportError. What is ModuleNotFoundError?"
   ]
  },
  {
   "cell_type": "markdown",
   "id": "26e3f553",
   "metadata": {},
   "source": [
    "ImportError is an exception raised when an imported module or package cannot be found, or when there is an error importing it.\n",
    "\n",
    "ModuleNotFoundError is a subclass of ImportError and was introduced in Python 3.6. It is raised when a module is not found while trying to import it. Prior to Python 3.6, ImportError was raised for all failed import attempts, whether the issue was with the module not being found or some other error during the import process.\n",
    "\n",
    "For example, if we try to import a module that does not exist, we will get a ModuleNotFoundError:"
   ]
  },
  {
   "cell_type": "code",
   "execution_count": 9,
   "id": "66e8d38d",
   "metadata": {},
   "outputs": [
    {
     "name": "stdout",
     "output_type": "stream",
     "text": [
      "Module not found\n"
     ]
    }
   ],
   "source": [
    "try:\n",
    "    import my_module\n",
    "except ModuleNotFoundError:\n",
    "    print(\"Module not found\")\n"
   ]
  },
  {
   "cell_type": "code",
   "execution_count": 10,
   "id": "d451be47",
   "metadata": {},
   "outputs": [
    {
     "name": "stdout",
     "output_type": "stream",
     "text": [
      "Module not found\n"
     ]
    }
   ],
   "source": [
    "try:\n",
    "    from my_package.my_module import my_function\n",
    "except ModuleNotFoundError:\n",
    "    print(\"Module not found\")\n"
   ]
  },
  {
   "cell_type": "markdown",
   "id": "c25872cd",
   "metadata": {},
   "source": [
    "#### Q6. List down some best practices for exception handling in python."
   ]
  },
  {
   "cell_type": "markdown",
   "id": "c0fb63d9",
   "metadata": {},
   "source": [
    "1.\tUse specific exception types: Catching specific exceptions is more effective than catching all exceptions because it allows for more targeted error handling. Always try to catch specific exceptions instead of the generic Exception.\n",
    "\n",
    "2.\tKeep exception handling code separate: Exception handling code should be separate from the main code. This makes the code easier to read and understand.\n",
    "\n",
    "3.\tUse finally block: Always use the finally block to perform clean-up tasks such as closing files, releasing resources, etc.\n",
    "\n",
    "4.\tDon't ignore exceptions: Ignoring exceptions can lead to unexpected results and errors in the code. Always handle exceptions even if it means just logging the error.\n",
    "\n",
    "5.\tLog exceptions: Logging exceptions is an important aspect of debugging and maintaining the code. Logging provides valuable information that can be used to troubleshoot issues and fix bugs.\n",
    "\n",
    "6.\tDon't use exceptions for flow control: Exceptions should not be used for normal program flow. They should only be used for handling exceptional conditions such as error handling.\n",
    "\n",
    "7.\tUse custom exceptions: Custom exceptions can be used to create meaningful and informative error messages that are easy to understand and debug.\n",
    "\n",
    "8.\tKeep error messages consistent: Error messages should be consistent throughout the application. This helps users to understand and troubleshoot issues quickly.\n",
    "\n",
    "9.\tUse try-except-else blocks: The else block in the try-except structure is used to perform actions if no exceptions are raised. It's a good practice to use this block to ensure that the code runs correctly in case no exceptions are raised.\n",
    "\n",
    "10.\tUse the correct level of abstraction: Exceptions should be raised at the appropriate level of abstraction. They should not be raised too high up in the call stack or too low. This makes the code easier to understand and maintain.\n"
   ]
  },
  {
   "cell_type": "code",
   "execution_count": 11,
   "id": "e220f829",
   "metadata": {},
   "outputs": [
    {
     "ename": "SyntaxError",
     "evalue": "invalid syntax (Temp/ipykernel_15840/1494537680.py, line 3)",
     "output_type": "error",
     "traceback": [
      "\u001b[1;36m  File \u001b[1;32m\"C:\\Users\\inare\\AppData\\Local\\Temp/ipykernel_15840/1494537680.py\"\u001b[1;36m, line \u001b[1;32m3\u001b[0m\n\u001b[1;33m    R = X*X print \"Square=\",R\u001b[0m\n\u001b[1;37m            ^\u001b[0m\n\u001b[1;31mSyntaxError\u001b[0m\u001b[1;31m:\u001b[0m invalid syntax\n"
     ]
    }
   ],
   "source": [
    "X = int(input(\"Enter a Number\")) \n",
    "\n",
    "R = X*X print \"Square=\",R"
   ]
  },
  {
   "cell_type": "markdown",
   "id": "aa3f8b36",
   "metadata": {},
   "source": [
    "#### MultiThreading"
   ]
  },
  {
   "cell_type": "markdown",
   "id": "ad4a347c",
   "metadata": {},
   "source": [
    "Multithreading is a programming concept that allows multiple threads of execution to run simultaneously within a single process. In Python, multithreading is achieved through the threading module, which provides a way to create and manage threads in a Python program.\n",
    "\n",
    "A thread is a separate path of execution within a program. Multithreading allows a program to perform multiple tasks simultaneously by creating multiple threads of execution. Each thread can perform its own set of tasks independently of the other threads.\n",
    "\n",
    "Python's threading module provides a Thread class that can be used to create and manage threads in a program. To create a new thread, you can create a new instance of the Thread class and pass it a function to run in the new thread. The function will run in parallel with the main thread of the program, allowing multiple tasks to be performed simultaneously.\n",
    "\n",
    "Multithreading can be useful for tasks that involve I/O operations or other types of blocking operations, as it allows the program to continue running while waiting for the operation to complete. However, multithreading can also introduce some complexity and potential issues such as race conditions, deadlocks, and thread synchronization, which must be carefully managed to ensure proper behavior of the program."
   ]
  },
  {
   "cell_type": "markdown",
   "id": "d4f7c96c",
   "metadata": {},
   "source": [
    "Multithreading is used in Python (and other programming languages) for a variety of reasons, including:\n",
    "\n",
    "Parallelism: Multithreading allows a program to execute multiple tasks in parallel, thereby increasing the program's overall efficiency and performance.\n",
    "\n",
    "Responsiveness: Multithreading can improve a program's responsiveness to user input by allowing the program to continue processing other tasks while waiting for user input.\n",
    "\n",
    "I/O-bound tasks: Multithreading is particularly useful for I/O-bound tasks, such as reading and writing to files, network communication, or database access. By using multiple threads, a program can perform I/O operations in the background while still performing other tasks.\n",
    "\n",
    "GUI programming: Multithreading is often used in GUI programming to keep the user interface responsive while performing other tasks, such as loading data or processing user input.\n",
    "\n",
    "However, it's worth noting that multithreading can also introduce some complexity and potential issues, such as race conditions, deadlocks, and thread synchronization, which must be carefully managed to ensure proper behavior of the program. It's important to consider the potential benefits and drawbacks of multithreading before deciding whether to use it in a particular program."
   ]
  },
  {
   "cell_type": "code",
   "execution_count": 20,
   "id": "027d956a",
   "metadata": {},
   "outputs": [
    {
     "name": "stdout",
     "output_type": "stream",
     "text": [
      "1\n",
      "2\n",
      "3\n",
      "4\n",
      "5\n",
      "6\n",
      "7\n",
      "8\n",
      "9\n",
      "10\n",
      "a\n",
      "b\n",
      "c\n",
      "d\n",
      "e\n",
      "Done!\n"
     ]
    }
   ],
   "source": [
    "def print_numbers():\n",
    "    for i in range(1, 11):\n",
    "        print(i)\n",
    "\n",
    "def print_letters():\n",
    "    for letter in ['a', 'b', 'c', 'd', 'e']:\n",
    "        print(letter)\n",
    "\n",
    "# Call the functions sequentially\n",
    "print_numbers()\n",
    "print_letters()\n",
    "\n",
    "print(\"Done!\")\n"
   ]
  },
  {
   "cell_type": "code",
   "execution_count": 19,
   "id": "696f1744",
   "metadata": {},
   "outputs": [
    {
     "name": "stdout",
     "output_type": "stream",
     "text": [
      "1\n",
      "a\n",
      "b2\n",
      "\n",
      "c3\n",
      "\n",
      "d4\n",
      "\n",
      "e5\n",
      "\n",
      "6\n",
      "7\n",
      "8\n",
      "9\n",
      "10\n",
      "Done!\n"
     ]
    }
   ],
   "source": [
    "import threading\n",
    "import time\n",
    "\n",
    "def print_numbers():\n",
    "    for i in range(1, 11):\n",
    "        print(i)\n",
    "        time.sleep(0.1)  # simulate some work\n",
    "\n",
    "def print_letters():\n",
    "    for letter in ['a', 'b', 'c', 'd', 'e']:\n",
    "        print(letter)\n",
    "        time.sleep(0.1)  # simulate some work\n",
    "\n",
    "# Create two threads to run the functions in parallel\n",
    "t1 = threading.Thread(target=print_numbers)\n",
    "t2 = threading.Thread(target=print_letters)\n",
    "\n",
    "# Start the threads\n",
    "t1.start()\n",
    "t2.start()\n",
    "\n",
    "# Wait for both threads to complete\n",
    "t1.join()\n",
    "t2.join()\n",
    "\n",
    "print(\"Done!\")\n"
   ]
  },
  {
   "cell_type": "code",
   "execution_count": 22,
   "id": "2a9145e8",
   "metadata": {},
   "outputs": [
    {
     "name": "stdout",
     "output_type": "stream",
     "text": [
      "Thread 0 started\n",
      "Thread 1 started\n",
      "Thread 2 started\n",
      "Thread 3 started\n",
      "Thread 4 started\n",
      "Thread 5 started\n",
      "Thread 0 finishedThread 3 finishedThread 5 finishedThread 2 finishedThread 1 finishedThread 4 finished\n",
      "\n",
      "\n",
      "\n",
      "\n",
      "\n",
      "All threads finished\n"
     ]
    }
   ],
   "source": [
    "import threading\n",
    "import time\n",
    "\n",
    "def worker(thread_num):\n",
    "    \"\"\"Function that each thread will run\"\"\"\n",
    "    print(f\"Thread {thread_num} started\")\n",
    "    time.sleep(1)\n",
    "    print(f\"Thread {thread_num} finished\")\n",
    "\n",
    "# Create a list of threads\n",
    "threads = []\n",
    "for i in range(6):\n",
    "    t = threading.Thread(target=worker, args=(i,))\n",
    "    threads.append(t)\n",
    "\n",
    "# Start the threads\n",
    "for t in threads:\n",
    "    t.start()\n",
    "\n",
    "# Wait for all threads to finish\n",
    "for t in threads:\n",
    "    t.join()\n",
    "\n",
    "print(\"All threads finished\")\n"
   ]
  },
  {
   "cell_type": "code",
   "execution_count": 23,
   "id": "f64c20cc",
   "metadata": {},
   "outputs": [],
   "source": [
    "import threading\n",
    "def test(id) :\n",
    "    print(\"this is my test id %d \" % id)"
   ]
  },
  {
   "cell_type": "code",
   "execution_count": 24,
   "id": "7907e9a5",
   "metadata": {},
   "outputs": [
    {
     "name": "stdout",
     "output_type": "stream",
     "text": [
      "this is my test id 10 \n"
     ]
    }
   ],
   "source": [
    "test(10)"
   ]
  },
  {
   "cell_type": "code",
   "execution_count": 25,
   "id": "3d8fae26",
   "metadata": {},
   "outputs": [
    {
     "name": "stdout",
     "output_type": "stream",
     "text": [
      "this is my test id 1 \n"
     ]
    }
   ],
   "source": [
    "test(1)"
   ]
  },
  {
   "cell_type": "code",
   "execution_count": 26,
   "id": "1de63a44",
   "metadata": {},
   "outputs": [
    {
     "name": "stdout",
     "output_type": "stream",
     "text": [
      "this is my test id 3 \n"
     ]
    }
   ],
   "source": [
    "test(3)"
   ]
  },
  {
   "cell_type": "code",
   "execution_count": 27,
   "id": "5d7d3d4a",
   "metadata": {},
   "outputs": [],
   "source": [
    "thred = [threading.Thread(target=test , args = (i,)) for i in [10 , 1 ,3]]"
   ]
  },
  {
   "cell_type": "code",
   "execution_count": 28,
   "id": "ffb86c28",
   "metadata": {},
   "outputs": [
    {
     "data": {
      "text/plain": [
       "[<Thread(Thread-33, initial)>,\n",
       " <Thread(Thread-34, initial)>,\n",
       " <Thread(Thread-35, initial)>]"
      ]
     },
     "execution_count": 28,
     "metadata": {},
     "output_type": "execute_result"
    }
   ],
   "source": [
    "thred"
   ]
  },
  {
   "cell_type": "code",
   "execution_count": 29,
   "id": "fcc5df45",
   "metadata": {},
   "outputs": [
    {
     "name": "stdout",
     "output_type": "stream",
     "text": [
      "this is my test id 10 \n",
      "this is my test id 1 \n",
      "this is my test id 3 \n"
     ]
    }
   ],
   "source": [
    "for t in thred:\n",
    "    t.start()\n",
    "    "
   ]
  },
  {
   "cell_type": "code",
   "execution_count": 30,
   "id": "37f70051",
   "metadata": {},
   "outputs": [],
   "source": [
    "import urllib.request\n",
    "\n",
    "def file_download(url , filename):\n",
    "    urllib.request.urlretrieve(url , filename)"
   ]
  },
  {
   "cell_type": "code",
   "execution_count": 31,
   "id": "775397f3",
   "metadata": {},
   "outputs": [
    {
     "ename": "URLError",
     "evalue": "<urlopen error [WinError 10060] A connection attempt failed because the connected party did not properly respond after a period of time, or established connection failed because connected host has failed to respond>",
     "output_type": "error",
     "traceback": [
      "\u001b[1;31m---------------------------------------------------------------------------\u001b[0m",
      "\u001b[1;31mTimeoutError\u001b[0m                              Traceback (most recent call last)",
      "\u001b[1;32m~\\Anaconda3\\lib\\urllib\\request.py\u001b[0m in \u001b[0;36mdo_open\u001b[1;34m(self, http_class, req, **http_conn_args)\u001b[0m\n\u001b[0;32m   1345\u001b[0m             \u001b[1;32mtry\u001b[0m\u001b[1;33m:\u001b[0m\u001b[1;33m\u001b[0m\u001b[1;33m\u001b[0m\u001b[0m\n\u001b[1;32m-> 1346\u001b[1;33m                 h.request(req.get_method(), req.selector, req.data, headers,\n\u001b[0m\u001b[0;32m   1347\u001b[0m                           encode_chunked=req.has_header('Transfer-encoding'))\n",
      "\u001b[1;32m~\\Anaconda3\\lib\\http\\client.py\u001b[0m in \u001b[0;36mrequest\u001b[1;34m(self, method, url, body, headers, encode_chunked)\u001b[0m\n\u001b[0;32m   1278\u001b[0m         \u001b[1;34m\"\"\"Send a complete request to the server.\"\"\"\u001b[0m\u001b[1;33m\u001b[0m\u001b[1;33m\u001b[0m\u001b[0m\n\u001b[1;32m-> 1279\u001b[1;33m         \u001b[0mself\u001b[0m\u001b[1;33m.\u001b[0m\u001b[0m_send_request\u001b[0m\u001b[1;33m(\u001b[0m\u001b[0mmethod\u001b[0m\u001b[1;33m,\u001b[0m \u001b[0murl\u001b[0m\u001b[1;33m,\u001b[0m \u001b[0mbody\u001b[0m\u001b[1;33m,\u001b[0m \u001b[0mheaders\u001b[0m\u001b[1;33m,\u001b[0m \u001b[0mencode_chunked\u001b[0m\u001b[1;33m)\u001b[0m\u001b[1;33m\u001b[0m\u001b[1;33m\u001b[0m\u001b[0m\n\u001b[0m\u001b[0;32m   1280\u001b[0m \u001b[1;33m\u001b[0m\u001b[0m\n",
      "\u001b[1;32m~\\Anaconda3\\lib\\http\\client.py\u001b[0m in \u001b[0;36m_send_request\u001b[1;34m(self, method, url, body, headers, encode_chunked)\u001b[0m\n\u001b[0;32m   1324\u001b[0m             \u001b[0mbody\u001b[0m \u001b[1;33m=\u001b[0m \u001b[0m_encode\u001b[0m\u001b[1;33m(\u001b[0m\u001b[0mbody\u001b[0m\u001b[1;33m,\u001b[0m \u001b[1;34m'body'\u001b[0m\u001b[1;33m)\u001b[0m\u001b[1;33m\u001b[0m\u001b[1;33m\u001b[0m\u001b[0m\n\u001b[1;32m-> 1325\u001b[1;33m         \u001b[0mself\u001b[0m\u001b[1;33m.\u001b[0m\u001b[0mendheaders\u001b[0m\u001b[1;33m(\u001b[0m\u001b[0mbody\u001b[0m\u001b[1;33m,\u001b[0m \u001b[0mencode_chunked\u001b[0m\u001b[1;33m=\u001b[0m\u001b[0mencode_chunked\u001b[0m\u001b[1;33m)\u001b[0m\u001b[1;33m\u001b[0m\u001b[1;33m\u001b[0m\u001b[0m\n\u001b[0m\u001b[0;32m   1326\u001b[0m \u001b[1;33m\u001b[0m\u001b[0m\n",
      "\u001b[1;32m~\\Anaconda3\\lib\\http\\client.py\u001b[0m in \u001b[0;36mendheaders\u001b[1;34m(self, message_body, encode_chunked)\u001b[0m\n\u001b[0;32m   1273\u001b[0m             \u001b[1;32mraise\u001b[0m \u001b[0mCannotSendHeader\u001b[0m\u001b[1;33m(\u001b[0m\u001b[1;33m)\u001b[0m\u001b[1;33m\u001b[0m\u001b[1;33m\u001b[0m\u001b[0m\n\u001b[1;32m-> 1274\u001b[1;33m         \u001b[0mself\u001b[0m\u001b[1;33m.\u001b[0m\u001b[0m_send_output\u001b[0m\u001b[1;33m(\u001b[0m\u001b[0mmessage_body\u001b[0m\u001b[1;33m,\u001b[0m \u001b[0mencode_chunked\u001b[0m\u001b[1;33m=\u001b[0m\u001b[0mencode_chunked\u001b[0m\u001b[1;33m)\u001b[0m\u001b[1;33m\u001b[0m\u001b[1;33m\u001b[0m\u001b[0m\n\u001b[0m\u001b[0;32m   1275\u001b[0m \u001b[1;33m\u001b[0m\u001b[0m\n",
      "\u001b[1;32m~\\Anaconda3\\lib\\http\\client.py\u001b[0m in \u001b[0;36m_send_output\u001b[1;34m(self, message_body, encode_chunked)\u001b[0m\n\u001b[0;32m   1033\u001b[0m         \u001b[1;32mdel\u001b[0m \u001b[0mself\u001b[0m\u001b[1;33m.\u001b[0m\u001b[0m_buffer\u001b[0m\u001b[1;33m[\u001b[0m\u001b[1;33m:\u001b[0m\u001b[1;33m]\u001b[0m\u001b[1;33m\u001b[0m\u001b[1;33m\u001b[0m\u001b[0m\n\u001b[1;32m-> 1034\u001b[1;33m         \u001b[0mself\u001b[0m\u001b[1;33m.\u001b[0m\u001b[0msend\u001b[0m\u001b[1;33m(\u001b[0m\u001b[0mmsg\u001b[0m\u001b[1;33m)\u001b[0m\u001b[1;33m\u001b[0m\u001b[1;33m\u001b[0m\u001b[0m\n\u001b[0m\u001b[0;32m   1035\u001b[0m \u001b[1;33m\u001b[0m\u001b[0m\n",
      "\u001b[1;32m~\\Anaconda3\\lib\\http\\client.py\u001b[0m in \u001b[0;36msend\u001b[1;34m(self, data)\u001b[0m\n\u001b[0;32m    973\u001b[0m             \u001b[1;32mif\u001b[0m \u001b[0mself\u001b[0m\u001b[1;33m.\u001b[0m\u001b[0mauto_open\u001b[0m\u001b[1;33m:\u001b[0m\u001b[1;33m\u001b[0m\u001b[1;33m\u001b[0m\u001b[0m\n\u001b[1;32m--> 974\u001b[1;33m                 \u001b[0mself\u001b[0m\u001b[1;33m.\u001b[0m\u001b[0mconnect\u001b[0m\u001b[1;33m(\u001b[0m\u001b[1;33m)\u001b[0m\u001b[1;33m\u001b[0m\u001b[1;33m\u001b[0m\u001b[0m\n\u001b[0m\u001b[0;32m    975\u001b[0m             \u001b[1;32melse\u001b[0m\u001b[1;33m:\u001b[0m\u001b[1;33m\u001b[0m\u001b[1;33m\u001b[0m\u001b[0m\n",
      "\u001b[1;32m~\\Anaconda3\\lib\\http\\client.py\u001b[0m in \u001b[0;36mconnect\u001b[1;34m(self)\u001b[0m\n\u001b[0;32m   1440\u001b[0m \u001b[1;33m\u001b[0m\u001b[0m\n\u001b[1;32m-> 1441\u001b[1;33m             \u001b[0msuper\u001b[0m\u001b[1;33m(\u001b[0m\u001b[1;33m)\u001b[0m\u001b[1;33m.\u001b[0m\u001b[0mconnect\u001b[0m\u001b[1;33m(\u001b[0m\u001b[1;33m)\u001b[0m\u001b[1;33m\u001b[0m\u001b[1;33m\u001b[0m\u001b[0m\n\u001b[0m\u001b[0;32m   1442\u001b[0m \u001b[1;33m\u001b[0m\u001b[0m\n",
      "\u001b[1;32m~\\Anaconda3\\lib\\http\\client.py\u001b[0m in \u001b[0;36mconnect\u001b[1;34m(self)\u001b[0m\n\u001b[0;32m    944\u001b[0m         \u001b[1;34m\"\"\"Connect to the host and port specified in __init__.\"\"\"\u001b[0m\u001b[1;33m\u001b[0m\u001b[1;33m\u001b[0m\u001b[0m\n\u001b[1;32m--> 945\u001b[1;33m         self.sock = self._create_connection(\n\u001b[0m\u001b[0;32m    946\u001b[0m             (self.host,self.port), self.timeout, self.source_address)\n",
      "\u001b[1;32m~\\Anaconda3\\lib\\socket.py\u001b[0m in \u001b[0;36mcreate_connection\u001b[1;34m(address, timeout, source_address)\u001b[0m\n\u001b[0;32m    843\u001b[0m         \u001b[1;32mtry\u001b[0m\u001b[1;33m:\u001b[0m\u001b[1;33m\u001b[0m\u001b[1;33m\u001b[0m\u001b[0m\n\u001b[1;32m--> 844\u001b[1;33m             \u001b[1;32mraise\u001b[0m \u001b[0merr\u001b[0m\u001b[1;33m\u001b[0m\u001b[1;33m\u001b[0m\u001b[0m\n\u001b[0m\u001b[0;32m    845\u001b[0m         \u001b[1;32mfinally\u001b[0m\u001b[1;33m:\u001b[0m\u001b[1;33m\u001b[0m\u001b[1;33m\u001b[0m\u001b[0m\n",
      "\u001b[1;32m~\\Anaconda3\\lib\\socket.py\u001b[0m in \u001b[0;36mcreate_connection\u001b[1;34m(address, timeout, source_address)\u001b[0m\n\u001b[0;32m    831\u001b[0m                 \u001b[0msock\u001b[0m\u001b[1;33m.\u001b[0m\u001b[0mbind\u001b[0m\u001b[1;33m(\u001b[0m\u001b[0msource_address\u001b[0m\u001b[1;33m)\u001b[0m\u001b[1;33m\u001b[0m\u001b[1;33m\u001b[0m\u001b[0m\n\u001b[1;32m--> 832\u001b[1;33m             \u001b[0msock\u001b[0m\u001b[1;33m.\u001b[0m\u001b[0mconnect\u001b[0m\u001b[1;33m(\u001b[0m\u001b[0msa\u001b[0m\u001b[1;33m)\u001b[0m\u001b[1;33m\u001b[0m\u001b[1;33m\u001b[0m\u001b[0m\n\u001b[0m\u001b[0;32m    833\u001b[0m             \u001b[1;31m# Break explicitly a reference cycle\u001b[0m\u001b[1;33m\u001b[0m\u001b[1;33m\u001b[0m\u001b[0m\n",
      "\u001b[1;31mTimeoutError\u001b[0m: [WinError 10060] A connection attempt failed because the connected party did not properly respond after a period of time, or established connection failed because connected host has failed to respond",
      "\nDuring handling of the above exception, another exception occurred:\n",
      "\u001b[1;31mURLError\u001b[0m                                  Traceback (most recent call last)",
      "\u001b[1;32m~\\AppData\\Local\\Temp/ipykernel_15840/1012600248.py\u001b[0m in \u001b[0;36m<module>\u001b[1;34m\u001b[0m\n\u001b[1;32m----> 1\u001b[1;33m \u001b[0mfile_download\u001b[0m\u001b[1;33m(\u001b[0m\u001b[1;34m'https://raw.githubusercontent.com/itsfoss/text-files/master/agatha.txt'\u001b[0m \u001b[1;33m,\u001b[0m \u001b[1;34m\"test1.txt\"\u001b[0m\u001b[1;33m)\u001b[0m\u001b[1;33m\u001b[0m\u001b[1;33m\u001b[0m\u001b[0m\n\u001b[0m",
      "\u001b[1;32m~\\AppData\\Local\\Temp/ipykernel_15840/3450530900.py\u001b[0m in \u001b[0;36mfile_download\u001b[1;34m(url, filename)\u001b[0m\n\u001b[0;32m      2\u001b[0m \u001b[1;33m\u001b[0m\u001b[0m\n\u001b[0;32m      3\u001b[0m \u001b[1;32mdef\u001b[0m \u001b[0mfile_download\u001b[0m\u001b[1;33m(\u001b[0m\u001b[0murl\u001b[0m \u001b[1;33m,\u001b[0m \u001b[0mfilename\u001b[0m\u001b[1;33m)\u001b[0m\u001b[1;33m:\u001b[0m\u001b[1;33m\u001b[0m\u001b[1;33m\u001b[0m\u001b[0m\n\u001b[1;32m----> 4\u001b[1;33m     \u001b[0murllib\u001b[0m\u001b[1;33m.\u001b[0m\u001b[0mrequest\u001b[0m\u001b[1;33m.\u001b[0m\u001b[0murlretrieve\u001b[0m\u001b[1;33m(\u001b[0m\u001b[0murl\u001b[0m \u001b[1;33m,\u001b[0m \u001b[0mfilename\u001b[0m\u001b[1;33m)\u001b[0m\u001b[1;33m\u001b[0m\u001b[1;33m\u001b[0m\u001b[0m\n\u001b[0m",
      "\u001b[1;32m~\\Anaconda3\\lib\\urllib\\request.py\u001b[0m in \u001b[0;36murlretrieve\u001b[1;34m(url, filename, reporthook, data)\u001b[0m\n\u001b[0;32m    237\u001b[0m     \u001b[0murl_type\u001b[0m\u001b[1;33m,\u001b[0m \u001b[0mpath\u001b[0m \u001b[1;33m=\u001b[0m \u001b[0m_splittype\u001b[0m\u001b[1;33m(\u001b[0m\u001b[0murl\u001b[0m\u001b[1;33m)\u001b[0m\u001b[1;33m\u001b[0m\u001b[1;33m\u001b[0m\u001b[0m\n\u001b[0;32m    238\u001b[0m \u001b[1;33m\u001b[0m\u001b[0m\n\u001b[1;32m--> 239\u001b[1;33m     \u001b[1;32mwith\u001b[0m \u001b[0mcontextlib\u001b[0m\u001b[1;33m.\u001b[0m\u001b[0mclosing\u001b[0m\u001b[1;33m(\u001b[0m\u001b[0murlopen\u001b[0m\u001b[1;33m(\u001b[0m\u001b[0murl\u001b[0m\u001b[1;33m,\u001b[0m \u001b[0mdata\u001b[0m\u001b[1;33m)\u001b[0m\u001b[1;33m)\u001b[0m \u001b[1;32mas\u001b[0m \u001b[0mfp\u001b[0m\u001b[1;33m:\u001b[0m\u001b[1;33m\u001b[0m\u001b[1;33m\u001b[0m\u001b[0m\n\u001b[0m\u001b[0;32m    240\u001b[0m         \u001b[0mheaders\u001b[0m \u001b[1;33m=\u001b[0m \u001b[0mfp\u001b[0m\u001b[1;33m.\u001b[0m\u001b[0minfo\u001b[0m\u001b[1;33m(\u001b[0m\u001b[1;33m)\u001b[0m\u001b[1;33m\u001b[0m\u001b[1;33m\u001b[0m\u001b[0m\n\u001b[0;32m    241\u001b[0m \u001b[1;33m\u001b[0m\u001b[0m\n",
      "\u001b[1;32m~\\Anaconda3\\lib\\urllib\\request.py\u001b[0m in \u001b[0;36murlopen\u001b[1;34m(url, data, timeout, cafile, capath, cadefault, context)\u001b[0m\n\u001b[0;32m    212\u001b[0m     \u001b[1;32melse\u001b[0m\u001b[1;33m:\u001b[0m\u001b[1;33m\u001b[0m\u001b[1;33m\u001b[0m\u001b[0m\n\u001b[0;32m    213\u001b[0m         \u001b[0mopener\u001b[0m \u001b[1;33m=\u001b[0m \u001b[0m_opener\u001b[0m\u001b[1;33m\u001b[0m\u001b[1;33m\u001b[0m\u001b[0m\n\u001b[1;32m--> 214\u001b[1;33m     \u001b[1;32mreturn\u001b[0m \u001b[0mopener\u001b[0m\u001b[1;33m.\u001b[0m\u001b[0mopen\u001b[0m\u001b[1;33m(\u001b[0m\u001b[0murl\u001b[0m\u001b[1;33m,\u001b[0m \u001b[0mdata\u001b[0m\u001b[1;33m,\u001b[0m \u001b[0mtimeout\u001b[0m\u001b[1;33m)\u001b[0m\u001b[1;33m\u001b[0m\u001b[1;33m\u001b[0m\u001b[0m\n\u001b[0m\u001b[0;32m    215\u001b[0m \u001b[1;33m\u001b[0m\u001b[0m\n\u001b[0;32m    216\u001b[0m \u001b[1;32mdef\u001b[0m \u001b[0minstall_opener\u001b[0m\u001b[1;33m(\u001b[0m\u001b[0mopener\u001b[0m\u001b[1;33m)\u001b[0m\u001b[1;33m:\u001b[0m\u001b[1;33m\u001b[0m\u001b[1;33m\u001b[0m\u001b[0m\n",
      "\u001b[1;32m~\\Anaconda3\\lib\\urllib\\request.py\u001b[0m in \u001b[0;36mopen\u001b[1;34m(self, fullurl, data, timeout)\u001b[0m\n\u001b[0;32m    515\u001b[0m \u001b[1;33m\u001b[0m\u001b[0m\n\u001b[0;32m    516\u001b[0m         \u001b[0msys\u001b[0m\u001b[1;33m.\u001b[0m\u001b[0maudit\u001b[0m\u001b[1;33m(\u001b[0m\u001b[1;34m'urllib.Request'\u001b[0m\u001b[1;33m,\u001b[0m \u001b[0mreq\u001b[0m\u001b[1;33m.\u001b[0m\u001b[0mfull_url\u001b[0m\u001b[1;33m,\u001b[0m \u001b[0mreq\u001b[0m\u001b[1;33m.\u001b[0m\u001b[0mdata\u001b[0m\u001b[1;33m,\u001b[0m \u001b[0mreq\u001b[0m\u001b[1;33m.\u001b[0m\u001b[0mheaders\u001b[0m\u001b[1;33m,\u001b[0m \u001b[0mreq\u001b[0m\u001b[1;33m.\u001b[0m\u001b[0mget_method\u001b[0m\u001b[1;33m(\u001b[0m\u001b[1;33m)\u001b[0m\u001b[1;33m)\u001b[0m\u001b[1;33m\u001b[0m\u001b[1;33m\u001b[0m\u001b[0m\n\u001b[1;32m--> 517\u001b[1;33m         \u001b[0mresponse\u001b[0m \u001b[1;33m=\u001b[0m \u001b[0mself\u001b[0m\u001b[1;33m.\u001b[0m\u001b[0m_open\u001b[0m\u001b[1;33m(\u001b[0m\u001b[0mreq\u001b[0m\u001b[1;33m,\u001b[0m \u001b[0mdata\u001b[0m\u001b[1;33m)\u001b[0m\u001b[1;33m\u001b[0m\u001b[1;33m\u001b[0m\u001b[0m\n\u001b[0m\u001b[0;32m    518\u001b[0m \u001b[1;33m\u001b[0m\u001b[0m\n\u001b[0;32m    519\u001b[0m         \u001b[1;31m# post-process response\u001b[0m\u001b[1;33m\u001b[0m\u001b[1;33m\u001b[0m\u001b[0m\n",
      "\u001b[1;32m~\\Anaconda3\\lib\\urllib\\request.py\u001b[0m in \u001b[0;36m_open\u001b[1;34m(self, req, data)\u001b[0m\n\u001b[0;32m    532\u001b[0m \u001b[1;33m\u001b[0m\u001b[0m\n\u001b[0;32m    533\u001b[0m         \u001b[0mprotocol\u001b[0m \u001b[1;33m=\u001b[0m \u001b[0mreq\u001b[0m\u001b[1;33m.\u001b[0m\u001b[0mtype\u001b[0m\u001b[1;33m\u001b[0m\u001b[1;33m\u001b[0m\u001b[0m\n\u001b[1;32m--> 534\u001b[1;33m         result = self._call_chain(self.handle_open, protocol, protocol +\n\u001b[0m\u001b[0;32m    535\u001b[0m                                   '_open', req)\n\u001b[0;32m    536\u001b[0m         \u001b[1;32mif\u001b[0m \u001b[0mresult\u001b[0m\u001b[1;33m:\u001b[0m\u001b[1;33m\u001b[0m\u001b[1;33m\u001b[0m\u001b[0m\n",
      "\u001b[1;32m~\\Anaconda3\\lib\\urllib\\request.py\u001b[0m in \u001b[0;36m_call_chain\u001b[1;34m(self, chain, kind, meth_name, *args)\u001b[0m\n\u001b[0;32m    492\u001b[0m         \u001b[1;32mfor\u001b[0m \u001b[0mhandler\u001b[0m \u001b[1;32min\u001b[0m \u001b[0mhandlers\u001b[0m\u001b[1;33m:\u001b[0m\u001b[1;33m\u001b[0m\u001b[1;33m\u001b[0m\u001b[0m\n\u001b[0;32m    493\u001b[0m             \u001b[0mfunc\u001b[0m \u001b[1;33m=\u001b[0m \u001b[0mgetattr\u001b[0m\u001b[1;33m(\u001b[0m\u001b[0mhandler\u001b[0m\u001b[1;33m,\u001b[0m \u001b[0mmeth_name\u001b[0m\u001b[1;33m)\u001b[0m\u001b[1;33m\u001b[0m\u001b[1;33m\u001b[0m\u001b[0m\n\u001b[1;32m--> 494\u001b[1;33m             \u001b[0mresult\u001b[0m \u001b[1;33m=\u001b[0m \u001b[0mfunc\u001b[0m\u001b[1;33m(\u001b[0m\u001b[1;33m*\u001b[0m\u001b[0margs\u001b[0m\u001b[1;33m)\u001b[0m\u001b[1;33m\u001b[0m\u001b[1;33m\u001b[0m\u001b[0m\n\u001b[0m\u001b[0;32m    495\u001b[0m             \u001b[1;32mif\u001b[0m \u001b[0mresult\u001b[0m \u001b[1;32mis\u001b[0m \u001b[1;32mnot\u001b[0m \u001b[1;32mNone\u001b[0m\u001b[1;33m:\u001b[0m\u001b[1;33m\u001b[0m\u001b[1;33m\u001b[0m\u001b[0m\n\u001b[0;32m    496\u001b[0m                 \u001b[1;32mreturn\u001b[0m \u001b[0mresult\u001b[0m\u001b[1;33m\u001b[0m\u001b[1;33m\u001b[0m\u001b[0m\n",
      "\u001b[1;32m~\\Anaconda3\\lib\\urllib\\request.py\u001b[0m in \u001b[0;36mhttps_open\u001b[1;34m(self, req)\u001b[0m\n\u001b[0;32m   1387\u001b[0m \u001b[1;33m\u001b[0m\u001b[0m\n\u001b[0;32m   1388\u001b[0m         \u001b[1;32mdef\u001b[0m \u001b[0mhttps_open\u001b[0m\u001b[1;33m(\u001b[0m\u001b[0mself\u001b[0m\u001b[1;33m,\u001b[0m \u001b[0mreq\u001b[0m\u001b[1;33m)\u001b[0m\u001b[1;33m:\u001b[0m\u001b[1;33m\u001b[0m\u001b[1;33m\u001b[0m\u001b[0m\n\u001b[1;32m-> 1389\u001b[1;33m             return self.do_open(http.client.HTTPSConnection, req,\n\u001b[0m\u001b[0;32m   1390\u001b[0m                 context=self._context, check_hostname=self._check_hostname)\n\u001b[0;32m   1391\u001b[0m \u001b[1;33m\u001b[0m\u001b[0m\n",
      "\u001b[1;32m~\\Anaconda3\\lib\\urllib\\request.py\u001b[0m in \u001b[0;36mdo_open\u001b[1;34m(self, http_class, req, **http_conn_args)\u001b[0m\n\u001b[0;32m   1347\u001b[0m                           encode_chunked=req.has_header('Transfer-encoding'))\n\u001b[0;32m   1348\u001b[0m             \u001b[1;32mexcept\u001b[0m \u001b[0mOSError\u001b[0m \u001b[1;32mas\u001b[0m \u001b[0merr\u001b[0m\u001b[1;33m:\u001b[0m \u001b[1;31m# timeout error\u001b[0m\u001b[1;33m\u001b[0m\u001b[1;33m\u001b[0m\u001b[0m\n\u001b[1;32m-> 1349\u001b[1;33m                 \u001b[1;32mraise\u001b[0m \u001b[0mURLError\u001b[0m\u001b[1;33m(\u001b[0m\u001b[0merr\u001b[0m\u001b[1;33m)\u001b[0m\u001b[1;33m\u001b[0m\u001b[1;33m\u001b[0m\u001b[0m\n\u001b[0m\u001b[0;32m   1350\u001b[0m             \u001b[0mr\u001b[0m \u001b[1;33m=\u001b[0m \u001b[0mh\u001b[0m\u001b[1;33m.\u001b[0m\u001b[0mgetresponse\u001b[0m\u001b[1;33m(\u001b[0m\u001b[1;33m)\u001b[0m\u001b[1;33m\u001b[0m\u001b[1;33m\u001b[0m\u001b[0m\n\u001b[0;32m   1351\u001b[0m         \u001b[1;32mexcept\u001b[0m\u001b[1;33m:\u001b[0m\u001b[1;33m\u001b[0m\u001b[1;33m\u001b[0m\u001b[0m\n",
      "\u001b[1;31mURLError\u001b[0m: <urlopen error [WinError 10060] A connection attempt failed because the connected party did not properly respond after a period of time, or established connection failed because connected host has failed to respond>"
     ]
    }
   ],
   "source": [
    "file_download('https://raw.githubusercontent.com/itsfoss/text-files/master/agatha.txt' , \"test1.txt\")"
   ]
  },
  {
   "cell_type": "code",
   "execution_count": 36,
   "id": "2f17e2a4",
   "metadata": {},
   "outputs": [],
   "source": [
    "url_list = ['https://raw.githubusercontent.com/itsfoss/text-files/master/agatha.txt' , 'https://raw.githubusercontent.com/itsfoss/text-files/master/sherlock.txt' ,'https://raw.githubusercontent.com/itsfoss/text-files/master/sample_log_file.txt' ]"
   ]
  },
  {
   "cell_type": "code",
   "execution_count": 37,
   "id": "c03e2826",
   "metadata": {},
   "outputs": [
    {
     "data": {
      "text/plain": [
       "['https://raw.githubusercontent.com/itsfoss/text-files/master/agatha.txt',\n",
       " 'https://raw.githubusercontent.com/itsfoss/text-files/master/sherlock.txt',\n",
       " 'https://raw.githubusercontent.com/itsfoss/text-files/master/sample_log_file.txt']"
      ]
     },
     "execution_count": 37,
     "metadata": {},
     "output_type": "execute_result"
    }
   ],
   "source": [
    "url_list"
   ]
  },
  {
   "cell_type": "code",
   "execution_count": 33,
   "id": "bff9098e",
   "metadata": {},
   "outputs": [],
   "source": [
    "data_file_list = ['data1.txt', 'data2.txt','data3.txt']"
   ]
  },
  {
   "cell_type": "code",
   "execution_count": 34,
   "id": "d5f9251c",
   "metadata": {},
   "outputs": [
    {
     "data": {
      "text/plain": [
       "['data1.txt', 'data2.txt', 'data3.txt']"
      ]
     },
     "execution_count": 34,
     "metadata": {},
     "output_type": "execute_result"
    }
   ],
   "source": [
    "data_file_list"
   ]
  },
  {
   "cell_type": "code",
   "execution_count": 38,
   "id": "450ed585",
   "metadata": {},
   "outputs": [],
   "source": [
    "thread1 = [threading.Thread(target=file_download , args=(url_list[i],data_file_list[i])) for i in range(len(url_list))]"
   ]
  },
  {
   "cell_type": "markdown",
   "id": "838ebc5f",
   "metadata": {},
   "source": [
    "## Multiprocessing "
   ]
  },
  {
   "cell_type": "markdown",
   "id": "ae2ac067",
   "metadata": {},
   "source": [
    "Python multiprocessing is a module that allows you to run multiple processes concurrently in Python, in contrast to multithreading, which uses multiple threads within a single process. This can be useful for computationally intensive tasks that can benefit from parallel processing, as well as for taking advantage of multiple CPU cores on a machine.  \n",
    "\n",
    "The multiprocessing module provides a Process class that is similar to the threading.Thread class but creates a new process instead of a new thread. Each process has its own memory space, so variables and data structures are not shared between processes by default. However, the module provides mechanisms for sharing data between processes, such as pipes, queues, and shared memory.  "
   ]
  },
  {
   "cell_type": "code",
   "execution_count": 1,
   "id": "12456484",
   "metadata": {},
   "outputs": [
    {
     "ename": "NameError",
     "evalue": "name 'Process' is not defined",
     "output_type": "error",
     "traceback": [
      "\u001b[1;31m---------------------------------------------------------------------------\u001b[0m",
      "\u001b[1;31mNameError\u001b[0m                                 Traceback (most recent call last)",
      "\u001b[1;32m~\\AppData\\Local\\Temp/ipykernel_12152/2920308959.py\u001b[0m in \u001b[0;36m<module>\u001b[1;34m\u001b[0m\n\u001b[0;32m      3\u001b[0m \u001b[1;33m\u001b[0m\u001b[0m\n\u001b[0;32m      4\u001b[0m \u001b[1;32mif\u001b[0m \u001b[0m__name__\u001b[0m \u001b[1;33m==\u001b[0m \u001b[1;34m\"__main__\"\u001b[0m\u001b[1;33m:\u001b[0m\u001b[1;33m\u001b[0m\u001b[1;33m\u001b[0m\u001b[0m\n\u001b[1;32m----> 5\u001b[1;33m     \u001b[0mp\u001b[0m \u001b[1;33m=\u001b[0m \u001b[0mProcess\u001b[0m\u001b[1;33m(\u001b[0m\u001b[0mtarget\u001b[0m\u001b[1;33m=\u001b[0m\u001b[0mmy_func\u001b[0m\u001b[1;33m,\u001b[0m \u001b[0margs\u001b[0m\u001b[1;33m=\u001b[0m\u001b[1;33m(\u001b[0m\u001b[1;34m\"Alice\"\u001b[0m\u001b[1;33m,\u001b[0m\u001b[1;33m)\u001b[0m\u001b[1;33m)\u001b[0m\u001b[1;33m\u001b[0m\u001b[1;33m\u001b[0m\u001b[0m\n\u001b[0m\u001b[0;32m      6\u001b[0m     \u001b[0mp\u001b[0m\u001b[1;33m.\u001b[0m\u001b[0mstart\u001b[0m\u001b[1;33m(\u001b[0m\u001b[1;33m)\u001b[0m\u001b[1;33m\u001b[0m\u001b[1;33m\u001b[0m\u001b[0m\n\u001b[0;32m      7\u001b[0m     \u001b[0mp\u001b[0m\u001b[1;33m.\u001b[0m\u001b[0mjoin\u001b[0m\u001b[1;33m(\u001b[0m\u001b[1;33m)\u001b[0m\u001b[1;33m\u001b[0m\u001b[1;33m\u001b[0m\u001b[0m\n",
      "\u001b[1;31mNameError\u001b[0m: name 'Process' is not defined"
     ]
    }
   ],
   "source": [
    "\n",
    "def my_func(name):\n",
    "    print(f\"Hello, {name}!\")\n",
    "\n",
    "if __name__ == \"__main__\":\n",
    "    p = Process(target=my_func, args=(\"Alice\",))\n",
    "    p.start()\n",
    "    p.join()\n"
   ]
  },
  {
   "cell_type": "markdown",
   "id": "604b7b32",
   "metadata": {},
   "source": [
    "In this example, we define a function my_func() that takes a single argument name and prints a message using that name. We then create a new Process object and pass it the my_func() function as the target, along with the argument \"Alice\". We start the process using the start() method and wait for it to finish using the join() method.  "
   ]
  },
  {
   "cell_type": "markdown",
   "id": "682ed259",
   "metadata": {},
   "source": [
    "Note that we include the if __name__ == \"__main__\": statement, which is a recommended best practice when using the multiprocessing module. This helps to ensure that the module is imported correctly and does not cause issues with subprocesses on Windows systems.  \n",
    "\n",
    "Overall, the multiprocessing module can be a powerful tool for parallel processing in Python, especially for CPU-bound tasks. However, it does come with some overhead and may not be the best choice for every application, so it's important to consider the specific needs of your program and system when deciding whether to use multiprocessing or another concurrency approach  "
   ]
  },
  {
   "cell_type": "markdown",
   "id": "52e041d9",
   "metadata": {},
   "source": [
    "Let's say you have a large dataset and you need to perform some intensive data processing on it. This processing takes a long time to complete, and you want to speed up the process by using multiple CPU cores.  \n",
    "\n",
    "Here's where multiprocessing comes in. Instead of using a single CPU core, you can use multiple cores in parallel to process the data faster. Each core works on a different portion of the dataset, and the results are combined at the end.  \n",
    "\n",
    "For example, let's say you have a dataset of 1 million records, and you need to perform some complex data analysis on each record. This analysis takes 10 seconds per record, which means it would take a single CPU core about 115 days to process the entire dataset.  \n",
    "\n",
    "However, if you use multiprocessing and split the dataset into 4 equal parts, you can process each part on a separate core, reducing the processing time to about 28 days. This is because all 4 cores are working in parallel, processing their own portion of the data.  \n",
    "\n",
    "Of course, the actual speedup you get from multiprocessing depends on the specific task and the number of cores available on your machine. But in general, multiprocessing can be a powerful tool for speeding up data processing tasks that are CPU-bound.  "
   ]
  },
  {
   "cell_type": "code",
   "execution_count": 2,
   "id": "6f525027",
   "metadata": {},
   "outputs": [
    {
     "ename": "NameError",
     "evalue": "name 'multiprocessing' is not defined",
     "output_type": "error",
     "traceback": [
      "\u001b[1;31m---------------------------------------------------------------------------\u001b[0m",
      "\u001b[1;31mNameError\u001b[0m                                 Traceback (most recent call last)",
      "\u001b[1;32m~\\AppData\\Local\\Temp/ipykernel_12152/3183216508.py\u001b[0m in \u001b[0;36m<module>\u001b[1;34m\u001b[0m\n\u001b[0;32m     15\u001b[0m \u001b[1;33m\u001b[0m\u001b[0m\n\u001b[0;32m     16\u001b[0m \u001b[1;31m# Create a multiprocessing pool\u001b[0m\u001b[1;33m\u001b[0m\u001b[1;33m\u001b[0m\u001b[0m\n\u001b[1;32m---> 17\u001b[1;33m \u001b[1;32mwith\u001b[0m \u001b[0mmultiprocessing\u001b[0m\u001b[1;33m.\u001b[0m\u001b[0mPool\u001b[0m\u001b[1;33m(\u001b[0m\u001b[0mprocesses\u001b[0m\u001b[1;33m=\u001b[0m\u001b[1;36m2\u001b[0m\u001b[1;33m)\u001b[0m \u001b[1;32mas\u001b[0m \u001b[0mpool\u001b[0m\u001b[1;33m:\u001b[0m\u001b[1;33m\u001b[0m\u001b[1;33m\u001b[0m\u001b[0m\n\u001b[0m\u001b[0;32m     18\u001b[0m     \u001b[1;31m# Apply the data processing function to each chunk in parallel\u001b[0m\u001b[1;33m\u001b[0m\u001b[1;33m\u001b[0m\u001b[0m\n\u001b[0;32m     19\u001b[0m     \u001b[0mresults\u001b[0m \u001b[1;33m=\u001b[0m \u001b[0mpool\u001b[0m\u001b[1;33m.\u001b[0m\u001b[0mmap\u001b[0m\u001b[1;33m(\u001b[0m\u001b[0mprocess_data\u001b[0m\u001b[1;33m,\u001b[0m \u001b[0mchunks\u001b[0m\u001b[1;33m)\u001b[0m\u001b[1;33m\u001b[0m\u001b[1;33m\u001b[0m\u001b[0m\n",
      "\u001b[1;31mNameError\u001b[0m: name 'multiprocessing' is not defined"
     ]
    }
   ],
   "source": [
    "\n",
    "# Define the data processing function\n",
    "def process_data(data):\n",
    "    results = []\n",
    "    for item in data:\n",
    "        result = item * 2  # example data processing\n",
    "        results.append(result)\n",
    "    return results\n",
    "\n",
    "# Create a small dataset\n",
    "data = list(range(10))\n",
    "\n",
    "# Split the dataset into chunks\n",
    "chunk_size = 2\n",
    "chunks = [data[i:i+chunk_size] for i in range(0, len(data), chunk_size)]\n",
    "\n",
    "# Create a multiprocessing pool\n",
    "with multiprocessing.Pool(processes=2) as pool:\n",
    "    # Apply the data processing function to each chunk in parallel\n",
    "    results = pool.map(process_data, chunks)\n",
    "\n",
    "# Combine the results from each chunk\n",
    "combined_results = [result for chunk_result in results for result in chunk_result]\n",
    "\n",
    "# Print the results\n",
    "print(combined_results)\n"
   ]
  },
  {
   "cell_type": "markdown",
   "id": "7484b46c",
   "metadata": {},
   "source": [
    "In this example, we first define a function process_data() that takes in a list of data and performs some processing on each item in the list. For this example, we simply multiply each item by 2 to create a new list of results.  \n",
    "\n",
    "Next, we create a small dataset consisting of the numbers 0 to 9, and split it into chunks of size 2. This creates a list of chunks, where each chunk is a list of 2 numbers.  \n",
    "\n",
    "We then create a multiprocessing pool with 2 processes, and use the map() function to apply the process_data() function to each chunk in parallel. This means that each chunk is processed by a separate process, running on a separate CPU core (if available).  \n",
    "\n",
    "Finally, we combine the results from each chunk into a single list of combined_results, which contains the processed data from the entire dataset.  "
   ]
  },
  {
   "cell_type": "code",
   "execution_count": null,
   "id": "2adcbe49",
   "metadata": {},
   "outputs": [],
   "source": [
    "Name, Age, Gender\n",
    "John, 28, Male\n",
    "Alice, 35, Female\n",
    "Bob, 42, Male\n"
   ]
  },
  {
   "cell_type": "markdown",
   "id": "ff44beb5",
   "metadata": {},
   "source": [
    "We want to perform some operation on each row of the CSV file, and we want to use multiprocessing to speed up the processing."
   ]
  },
  {
   "cell_type": "code",
   "execution_count": 3,
   "id": "0783ff63",
   "metadata": {},
   "outputs": [
    {
     "ename": "FileNotFoundError",
     "evalue": "[Errno 2] No such file or directory: 'example.csv'",
     "output_type": "error",
     "traceback": [
      "\u001b[1;31m---------------------------------------------------------------------------\u001b[0m",
      "\u001b[1;31mFileNotFoundError\u001b[0m                         Traceback (most recent call last)",
      "\u001b[1;32m~\\AppData\\Local\\Temp/ipykernel_12152/690710942.py\u001b[0m in \u001b[0;36m<module>\u001b[1;34m\u001b[0m\n\u001b[0;32m     26\u001b[0m \u001b[1;33m\u001b[0m\u001b[0m\n\u001b[0;32m     27\u001b[0m     \u001b[1;31m# Open the CSV file and determine the number of rows\u001b[0m\u001b[1;33m\u001b[0m\u001b[1;33m\u001b[0m\u001b[0m\n\u001b[1;32m---> 28\u001b[1;33m     \u001b[1;32mwith\u001b[0m \u001b[0mopen\u001b[0m\u001b[1;33m(\u001b[0m\u001b[1;34m'example.csv'\u001b[0m\u001b[1;33m)\u001b[0m \u001b[1;32mas\u001b[0m \u001b[0mf\u001b[0m\u001b[1;33m:\u001b[0m\u001b[1;33m\u001b[0m\u001b[1;33m\u001b[0m\u001b[0m\n\u001b[0m\u001b[0;32m     29\u001b[0m         \u001b[0mreader\u001b[0m \u001b[1;33m=\u001b[0m \u001b[0mcsv\u001b[0m\u001b[1;33m.\u001b[0m\u001b[0mreader\u001b[0m\u001b[1;33m(\u001b[0m\u001b[0mf\u001b[0m\u001b[1;33m)\u001b[0m\u001b[1;33m\u001b[0m\u001b[1;33m\u001b[0m\u001b[0m\n\u001b[0;32m     30\u001b[0m         \u001b[0mnum_rows\u001b[0m \u001b[1;33m=\u001b[0m \u001b[0msum\u001b[0m\u001b[1;33m(\u001b[0m\u001b[1;36m1\u001b[0m \u001b[1;32mfor\u001b[0m \u001b[0m_\u001b[0m \u001b[1;32min\u001b[0m \u001b[0mreader\u001b[0m\u001b[1;33m)\u001b[0m\u001b[1;33m\u001b[0m\u001b[1;33m\u001b[0m\u001b[0m\n",
      "\u001b[1;31mFileNotFoundError\u001b[0m: [Errno 2] No such file or directory: 'example.csv'"
     ]
    }
   ],
   "source": [
    "\n",
    "\n",
    "def process_row(row):\n",
    "    \"\"\"\n",
    "    Example function that processes a single row of data\n",
    "    \"\"\"\n",
    "    name, age, gender = row\n",
    "    # Do some processing on the row\n",
    "    return name, age, gender\n",
    "\n",
    "def worker(filename, start, end, queue):\n",
    "    \"\"\"\n",
    "    Worker function that reads a portion of the CSV file and processes each row\n",
    "    \"\"\"\n",
    "    with open(filename) as f:\n",
    "        reader = csv.reader(f)\n",
    "        for i, row in enumerate(reader):\n",
    "            if i < start:\n",
    "                continue\n",
    "            if i >= end:\n",
    "                break\n",
    "            processed_row = process_row(row)\n",
    "            queue.put(processed_row)\n",
    "\n",
    "if __name__ == '__main__':\n",
    "    # Define the number of processes to use\n",
    "    num_processes = 2\n",
    "\n",
    "    # Open the CSV file and determine the number of rows\n",
    "    with open('example.csv') as f:\n",
    "        reader = csv.reader(f)\n",
    "        num_rows = sum(1 for _ in reader)\n",
    "\n",
    "    # Split the file into equal-sized chunks for each process\n",
    "    chunk_size = num_rows // num_processes\n",
    "    chunks = [(i * chunk_size, (i+1) * chunk_size) for i in range(num_processes)]\n",
    "    chunks[-1] = (chunks[-1][0], num_rows)  # Make sure the last chunk includes any remaining rows\n",
    "\n",
    "    # Create a queue to hold the processed data\n",
    "    queue = multiprocessing.Queue()\n",
    "\n",
    "    # Start the worker processes\n",
    "    processes = []\n",
    "    for i in range(num_processes):\n",
    "        start, end = chunks[i]\n",
    "        p = multiprocessing.Process(target=worker, args=('example.csv', start, end, queue))\n",
    "        p.start()\n",
    "        processes.append(p)\n",
    "\n",
    "    # Wait for all worker processes to finish\n",
    "    for p in processes:\n",
    "        p.join()\n",
    "\n",
    "    # Collect the processed data from the queue\n",
    "    results = []\n",
    "    while not queue.empty():\n",
    "        results.append(queue.get())\n",
    "\n",
    "    # Print the results\n",
    "    for result in results:\n",
    "        print(result)\n"
   ]
  },
  {
   "cell_type": "markdown",
   "id": "5779a2db",
   "metadata": {},
   "source": [
    "Let's go through this code step by step:\n",
    "\n",
    "First, we define a function process_row that takes a single row of data as input and performs some processing on it. In this example, the processing is just unpacking the values from the row into separate variables, but you could replace this with any processing you need to do.\n",
    "\n",
    "Next, we define a function worker that reads a portion of the CSV file and processes each row using the process_row function. The worker function takes four arguments: the name of the CSV file to read, the starting row index to read from, the ending row index to read to (exclusive), and a queue to hold the processed data. The function opens the CSV file and reads each row using a csv.reader. It skips over any rows before the starting index and stops reading when it reaches the ending index. For each row it reads, it calls the process_row function to perform some processing on the row, and then puts the processed data into the queue.\n",
    "\n",
    "In the main block of the code, we define the number of processes to use and open the CSV file to determine the number of rows. We then split the file\n",
    "\n",
    "\n",
    "\n",
    "\n",
    "\n"
   ]
  },
  {
   "cell_type": "code",
   "execution_count": 3,
   "id": "9a74326e",
   "metadata": {},
   "outputs": [
    {
     "name": "stdout",
     "output_type": "stream",
     "text": [
      "This is my Main program\n"
     ]
    }
   ],
   "source": [
    "import multiprocessing\n",
    "\n",
    "def test():\n",
    "    print(\"This is my Multiprocessing program\")\n",
    "    \n",
    "if __name__ == \"__main__\":\n",
    "    m = multiprocessing.Process(target=test)\n",
    "    print(\"This is my Main program\")\n",
    "    m.start()\n",
    "    m.join()"
   ]
  },
  {
   "cell_type": "code",
   "execution_count": 4,
   "id": "458af116",
   "metadata": {},
   "outputs": [
    {
     "name": "stdout",
     "output_type": "stream",
     "text": [
      "This is my Multiprocessing program\n"
     ]
    }
   ],
   "source": [
    "test()"
   ]
  },
  {
   "cell_type": "code",
   "execution_count": null,
   "id": "63209d9d",
   "metadata": {},
   "outputs": [],
   "source": [
    "import multiprocessing\n",
    "\n",
    "def square(n):\n",
    "    print(f\"Processing {n}...\")\n",
    "    return n**2\n",
    "\n",
    "if __name__ == \"__main__\":\n",
    "    with multiprocessing.Pool(processes=2) as pool: \n",
    "        out = pool.map(square, [3,4,5,6,6,7,8,10])\n",
    "        print(out)\n"
   ]
  },
  {
   "cell_type": "code",
   "execution_count": 1,
   "id": "c704e80c",
   "metadata": {},
   "outputs": [
    {
     "name": "stdout",
     "output_type": "stream",
     "text": [
      "Matta\n"
     ]
    }
   ],
   "source": [
    "print(\"Matta\")"
   ]
  },
  {
   "cell_type": "code",
   "execution_count": 2,
   "id": "0ea1fa1a",
   "metadata": {},
   "outputs": [
    {
     "name": "stdout",
     "output_type": "stream",
     "text": [
      "test\n"
     ]
    }
   ],
   "source": [
    "print(\"test\")"
   ]
  },
  {
   "cell_type": "markdown",
   "id": "a93e8bb0",
   "metadata": {},
   "source": [
    "### Q1. What is multiprocessing in python? Why is it useful?"
   ]
  },
  {
   "cell_type": "markdown",
   "id": "75ac3c19",
   "metadata": {},
   "source": [
    "Multiprocessing is a way of achieving parallelism and concurrency in Python by using multiple CPU cores. It allows you to execute multiple processes simultaneously, thereby making your code faster and more efficient.   \n",
    "\n",
    "It is useful when you need to perform computationally intensive tasks such as data analysis, machine learning, or scientific computing, which can benefit greatly from parallel processing. \n",
    "\n",
    "Multiprocessing is also useful when you need to perform I/O-bound tasks such as downloading or uploading large files or web scraping, which can be parallelized to improve performance.\n",
    "\n",
    "Overall, multiprocessing provides a way to take advantage of modern hardware and increase the efficiency of your Python code.\n",
    "  \n",
    "\n",
    "\n"
   ]
  },
  {
   "cell_type": "markdown",
   "id": "3cbb1e8a",
   "metadata": {},
   "source": [
    "### Q2. What are the differences between multiprocessing and multithreading?\n"
   ]
  },
  {
   "cell_type": "markdown",
   "id": "d55cb4cc",
   "metadata": {},
   "source": [
    "The main differences between multiprocessing and multithreading are as follows:\n",
    "\n",
    "Execution Model: Multiprocessing creates separate processes that run in parallel, while multithreading creates separate threads within the same process that run concurrently.\n",
    "\n",
    "Memory: Each process has its own memory space, while all threads within a process share the same memory space.\n",
    "\n",
    "Communication: Inter-process communication (IPC) is used for communication between processes, while inter-thread communication (ITC) is used for communication between threads.\n",
    "\n",
    "Performance: Multiprocessing is generally faster than multithreading, especially on machines with multiple CPUs or cores. However, it also requires more resources.\n",
    "\n",
    "Scalability: Multiprocessing is more scalable than multithreading, as the number of processes can be increased up to the number of available CPUs or cores.\n",
    "\n",
    "Complexity: Multiprocessing is more complex than multithreading, as it involves creating and managing separate processes.\n",
    "\n",
    "In general, multiprocessing is better suited for CPU-bound tasks that require heavy computation, while multithreading is better suited for I/O-bound tasks that require waiting for external resources such as network or disk I/O"
   ]
  },
  {
   "cell_type": "markdown",
   "id": "77a83824",
   "metadata": {},
   "source": [
    "### Q3. Write a python code to create a process using the multiprocessing module."
   ]
  },
  {
   "cell_type": "code",
   "execution_count": 3,
   "id": "b01ade21",
   "metadata": {},
   "outputs": [
    {
     "name": "stdout",
     "output_type": "stream",
     "text": [
      "Main process is done.\n"
     ]
    }
   ],
   "source": [
    "import multiprocessing\n",
    "\n",
    "def worker():\n",
    "    \"\"\"Function to be run in a separate process\"\"\"\n",
    "    print(\"Worker process is running.\")\n",
    "\n",
    "if __name__ == \"__main__\":\n",
    "    # Create a new process using the Process class\n",
    "    p = multiprocessing.Process(target=worker)\n",
    "\n",
    "    # Start the process\n",
    "    p.start()\n",
    "\n",
    "    # Wait for the process to finish\n",
    "    p.join()\n",
    "\n",
    "    print(\"Main process is done.\")\n"
   ]
  },
  {
   "cell_type": "markdown",
   "id": "9bd000b9",
   "metadata": {},
   "source": [
    "In this code, the worker function is defined to be run in a separate process. The multiprocessing.Process class is used to create a new process, and the target argument is set to the worker function.\n",
    "\n",
    "The new process is started using the start method, and the main process waits for it to finish using the join method.\n",
    "\n",
    "When the new process finishes, the main process continues executing and prints \"Main process is done.\""
   ]
  },
  {
   "cell_type": "markdown",
   "id": "bb1a1b3e",
   "metadata": {},
   "source": [
    "### Q4. What is a multiprocessing pool in python? Why is it used?"
   ]
  },
  {
   "cell_type": "markdown",
   "id": "abc37f91",
   "metadata": {},
   "source": [
    "In Python's multiprocessing module, a pool is a way to distribute tasks among multiple worker processes. A pool is created with a specified number of worker processes, and tasks can be submitted to the pool for execution. The pool assigns tasks to the worker processes and returns the results when they are completed.\n",
    "\n",
    "The primary advantage of using a pool is that it allows multiple tasks to be executed in parallel, which can significantly improve the performance of CPU-bound tasks. By spreading the workload among multiple processes, it's possible to take advantage of multi-core CPUs and get work done faster.\n",
    "\n",
    "In addition, using a pool can simplify the process of managing worker processes, as the pool takes care of creating and managing the worker processes, as well as distributing tasks and collecting results. This can help make multiprocessing easier to work with for many common use cases."
   ]
  },
  {
   "cell_type": "markdown",
   "id": "2dd0211a",
   "metadata": {},
   "source": [
    "### Q5. How can we create a pool of worker processes in python using the multiprocessing module?"
   ]
  },
  {
   "cell_type": "code",
   "execution_count": null,
   "id": "86e15c6d",
   "metadata": {},
   "outputs": [],
   "source": [
    "import multiprocessing\n",
    "\n",
    "def square(x):\n",
    "    return x ** 2\n",
    "\n",
    "if __name__ == \"__main__\":\n",
    "    with multiprocessing.Pool(processes=4) as pool:\n",
    "        result = pool.map(square, [1, 2, 3, 4, 5])\n",
    "        print(result)\n"
   ]
  },
  {
   "cell_type": "markdown",
   "id": "f0318269",
   "metadata": {},
   "source": [
    "In this example, we first define a function square that takes a number x and returns its square. Then, we use the Pool class to create a pool of 4 worker processes using the processes argument. We pass a list of numbers to the map method of the pool along with the function to apply on each element of the list. The map method applies the function to each element of the list in parallel using the worker processes and returns a list of results. Finally, we print the result."
   ]
  },
  {
   "cell_type": "markdown",
   "id": "1c40a63a",
   "metadata": {},
   "source": [
    "### Q6. Write a python program to create 4 processes, each process should print a different number using the multiprocessing module in python."
   ]
  },
  {
   "cell_type": "code",
   "execution_count": null,
   "id": "5b0401df",
   "metadata": {},
   "outputs": [],
   "source": [
    "import multiprocessing\n",
    "\n",
    "def print_number(num):\n",
    "    print(num)\n",
    "\n",
    "if __name__ == '__main__':\n",
    "    # Create a list of numbers to be printed\n",
    "    numbers = [1, 2, 3, 4]\n",
    "\n",
    "    # Create a pool of 4 worker processes\n",
    "    with multiprocessing.Pool(processes=4) as pool:\n",
    "        # Map the print_number function to each number in the list using the pool\n",
    "        pool.map(print_number, numbers)\n"
   ]
  },
  {
   "cell_type": "code",
   "execution_count": null,
   "id": "fe29aac0",
   "metadata": {},
   "outputs": [],
   "source": []
  }
 ],
 "metadata": {
  "kernelspec": {
   "display_name": "Python 3 (ipykernel)",
   "language": "python",
   "name": "python3"
  },
  "language_info": {
   "codemirror_mode": {
    "name": "ipython",
    "version": 3
   },
   "file_extension": ".py",
   "mimetype": "text/x-python",
   "name": "python",
   "nbconvert_exporter": "python",
   "pygments_lexer": "ipython3",
   "version": "3.9.7"
  }
 },
 "nbformat": 4,
 "nbformat_minor": 5
}
