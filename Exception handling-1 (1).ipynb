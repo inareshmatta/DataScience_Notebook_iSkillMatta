{
 "cells": [
  {
   "cell_type": "markdown",
   "id": "afd66510",
   "metadata": {},
   "source": [
    "#### Q1. What is an exception in python? Write the difference between Exceptions and Syntax Error"
   ]
  },
  {
   "cell_type": "markdown",
   "id": "1a33a9fb",
   "metadata": {},
   "source": [
    "An exception in Python is a runtime error that occurs during the execution of a program. It is an event that interrupts the normal flow of a program's instructions. In Python, exceptions are objects that represent errors or other exceptional events that can occur during the execution of a program.  \n",
    "\n",
    "There are two main types of exceptions in Python:   \n",
    "\n",
    "Built-in exceptions: These are the exceptions that are provided by the Python language and are built into the interpreter. Examples include ZeroDivisionError, NameError, TypeError, etc.   \n",
    "\n",
    "User-defined exceptions: These are exceptions that are defined by the programmer and are used to signal errors or exceptional events that are specific to the program being developed.   \n",
    "\n",
    "The main difference between exceptions and syntax errors is that syntax errors are detected by the interpreter before the program is run, while exceptions occur during the execution of the program.   \n",
    "\n",
    "Syntax errors occur when the syntax of the program is incorrect, such as a missing or extra bracket, a typo in a keyword, etc. These errors are detected by the Python interpreter before the program is run and are often easy to fix.   \n",
    "\n",
    "Exceptions, on the other hand, occur during the execution of the program and can be caused by a wide range of factors, including invalid user input, network errors, file I/O errors, and many others. Exceptions are often more difficult to predict and handle than syntax errors, and require more sophisticated error handling techniques.   "
   ]
  },
  {
   "cell_type": "markdown",
   "id": "f1d563bd",
   "metadata": {},
   "source": [
    "#### Q2. What happens when an exception is not handled? Explain with an example"
   ]
  },
  {
   "cell_type": "markdown",
   "id": "578538f0",
   "metadata": {},
   "source": [
    "When an exception is not handled, it will cause the program to terminate abruptly and display an error message, which can be difficult for the user to understand."
   ]
  },
  {
   "cell_type": "code",
   "execution_count": 4,
   "id": "14ffe73f",
   "metadata": {},
   "outputs": [
    {
     "ename": "ZeroDivisionError",
     "evalue": "division by zero",
     "output_type": "error",
     "traceback": [
      "\u001b[1;31m---------------------------------------------------------------------------\u001b[0m",
      "\u001b[1;31mZeroDivisionError\u001b[0m                         Traceback (most recent call last)",
      "\u001b[1;32m~\\AppData\\Local\\Temp/ipykernel_11672/2375341032.py\u001b[0m in \u001b[0;36m<module>\u001b[1;34m\u001b[0m\n\u001b[0;32m      1\u001b[0m \u001b[0mnumerator\u001b[0m \u001b[1;33m=\u001b[0m \u001b[1;36m10\u001b[0m\u001b[1;33m\u001b[0m\u001b[1;33m\u001b[0m\u001b[0m\n\u001b[0;32m      2\u001b[0m \u001b[0mdenominator\u001b[0m \u001b[1;33m=\u001b[0m \u001b[1;36m0\u001b[0m\u001b[1;33m\u001b[0m\u001b[1;33m\u001b[0m\u001b[0m\n\u001b[1;32m----> 3\u001b[1;33m \u001b[0mresult\u001b[0m \u001b[1;33m=\u001b[0m \u001b[0mnumerator\u001b[0m \u001b[1;33m/\u001b[0m \u001b[0mdenominator\u001b[0m\u001b[1;33m\u001b[0m\u001b[1;33m\u001b[0m\u001b[0m\n\u001b[0m\u001b[0;32m      4\u001b[0m \u001b[0mprint\u001b[0m\u001b[1;33m(\u001b[0m\u001b[0mresult\u001b[0m\u001b[1;33m)\u001b[0m\u001b[1;33m\u001b[0m\u001b[1;33m\u001b[0m\u001b[0m\n",
      "\u001b[1;31mZeroDivisionError\u001b[0m: division by zero"
     ]
    }
   ],
   "source": [
    "numerator = 10\n",
    "denominator = 0\n",
    "result = numerator / denominator\n",
    "print(result)\n"
   ]
  },
  {
   "cell_type": "markdown",
   "id": "4f6fe320",
   "metadata": {},
   "source": [
    "This error message is not user-friendly and can be confusing for non-technical users. It is always a good practice to handle exceptions in the code to avoid such situations and provide a better user experience."
   ]
  },
  {
   "cell_type": "code",
   "execution_count": 3,
   "id": "3e5249e1",
   "metadata": {},
   "outputs": [
    {
     "name": "stdout",
     "output_type": "stream",
     "text": [
      "Error: Cannot divide by zero!\n"
     ]
    }
   ],
   "source": [
    "numerator = 10\n",
    "denominator = 0\n",
    "try:\n",
    "    result = numerator / denominator\n",
    "    print(result)\n",
    "except ZeroDivisionError:\n",
    "    print(\"Error: Cannot divide by zero!\")\n"
   ]
  },
  {
   "cell_type": "markdown",
   "id": "2a27398a",
   "metadata": {},
   "source": [
    "#### Q3 Which Python statements are used to catch and handle exception? explain with a example "
   ]
  },
  {
   "cell_type": "markdown",
   "id": "de586d36",
   "metadata": {},
   "source": [
    "Python statements used to raise and handle exceptions are try, except, finally, and raise."
   ]
  },
  {
   "cell_type": "code",
   "execution_count": 5,
   "id": "4ce01cc0",
   "metadata": {},
   "outputs": [
    {
     "name": "stdout",
     "output_type": "stream",
     "text": [
      "Enter a number: 5\n",
      "Enter another number: 5\n",
      "Result: 1.0\n",
      "Done with calculations.\n"
     ]
    }
   ],
   "source": [
    "try:\n",
    "    x = int(input(\"Enter a number: \"))\n",
    "    y = int(input(\"Enter another number: \"))\n",
    "    result = x / y\n",
    "except ZeroDivisionError:\n",
    "    print(\"Error: Cannot divide by zero!\")\n",
    "except ValueError:\n",
    "    print(\"Error: Invalid input type!\")\n",
    "else:\n",
    "    print(\"Result:\", result)\n",
    "finally:\n",
    "    print(\"Done with calculations.\")\n"
   ]
  },
  {
   "cell_type": "markdown",
   "id": "ce6a2e56",
   "metadata": {},
   "source": [
    "In this example, the try block contains the code that could potentially raise an exception. If an exception is raised, the corresponding except block is executed. If no exception is raised, the else block is executed. The finally block is always executed, regardless of whether an exception was raised or not"
   ]
  },
  {
   "cell_type": "markdown",
   "id": "442aadfe",
   "metadata": {},
   "source": [
    "#### Q4. Explain with example : \n",
    "\n",
    "a. try and else  \n",
    "b. finally   \n",
    "c. raise   "
   ]
  },
  {
   "cell_type": "markdown",
   "id": "67ca5624",
   "metadata": {},
   "source": [
    "In Python, the try, except, else, finally statements are used to catch and handle exceptions.\n",
    "\n",
    "The try block contains the code that may raise an exception, and the except block contains the code that handles the exception.\n",
    "\n",
    "The else block is optional and is executed only if no exceptions are raised in the try block.\n",
    "\n",
    "The finally block is also optional and is executed whether an exception is raised or not. It is used to clean up resources or perform some final actions.\n",
    "\n",
    "Here's an example:"
   ]
  },
  {
   "cell_type": "code",
   "execution_count": null,
   "id": "35edb47f",
   "metadata": {},
   "outputs": [],
   "source": [
    "try:\n",
    "    numerator = int(input(\"Enter the numerator: \"))\n",
    "    denominator = int(input(\"Enter the denominator: \"))\n",
    "    result = numerator / denominator\n",
    "except ValueError:\n",
    "    print(\"Error: Invalid input. Please enter integer values.\")\n",
    "except ZeroDivisionError:\n",
    "    print(\"Error: Cannot divide by zero.\")\n",
    "else:\n",
    "    print(\"The result is:\", result)\n",
    "finally:\n",
    "    print(\"Program execution complete.\")\n"
   ]
  },
  {
   "cell_type": "markdown",
   "id": "77be4b97",
   "metadata": {},
   "source": [
    "#### Q5. What are Custom Exceptions in python? Why do we need Custom Exceptions? Explain with an example"
   ]
  },
  {
   "cell_type": "markdown",
   "id": "5a355637",
   "metadata": {},
   "source": [
    "In Python, Custom Exceptions are user-defined exceptions that are created by the programmer as per the specific requirements of their program.   \n",
    "\n",
    "We need custom exceptions in Python to add more clarity and detail to the error message that is raised when an exception occurs in our program. With custom exceptions, we can raise an exception with a specific message and error code that is more meaningful to the users or other developers who are using our program. It also helps in debugging the code easily and quickly.   \n",
    "\n",
    "For example, let's say we are writing a program that handles student records. In our program, we need to handle a situation where a student ID is not found in the database. Instead of raising a general exception, we can create a custom exception named StudentNotFoundError and raise it with a specific error message. This will help the user to understand the exact issue and resolve it accordingly.   "
   ]
  },
  {
   "cell_type": "code",
   "execution_count": null,
   "id": "e1345905",
   "metadata": {},
   "outputs": [],
   "source": [
    "class StudentNotFoundError(Exception):\n",
    "    def __init__(self, message):\n",
    "        self.message = message\n",
    "        super().__init__(self.message)\n"
   ]
  },
  {
   "cell_type": "code",
   "execution_count": null,
   "id": "05a47d63",
   "metadata": {},
   "outputs": [],
   "source": [
    "def find_student(student_id):\n",
    "    # Search for the student record in the database\n",
    "    if not found:\n",
    "        raise StudentNotFoundError(\"Student with ID {} not found\".format(student_id))\n"
   ]
  },
  {
   "cell_type": "markdown",
   "id": "35bf0c50",
   "metadata": {},
   "source": [
    "#### Q6. Create custom exception class, Use this class to handle an exception."
   ]
  },
  {
   "cell_type": "code",
   "execution_count": null,
   "id": "67f40ee0",
   "metadata": {},
   "outputs": [],
   "source": [
    "class OutOfRangeError(Exception):\n",
    "    \"\"\"Exception raised when a value is out of range.\"\"\"\n",
    "    pass\n",
    "\n",
    "def get_value_in_range(val, min_val, max_val):\n",
    "    \"\"\"Returns the given value if it is within the specified range,\n",
    "    otherwise raises an OutOfRangeError exception.\"\"\"\n",
    "    if val < min_val or val > max_val:\n",
    "        raise OutOfRangeError(f\"{val} is out of range ({min_val}-{max_val})\")\n",
    "    return val\n",
    "\n",
    "# Example usage\n",
    "try:\n",
    "    val = get_value_in_range(50, 0, 10)\n",
    "    print(val)\n",
    "except OutOfRangeError as e:\n",
    "    print(e)\n",
    "    \n",
    "try:\n",
    "    val = get_value_in_range(-5, 0, 10)\n",
    "    print(val)\n",
    "except OutOfRangeError as e:\n",
    "    print(e)\n"
   ]
  },
  {
   "cell_type": "code",
   "execution_count": null,
   "id": "95347a8d",
   "metadata": {},
   "outputs": [],
   "source": []
  }
 ],
 "metadata": {
  "kernelspec": {
   "display_name": "Python 3 (ipykernel)",
   "language": "python",
   "name": "python3"
  },
  "language_info": {
   "codemirror_mode": {
    "name": "ipython",
    "version": 3
   },
   "file_extension": ".py",
   "mimetype": "text/x-python",
   "name": "python",
   "nbconvert_exporter": "python",
   "pygments_lexer": "ipython3",
   "version": "3.9.7"
  }
 },
 "nbformat": 4,
 "nbformat_minor": 5
}
