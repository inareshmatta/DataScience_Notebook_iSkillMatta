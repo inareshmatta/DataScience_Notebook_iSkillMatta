{
 "cells": [
  {
   "cell_type": "markdown",
   "id": "ca0975ea",
   "metadata": {},
   "source": [
    "# SQL & NOSQL"
   ]
  },
  {
   "cell_type": "markdown",
   "id": "a5a97740",
   "metadata": {},
   "source": [
    "SQL and NoSQL are two types of database management systems (DBMS) that are used to store and manage data.\n",
    "\n",
    "SQL (Structured Query Language) is a relational database management system (RDBMS) that is widely used in the industry. It provides a set of standardized commands to interact with databases and is known for its ability to handle complex queries and transactions. SQL databases are organized into tables with predefined schemas, and data is stored in rows and columns. This type of database is best suited for applications that require structured data with fixed schemas, such as finance or banking applications.  \n",
    "\n",
    "On the other hand, NoSQL (Not Only SQL) is a non-relational database management system that is used to handle large volumes of unstructured or semi-structured data. It allows for flexible schema designs and can handle data that is not easily structured into tables, rows, and columns. NoSQL databases are designed to be scalable and fault-tolerant, making them ideal for use cases such as big data analytics, social media platforms, and IoT (Internet of Things) applications.  \n",
    "\n",
    "In summary, SQL databases are best suited for applications that require structured data and complex queries, while NoSQL databases are ideal for applications that require scalability and flexible schema designs for handling large volumes of unstructured or semi-structured data.  "
   ]
  },
  {
   "cell_type": "markdown",
   "id": "d48aeca1",
   "metadata": {},
   "source": [
    "# SQL"
   ]
  },
  {
   "cell_type": "markdown",
   "id": "979ed0c5",
   "metadata": {},
   "source": [
    "SQL (Structured Query Language) is a standard language used to communicate with relational databases. It is used to create, manage and manipulate relational databases. SQL provides a powerful and flexible way to manage data in tables, columns and rows, and enables users to access and modify data with a set of commands.\n",
    "\n",
    "SQL is used to perform various operations on the data stored in a relational database, such as adding, deleting and modifying records. It is also used to retrieve data from multiple tables using various SQL join operations, and to perform calculations and transformations on the data using various SQL functions.\n",
    "\n",
    "SQL has a simple and easy-to-learn syntax, and it is used by millions of developers and database administrators worldwide. SQL commands are usually executed using a database management system (DBMS) such as MySQL, Oracle, SQL Server, PostgreSQL, and many others.\n",
    "\n",
    "Some of the most common SQL commands include SELECT, INSERT, UPDATE, DELETE, CREATE, DROP, ALTER, and INDEX. These commands are used to perform various operations on the data in a relational database. For example, SELECT is used to retrieve data from one or more tables, INSERT is used to add new records to a table, UPDATE is used to modify existing records, and DELETE is used to remove records from a table.\n",
    "\n",
    "Overall, SQL is an essential tool for managing and manipulating data in a relational database."
   ]
  },
  {
   "cell_type": "markdown",
   "id": "5acdc091",
   "metadata": {},
   "source": [
    "### SQL Commands"
   ]
  },
  {
   "cell_type": "markdown",
   "id": "5d576e11",
   "metadata": {},
   "source": [
    "Here are some common SQL commands and their explanations:\n",
    "\n",
    "SELECT: The SELECT statement is used to retrieve data from one or more tables in a database. It specifies which columns to return, and may also contain clauses to filter, group, and sort the results. For example, SELECT column1, column2 FROM table1 would return the values in columns 1 and 2 of the table named \"table1\".\n",
    "\n",
    "INSERT: The INSERT statement is used to add new rows of data to a table. It specifies the table name, the column names, and the values to be inserted. For example, INSERT INTO table1 (column1, column2) VALUES (value1, value2) would insert a new row into \"table1\" with the values \"value1\" in column1 and \"value2\" in column2.\n",
    "\n",
    "UPDATE: The UPDATE statement is used to modify existing data in a table. It specifies the table name, the column to be updated, and the new value to be set. It may also contain a WHERE clause to specify which rows to update. For example, UPDATE table1 SET column1 = value1 WHERE column2 = value2 would update the value in column1 of \"table1\" to \"value1\" where the value in column2 is \"value2\".\n",
    "\n",
    "DELETE: The DELETE statement is used to remove rows from a table. It specifies the table name, and may contain a WHERE clause to specify which rows to delete. For example, DELETE FROM table1 WHERE column1 = value1 would delete all rows from \"table1\" where the value in column1 is \"value1\".\n",
    "\n",
    "CREATE: The CREATE statement is used to create new tables, indexes, and other database objects. It specifies the object type, name, and any columns or properties that are required. For example, CREATE TABLE table1 (column1 datatype1, column2 datatype2) would create a new table named \"table1\" with two columns and their respective data types.\n",
    "\n",
    "ALTER: The ALTER statement is used to modify the structure of existing tables or other database objects. It may be used to add or remove columns, change data types, or modify other properties. For example, ALTER TABLE table1 ADD column3 datatype3 would add a new column named \"column3\" with data type \"datatype3\" to the \"table1\" table.\n",
    "\n",
    "DROP: The DROP statement is used to remove tables, indexes, and other database objects. It specifies the object name and type. For example, DROP TABLE table1 would remove the \"table1\" table from the database.\n",
    "\n",
    "TRUNCATE: The TRUNCATE statement is used to remove all rows from a table, while preserving its structure. It is similar to DELETE, but is more efficient for large tables. For example, TRUNCATE TABLE table1 would remove all rows from \"table1\" but leave the table structure intact."
   ]
  },
  {
   "cell_type": "markdown",
   "id": "1cd2458e",
   "metadata": {},
   "source": [
    "| Language | Command              | Uses                                                                                                                                              | Command prompt                                   |\n",
    "|----------|----------------------|---------------------------------------------------------------------------------------------------------------------------------------------------|--------------------------------------------------|\n",
    "| TCL      | COMMIT               | Saves all changes made since the last COMMIT or ROLLBACK command was issued.                                                                       | COMMIT;                                          |\n",
    "| TCL      | ROLLBACK             | Reverts all changes made since the last COMMIT or ROLLBACK command was issued.                                                                     | ROLLBACK;                                        |\n",
    "| TCL      | SAVEPOINT            | Creates a savepoint, which allows you to roll back part of a transaction without affecting the entire transaction.                                | SAVEPOINT savepoint;                              |\n",
    "| TCL      | RELEASE              | Ends a savepoint created by the SAVEPOINT command.                                                                                                 | RELEASE savepoint;                                |\n",
    "| DML      | SELECT               | Retrieves data from one or more tables.                                                                                                           | SELECT * FROM table;                              |\n",
    "| DML      | INSERT               | Inserts data into a table.                                                                                                                        | INSERT INTO table (column1, column2) VALUES (value1, value2); |\n",
    "| DML      | UPDATE               | Modifies data in a table.                                                                                                                         | UPDATE table SET column1 = value1 WHERE condition; |\n",
    "| DML      | DELETE               | Deletes data from a table.                                                                                                                        | DELETE FROM table WHERE condition;                |\n",
    "| DCL      | GRANT                | Grants a user or role permission to perform a specific action on a database object.                                                                | GRANT permission ON object TO user;               |\n",
    "| DCL      | REVOKE               | Revokes a permission that was previously granted to a user or role.                                                                                | REVOKE permission ON object FROM user;            |\n",
    "| DDL      | CREATE TABLE         | Creates a new table in a database.                                                                                                                 | CREATE TABLE table (column1 datatype1, column2 datatype2, ...); |\n",
    "| DDL      | ALTER TABLE          | Modifies an existing table in a database.                                                                                                          | ALTER TABLE table ADD column datatype;           |\n",
    "| DDL      | DROP TABLE           | Deletes a table and its data from a database.                                                                                                      | DROP TABLE table;                                 |\n",
    "| DDL      | CREATE INDEX         | Creates an index on one or more columns of a table.                                                                                                 | CREATE INDEX index_name ON table(column1, column2); |\n",
    "| DDL      | ALTER INDEX          | Modifies an existing index in a database.                                                                                                          | ALTER INDEX index_name RENAME TO new_index_name;  |\n",
    "| DDL      | DROP INDEX           | Deletes an index from a database.                                                                                                                  | DROP INDEX index_name;                            |\n",
    "| DDL      | CREATE VIEW          | Creates a virtual table that presents data from one or more tables in a different format.                                                           | CREATE VIEW view_name AS SELECT column1, column2 FROM table WHERE condition; |\n",
    "| DDL      | ALTER VIEW           | Modifies an existing view in a database.                                                                                                           | ALTER VIEW view_name AS SELECT column1, column2 FROM table WHERE condition; |\n",
    "| DDL      | DROP VIEW            | Deletes a view from a database.                                                                                                                    | DROP VIEW view_name;                              |\n",
    "| DDL      | CREATE PROCEDURE     | Creates a stored procedure in a database.                                                                                                          | CREATE PROCEDURE procedure_name (parameter1, parameter2, ...) BEGIN ... END; |\n",
    "| DDL      | ALTER PROCEDURE      | Modifies an existing stored procedure in a database.                                                                                               | ALTER PROCEDURE procedure_name (parameter1, parameter2, ...) BEGIN ... END; |\n",
    "| DDL      | DROP PROCEDURE       | Deletes a stored procedure from a database.                                                                                                        | DROP PROCEDURE procedure_name;                    |\n",
    "|\n"
   ]
  },
  {
   "cell_type": "markdown",
   "id": "141c3b3c",
   "metadata": {},
   "source": [
    "### TCL, DML, DCL, and DDL are four types of languages used in relational databases like SQL.\n",
    "\n",
    "Transaction Control Language (TCL):\n",
    "TCL (Transaction Control Language) commands are used to manage transactions in a database. A transaction is a set of SQL statements that are executed as a single unit. TCL is responsible for the management of transactions by using the COMMIT, ROLLBACK, and SAVEPOINT commands.    \n",
    "\n",
    "COMMIT: It is used to save all changes made since the last COMMIT or ROLLBACK command was issued. COMMIT makes the changes permanent.  \n",
    "ROLLBACK: It is used to undo all the changes made since the last COMMIT or ROLLBACK command was issued. ROLLBACK undoes the changes made to the database.  \n",
    "SAVEPOINT: It is used to create a savepoint in a transaction. A savepoint is a point in a transaction where you can roll back to without affecting the entire transaction.  \n",
    "RELEASE: It is used to release a savepoint created using the SAVEPOINT command.  \n",
    "\n",
    "\n",
    "Data Manipulation Language (DML):  \n",
    "DML (Data Manipulation Language) commands are used to manipulate data in a database. The four basic DML commands are SELECT, INSERT, UPDATE, and DELETE.  \n",
    "SELECT: It is used to retrieve data from one or more tables in a database. SELECT statements are used to query the database and retrieve data from it.    \n",
    "INSERT: It is used to insert data into a table in a database. INSERT statements are used to add new data to a table.\n",
    "UPDATE: It is used to modify existing data in a table. UPDATE statements are used to change data that is already in a table.  \n",
    "DELETE: It is used to delete data from a table. DELETE statements are used to remove data from a table.    \n",
    "\n",
    "\n",
    "Data Control Language (DCL):\n",
    "DCL (Data Control Language) commands are used to control access to data in a database. The two main DCL commands are GRANT and REVOKE.  \n",
    "GRANT: It is used to grant a user or role permission to perform a specific action on a database object. For example, a user can be granted SELECT permission on a table, which allows them to retrieve data from the table.  \n",
    "REVOKE: It is used to revoke a permission that was previously granted to a user or role. For example, a user can be revoked SELECT permission on a table, which would prevent them from retrieving data from the table.     \n",
    "\n",
    "\n",
    "Data Definition Language (DDL): \n",
    "DDL (Data Definition Language) commands are used to define the structure of a database. The three basic DDL commands are CREATE, ALTER, and DROP.  \n",
    "CREATE: It is used to create a new database object, such as a table, index, or view.  \n",
    "ALTER: It is used to modify the structure of an existing database object, such as a table or view.  \n",
    "DROP: It is used to delete an existing database object, such as a table or view.  \n",
    "Overall, TCL, DML, DCL, and DDL are all important languages in SQL that allow for effective management, manipulation, control, and definition of data in a relational database.  "
   ]
  },
  {
   "cell_type": "markdown",
   "id": "08456662",
   "metadata": {},
   "source": [
    "### Joins "
   ]
  },
  {
   "cell_type": "markdown",
   "id": "9cfb0c6d",
   "metadata": {},
   "source": [
    "Joins in SQL are used to combine rows from two or more tables based on a related column between them. The related column is referred to as the join condition. There are different types of joins available in SQL, including INNER JOIN, LEFT JOIN, RIGHT JOIN, and FULL OUTER JOIN. "
   ]
  },
  {
   "cell_type": "markdown",
   "id": "a0d092f1",
   "metadata": {},
   "source": [
    "| Join type | Syntax                                            | Description                                                                                                                                                                                                                                                                                                                                                                                                                                                                                                                                                                                                                                                                            |\n",
    "|-----------|---------------------------------------------------|----------------------------------------------------------------------------------------------------------------------------------------------------------------------------------------------------------------------------------------------------------------------------------------------------------------------------------------------------------------------------------------------------------------------------------------------------------------------------------------------------------------------------------------------------------------------------------------------------------------------------------------------------------------------------------------|\n",
    "| INNER     | SELECT column_name(s) FROM table1 INNER JOIN table2 ON table1.column_name = table2.column_name; | Returns only the rows that have matching values in both tables involved in the join.                                                                                                                                                                                                                                                                                                                                                                                                                                                                                                                                                                                                   |\n",
    "| LEFT      | SELECT column_name(s) FROM table1 LEFT JOIN table2 ON table1.column_name = table2.column_name;  | Returns all the rows from the left table (table1), and the matched rows from the right table (table2). The result is NULL from the right side, if there is no match.                                                                                                                                                                                                                                                                                                                                                                                                                                                                                                            |\n",
    "| RIGHT     | SELECT column_name(s) FROM table1 RIGHT JOIN table2 ON table1.column_name = table2.column_name; | Returns all the rows from the right table (table2), and the matched rows from the left table (table1). The result is NULL from the left side, when there is no match.                                                                                                                                                                                                                                                                                                                                                                                                                                                                                                            |\n",
    "| FULL      | SELECT column_name(s) FROM table1 FULL OUTER JOIN table2 ON table1.column_name = table2.column_name; | Returns all the rows from both tables involved in the join. The result is NULL from both the left and right sides, when there is no match.                                                                                                                                                                                                                                                                                                                                                                                                                                                                                                                                          |\n",
    "| CROSS     | SELECT column_name(s) FROM table1 CROSS JOIN table2; | Returns the Cartesian product of the two tables involved in the join. It means every row from the first table is combined with every row from the second table, resulting in all possible combinations. It does not require any condition to join the tables.                                                                                                                                                                                                                                                                                                                                                                                                                                                                                       |\n"
   ]
  },
  {
   "cell_type": "markdown",
   "id": "77324f67",
   "metadata": {},
   "source": [
    "### Procedures and Functions "
   ]
  },
  {
   "cell_type": "markdown",
   "id": "3900ba88",
   "metadata": {},
   "source": [
    "Procedures and functions are two types of database objects in SQL that can be created and executed to perform specific tasks or calculations.\n",
    "\n",
    "A procedure is a collection of SQL statements that are stored in the database and can be executed whenever needed. Procedures are typically used to perform repetitive tasks or to encapsulate complex queries into a single unit that can be called from other parts of the application. Procedures can also be used to enforce business rules or security measures.\n",
    "\n",
    "A function, on the other hand, is a specific type of procedure that returns a value. Functions can be used to perform calculations or lookups and return a result that can be used in other parts of the query or application. Functions can be called from other SQL statements or within other functions or procedures.\n",
    "\n",
    "To create a procedure or function in SQL, you can use the CREATE PROCEDURE or CREATE FUNCTION statement, followed by the name of the procedure or function and the SQL code that defines the behavior of the object. Once the procedure or function is created, it can be executed using the EXECUTE statement or by calling it from other SQL code.\n",
    "\n",
    "Here's an example of a stored procedure that retrieves all the orders for a given customer ID:"
   ]
  },
  {
   "cell_type": "markdown",
   "id": "7fdbc01b",
   "metadata": {},
   "source": [
    "CREATE PROCEDURE GetCustomerOrders  \n",
    "    @CustomerID int  \n",
    "AS  \n",
    "BEGIN  \n",
    "    SELECT * FROM Orders  \n",
    "    WHERE CustomerID = @CustomerID  \n",
    "END  \n"
   ]
  },
  {
   "cell_type": "markdown",
   "id": "cd02a716",
   "metadata": {},
   "source": [
    "And here's an example of a stored function that calculates the total cost of an order:"
   ]
  },
  {
   "cell_type": "markdown",
   "id": "cb81f10a",
   "metadata": {},
   "source": [
    "CREATE FUNCTION CalculateOrderTotal  \n",
    "      (@OrderID int)  \n",
    "RETURNS money  \n",
    "AS   \n",
    "BEGIN  \n",
    "     DECLARE @Total money  \n",
    "     SELECT @Total = SUM(UnitPrice * Quantity)  \n",
    "     FROM OrderDetails  \n",
    "     WHERE OrderID = @OrderID  \n",
    "     RETURN @Total  \n",
    "END  \n"
   ]
  },
  {
   "cell_type": "markdown",
   "id": "584f9fa7",
   "metadata": {},
   "source": [
    "## Keys "
   ]
  },
  {
   "cell_type": "markdown",
   "id": "d4a9374f",
   "metadata": {},
   "source": [
    "In SQL (Structured Query Language), a key is a field or combination of fields that uniquely identifies a record in a database table. There are several types of keys used in SQL, including:\n",
    "\n",
    "Primary Key: A primary key is a column or set of columns that uniquely identifies each row in a table. Primary keys cannot contain null values, and each table can have only one primary key.  \n",
    "\n",
    "Foreign Key: A foreign key is a column or set of columns that refers to the primary key of another table. It is used to establish a link between two tables in a relational database.  \n",
    "\n",
    "Candidate Key: A candidate key is a column or set of columns that can be used as a primary key for a table. There can be multiple candidate keys in a table.  \n",
    "\n",
    "Unique Key: A unique key is a column or set of columns that have a unique value for each row in a table. It is similar to a primary key, but a table can have multiple unique keys.  \n",
    "\n",
    "Composite Key: A composite key is a key that consists of multiple columns that together uniquely identify a record in a table.  \n",
    "\n",
    "Keys are important in SQL because they help ensure data integrity and accuracy. They prevent duplicate records and ensure that each record can be uniquely identified. In addition, keys are used to establish relationships between tables in a database.  "
   ]
  },
  {
   "cell_type": "markdown",
   "id": "ec1bd33f",
   "metadata": {},
   "source": [
    "## Views "
   ]
  },
  {
   "cell_type": "markdown",
   "id": "8758f43e",
   "metadata": {},
   "source": [
    "In SQL (Structured Query Language), a view is a virtual table that is created based on the result of a SELECT query. Unlike physical tables, views do not contain data themselves; instead, they provide a way to access data from one or more tables in a structured manner.\n",
    "\n",
    "Views are useful in several ways:\n",
    "\n",
    "Simplify Complex Queries: Views allow you to simplify complex queries by breaking them down into smaller, more manageable pieces. Instead of writing a complex query each time you need to access certain data, you can create a view that contains the required data and use it as a simple query.\n",
    "\n",
    "Restrict Data Access: Views can also be used to restrict data access to certain users or groups. For example, you can create a view that contains only the columns that a particular user is authorized to access, and grant that user permission to access the view.\n",
    "\n",
    "Combine Data: Views can be used to combine data from multiple tables into a single virtual table. This can be useful when you need to retrieve data from multiple tables, but don't want to write a complex query that joins them all together.\n",
    "\n",
    "Improve Performance: Views can improve query performance by reducing the amount of data that needs to be retrieved from the underlying tables. By creating views that contain only the required data, you can reduce the amount of data that needs to be transferred across the network and processed by the database server.\n",
    "\n",
    "Overall, views provide a way to simplify queries, control data access, combine data from multiple tables, and improve performance. They are a powerful tool in SQL that can help you work more efficiently with your data."
   ]
  },
  {
   "cell_type": "markdown",
   "id": "b5607f27",
   "metadata": {},
   "source": [
    "### Conditional Statements "
   ]
  },
  {
   "cell_type": "markdown",
   "id": "352314d8",
   "metadata": {},
   "source": [
    "| Command            | Description                                                                                                                     | Example                                                           |\n",
    "|--------------------|---------------------------------------------------------------------------------------------------------------------------------|-------------------------------------------------------------------|\n",
    "| IF                 | Executes the statement if the condition is true.                                                                                | IF x > 5 THEN SELECT * FROM table1; END IF;                      |\n",
    "| IF-ELSE            | Executes statement1 if the condition is true, and statement2 if the condition is false.                                        | IF x > 5 THEN SELECT * FROM table1; ELSE SELECT * FROM table2; END IF; |\n",
    "| IF-ELSEIF-ELSE     | Executes statement1 if condition1 is true, statement2 if condition2 is true, and statement3 if all conditions are false. | IF x > 5 THEN SELECT * FROM table1; ELSEIF x < 3 THEN SELECT * FROM table2; ELSE SELECT * FROM table3; END IF; |\n",
    "| CASE               | Evaluates a series of conditions and returns a result based on the first condition that is true.                                 | CASE WHEN x > 5 THEN 'Greater than 5' WHEN x = 5 THEN 'Equal to 5' ELSE 'Less than 5' END; |\n",
    "| NULLIF             | Compares two expressions and returns NULL if they are equal, or the first expression if they are not equal.                     | SELECT NULLIF(5, 5); -- returns NULL |\n",
    "| COALESCE           | Returns the first non-null expression in a list of expressions.                                                                  | SELECT COALESCE(NULL, 0, 1); -- returns 0 |\n",
    "| EXISTS             | Checks whether a subquery returns any rows, and returns true or false based on the result.                                      | SELECT * FROM table1 WHERE EXISTS (SELECT * FROM table2 WHERE table2.col = table1.col); |\n",
    "| WHERE              | Filters the rows returned by a SELECT statement based on a specified condition.                                                 | SELECT * FROM table1 WHERE col1 = 'value'; |\n",
    "| ORDER BY           | Sorts the rows returned by a SELECT statement based on one or more columns.                                                      | SELECT * FROM table1 ORDER BY col1 ASC; |\n",
    "| GROUP BY           | Groups the rows returned by a SELECT statement based on one or more columns, and allows you to perform aggregate functions (such as SUM or AVG) on each group. | SELECT col1, SUM(col2) FROM table1 GROUP BY col1; |\n",
    "| HAVING             | Filters the groups returned by a SELECT statement based on a specified condition.                                               | SELECT col1, SUM(col2) FROM table1 GROUP BY col1 HAVING SUM(col2) > 100; |\n",
    "| JOIN               | Combines two or more tables based on a specified condition.                                                                     | SELECT * FROM table1 JOIN table2 ON table1.col = table2.col; |\n",
    "| UNION              | Combines the results of two or more SELECT statements into a single result set.                                                  | SELECT col1 FROM table1 UNION SELECT col2 FROM table2; |\n",
    "| INSERT INTO        | Adds one or more rows to a table.                                                                                                | INSERT INTO table1 (col1, col2) VALUES ('value1', 'value2'); |\n",
    "| UPDATE             | Modifies one or more rows in a table.                                                                                            | UPDATE table1 SET col1 = 'value1' WHERE col2 = 'value2'; |\n",
    "| DELETE FROM        | Removes one or more rows from a table.                                                                                           | DELETE FROM table1 WHERE col1 = 'value'; |\n"
   ]
  },
  {
   "cell_type": "code",
   "execution_count": 3,
   "id": "78cdb69a",
   "metadata": {},
   "outputs": [
    {
     "name": "stdout",
     "output_type": "stream",
     "text": [
      "Requirement already satisfied: mysql-connector-python in c:\\users\\inare\\anaconda3\\lib\\site-packages (8.0.29)Note: you may need to restart the kernel to use updated packages.\n",
      "Requirement already satisfied: protobuf>=3.0.0 in c:\\users\\inare\\anaconda3\\lib\\site-packages (from mysql-connector-python) (4.22.0)\n",
      "\n"
     ]
    }
   ],
   "source": [
    "pip install mysql-connector-python\n"
   ]
  },
  {
   "cell_type": "code",
   "execution_count": 4,
   "id": "ae1c862a",
   "metadata": {
    "scrolled": true
   },
   "outputs": [
    {
     "name": "stdout",
     "output_type": "stream",
     "text": [
      "Requirement already satisfied: faker in c:\\users\\inare\\anaconda3\\lib\\site-packages (17.6.0)\n",
      "Requirement already satisfied: python-dateutil>=2.4 in c:\\users\\inare\\anaconda3\\lib\\site-packages (from faker) (2.8.2)\n",
      "Requirement already satisfied: six>=1.5 in c:\\users\\inare\\anaconda3\\lib\\site-packages (from python-dateutil>=2.4->faker) (1.16.0)\n",
      "Note: you may need to restart the kernel to use updated packages.\n"
     ]
    }
   ],
   "source": [
    "pip install faker\n"
   ]
  },
  {
   "cell_type": "code",
   "execution_count": 5,
   "id": "70e20735",
   "metadata": {},
   "outputs": [
    {
     "name": "stdout",
     "output_type": "stream",
     "text": [
      "Enter the number of rows of student data to insert: 3500\n"
     ]
    }
   ],
   "source": [
    "import random\n",
    "from faker import Faker\n",
    "import mysql.connector\n",
    "\n",
    "# Connect to the database\n",
    "db = mysql.connector.connect(\n",
    "    host=\"localhost\",\n",
    "    user=\"root\",\n",
    "    password=\"12345\",\n",
    "    database=\"matta\"\n",
    ")\n",
    "\n",
    "# Create a cursor\n",
    "cursor = db.cursor()\n",
    "\n",
    "# Drop the students_data table if it exists\n",
    "cursor.execute(\"DROP TABLE IF EXISTS students_data\")\n",
    "\n",
    "# Create the students_data table\n",
    "cursor.execute(\"\"\"\n",
    "CREATE TABLE students_data (\n",
    "    id INT NOT NULL AUTO_INCREMENT PRIMARY KEY,\n",
    "    student_id VARCHAR(255) UNIQUE,\n",
    "    name VARCHAR(255),\n",
    "    age INT,\n",
    "    gender VARCHAR(255),\n",
    "    city VARCHAR(255),\n",
    "    country VARCHAR(255),\n",
    "    degree VARCHAR(255),\n",
    "    specialisation VARCHAR(255),\n",
    "    special_classes VARCHAR(255),\n",
    "    grade FLOAT\n",
    ")\n",
    "\"\"\")\n",
    "\n",
    "# Function to insert student data into the database\n",
    "def insert_student_data(num_rows):\n",
    "    fake = Faker()\n",
    "    for i in range(num_rows):\n",
    "        student_id = 'S' + str(random.randint(10000, 99999))\n",
    "        while True:\n",
    "            # Check if the generated student ID already exists in the database\n",
    "            cursor.execute(\"SELECT student_id FROM students_data WHERE student_id = %s\", (student_id,))\n",
    "            result = cursor.fetchone()\n",
    "            if result is None:\n",
    "                # If the student ID does not exist, break out of the loop\n",
    "                break\n",
    "            # If the student ID already exists, generate a new one\n",
    "            student_id = 'S' + str(random.randint(10000, 99999))\n",
    "        name = fake.name()\n",
    "        age = random.randint(18, 25)\n",
    "        gender = random.choice(['Male', 'Female'])\n",
    "        city = fake.city()\n",
    "        country = fake.country().replace(\"'\", \"''\")\n",
    "        degree = random.choice(['Bachelor of Science', 'Bachelor of Arts', 'Bachelor of Commerce'])\n",
    "        specialisation = random.choice(['Computer Science', 'Marketing', 'Accounting','HR','Digital Marketing'])\n",
    "        special_classes = random.choice(['Yes', 'No'])\n",
    "        grade = round(random.uniform(0.0, 4.0), 2)\n",
    "        query = \"INSERT INTO students_data (student_id, name, age, gender, city, country, degree, specialisation, special_classes, grade) VALUES (%s, %s, %s, %s, %s, %s, %s, %s, %s,%s)\"\n",
    "        values = (student_id, name, age, gender, city, country, degree, specialisation, special_classes, grade)\n",
    "        cursor.execute(query, values)\n",
    "\n",
    "# Get user input for number of rows to insert\n",
    "num_rows = int(input(\"Enter the number of rows of student data to insert: \"))\n",
    "\n",
    "# Insert student data in batches of 1000 rows at a time\n",
    "num_iterations = num_rows // 100000\n",
    "if num_rows % 100000 != 0:\n",
    "    num_iterations += 1\n",
    "\n",
    "index = 1\n",
    "for i in range(num_iterations):\n",
    "    insert_student_data(min(100000, num_rows))\n",
    "    num_rows -= 50000\n",
    "    \n",
    "    # Add index to inserted rows\n",
    "    cursor.execute(\"SELECT COUNT(*) FROM students_data\")\n",
    "    count = cursor.fetchone()[0]\n",
    "    for j in range(index, count+1):\n",
    "        cursor.execute(\"UPDATE students_data SET id=%s WHERE id=%s\", (j, j))\n",
    "    index = count + 1\n",
    "\n",
    "# Commit the changes\n",
    "db.commit()\n",
    "\n",
    "# Close the connection\n",
    "db.close()\n"
   ]
  },
  {
   "cell_type": "code",
   "execution_count": 2,
   "id": "9ff838ed",
   "metadata": {},
   "outputs": [
    {
     "name": "stdout",
     "output_type": "stream",
     "text": [
      "Enter the number of rows of employee data to insert: 3500\n"
     ]
    }
   ],
   "source": []
  },
  {
   "cell_type": "code",
   "execution_count": 1,
   "id": "de69aa06",
   "metadata": {},
   "outputs": [
    {
     "name": "stdout",
     "output_type": "stream",
     "text": [
      "Enter the number of rows of employee data to insert: 7500\n"
     ]
    }
   ],
   "source": [
    "import random\n",
    "from faker import Faker\n",
    "import mysql.connector\n",
    "\n",
    "# Define the companies, designations, departments, degrees and specializations\n",
    "companies = [\"Amazon\", \"Facebook\", \"Myntra\", \"Qualitest\", \"Concentrix\", \"Convergies\", \"Accenture\", \"Tata\", \"TechMahindra\", \"CocaCola\", \"Pepsi_Co\", \"Google\"]\n",
    "designations = [\"Manager\", \"Senior Manager\", \"Team Lead\", \"Project Lead\", \"Developer\", \"Senior Developer\", \"Data Scientist\", \"Sr_DataScientist\", \"DataAnalyst\", \"Executive\"]\n",
    "departments = [\"HR\", \"Marketing\", \"Testing\", \"Developer\", \"Operations\", \"L&D\"]\n",
    "degrees = [\"Bachelor of Science\", \"Bachelor of Arts\", \"Bachelor of Commerce\",\"Bachelor of Technlogy\" ]\n",
    "specializations = [\"Computer Science\", \"Economics\", \"Management\", \"Statistics\", \"Mathematics\"]\n",
    "\n",
    "# Connect to the database\n",
    "db = mysql.connector.connect(\n",
    "    host=\"localhost\",\n",
    "    user=\"root\",\n",
    "    password=\"12345\",\n",
    "    database=\"matta\"\n",
    ")\n",
    "\n",
    "# Create a cursor\n",
    "cursor = db.cursor()\n",
    "\n",
    "# Drop the employee table if it exists\n",
    "cursor.execute(\"DROP TABLE IF EXISTS employee\")\n",
    "\n",
    "# Create the employee table\n",
    "cursor.execute(\"\"\"\n",
    "CREATE TABLE employee (\n",
    "    idx INT NOT NULL AUTO_INCREMENT,\n",
    "    name VARCHAR(255),\n",
    "    emp_id VARCHAR(255) NOT NULL PRIMARY KEY,\n",
    "    department VARCHAR(255),\n",
    "    designation VARCHAR(255),\n",
    "    company_name VARCHAR(255),\n",
    "    degree VARCHAR(255),\n",
    "    specialization VARCHAR(255),\n",
    "    salary DECIMAL(10,2),\n",
    "    tenure INT,\n",
    "    ess_2019 DECIMAL(3,2),\n",
    "    ess_2020 DECIMAL(3,2),\n",
    "    ess_2021 DECIMAL(3,2),\n",
    "    ess_2022 DECIMAL(3,2),\n",
    "    INDEX(idx)\n",
    ")\n",
    "\"\"\")\n",
    "\n",
    "# Function to insert employee data into the database\n",
    "def insert_employee_data(num_rows):\n",
    "    fake = Faker('en_IN')\n",
    "    for i in range(num_rows):\n",
    "        emp_id = 'E' + str(random.randint(10000, 99999))\n",
    "        while True:\n",
    "            # Check if the generated employee ID already exists in the database\n",
    "            cursor.execute(\"SELECT emp_id FROM employee WHERE emp_id = %s\", (emp_id,))\n",
    "            result = cursor.fetchone()\n",
    "            if result is None:\n",
    "                # If the employee ID does not exist, break out of the loop\n",
    "                break\n",
    "            # If the employee ID already exists, generate a new one\n",
    "            emp_id = 'E' + str(random.randint(10000, 99999))\n",
    "        name = fake.name()\n",
    "        department = random.choice(departments)\n",
    "        designation = random.choice(designations)\n",
    "        company_name = random.choice(companies)\n",
    "        degree = random.choice(degrees)\n",
    "        specialization = random.choice(specializations)\n",
    "        salary = round(random.uniform(20000, 150000), 2)\n",
    "        tenure = random.randint(1, 10)\n",
    "        ess_2019 = round(random.uniform(3, 5), 2)\n",
    "        ess_2020 = round(random.uniform(3, 5), 2)\n",
    "        ess_2021 = round(random.uniform(3, 5), 2)\n",
    "        ess_2022 = round(random.uniform(3, 5), 2)\n",
    "        query = \"INSERT INTO employee (name, emp_id, department, designation, company_name, degree, specialization, salary, tenure, ess_2019, ess_2020, ess_2021, ess_2022) VALUES (%s, %s, %s, %s, %s, %s, %s, %s, %s, %s, %s, %s, %s)\"\n",
    "        values = (name, emp_id, department, designation, company_name, degree, specialization, salary, tenure, ess_2019, ess_2020, ess_2021, ess_2022)\n",
    "        cursor.execute(query, values)\n",
    "\n",
    "# Get user input for number of rows to insert\n",
    "num_rows = int(input(\"Enter the number of rows of employee data to insert: \"))\n",
    "\n",
    "# Insert employee data in batches of 1000 rows at a time\n",
    "num_iterations = num_rows // 1000\n",
    "if num_rows % 1000 != 0:\n",
    "    num_iterations += 1\n",
    "\n",
    "for i in range(num_iterations):\n",
    "    insert_employee_data(min(1000, num_rows))\n",
    "    num_rows -= 1000\n",
    "\n",
    "# Commit the changes\n",
    "db.commit()\n",
    "\n",
    "# Close the connection\n",
    "db.close()"
   ]
  },
  {
   "cell_type": "code",
   "execution_count": 9,
   "id": "c2b9f291",
   "metadata": {},
   "outputs": [
    {
     "name": "stdout",
     "output_type": "stream",
     "text": [
      "Enter the number of rows of employee data to insert: 3500\n"
     ]
    }
   ],
   "source": [
    "import random\n",
    "from faker import Faker\n",
    "import mysql.connector\n",
    "\n",
    "# Define the companies, designations, departments, degrees and specializations\n",
    "companies = [\"Amazon\", \"Facebook\", \"Myntra\", \"Qualitest\", \"Concentrix\", \"Convergies\", \"Accenture\", \"Tata\", \"TechMahindra\", \"CocaCola\", \"Pepsi_Co\", \"Google\"]\n",
    "degrees = [\"Bachelor of Science\", \"Bachelor of Arts\", \"Bachelor of Commerce\",\"Bachelor of Technology\" ]\n",
    "specializations = {\n",
    "    \"Bachelor of Science\": [\"Computer Science\", \"Mathematics\", \"Statistics\"],\n",
    "    \"Bachelor of Arts\": [\"Economics\", \"Management\"],\n",
    "    \"Bachelor of Commerce\": [\"Economics\", \"Management\", \"Statistics\"],\n",
    "    \"Bachelor of Technology\": [\"Computer Science\"]\n",
    "}\n",
    "designations = [\"Manager\", \"Senior Manager\", \"Team Lead\", \"Project Lead\", \"Developer\", \"Senior Developer\", \"Data Scientist\", \"Sr_DataScientist\", \"DataAnalyst\", \"Executive\"]\n",
    "departments = [\"HR\", \"Marketing\", \"Testing\", \"Developer\", \"Operations\", \"L&D\"]\n",
    "\n",
    "# Connect to the database\n",
    "db = mysql.connector.connect(\n",
    "    host=\"localhost\",\n",
    "    user=\"root\",\n",
    "    password=\"12345\",\n",
    "    database=\"matta\"\n",
    ")\n",
    "\n",
    "# Create a cursor\n",
    "cursor = db.cursor()\n",
    "\n",
    "# Drop the employee table if it exists\n",
    "cursor.execute(\"DROP TABLE IF EXISTS employee\")\n",
    "\n",
    "# Create the employee table\n",
    "cursor.execute(\"\"\"\n",
    "CREATE TABLE employee (\n",
    "    idx INT NOT NULL AUTO_INCREMENT,\n",
    "    name VARCHAR(255),\n",
    "    emp_id VARCHAR(255) NOT NULL PRIMARY KEY,\n",
    "    department VARCHAR(255),\n",
    "    designation VARCHAR(255),\n",
    "    company_name VARCHAR(255),\n",
    "    degree VARCHAR(255),\n",
    "    specialization VARCHAR(255),\n",
    "    salary DECIMAL(10,2),\n",
    "    tenure INT,\n",
    "    ess_2019 DECIMAL(3,2),\n",
    "    ess_2020 DECIMAL(3,2),\n",
    "    ess_2021 DECIMAL(3,2),\n",
    "    ess_2022 DECIMAL(3,2),\n",
    "    INDEX(idx)\n",
    ")\n",
    "\"\"\")\n",
    "\n",
    "# Function to insert employee data into the database\n",
    "def insert_employee_data(num_rows):\n",
    "    fake = Faker('en_IN')\n",
    "    for i in range(num_rows):\n",
    "        emp_id = 'E' + str(random.randint(10000, 99999))\n",
    "        while True:\n",
    "            # Check if the generated employee ID already exists in the database\n",
    "            cursor.execute(\"SELECT emp_id FROM employee WHERE emp_id = %s\", (emp_id,))\n",
    "            result = cursor.fetchone()\n",
    "            if result is None:\n",
    "                # If the employee ID does not exist, break out of the loop\n",
    "                break\n",
    "            # If the employee ID already exists, generate a new one\n",
    "            emp_id = 'E' + str(random.randint(10000, 99999))\n",
    "        name = fake.name()\n",
    "        department = random.choice(departments)\n",
    "        designation = random.choice(designations)\n",
    "        company_name = random.choice(companies)\n",
    "        degree = random.choice(degrees)\n",
    "        \n",
    "        if degree == \"Bachelor of Technology\":\n",
    "            specialization = random.choice(specializations[degree])\n",
    "            designation = random.choice([\"Developer\", \"Senior Developer\"])\n",
    "            department = random.choice([\"Testing\", \"Developer\", \"Operations\"])\n",
    "        else:\n",
    "            specialization = random.choice(specializations[degree])\n",
    "            department = random.choice(departments)\n",
    "            \n",
    "        salary = round(random.uniform(20000, 150000), 2)\n",
    "        tenure = random.randint(1, 10)\n",
    "        ess_2019 = round(random.uniform(3, 5), 2)\n",
    "        ess_2020 = round(random.uniform(3, 5), 2)\n",
    "        ess_2021 = round(random.uniform(3, 5), 2)\n",
    "        ess_2022 = round(random.uniform(3, 5), 2)\n",
    "        query = \"INSERT INTO employee (name, emp_id, department, designation, company_name, degree, specialization, salary, tenure, ess_2019, ess_2020, ess_2021, ess_2022) VALUES (%s, %s, %s, %s, %s, %s, %s, %s, %s, %s, %s, %s, %s)\"\n",
    "        values = (name, emp_id, department, designation, company_name, degree, specialization, salary, tenure, ess_2019, ess_2020, ess_2021, ess_2022)\n",
    "        cursor.execute(query, values)\n",
    "\n",
    "# Get user input for number of rows to insert\n",
    "num_rows = int(input(\"Enter the number of rows of employee data to insert: \"))\n",
    "\n",
    "# Insert employee data in batches of 1000 rows at a time\n",
    "num_iterations = num_rows // 1000\n",
    "if num_rows % 1000 != 0:\n",
    "    num_iterations += 1\n",
    "\n",
    "for i in range(num_iterations):\n",
    "    insert_employee_data(min(1000, num_rows))\n",
    "    num_rows -= 1000\n",
    "\n",
    "# Commit the changes\n",
    "db.commit()\n",
    "\n",
    "# Close the connection\n",
    "db.close()"
   ]
  },
  {
   "cell_type": "code",
   "execution_count": null,
   "id": "5c29a413",
   "metadata": {},
   "outputs": [],
   "source": []
  }
 ],
 "metadata": {
  "kernelspec": {
   "display_name": "Python 3 (ipykernel)",
   "language": "python",
   "name": "python3"
  },
  "language_info": {
   "codemirror_mode": {
    "name": "ipython",
    "version": 3
   },
   "file_extension": ".py",
   "mimetype": "text/x-python",
   "name": "python",
   "nbconvert_exporter": "python",
   "pygments_lexer": "ipython3",
   "version": "3.9.7"
  }
 },
 "nbformat": 4,
 "nbformat_minor": 5
}
