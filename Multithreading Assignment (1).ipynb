{
 "cells": [
  {
   "cell_type": "markdown",
   "id": "23ba41be",
   "metadata": {},
   "source": [
    "#### Q1 what is multithreading in python? why is it used? Name the module used to handle threads in python"
   ]
  },
  {
   "cell_type": "markdown",
   "id": "9054ab8c",
   "metadata": {},
   "source": [
    "A thread is a unit of execution within a process. Multithreading refers to concurrently executing multiple threads by rapidly switching the control of the CPU between threads (called context switching)."
   ]
  },
  {
   "cell_type": "markdown",
   "id": "19d93f0c",
   "metadata": {},
   "source": [
    "The Threading Module handles threads in Python"
   ]
  },
  {
   "cell_type": "markdown",
   "id": "63516198",
   "metadata": {},
   "source": [
    "#### Q2. Why threading module used? write the use of the following functions ( activeCount currentThread enumerate)"
   ]
  },
  {
   "cell_type": "markdown",
   "id": "387ee576",
   "metadata": {},
   "source": [
    "Threading in python is used to run multiple threads (tasks, function calls) at the same time. \n",
    "\n",
    "threading.activeCount() − Returns the number of thread objects that are active.   \n",
    "threading.currentThread() − Returns the number of thread objects in the caller's thread control.  \n",
    "threading.enumerate() − Returns a list of all thread objects that are currently active.  "
   ]
  },
  {
   "cell_type": "markdown",
   "id": "458171b7",
   "metadata": {},
   "source": [
    "#### Q3. .Explain the following functions\n",
    "run()  \n",
    "start()   \n",
    "join()  \n",
    "isAlive()  "
   ]
  },
  {
   "cell_type": "markdown",
   "id": "e0441347",
   "metadata": {},
   "source": [
    "isAlive() method:\n",
    "This method is used to check whether a thread is still executing or not.\n",
    "\n",
    "join() method:\n",
    "If we want a particular thread to wait for another thread to complete, then we can use join() method.\n",
    "\n",
    "\n"
   ]
  },
  {
   "cell_type": "markdown",
   "id": "2751673d",
   "metadata": {},
   "source": [
    "#### Q4 . Write a python program to create two threads. Thread one must print the list of squares and thread two must print the list of cubes"
   ]
  },
  {
   "cell_type": "code",
   "execution_count": 1,
   "id": "9830f27a",
   "metadata": {},
   "outputs": [],
   "source": [
    "import time\n",
    "def calc_square(numbers):\n",
    "    for n in numbers:\n",
    "        print(f'\\n{n} ^ 2 = {n*n}')\n",
    "        time.sleep(0.1)\n",
    "\n",
    "def calc_cube(numbers):\n",
    "    for n in numbers:\n",
    "        print(f'\\n{n} ^ 3 = {n*n*n}')\n",
    "        time.sleep(0.1)"
   ]
  },
  {
   "cell_type": "code",
   "execution_count": 2,
   "id": "f574b068",
   "metadata": {},
   "outputs": [
    {
     "name": "stdout",
     "output_type": "stream",
     "text": [
      "\n",
      "2 ^ 2 = 4\n",
      "\n",
      "3 ^ 2 = 9\n",
      "\n",
      "5 ^ 2 = 25\n",
      "\n",
      "8 ^ 2 = 64\n",
      "\n",
      "2 ^ 3 = 8\n",
      "\n",
      "3 ^ 3 = 27\n",
      "\n",
      "5 ^ 3 = 125\n",
      "\n",
      "8 ^ 3 = 512\n"
     ]
    }
   ],
   "source": [
    "numbers = [2, 3, 5, 8]\n",
    "start = time.time()\n",
    "calc_square(numbers)\n",
    "calc_cube(numbers)\n",
    "end = time.time()"
   ]
  },
  {
   "cell_type": "code",
   "execution_count": 6,
   "id": "f5a3833a",
   "metadata": {},
   "outputs": [
    {
     "name": "stdout",
     "output_type": "stream",
     "text": [
      "\n",
      "2 ^ 2 = 4\n",
      "\n",
      "2 ^ 3 = 8\n",
      "\n",
      "3 ^ 2 = 9\n",
      "3 ^ 3 = 27\n",
      "\n",
      "\n",
      "5 ^ 3 = 125\n",
      "5 ^ 2 = 25\n",
      "\n",
      "\n",
      "8 ^ 2 = 64\n",
      "8 ^ 3 = 512\n",
      "\n"
     ]
    }
   ],
   "source": [
    "import threading\n",
    "\n",
    "start = time.time()\n",
    "\n",
    "square_thread = threading.Thread(target=calc_square, args=(numbers,))\n",
    "cube_thread = threading.Thread(target=calc_cube, args=(numbers,))\n",
    "\n",
    "square_thread.start()\n",
    "cube_thread.start()\n",
    "\n",
    "square_thread.join()\n",
    "cube_thread.join()\n",
    "\n",
    "end = time.time()"
   ]
  },
  {
   "cell_type": "markdown",
   "id": "66294a12",
   "metadata": {},
   "source": [
    "#### Q5. State advantages and disadvantages of multithreading"
   ]
  },
  {
   "cell_type": "markdown",
   "id": "ea72f533",
   "metadata": {},
   "source": [
    "Disadvantages of Multi-threading :  \n",
    "1) Increases the complexity of the program.   \n",
    "2) Synchronization of shared resources (objects, data) is necessary.  \n",
    "3) Difficult to debug unpredictable results  \n",
    "4) Constructing and synchronizing threads is CPU/memory intensive.  "
   ]
  },
  {
   "cell_type": "markdown",
   "id": "6a9db83a",
   "metadata": {},
   "source": [
    "Advantages of Multithreading : \n",
    "1) Multithreading can significantly improve the speed of computation on multiprocessor or multi-core systems because each processor or core handles a separate thread concurrently.  \n",
    "2) Multithreading allows a program to remain responsive while one thread waits for input, and another runs a GUI at the same time. This statement holds true for both multiprocessor or single processor systems.   \n",
    "3) All the threads of a process have access to its global variables. If a global variable changes in one thread, it is visible to other threads as well. A thread can also have its own local variables.   "
   ]
  },
  {
   "cell_type": "markdown",
   "id": "fada9bf8",
   "metadata": {},
   "source": [
    "#### Q6. Explain deadlock and race conditions."
   ]
  },
  {
   "cell_type": "markdown",
   "id": "be5a8a72",
   "metadata": {},
   "source": [
    "Deadlock. Two threads hold locks on different resources, each waiting indefinitely for the other to release its lock.   \n",
    "Race condition. Two (or more) threads alter the state of a shared resource concurrently, leaving it in an unpredictable state.   "
   ]
  },
  {
   "cell_type": "code",
   "execution_count": null,
   "id": "a2ecbbf3",
   "metadata": {},
   "outputs": [],
   "source": []
  }
 ],
 "metadata": {
  "kernelspec": {
   "display_name": "Python 3 (ipykernel)",
   "language": "python",
   "name": "python3"
  },
  "language_info": {
   "codemirror_mode": {
    "name": "ipython",
    "version": 3
   },
   "file_extension": ".py",
   "mimetype": "text/x-python",
   "name": "python",
   "nbconvert_exporter": "python",
   "pygments_lexer": "ipython3",
   "version": "3.9.7"
  }
 },
 "nbformat": 4,
 "nbformat_minor": 5
}
